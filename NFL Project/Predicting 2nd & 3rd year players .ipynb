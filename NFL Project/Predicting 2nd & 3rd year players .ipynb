{
 "cells": [
  {
   "cell_type": "code",
   "execution_count": 218,
   "id": "767ae4b6",
   "metadata": {},
   "outputs": [],
   "source": [
    "#Importing Packages\n",
    "\n",
    "import pandas as pd\n",
    "import seaborn as sns\n",
    "import numpy as np\n",
    "%matplotlib inline\n",
    "import nfl_data_py as nfl\n",
    "import datetime\n",
    "\n",
    "from sklearn.linear_model import LinearRegression\n",
    "from sklearn.ensemble import RandomForestRegressor\n",
    "from sklearn.svm import SVR\n",
    "from sklearn.ensemble import GradientBoostingRegressor\n",
    "from sklearn.metrics import mean_squared_error, mean_absolute_error"
   ]
  },
  {
   "cell_type": "code",
   "execution_count": 219,
   "id": "22fba1ae",
   "metadata": {},
   "outputs": [],
   "source": [
    "#Specifying Date Ranges\n",
    "\n",
    "current_year = datetime.date.today().year\n",
    "years = range(2015,current_year)"
   ]
  },
  {
   "cell_type": "code",
   "execution_count": 220,
   "id": "da48022c",
   "metadata": {},
   "outputs": [],
   "source": [
    "#Importing API\n",
    "seasonal_data_df = nfl.import_seasonal_data(years)"
   ]
  },
  {
   "cell_type": "code",
   "execution_count": 221,
   "id": "314a51a5",
   "metadata": {
    "scrolled": true
   },
   "outputs": [
    {
     "data": {
      "text/html": [
       "<div>\n",
       "<style scoped>\n",
       "    .dataframe tbody tr th:only-of-type {\n",
       "        vertical-align: middle;\n",
       "    }\n",
       "\n",
       "    .dataframe tbody tr th {\n",
       "        vertical-align: top;\n",
       "    }\n",
       "\n",
       "    .dataframe thead th {\n",
       "        text-align: right;\n",
       "    }\n",
       "</style>\n",
       "<table border=\"1\" class=\"dataframe\">\n",
       "  <thead>\n",
       "    <tr style=\"text-align: right;\">\n",
       "      <th></th>\n",
       "      <th>player_id</th>\n",
       "      <th>season</th>\n",
       "      <th>season_type</th>\n",
       "      <th>completions</th>\n",
       "      <th>attempts</th>\n",
       "      <th>passing_yards</th>\n",
       "      <th>passing_tds</th>\n",
       "      <th>interceptions</th>\n",
       "      <th>sacks</th>\n",
       "      <th>sack_yards</th>\n",
       "      <th>...</th>\n",
       "      <th>yac_sh</th>\n",
       "      <th>wopr_y</th>\n",
       "      <th>ry_sh</th>\n",
       "      <th>rtd_sh</th>\n",
       "      <th>rfd_sh</th>\n",
       "      <th>rtdfd_sh</th>\n",
       "      <th>dom</th>\n",
       "      <th>w8dom</th>\n",
       "      <th>yptmpa</th>\n",
       "      <th>ppr_sh</th>\n",
       "    </tr>\n",
       "  </thead>\n",
       "  <tbody>\n",
       "    <tr>\n",
       "      <th>0</th>\n",
       "      <td>00-0007091</td>\n",
       "      <td>2015</td>\n",
       "      <td>REG</td>\n",
       "      <td>156</td>\n",
       "      <td>256</td>\n",
       "      <td>1690.0</td>\n",
       "      <td>9</td>\n",
       "      <td>5.0</td>\n",
       "      <td>16.0</td>\n",
       "      <td>101.0</td>\n",
       "      <td>...</td>\n",
       "      <td>0.000000</td>\n",
       "      <td>0.000000</td>\n",
       "      <td>0.000000</td>\n",
       "      <td>0.0</td>\n",
       "      <td>0.000000</td>\n",
       "      <td>0.000000</td>\n",
       "      <td>0.000000</td>\n",
       "      <td>0.000000</td>\n",
       "      <td>0.000000</td>\n",
       "      <td>0.159657</td>\n",
       "    </tr>\n",
       "    <tr>\n",
       "      <th>1</th>\n",
       "      <td>00-0010346</td>\n",
       "      <td>2015</td>\n",
       "      <td>REG</td>\n",
       "      <td>198</td>\n",
       "      <td>331</td>\n",
       "      <td>2249.0</td>\n",
       "      <td>9</td>\n",
       "      <td>17.0</td>\n",
       "      <td>16.0</td>\n",
       "      <td>95.0</td>\n",
       "      <td>...</td>\n",
       "      <td>0.000000</td>\n",
       "      <td>0.000000</td>\n",
       "      <td>0.000000</td>\n",
       "      <td>0.0</td>\n",
       "      <td>0.000000</td>\n",
       "      <td>0.000000</td>\n",
       "      <td>0.000000</td>\n",
       "      <td>0.000000</td>\n",
       "      <td>0.000000</td>\n",
       "      <td>0.113044</td>\n",
       "    </tr>\n",
       "    <tr>\n",
       "      <th>2</th>\n",
       "      <td>00-0018227</td>\n",
       "      <td>2015</td>\n",
       "      <td>REG</td>\n",
       "      <td>0</td>\n",
       "      <td>0</td>\n",
       "      <td>0.0</td>\n",
       "      <td>0</td>\n",
       "      <td>0.0</td>\n",
       "      <td>0.0</td>\n",
       "      <td>0.0</td>\n",
       "      <td>...</td>\n",
       "      <td>0.000000</td>\n",
       "      <td>0.000000</td>\n",
       "      <td>0.000000</td>\n",
       "      <td>0.0</td>\n",
       "      <td>0.000000</td>\n",
       "      <td>0.000000</td>\n",
       "      <td>0.000000</td>\n",
       "      <td>0.000000</td>\n",
       "      <td>0.000000</td>\n",
       "      <td>-0.003743</td>\n",
       "    </tr>\n",
       "    <tr>\n",
       "      <th>3</th>\n",
       "      <td>00-0019596</td>\n",
       "      <td>2015</td>\n",
       "      <td>REG</td>\n",
       "      <td>402</td>\n",
       "      <td>624</td>\n",
       "      <td>4770.0</td>\n",
       "      <td>36</td>\n",
       "      <td>7.0</td>\n",
       "      <td>38.0</td>\n",
       "      <td>225.0</td>\n",
       "      <td>...</td>\n",
       "      <td>0.011866</td>\n",
       "      <td>0.003519</td>\n",
       "      <td>0.007481</td>\n",
       "      <td>0.0</td>\n",
       "      <td>0.004367</td>\n",
       "      <td>0.003774</td>\n",
       "      <td>0.003741</td>\n",
       "      <td>0.005985</td>\n",
       "      <td>0.057234</td>\n",
       "      <td>0.210173</td>\n",
       "    </tr>\n",
       "    <tr>\n",
       "      <th>4</th>\n",
       "      <td>00-0019596</td>\n",
       "      <td>2016</td>\n",
       "      <td>REG</td>\n",
       "      <td>291</td>\n",
       "      <td>432</td>\n",
       "      <td>3554.0</td>\n",
       "      <td>28</td>\n",
       "      <td>2.0</td>\n",
       "      <td>15.0</td>\n",
       "      <td>87.0</td>\n",
       "      <td>...</td>\n",
       "      <td>0.000000</td>\n",
       "      <td>0.000000</td>\n",
       "      <td>0.000000</td>\n",
       "      <td>0.0</td>\n",
       "      <td>0.000000</td>\n",
       "      <td>0.000000</td>\n",
       "      <td>0.000000</td>\n",
       "      <td>0.000000</td>\n",
       "      <td>0.000000</td>\n",
       "      <td>0.201465</td>\n",
       "    </tr>\n",
       "    <tr>\n",
       "      <th>...</th>\n",
       "      <td>...</td>\n",
       "      <td>...</td>\n",
       "      <td>...</td>\n",
       "      <td>...</td>\n",
       "      <td>...</td>\n",
       "      <td>...</td>\n",
       "      <td>...</td>\n",
       "      <td>...</td>\n",
       "      <td>...</td>\n",
       "      <td>...</td>\n",
       "      <td>...</td>\n",
       "      <td>...</td>\n",
       "      <td>...</td>\n",
       "      <td>...</td>\n",
       "      <td>...</td>\n",
       "      <td>...</td>\n",
       "      <td>...</td>\n",
       "      <td>...</td>\n",
       "      <td>...</td>\n",
       "      <td>...</td>\n",
       "      <td>...</td>\n",
       "    </tr>\n",
       "    <tr>\n",
       "      <th>5486</th>\n",
       "      <td>00-0039150</td>\n",
       "      <td>2023</td>\n",
       "      <td>REG</td>\n",
       "      <td>315</td>\n",
       "      <td>527</td>\n",
       "      <td>2877.0</td>\n",
       "      <td>11</td>\n",
       "      <td>10.0</td>\n",
       "      <td>62.0</td>\n",
       "      <td>477.0</td>\n",
       "      <td>...</td>\n",
       "      <td>0.000000</td>\n",
       "      <td>0.000000</td>\n",
       "      <td>0.000000</td>\n",
       "      <td>0.0</td>\n",
       "      <td>0.000000</td>\n",
       "      <td>0.000000</td>\n",
       "      <td>0.000000</td>\n",
       "      <td>0.000000</td>\n",
       "      <td>0.000000</td>\n",
       "      <td>0.154486</td>\n",
       "    </tr>\n",
       "    <tr>\n",
       "      <th>5487</th>\n",
       "      <td>00-0039152</td>\n",
       "      <td>2023</td>\n",
       "      <td>REG</td>\n",
       "      <td>149</td>\n",
       "      <td>255</td>\n",
       "      <td>1808.0</td>\n",
       "      <td>8</td>\n",
       "      <td>4.0</td>\n",
       "      <td>28.0</td>\n",
       "      <td>185.0</td>\n",
       "      <td>...</td>\n",
       "      <td>0.000000</td>\n",
       "      <td>0.000000</td>\n",
       "      <td>0.000000</td>\n",
       "      <td>0.0</td>\n",
       "      <td>0.000000</td>\n",
       "      <td>0.000000</td>\n",
       "      <td>0.000000</td>\n",
       "      <td>0.000000</td>\n",
       "      <td>0.000000</td>\n",
       "      <td>0.159821</td>\n",
       "    </tr>\n",
       "    <tr>\n",
       "      <th>5488</th>\n",
       "      <td>00-0039163</td>\n",
       "      <td>2023</td>\n",
       "      <td>REG</td>\n",
       "      <td>319</td>\n",
       "      <td>499</td>\n",
       "      <td>4108.0</td>\n",
       "      <td>23</td>\n",
       "      <td>5.0</td>\n",
       "      <td>38.0</td>\n",
       "      <td>331.0</td>\n",
       "      <td>...</td>\n",
       "      <td>0.000562</td>\n",
       "      <td>0.002783</td>\n",
       "      <td>0.000000</td>\n",
       "      <td>0.0</td>\n",
       "      <td>0.000000</td>\n",
       "      <td>0.000000</td>\n",
       "      <td>0.000000</td>\n",
       "      <td>0.000000</td>\n",
       "      <td>0.000000</td>\n",
       "      <td>0.206779</td>\n",
       "    </tr>\n",
       "    <tr>\n",
       "      <th>5489</th>\n",
       "      <td>00-0039164</td>\n",
       "      <td>2023</td>\n",
       "      <td>REG</td>\n",
       "      <td>50</td>\n",
       "      <td>84</td>\n",
       "      <td>577.0</td>\n",
       "      <td>3</td>\n",
       "      <td>1.0</td>\n",
       "      <td>7.0</td>\n",
       "      <td>29.0</td>\n",
       "      <td>...</td>\n",
       "      <td>0.000000</td>\n",
       "      <td>0.000000</td>\n",
       "      <td>0.000000</td>\n",
       "      <td>0.0</td>\n",
       "      <td>0.000000</td>\n",
       "      <td>0.000000</td>\n",
       "      <td>0.000000</td>\n",
       "      <td>0.000000</td>\n",
       "      <td>0.000000</td>\n",
       "      <td>0.213689</td>\n",
       "    </tr>\n",
       "    <tr>\n",
       "      <th>5490</th>\n",
       "      <td>00-0039165</td>\n",
       "      <td>2023</td>\n",
       "      <td>REG</td>\n",
       "      <td>0</td>\n",
       "      <td>0</td>\n",
       "      <td>0.0</td>\n",
       "      <td>0</td>\n",
       "      <td>0.0</td>\n",
       "      <td>0.0</td>\n",
       "      <td>0.0</td>\n",
       "      <td>...</td>\n",
       "      <td>0.125506</td>\n",
       "      <td>0.100465</td>\n",
       "      <td>0.052938</td>\n",
       "      <td>0.0</td>\n",
       "      <td>0.039326</td>\n",
       "      <td>0.035176</td>\n",
       "      <td>0.026469</td>\n",
       "      <td>0.042351</td>\n",
       "      <td>0.379310</td>\n",
       "      <td>0.080979</td>\n",
       "    </tr>\n",
       "  </tbody>\n",
       "</table>\n",
       "<p>5491 rows × 58 columns</p>\n",
       "</div>"
      ],
      "text/plain": [
       "       player_id  season season_type  completions  attempts  passing_yards  \\\n",
       "0     00-0007091    2015         REG          156       256         1690.0   \n",
       "1     00-0010346    2015         REG          198       331         2249.0   \n",
       "2     00-0018227    2015         REG            0         0            0.0   \n",
       "3     00-0019596    2015         REG          402       624         4770.0   \n",
       "4     00-0019596    2016         REG          291       432         3554.0   \n",
       "...          ...     ...         ...          ...       ...            ...   \n",
       "5486  00-0039150    2023         REG          315       527         2877.0   \n",
       "5487  00-0039152    2023         REG          149       255         1808.0   \n",
       "5488  00-0039163    2023         REG          319       499         4108.0   \n",
       "5489  00-0039164    2023         REG           50        84          577.0   \n",
       "5490  00-0039165    2023         REG            0         0            0.0   \n",
       "\n",
       "      passing_tds  interceptions  sacks  sack_yards  ...    yac_sh    wopr_y  \\\n",
       "0               9            5.0   16.0       101.0  ...  0.000000  0.000000   \n",
       "1               9           17.0   16.0        95.0  ...  0.000000  0.000000   \n",
       "2               0            0.0    0.0         0.0  ...  0.000000  0.000000   \n",
       "3              36            7.0   38.0       225.0  ...  0.011866  0.003519   \n",
       "4              28            2.0   15.0        87.0  ...  0.000000  0.000000   \n",
       "...           ...            ...    ...         ...  ...       ...       ...   \n",
       "5486           11           10.0   62.0       477.0  ...  0.000000  0.000000   \n",
       "5487            8            4.0   28.0       185.0  ...  0.000000  0.000000   \n",
       "5488           23            5.0   38.0       331.0  ...  0.000562  0.002783   \n",
       "5489            3            1.0    7.0        29.0  ...  0.000000  0.000000   \n",
       "5490            0            0.0    0.0         0.0  ...  0.125506  0.100465   \n",
       "\n",
       "         ry_sh  rtd_sh    rfd_sh  rtdfd_sh       dom     w8dom    yptmpa  \\\n",
       "0     0.000000     0.0  0.000000  0.000000  0.000000  0.000000  0.000000   \n",
       "1     0.000000     0.0  0.000000  0.000000  0.000000  0.000000  0.000000   \n",
       "2     0.000000     0.0  0.000000  0.000000  0.000000  0.000000  0.000000   \n",
       "3     0.007481     0.0  0.004367  0.003774  0.003741  0.005985  0.057234   \n",
       "4     0.000000     0.0  0.000000  0.000000  0.000000  0.000000  0.000000   \n",
       "...        ...     ...       ...       ...       ...       ...       ...   \n",
       "5486  0.000000     0.0  0.000000  0.000000  0.000000  0.000000  0.000000   \n",
       "5487  0.000000     0.0  0.000000  0.000000  0.000000  0.000000  0.000000   \n",
       "5488  0.000000     0.0  0.000000  0.000000  0.000000  0.000000  0.000000   \n",
       "5489  0.000000     0.0  0.000000  0.000000  0.000000  0.000000  0.000000   \n",
       "5490  0.052938     0.0  0.039326  0.035176  0.026469  0.042351  0.379310   \n",
       "\n",
       "        ppr_sh  \n",
       "0     0.159657  \n",
       "1     0.113044  \n",
       "2    -0.003743  \n",
       "3     0.210173  \n",
       "4     0.201465  \n",
       "...        ...  \n",
       "5486  0.154486  \n",
       "5487  0.159821  \n",
       "5488  0.206779  \n",
       "5489  0.213689  \n",
       "5490  0.080979  \n",
       "\n",
       "[5491 rows x 58 columns]"
      ]
     },
     "execution_count": 221,
     "metadata": {},
     "output_type": "execute_result"
    }
   ],
   "source": [
    "seasonal_data_df"
   ]
  },
  {
   "cell_type": "code",
   "execution_count": 222,
   "id": "d06ebf8b",
   "metadata": {},
   "outputs": [
    {
     "name": "stderr",
     "output_type": "stream",
     "text": [
      "C:\\Users\\jkepler\\AppData\\Local\\Temp\\ipykernel_21608\\3531356292.py:2: DtypeWarning: Columns (181,183,184,372,374,375,376,394,395,397,453,455,456,457) have mixed types. Specify dtype option on import or set low_memory=False.\n",
      "  college_profile_df = pd.read_csv(\"https://raw.githubusercontent.com/JoshKepler/Portfolio/main/NFL%20Project/Data/unfiltered_rookie_proj.csv\")\n"
     ]
    }
   ],
   "source": [
    "#Importing CSV from Rookie Perdictions. A lot of good data we can use for this prediction\n",
    "college_profile_df = pd.read_csv(\"https://raw.githubusercontent.com/JoshKepler/Portfolio/main/NFL%20Project/Data/unfiltered_rookie_proj.csv\")"
   ]
  },
  {
   "cell_type": "code",
   "execution_count": 223,
   "id": "fc247175",
   "metadata": {},
   "outputs": [
    {
     "data": {
      "text/html": [
       "<div>\n",
       "<style scoped>\n",
       "    .dataframe tbody tr th:only-of-type {\n",
       "        vertical-align: middle;\n",
       "    }\n",
       "\n",
       "    .dataframe tbody tr th {\n",
       "        vertical-align: top;\n",
       "    }\n",
       "\n",
       "    .dataframe thead th {\n",
       "        text-align: right;\n",
       "    }\n",
       "</style>\n",
       "<table border=\"1\" class=\"dataframe\">\n",
       "  <thead>\n",
       "    <tr style=\"text-align: right;\">\n",
       "      <th></th>\n",
       "      <th>Unnamed: 0</th>\n",
       "      <th>index</th>\n",
       "      <th>season</th>\n",
       "      <th>cfb_id</th>\n",
       "      <th>player_name</th>\n",
       "      <th>pos</th>\n",
       "      <th>school</th>\n",
       "      <th>ht</th>\n",
       "      <th>wt</th>\n",
       "      <th>forty</th>\n",
       "      <th>...</th>\n",
       "      <th>hits_y_pred_gbf</th>\n",
       "      <th>defensive_sacks_y_pred_gbf</th>\n",
       "      <th>safeties_y_pred_gbf</th>\n",
       "      <th>defensive_interceptions_y_pred_gbf</th>\n",
       "      <th>defensive_interception_touchdowns_y_pred_gbf</th>\n",
       "      <th>pass_break_ups_y_pred_gbf</th>\n",
       "      <th>coverage_targets_y_pred_gbf</th>\n",
       "      <th>allowed_recpetions_y_pred_gbf</th>\n",
       "      <th>allowed_passing_yards_y_pred_gbf</th>\n",
       "      <th>allowed_passing_touchdowns_y_pred_gbf</th>\n",
       "    </tr>\n",
       "  </thead>\n",
       "  <tbody>\n",
       "    <tr>\n",
       "      <th>0</th>\n",
       "      <td>0</td>\n",
       "      <td>0.0</td>\n",
       "      <td>2015.0</td>\n",
       "      <td>ameer-abdullah-1</td>\n",
       "      <td>Ameer Abdullah</td>\n",
       "      <td>RB</td>\n",
       "      <td>Nebraska</td>\n",
       "      <td>69.0</td>\n",
       "      <td>205.0</td>\n",
       "      <td>4.600</td>\n",
       "      <td>...</td>\n",
       "      <td>1.316581e-14</td>\n",
       "      <td>2.632835e-15</td>\n",
       "      <td>0.0</td>\n",
       "      <td>0.000000</td>\n",
       "      <td>0.0</td>\n",
       "      <td>0.0000</td>\n",
       "      <td>0.000000</td>\n",
       "      <td>0.000000</td>\n",
       "      <td>0.000000</td>\n",
       "      <td>0.000000</td>\n",
       "    </tr>\n",
       "    <tr>\n",
       "      <th>1</th>\n",
       "      <td>2</td>\n",
       "      <td>2.0</td>\n",
       "      <td>2015.0</td>\n",
       "      <td>jay-ajayi-1</td>\n",
       "      <td>Jay Ajayi</td>\n",
       "      <td>RB</td>\n",
       "      <td>Boise State</td>\n",
       "      <td>72.0</td>\n",
       "      <td>221.0</td>\n",
       "      <td>4.570</td>\n",
       "      <td>...</td>\n",
       "      <td>1.316581e-14</td>\n",
       "      <td>2.632835e-15</td>\n",
       "      <td>0.0</td>\n",
       "      <td>0.000000</td>\n",
       "      <td>0.0</td>\n",
       "      <td>0.0000</td>\n",
       "      <td>0.000000</td>\n",
       "      <td>0.000000</td>\n",
       "      <td>0.000000</td>\n",
       "      <td>0.000000</td>\n",
       "    </tr>\n",
       "    <tr>\n",
       "      <th>2</th>\n",
       "      <td>5</td>\n",
       "      <td>5.0</td>\n",
       "      <td>2015.0</td>\n",
       "      <td>javorius-allen-1</td>\n",
       "      <td>Javorius Allen</td>\n",
       "      <td>RB</td>\n",
       "      <td>USC</td>\n",
       "      <td>72.0</td>\n",
       "      <td>221.0</td>\n",
       "      <td>4.530</td>\n",
       "      <td>...</td>\n",
       "      <td>1.316126e-14</td>\n",
       "      <td>2.632835e-15</td>\n",
       "      <td>0.0</td>\n",
       "      <td>0.000000</td>\n",
       "      <td>0.0</td>\n",
       "      <td>0.0000</td>\n",
       "      <td>0.000000</td>\n",
       "      <td>0.000000</td>\n",
       "      <td>0.000000</td>\n",
       "      <td>0.000000</td>\n",
       "    </tr>\n",
       "    <tr>\n",
       "      <th>3</th>\n",
       "      <td>12</td>\n",
       "      <td>12.0</td>\n",
       "      <td>2015.0</td>\n",
       "      <td>cameron-artis-payne-1</td>\n",
       "      <td>Cameron Artis-Payne</td>\n",
       "      <td>RB</td>\n",
       "      <td>Auburn</td>\n",
       "      <td>70.0</td>\n",
       "      <td>212.0</td>\n",
       "      <td>4.530</td>\n",
       "      <td>...</td>\n",
       "      <td>1.316581e-14</td>\n",
       "      <td>2.632835e-15</td>\n",
       "      <td>0.0</td>\n",
       "      <td>0.000000</td>\n",
       "      <td>0.0</td>\n",
       "      <td>0.0000</td>\n",
       "      <td>0.000000</td>\n",
       "      <td>0.000000</td>\n",
       "      <td>0.000000</td>\n",
       "      <td>0.000000</td>\n",
       "    </tr>\n",
       "    <tr>\n",
       "      <th>4</th>\n",
       "      <td>22</td>\n",
       "      <td>62.0</td>\n",
       "      <td>2015.0</td>\n",
       "      <td>0</td>\n",
       "      <td>John Crockett</td>\n",
       "      <td>RB</td>\n",
       "      <td>North Dakota State</td>\n",
       "      <td>72.0</td>\n",
       "      <td>217.0</td>\n",
       "      <td>4.620</td>\n",
       "      <td>...</td>\n",
       "      <td>1.316126e-14</td>\n",
       "      <td>2.632835e-15</td>\n",
       "      <td>0.0</td>\n",
       "      <td>0.000000</td>\n",
       "      <td>0.0</td>\n",
       "      <td>0.0000</td>\n",
       "      <td>0.000000</td>\n",
       "      <td>0.000000</td>\n",
       "      <td>0.000000</td>\n",
       "      <td>0.000000</td>\n",
       "    </tr>\n",
       "    <tr>\n",
       "      <th>...</th>\n",
       "      <td>...</td>\n",
       "      <td>...</td>\n",
       "      <td>...</td>\n",
       "      <td>...</td>\n",
       "      <td>...</td>\n",
       "      <td>...</td>\n",
       "      <td>...</td>\n",
       "      <td>...</td>\n",
       "      <td>...</td>\n",
       "      <td>...</td>\n",
       "      <td>...</td>\n",
       "      <td>...</td>\n",
       "      <td>...</td>\n",
       "      <td>...</td>\n",
       "      <td>...</td>\n",
       "      <td>...</td>\n",
       "      <td>...</td>\n",
       "      <td>...</td>\n",
       "      <td>...</td>\n",
       "      <td>...</td>\n",
       "      <td>...</td>\n",
       "    </tr>\n",
       "    <tr>\n",
       "      <th>3199</th>\n",
       "      <td>3108</td>\n",
       "      <td>3093.0</td>\n",
       "      <td>2024.0</td>\n",
       "      <td>drake-nugent-1</td>\n",
       "      <td>Drake Nugent</td>\n",
       "      <td>C</td>\n",
       "      <td>Michigan</td>\n",
       "      <td>74.0</td>\n",
       "      <td>298.0</td>\n",
       "      <td>5.230</td>\n",
       "      <td>...</td>\n",
       "      <td>0.000000e+00</td>\n",
       "      <td>0.000000e+00</td>\n",
       "      <td>0.0</td>\n",
       "      <td>0.000011</td>\n",
       "      <td>0.0</td>\n",
       "      <td>0.0001</td>\n",
       "      <td>0.000661</td>\n",
       "      <td>0.000339</td>\n",
       "      <td>0.004061</td>\n",
       "      <td>0.000011</td>\n",
       "    </tr>\n",
       "    <tr>\n",
       "      <th>3200</th>\n",
       "      <td>3118</td>\n",
       "      <td>3105.0</td>\n",
       "      <td>2024.0</td>\n",
       "      <td>jackson-powers-johnson-1</td>\n",
       "      <td>Jackson Powers-Johnson</td>\n",
       "      <td>C</td>\n",
       "      <td>Oregon</td>\n",
       "      <td>75.0</td>\n",
       "      <td>328.0</td>\n",
       "      <td>5.225</td>\n",
       "      <td>...</td>\n",
       "      <td>0.000000e+00</td>\n",
       "      <td>0.000000e+00</td>\n",
       "      <td>0.0</td>\n",
       "      <td>0.000011</td>\n",
       "      <td>0.0</td>\n",
       "      <td>0.0001</td>\n",
       "      <td>0.000661</td>\n",
       "      <td>0.000339</td>\n",
       "      <td>0.004061</td>\n",
       "      <td>0.000011</td>\n",
       "    </tr>\n",
       "    <tr>\n",
       "      <th>3201</th>\n",
       "      <td>3126</td>\n",
       "      <td>3114.0</td>\n",
       "      <td>2024.0</td>\n",
       "      <td>andrew-raym-1</td>\n",
       "      <td>Andrew Raym</td>\n",
       "      <td>C</td>\n",
       "      <td>Oklahoma</td>\n",
       "      <td>76.0</td>\n",
       "      <td>314.0</td>\n",
       "      <td>5.420</td>\n",
       "      <td>...</td>\n",
       "      <td>0.000000e+00</td>\n",
       "      <td>0.000000e+00</td>\n",
       "      <td>0.0</td>\n",
       "      <td>0.000011</td>\n",
       "      <td>0.0</td>\n",
       "      <td>0.0001</td>\n",
       "      <td>0.000661</td>\n",
       "      <td>0.000339</td>\n",
       "      <td>0.004061</td>\n",
       "      <td>0.000011</td>\n",
       "    </tr>\n",
       "    <tr>\n",
       "      <th>3202</th>\n",
       "      <td>3142</td>\n",
       "      <td>3132.0</td>\n",
       "      <td>2024.0</td>\n",
       "      <td>nick-samac-1</td>\n",
       "      <td>Nick Samac</td>\n",
       "      <td>C</td>\n",
       "      <td>Michigan St.</td>\n",
       "      <td>76.0</td>\n",
       "      <td>307.0</td>\n",
       "      <td>5.225</td>\n",
       "      <td>...</td>\n",
       "      <td>0.000000e+00</td>\n",
       "      <td>0.000000e+00</td>\n",
       "      <td>0.0</td>\n",
       "      <td>0.000011</td>\n",
       "      <td>0.0</td>\n",
       "      <td>0.0001</td>\n",
       "      <td>0.000661</td>\n",
       "      <td>0.000339</td>\n",
       "      <td>0.004061</td>\n",
       "      <td>0.000011</td>\n",
       "    </tr>\n",
       "    <tr>\n",
       "      <th>3203</th>\n",
       "      <td>3168</td>\n",
       "      <td>3163.0</td>\n",
       "      <td>2024.0</td>\n",
       "      <td>charles-turner-2</td>\n",
       "      <td>Charles Turner</td>\n",
       "      <td>C</td>\n",
       "      <td>LSU</td>\n",
       "      <td>76.0</td>\n",
       "      <td>303.0</td>\n",
       "      <td>5.225</td>\n",
       "      <td>...</td>\n",
       "      <td>0.000000e+00</td>\n",
       "      <td>0.000000e+00</td>\n",
       "      <td>0.0</td>\n",
       "      <td>0.000011</td>\n",
       "      <td>0.0</td>\n",
       "      <td>0.0001</td>\n",
       "      <td>0.000661</td>\n",
       "      <td>0.000339</td>\n",
       "      <td>0.004061</td>\n",
       "      <td>0.000011</td>\n",
       "    </tr>\n",
       "  </tbody>\n",
       "</table>\n",
       "<p>3204 rows × 541 columns</p>\n",
       "</div>"
      ],
      "text/plain": [
       "      Unnamed: 0   index  season                    cfb_id  \\\n",
       "0              0     0.0  2015.0          ameer-abdullah-1   \n",
       "1              2     2.0  2015.0               jay-ajayi-1   \n",
       "2              5     5.0  2015.0          javorius-allen-1   \n",
       "3             12    12.0  2015.0     cameron-artis-payne-1   \n",
       "4             22    62.0  2015.0                         0   \n",
       "...          ...     ...     ...                       ...   \n",
       "3199        3108  3093.0  2024.0            drake-nugent-1   \n",
       "3200        3118  3105.0  2024.0  jackson-powers-johnson-1   \n",
       "3201        3126  3114.0  2024.0             andrew-raym-1   \n",
       "3202        3142  3132.0  2024.0              nick-samac-1   \n",
       "3203        3168  3163.0  2024.0          charles-turner-2   \n",
       "\n",
       "                 player_name pos              school    ht     wt  forty  ...  \\\n",
       "0             Ameer Abdullah  RB            Nebraska  69.0  205.0  4.600  ...   \n",
       "1                  Jay Ajayi  RB         Boise State  72.0  221.0  4.570  ...   \n",
       "2             Javorius Allen  RB                 USC  72.0  221.0  4.530  ...   \n",
       "3        Cameron Artis-Payne  RB              Auburn  70.0  212.0  4.530  ...   \n",
       "4              John Crockett  RB  North Dakota State  72.0  217.0  4.620  ...   \n",
       "...                      ...  ..                 ...   ...    ...    ...  ...   \n",
       "3199            Drake Nugent   C            Michigan  74.0  298.0  5.230  ...   \n",
       "3200  Jackson Powers-Johnson   C              Oregon  75.0  328.0  5.225  ...   \n",
       "3201             Andrew Raym   C            Oklahoma  76.0  314.0  5.420  ...   \n",
       "3202              Nick Samac   C        Michigan St.  76.0  307.0  5.225  ...   \n",
       "3203          Charles Turner   C                 LSU  76.0  303.0  5.225  ...   \n",
       "\n",
       "      hits_y_pred_gbf  defensive_sacks_y_pred_gbf  safeties_y_pred_gbf  \\\n",
       "0        1.316581e-14                2.632835e-15                  0.0   \n",
       "1        1.316581e-14                2.632835e-15                  0.0   \n",
       "2        1.316126e-14                2.632835e-15                  0.0   \n",
       "3        1.316581e-14                2.632835e-15                  0.0   \n",
       "4        1.316126e-14                2.632835e-15                  0.0   \n",
       "...               ...                         ...                  ...   \n",
       "3199     0.000000e+00                0.000000e+00                  0.0   \n",
       "3200     0.000000e+00                0.000000e+00                  0.0   \n",
       "3201     0.000000e+00                0.000000e+00                  0.0   \n",
       "3202     0.000000e+00                0.000000e+00                  0.0   \n",
       "3203     0.000000e+00                0.000000e+00                  0.0   \n",
       "\n",
       "      defensive_interceptions_y_pred_gbf  \\\n",
       "0                               0.000000   \n",
       "1                               0.000000   \n",
       "2                               0.000000   \n",
       "3                               0.000000   \n",
       "4                               0.000000   \n",
       "...                                  ...   \n",
       "3199                            0.000011   \n",
       "3200                            0.000011   \n",
       "3201                            0.000011   \n",
       "3202                            0.000011   \n",
       "3203                            0.000011   \n",
       "\n",
       "      defensive_interception_touchdowns_y_pred_gbf  pass_break_ups_y_pred_gbf  \\\n",
       "0                                              0.0                     0.0000   \n",
       "1                                              0.0                     0.0000   \n",
       "2                                              0.0                     0.0000   \n",
       "3                                              0.0                     0.0000   \n",
       "4                                              0.0                     0.0000   \n",
       "...                                            ...                        ...   \n",
       "3199                                           0.0                     0.0001   \n",
       "3200                                           0.0                     0.0001   \n",
       "3201                                           0.0                     0.0001   \n",
       "3202                                           0.0                     0.0001   \n",
       "3203                                           0.0                     0.0001   \n",
       "\n",
       "      coverage_targets_y_pred_gbf allowed_recpetions_y_pred_gbf  \\\n",
       "0                        0.000000                      0.000000   \n",
       "1                        0.000000                      0.000000   \n",
       "2                        0.000000                      0.000000   \n",
       "3                        0.000000                      0.000000   \n",
       "4                        0.000000                      0.000000   \n",
       "...                           ...                           ...   \n",
       "3199                     0.000661                      0.000339   \n",
       "3200                     0.000661                      0.000339   \n",
       "3201                     0.000661                      0.000339   \n",
       "3202                     0.000661                      0.000339   \n",
       "3203                     0.000661                      0.000339   \n",
       "\n",
       "      allowed_passing_yards_y_pred_gbf allowed_passing_touchdowns_y_pred_gbf  \n",
       "0                             0.000000                              0.000000  \n",
       "1                             0.000000                              0.000000  \n",
       "2                             0.000000                              0.000000  \n",
       "3                             0.000000                              0.000000  \n",
       "4                             0.000000                              0.000000  \n",
       "...                                ...                                   ...  \n",
       "3199                          0.004061                              0.000011  \n",
       "3200                          0.004061                              0.000011  \n",
       "3201                          0.004061                              0.000011  \n",
       "3202                          0.004061                              0.000011  \n",
       "3203                          0.004061                              0.000011  \n",
       "\n",
       "[3204 rows x 541 columns]"
      ]
     },
     "execution_count": 223,
     "metadata": {},
     "output_type": "execute_result"
    }
   ],
   "source": [
    "college_profile_df"
   ]
  },
  {
   "cell_type": "code",
   "execution_count": 224,
   "id": "2a565a6c",
   "metadata": {},
   "outputs": [],
   "source": [
    "#Importing from API, ID key\n",
    "id_df = nfl.import_ids()"
   ]
  },
  {
   "cell_type": "code",
   "execution_count": 225,
   "id": "50c860ce",
   "metadata": {},
   "outputs": [
    {
     "data": {
      "text/html": [
       "<div>\n",
       "<style scoped>\n",
       "    .dataframe tbody tr th:only-of-type {\n",
       "        vertical-align: middle;\n",
       "    }\n",
       "\n",
       "    .dataframe tbody tr th {\n",
       "        vertical-align: top;\n",
       "    }\n",
       "\n",
       "    .dataframe thead th {\n",
       "        text-align: right;\n",
       "    }\n",
       "</style>\n",
       "<table border=\"1\" class=\"dataframe\">\n",
       "  <thead>\n",
       "    <tr style=\"text-align: right;\">\n",
       "      <th></th>\n",
       "      <th>gsis_id</th>\n",
       "      <th>pff_id</th>\n",
       "      <th>cfbref_id</th>\n",
       "      <th>name</th>\n",
       "      <th>merge_name</th>\n",
       "      <th>position</th>\n",
       "      <th>team</th>\n",
       "      <th>birthdate</th>\n",
       "      <th>age</th>\n",
       "      <th>draft_year</th>\n",
       "      <th>draft_round</th>\n",
       "      <th>draft_pick</th>\n",
       "      <th>draft_ovr</th>\n",
       "      <th>height</th>\n",
       "      <th>weight</th>\n",
       "      <th>college</th>\n",
       "      <th>2nd_season</th>\n",
       "      <th>3rd_season</th>\n",
       "    </tr>\n",
       "  </thead>\n",
       "  <tbody>\n",
       "    <tr>\n",
       "      <th>0</th>\n",
       "      <td>NaN</td>\n",
       "      <td>NaN</td>\n",
       "      <td>NaN</td>\n",
       "      <td>Caleb Williams</td>\n",
       "      <td>caleb williams</td>\n",
       "      <td>QB</td>\n",
       "      <td>CHI</td>\n",
       "      <td>2001-11-18</td>\n",
       "      <td>22.6</td>\n",
       "      <td>2024.0</td>\n",
       "      <td>1.0</td>\n",
       "      <td>1.0</td>\n",
       "      <td>NaN</td>\n",
       "      <td>73.0</td>\n",
       "      <td>215.0</td>\n",
       "      <td>USC</td>\n",
       "      <td>2025</td>\n",
       "      <td>2026</td>\n",
       "    </tr>\n",
       "    <tr>\n",
       "      <th>1</th>\n",
       "      <td>NaN</td>\n",
       "      <td>NaN</td>\n",
       "      <td>NaN</td>\n",
       "      <td>Drake Maye</td>\n",
       "      <td>drake maye</td>\n",
       "      <td>QB</td>\n",
       "      <td>NEP</td>\n",
       "      <td>2002-08-30</td>\n",
       "      <td>21.9</td>\n",
       "      <td>2024.0</td>\n",
       "      <td>1.0</td>\n",
       "      <td>3.0</td>\n",
       "      <td>NaN</td>\n",
       "      <td>76.0</td>\n",
       "      <td>225.0</td>\n",
       "      <td>North Carolina</td>\n",
       "      <td>2025</td>\n",
       "      <td>2026</td>\n",
       "    </tr>\n",
       "    <tr>\n",
       "      <th>2</th>\n",
       "      <td>NaN</td>\n",
       "      <td>NaN</td>\n",
       "      <td>NaN</td>\n",
       "      <td>Jayden Daniels</td>\n",
       "      <td>jayden daniels</td>\n",
       "      <td>QB</td>\n",
       "      <td>WAS</td>\n",
       "      <td>2000-12-18</td>\n",
       "      <td>23.6</td>\n",
       "      <td>2024.0</td>\n",
       "      <td>1.0</td>\n",
       "      <td>2.0</td>\n",
       "      <td>NaN</td>\n",
       "      <td>76.0</td>\n",
       "      <td>210.0</td>\n",
       "      <td>LSU</td>\n",
       "      <td>2025</td>\n",
       "      <td>2026</td>\n",
       "    </tr>\n",
       "    <tr>\n",
       "      <th>3</th>\n",
       "      <td>NaN</td>\n",
       "      <td>NaN</td>\n",
       "      <td>NaN</td>\n",
       "      <td>Bo Nix</td>\n",
       "      <td>bo nix</td>\n",
       "      <td>QB</td>\n",
       "      <td>DEN</td>\n",
       "      <td>2000-02-25</td>\n",
       "      <td>24.4</td>\n",
       "      <td>2024.0</td>\n",
       "      <td>1.0</td>\n",
       "      <td>12.0</td>\n",
       "      <td>NaN</td>\n",
       "      <td>74.0</td>\n",
       "      <td>217.0</td>\n",
       "      <td>Oregon</td>\n",
       "      <td>2025</td>\n",
       "      <td>2026</td>\n",
       "    </tr>\n",
       "    <tr>\n",
       "      <th>4</th>\n",
       "      <td>NaN</td>\n",
       "      <td>NaN</td>\n",
       "      <td>NaN</td>\n",
       "      <td>Michael Penix Jr.</td>\n",
       "      <td>michael penix</td>\n",
       "      <td>QB</td>\n",
       "      <td>ATL</td>\n",
       "      <td>2000-05-08</td>\n",
       "      <td>24.2</td>\n",
       "      <td>2024.0</td>\n",
       "      <td>1.0</td>\n",
       "      <td>8.0</td>\n",
       "      <td>NaN</td>\n",
       "      <td>74.0</td>\n",
       "      <td>216.0</td>\n",
       "      <td>Washington</td>\n",
       "      <td>2025</td>\n",
       "      <td>2026</td>\n",
       "    </tr>\n",
       "    <tr>\n",
       "      <th>...</th>\n",
       "      <td>...</td>\n",
       "      <td>...</td>\n",
       "      <td>...</td>\n",
       "      <td>...</td>\n",
       "      <td>...</td>\n",
       "      <td>...</td>\n",
       "      <td>...</td>\n",
       "      <td>...</td>\n",
       "      <td>...</td>\n",
       "      <td>...</td>\n",
       "      <td>...</td>\n",
       "      <td>...</td>\n",
       "      <td>...</td>\n",
       "      <td>...</td>\n",
       "      <td>...</td>\n",
       "      <td>...</td>\n",
       "      <td>...</td>\n",
       "      <td>...</td>\n",
       "    </tr>\n",
       "    <tr>\n",
       "      <th>3908</th>\n",
       "      <td>00-0032298</td>\n",
       "      <td>NaN</td>\n",
       "      <td>NaN</td>\n",
       "      <td>Bronson Hill</td>\n",
       "      <td>bronson hill</td>\n",
       "      <td>RB</td>\n",
       "      <td>FA</td>\n",
       "      <td>1993-01-02</td>\n",
       "      <td>28.3</td>\n",
       "      <td>2015.0</td>\n",
       "      <td>NaN</td>\n",
       "      <td>NaN</td>\n",
       "      <td>NaN</td>\n",
       "      <td>71.0</td>\n",
       "      <td>221.0</td>\n",
       "      <td>Eastern Michigan</td>\n",
       "      <td>2016</td>\n",
       "      <td>2017</td>\n",
       "    </tr>\n",
       "    <tr>\n",
       "      <th>3909</th>\n",
       "      <td>00-0031866</td>\n",
       "      <td>9962.0</td>\n",
       "      <td>NaN</td>\n",
       "      <td>Jordan Williams</td>\n",
       "      <td>jordan williams</td>\n",
       "      <td>DE</td>\n",
       "      <td>NYG</td>\n",
       "      <td>1993-03-23</td>\n",
       "      <td>28.1</td>\n",
       "      <td>2015.0</td>\n",
       "      <td>NaN</td>\n",
       "      <td>NaN</td>\n",
       "      <td>NaN</td>\n",
       "      <td>76.0</td>\n",
       "      <td>262.0</td>\n",
       "      <td>Tennessee</td>\n",
       "      <td>2016</td>\n",
       "      <td>2017</td>\n",
       "    </tr>\n",
       "    <tr>\n",
       "      <th>3910</th>\n",
       "      <td>00-0033138</td>\n",
       "      <td>NaN</td>\n",
       "      <td>NaN</td>\n",
       "      <td>Sam Ficken</td>\n",
       "      <td>sam ficken</td>\n",
       "      <td>PK</td>\n",
       "      <td>FA</td>\n",
       "      <td>1992-12-14</td>\n",
       "      <td>30.2</td>\n",
       "      <td>2015.0</td>\n",
       "      <td>NaN</td>\n",
       "      <td>NaN</td>\n",
       "      <td>NaN</td>\n",
       "      <td>73.0</td>\n",
       "      <td>192.0</td>\n",
       "      <td>Penn State</td>\n",
       "      <td>2016</td>\n",
       "      <td>2017</td>\n",
       "    </tr>\n",
       "    <tr>\n",
       "      <th>3911</th>\n",
       "      <td>00-0031898</td>\n",
       "      <td>9994.0</td>\n",
       "      <td>NaN</td>\n",
       "      <td>Alex Singleton</td>\n",
       "      <td>alex singleton</td>\n",
       "      <td>LB</td>\n",
       "      <td>DEN</td>\n",
       "      <td>1993-12-07</td>\n",
       "      <td>30.6</td>\n",
       "      <td>2015.0</td>\n",
       "      <td>NaN</td>\n",
       "      <td>NaN</td>\n",
       "      <td>NaN</td>\n",
       "      <td>74.0</td>\n",
       "      <td>240.0</td>\n",
       "      <td>Montana State</td>\n",
       "      <td>2016</td>\n",
       "      <td>2017</td>\n",
       "    </tr>\n",
       "    <tr>\n",
       "      <th>3912</th>\n",
       "      <td>00-0031838</td>\n",
       "      <td>9934.0</td>\n",
       "      <td>NaN</td>\n",
       "      <td>James Vaughters</td>\n",
       "      <td>james vaughters</td>\n",
       "      <td>LB</td>\n",
       "      <td>FA</td>\n",
       "      <td>1993-06-27</td>\n",
       "      <td>29.7</td>\n",
       "      <td>2015.0</td>\n",
       "      <td>NaN</td>\n",
       "      <td>NaN</td>\n",
       "      <td>NaN</td>\n",
       "      <td>74.0</td>\n",
       "      <td>254.0</td>\n",
       "      <td>Stanford</td>\n",
       "      <td>2016</td>\n",
       "      <td>2017</td>\n",
       "    </tr>\n",
       "  </tbody>\n",
       "</table>\n",
       "<p>3913 rows × 18 columns</p>\n",
       "</div>"
      ],
      "text/plain": [
       "         gsis_id  pff_id cfbref_id               name       merge_name  \\\n",
       "0            NaN     NaN       NaN     Caleb Williams   caleb williams   \n",
       "1            NaN     NaN       NaN         Drake Maye       drake maye   \n",
       "2            NaN     NaN       NaN     Jayden Daniels   jayden daniels   \n",
       "3            NaN     NaN       NaN             Bo Nix           bo nix   \n",
       "4            NaN     NaN       NaN  Michael Penix Jr.    michael penix   \n",
       "...          ...     ...       ...                ...              ...   \n",
       "3908  00-0032298     NaN       NaN       Bronson Hill     bronson hill   \n",
       "3909  00-0031866  9962.0       NaN    Jordan Williams  jordan williams   \n",
       "3910  00-0033138     NaN       NaN         Sam Ficken       sam ficken   \n",
       "3911  00-0031898  9994.0       NaN     Alex Singleton   alex singleton   \n",
       "3912  00-0031838  9934.0       NaN    James Vaughters  james vaughters   \n",
       "\n",
       "     position team   birthdate   age  draft_year  draft_round  draft_pick  \\\n",
       "0          QB  CHI  2001-11-18  22.6      2024.0          1.0         1.0   \n",
       "1          QB  NEP  2002-08-30  21.9      2024.0          1.0         3.0   \n",
       "2          QB  WAS  2000-12-18  23.6      2024.0          1.0         2.0   \n",
       "3          QB  DEN  2000-02-25  24.4      2024.0          1.0        12.0   \n",
       "4          QB  ATL  2000-05-08  24.2      2024.0          1.0         8.0   \n",
       "...       ...  ...         ...   ...         ...          ...         ...   \n",
       "3908       RB   FA  1993-01-02  28.3      2015.0          NaN         NaN   \n",
       "3909       DE  NYG  1993-03-23  28.1      2015.0          NaN         NaN   \n",
       "3910       PK   FA  1992-12-14  30.2      2015.0          NaN         NaN   \n",
       "3911       LB  DEN  1993-12-07  30.6      2015.0          NaN         NaN   \n",
       "3912       LB   FA  1993-06-27  29.7      2015.0          NaN         NaN   \n",
       "\n",
       "      draft_ovr  height  weight           college  2nd_season  3rd_season  \n",
       "0           NaN    73.0   215.0               USC        2025        2026  \n",
       "1           NaN    76.0   225.0    North Carolina        2025        2026  \n",
       "2           NaN    76.0   210.0               LSU        2025        2026  \n",
       "3           NaN    74.0   217.0            Oregon        2025        2026  \n",
       "4           NaN    74.0   216.0        Washington        2025        2026  \n",
       "...         ...     ...     ...               ...         ...         ...  \n",
       "3908        NaN    71.0   221.0  Eastern Michigan        2016        2017  \n",
       "3909        NaN    76.0   262.0         Tennessee        2016        2017  \n",
       "3910        NaN    73.0   192.0        Penn State        2016        2017  \n",
       "3911        NaN    74.0   240.0     Montana State        2016        2017  \n",
       "3912        NaN    74.0   254.0          Stanford        2016        2017  \n",
       "\n",
       "[3913 rows x 18 columns]"
      ]
     },
     "execution_count": 225,
     "metadata": {},
     "output_type": "execute_result"
    }
   ],
   "source": [
    "#Creating columns to \n",
    "id_df = id_df[['gsis_id', 'pff_id','cfbref_id', 'name', 'merge_name', 'position', 'team', 'birthdate', 'age',\n",
    "       'draft_year', 'draft_round', 'draft_pick', 'draft_ovr', 'height', 'weight', 'college']]\n",
    "\n",
    "id_df = id_df[id_df['draft_year'] > 2014]\n",
    "\n",
    "id_df['2nd_season'] = (id_df['draft_year'] + 1).astype('int')\n",
    "id_df['3rd_season'] = (id_df['draft_year'] + 2).astype('int')\n",
    "\n",
    "id_df"
   ]
  },
  {
   "cell_type": "code",
   "execution_count": 226,
   "id": "435cac91",
   "metadata": {},
   "outputs": [],
   "source": [
    "college_profile_df = college_profile_df.merge(id_df[['gsis_id', '2nd_season', '3rd_season']], left_on='player_id', right_on='gsis_id', suffixes=['','_y'])"
   ]
  },
  {
   "cell_type": "code",
   "execution_count": 227,
   "id": "1eb2067e",
   "metadata": {},
   "outputs": [
    {
     "data": {
      "text/html": [
       "<div>\n",
       "<style scoped>\n",
       "    .dataframe tbody tr th:only-of-type {\n",
       "        vertical-align: middle;\n",
       "    }\n",
       "\n",
       "    .dataframe tbody tr th {\n",
       "        vertical-align: top;\n",
       "    }\n",
       "\n",
       "    .dataframe thead th {\n",
       "        text-align: right;\n",
       "    }\n",
       "</style>\n",
       "<table border=\"1\" class=\"dataframe\">\n",
       "  <thead>\n",
       "    <tr style=\"text-align: right;\">\n",
       "      <th></th>\n",
       "      <th>Unnamed: 0</th>\n",
       "      <th>index</th>\n",
       "      <th>season</th>\n",
       "      <th>cfb_id</th>\n",
       "      <th>player_name</th>\n",
       "      <th>pos</th>\n",
       "      <th>school</th>\n",
       "      <th>ht</th>\n",
       "      <th>wt</th>\n",
       "      <th>forty</th>\n",
       "      <th>...</th>\n",
       "      <th>defensive_interceptions</th>\n",
       "      <th>defensive_interception_touchdowns</th>\n",
       "      <th>pass_break_ups</th>\n",
       "      <th>coverage_targets</th>\n",
       "      <th>allowed_recpetions</th>\n",
       "      <th>allowed_passing_yards</th>\n",
       "      <th>allowed_passing_touchdowns</th>\n",
       "      <th>gsis_id_y</th>\n",
       "      <th>2nd_season</th>\n",
       "      <th>3rd_season</th>\n",
       "    </tr>\n",
       "  </thead>\n",
       "  <tbody>\n",
       "    <tr>\n",
       "      <th>0</th>\n",
       "      <td>0</td>\n",
       "      <td>0.0</td>\n",
       "      <td>2015.0</td>\n",
       "      <td>ameer-abdullah-1</td>\n",
       "      <td>Ameer Abdullah</td>\n",
       "      <td>RB</td>\n",
       "      <td>Nebraska</td>\n",
       "      <td>69.0</td>\n",
       "      <td>205.0</td>\n",
       "      <td>4.60</td>\n",
       "      <td>...</td>\n",
       "      <td>0.0</td>\n",
       "      <td>0.0</td>\n",
       "      <td>0.0</td>\n",
       "      <td>0.0</td>\n",
       "      <td>0.0</td>\n",
       "      <td>0.0</td>\n",
       "      <td>0.0</td>\n",
       "      <td>00-0032104</td>\n",
       "      <td>2016</td>\n",
       "      <td>2017</td>\n",
       "    </tr>\n",
       "    <tr>\n",
       "      <th>1</th>\n",
       "      <td>2</td>\n",
       "      <td>2.0</td>\n",
       "      <td>2015.0</td>\n",
       "      <td>jay-ajayi-1</td>\n",
       "      <td>Jay Ajayi</td>\n",
       "      <td>RB</td>\n",
       "      <td>Boise State</td>\n",
       "      <td>72.0</td>\n",
       "      <td>221.0</td>\n",
       "      <td>4.57</td>\n",
       "      <td>...</td>\n",
       "      <td>0.0</td>\n",
       "      <td>0.0</td>\n",
       "      <td>0.0</td>\n",
       "      <td>0.0</td>\n",
       "      <td>0.0</td>\n",
       "      <td>0.0</td>\n",
       "      <td>0.0</td>\n",
       "      <td>00-0031590</td>\n",
       "      <td>2016</td>\n",
       "      <td>2017</td>\n",
       "    </tr>\n",
       "    <tr>\n",
       "      <th>2</th>\n",
       "      <td>5</td>\n",
       "      <td>5.0</td>\n",
       "      <td>2015.0</td>\n",
       "      <td>javorius-allen-1</td>\n",
       "      <td>Javorius Allen</td>\n",
       "      <td>RB</td>\n",
       "      <td>USC</td>\n",
       "      <td>72.0</td>\n",
       "      <td>221.0</td>\n",
       "      <td>4.53</td>\n",
       "      <td>...</td>\n",
       "      <td>0.0</td>\n",
       "      <td>0.0</td>\n",
       "      <td>0.0</td>\n",
       "      <td>0.0</td>\n",
       "      <td>0.0</td>\n",
       "      <td>0.0</td>\n",
       "      <td>0.0</td>\n",
       "      <td>00-0031577</td>\n",
       "      <td>2016</td>\n",
       "      <td>2017</td>\n",
       "    </tr>\n",
       "    <tr>\n",
       "      <th>3</th>\n",
       "      <td>12</td>\n",
       "      <td>12.0</td>\n",
       "      <td>2015.0</td>\n",
       "      <td>cameron-artis-payne-1</td>\n",
       "      <td>Cameron Artis-Payne</td>\n",
       "      <td>RB</td>\n",
       "      <td>Auburn</td>\n",
       "      <td>70.0</td>\n",
       "      <td>212.0</td>\n",
       "      <td>4.53</td>\n",
       "      <td>...</td>\n",
       "      <td>0.0</td>\n",
       "      <td>0.0</td>\n",
       "      <td>0.0</td>\n",
       "      <td>0.0</td>\n",
       "      <td>0.0</td>\n",
       "      <td>0.0</td>\n",
       "      <td>0.0</td>\n",
       "      <td>00-0031599</td>\n",
       "      <td>2016</td>\n",
       "      <td>2017</td>\n",
       "    </tr>\n",
       "    <tr>\n",
       "      <th>4</th>\n",
       "      <td>307</td>\n",
       "      <td>48.0</td>\n",
       "      <td>2015.0</td>\n",
       "      <td>david-cobb-1</td>\n",
       "      <td>David Cobb</td>\n",
       "      <td>RB</td>\n",
       "      <td>Minnesota</td>\n",
       "      <td>71.0</td>\n",
       "      <td>229.0</td>\n",
       "      <td>4.81</td>\n",
       "      <td>...</td>\n",
       "      <td>0.0</td>\n",
       "      <td>0.0</td>\n",
       "      <td>0.0</td>\n",
       "      <td>0.0</td>\n",
       "      <td>0.0</td>\n",
       "      <td>0.0</td>\n",
       "      <td>0.0</td>\n",
       "      <td>00-0032133</td>\n",
       "      <td>2016</td>\n",
       "      <td>2017</td>\n",
       "    </tr>\n",
       "    <tr>\n",
       "      <th>...</th>\n",
       "      <td>...</td>\n",
       "      <td>...</td>\n",
       "      <td>...</td>\n",
       "      <td>...</td>\n",
       "      <td>...</td>\n",
       "      <td>...</td>\n",
       "      <td>...</td>\n",
       "      <td>...</td>\n",
       "      <td>...</td>\n",
       "      <td>...</td>\n",
       "      <td>...</td>\n",
       "      <td>...</td>\n",
       "      <td>...</td>\n",
       "      <td>...</td>\n",
       "      <td>...</td>\n",
       "      <td>...</td>\n",
       "      <td>...</td>\n",
       "      <td>...</td>\n",
       "      <td>...</td>\n",
       "      <td>...</td>\n",
       "      <td>...</td>\n",
       "    </tr>\n",
       "    <tr>\n",
       "      <th>572</th>\n",
       "      <td>1558</td>\n",
       "      <td>1441.0</td>\n",
       "      <td>2019.0</td>\n",
       "      <td>david-long-3</td>\n",
       "      <td>David Long</td>\n",
       "      <td>CB</td>\n",
       "      <td>Michigan</td>\n",
       "      <td>71.0</td>\n",
       "      <td>196.0</td>\n",
       "      <td>4.45</td>\n",
       "      <td>...</td>\n",
       "      <td>0.0</td>\n",
       "      <td>0.0</td>\n",
       "      <td>0.0</td>\n",
       "      <td>0.0</td>\n",
       "      <td>0.0</td>\n",
       "      <td>0.0</td>\n",
       "      <td>0.0</td>\n",
       "      <td>00-0035665</td>\n",
       "      <td>2020</td>\n",
       "      <td>2021</td>\n",
       "    </tr>\n",
       "    <tr>\n",
       "      <th>573</th>\n",
       "      <td>2069</td>\n",
       "      <td>1967.0</td>\n",
       "      <td>2021.0</td>\n",
       "      <td>brandin-echols-1</td>\n",
       "      <td>Brandin Echols</td>\n",
       "      <td>CB</td>\n",
       "      <td>Kentucky</td>\n",
       "      <td>70.0</td>\n",
       "      <td>179.0</td>\n",
       "      <td>4.34</td>\n",
       "      <td>...</td>\n",
       "      <td>2.0</td>\n",
       "      <td>1.0</td>\n",
       "      <td>5.0</td>\n",
       "      <td>73.0</td>\n",
       "      <td>47.0</td>\n",
       "      <td>600.0</td>\n",
       "      <td>1.0</td>\n",
       "      <td>00-0036504</td>\n",
       "      <td>2022</td>\n",
       "      <td>2023</td>\n",
       "    </tr>\n",
       "    <tr>\n",
       "      <th>574</th>\n",
       "      <td>2339</td>\n",
       "      <td>2239.0</td>\n",
       "      <td>2021.0</td>\n",
       "      <td>avery-williams-6</td>\n",
       "      <td>Avery Williams</td>\n",
       "      <td>CB</td>\n",
       "      <td>Boise St.</td>\n",
       "      <td>68.0</td>\n",
       "      <td>187.0</td>\n",
       "      <td>4.43</td>\n",
       "      <td>...</td>\n",
       "      <td>0.0</td>\n",
       "      <td>0.0</td>\n",
       "      <td>0.0</td>\n",
       "      <td>15.0</td>\n",
       "      <td>12.0</td>\n",
       "      <td>109.0</td>\n",
       "      <td>1.0</td>\n",
       "      <td>00-0036950</td>\n",
       "      <td>2022</td>\n",
       "      <td>2023</td>\n",
       "    </tr>\n",
       "    <tr>\n",
       "      <th>575</th>\n",
       "      <td>2352</td>\n",
       "      <td>2253.0</td>\n",
       "      <td>2021.0</td>\n",
       "      <td>nahshon-wright-1</td>\n",
       "      <td>Nahshon Wright</td>\n",
       "      <td>CB</td>\n",
       "      <td>Oregon St.</td>\n",
       "      <td>76.0</td>\n",
       "      <td>183.0</td>\n",
       "      <td>4.46</td>\n",
       "      <td>...</td>\n",
       "      <td>0.0</td>\n",
       "      <td>0.0</td>\n",
       "      <td>0.0</td>\n",
       "      <td>8.0</td>\n",
       "      <td>5.0</td>\n",
       "      <td>81.0</td>\n",
       "      <td>0.0</td>\n",
       "      <td>00-0036986</td>\n",
       "      <td>2022</td>\n",
       "      <td>2023</td>\n",
       "    </tr>\n",
       "    <tr>\n",
       "      <th>576</th>\n",
       "      <td>2491</td>\n",
       "      <td>2400.0</td>\n",
       "      <td>2022.0</td>\n",
       "      <td>marcus-jones-11</td>\n",
       "      <td>Marcus Jones</td>\n",
       "      <td>CB</td>\n",
       "      <td>Houston</td>\n",
       "      <td>68.0</td>\n",
       "      <td>174.0</td>\n",
       "      <td>4.48</td>\n",
       "      <td>...</td>\n",
       "      <td>2.0</td>\n",
       "      <td>1.0</td>\n",
       "      <td>4.0</td>\n",
       "      <td>37.0</td>\n",
       "      <td>24.0</td>\n",
       "      <td>365.0</td>\n",
       "      <td>1.0</td>\n",
       "      <td>00-0037253</td>\n",
       "      <td>2023</td>\n",
       "      <td>2024</td>\n",
       "    </tr>\n",
       "  </tbody>\n",
       "</table>\n",
       "<p>577 rows × 488 columns</p>\n",
       "</div>"
      ],
      "text/plain": [
       "     Unnamed: 0   index  season                 cfb_id          player_name  \\\n",
       "0             0     0.0  2015.0       ameer-abdullah-1       Ameer Abdullah   \n",
       "1             2     2.0  2015.0            jay-ajayi-1            Jay Ajayi   \n",
       "2             5     5.0  2015.0       javorius-allen-1       Javorius Allen   \n",
       "3            12    12.0  2015.0  cameron-artis-payne-1  Cameron Artis-Payne   \n",
       "4           307    48.0  2015.0           david-cobb-1           David Cobb   \n",
       "..          ...     ...     ...                    ...                  ...   \n",
       "572        1558  1441.0  2019.0           david-long-3           David Long   \n",
       "573        2069  1967.0  2021.0       brandin-echols-1       Brandin Echols   \n",
       "574        2339  2239.0  2021.0       avery-williams-6       Avery Williams   \n",
       "575        2352  2253.0  2021.0       nahshon-wright-1       Nahshon Wright   \n",
       "576        2491  2400.0  2022.0        marcus-jones-11         Marcus Jones   \n",
       "\n",
       "    pos       school    ht     wt  forty  ...  defensive_interceptions  \\\n",
       "0    RB     Nebraska  69.0  205.0   4.60  ...                      0.0   \n",
       "1    RB  Boise State  72.0  221.0   4.57  ...                      0.0   \n",
       "2    RB          USC  72.0  221.0   4.53  ...                      0.0   \n",
       "3    RB       Auburn  70.0  212.0   4.53  ...                      0.0   \n",
       "4    RB    Minnesota  71.0  229.0   4.81  ...                      0.0   \n",
       "..   ..          ...   ...    ...    ...  ...                      ...   \n",
       "572  CB     Michigan  71.0  196.0   4.45  ...                      0.0   \n",
       "573  CB     Kentucky  70.0  179.0   4.34  ...                      2.0   \n",
       "574  CB    Boise St.  68.0  187.0   4.43  ...                      0.0   \n",
       "575  CB   Oregon St.  76.0  183.0   4.46  ...                      0.0   \n",
       "576  CB      Houston  68.0  174.0   4.48  ...                      2.0   \n",
       "\n",
       "     defensive_interception_touchdowns  pass_break_ups  coverage_targets  \\\n",
       "0                                  0.0             0.0               0.0   \n",
       "1                                  0.0             0.0               0.0   \n",
       "2                                  0.0             0.0               0.0   \n",
       "3                                  0.0             0.0               0.0   \n",
       "4                                  0.0             0.0               0.0   \n",
       "..                                 ...             ...               ...   \n",
       "572                                0.0             0.0               0.0   \n",
       "573                                1.0             5.0              73.0   \n",
       "574                                0.0             0.0              15.0   \n",
       "575                                0.0             0.0               8.0   \n",
       "576                                1.0             4.0              37.0   \n",
       "\n",
       "     allowed_recpetions  allowed_passing_yards  allowed_passing_touchdowns  \\\n",
       "0                   0.0                    0.0                         0.0   \n",
       "1                   0.0                    0.0                         0.0   \n",
       "2                   0.0                    0.0                         0.0   \n",
       "3                   0.0                    0.0                         0.0   \n",
       "4                   0.0                    0.0                         0.0   \n",
       "..                  ...                    ...                         ...   \n",
       "572                 0.0                    0.0                         0.0   \n",
       "573                47.0                  600.0                         1.0   \n",
       "574                12.0                  109.0                         1.0   \n",
       "575                 5.0                   81.0                         0.0   \n",
       "576                24.0                  365.0                         1.0   \n",
       "\n",
       "      gsis_id_y  2nd_season 3rd_season  \n",
       "0    00-0032104        2016       2017  \n",
       "1    00-0031590        2016       2017  \n",
       "2    00-0031577        2016       2017  \n",
       "3    00-0031599        2016       2017  \n",
       "4    00-0032133        2016       2017  \n",
       "..          ...         ...        ...  \n",
       "572  00-0035665        2020       2021  \n",
       "573  00-0036504        2022       2023  \n",
       "574  00-0036950        2022       2023  \n",
       "575  00-0036986        2022       2023  \n",
       "576  00-0037253        2023       2024  \n",
       "\n",
       "[577 rows x 488 columns]"
      ]
     },
     "execution_count": 227,
     "metadata": {},
     "output_type": "execute_result"
    }
   ],
   "source": [
    "college_profile_df = college_profile_df.loc[:, ~college_profile_df.columns.str.contains(\"_y_pred_gbf\")]\n",
    "college_profile_df"
   ]
  },
  {
   "cell_type": "code",
   "execution_count": 228,
   "id": "ac77d2ba",
   "metadata": {},
   "outputs": [
    {
     "data": {
      "text/html": [
       "<div>\n",
       "<style scoped>\n",
       "    .dataframe tbody tr th:only-of-type {\n",
       "        vertical-align: middle;\n",
       "    }\n",
       "\n",
       "    .dataframe tbody tr th {\n",
       "        vertical-align: top;\n",
       "    }\n",
       "\n",
       "    .dataframe thead th {\n",
       "        text-align: right;\n",
       "    }\n",
       "</style>\n",
       "<table border=\"1\" class=\"dataframe\">\n",
       "  <thead>\n",
       "    <tr style=\"text-align: right;\">\n",
       "      <th></th>\n",
       "      <th>Unnamed: 0</th>\n",
       "      <th>index</th>\n",
       "      <th>season</th>\n",
       "      <th>cfb_id</th>\n",
       "      <th>player_name</th>\n",
       "      <th>pos</th>\n",
       "      <th>school</th>\n",
       "      <th>ht</th>\n",
       "      <th>wt</th>\n",
       "      <th>forty</th>\n",
       "      <th>...</th>\n",
       "      <th>coverage_targets</th>\n",
       "      <th>allowed_recpetions</th>\n",
       "      <th>allowed_passing_yards</th>\n",
       "      <th>allowed_passing_touchdowns</th>\n",
       "      <th>gsis_id_y</th>\n",
       "      <th>2nd_season</th>\n",
       "      <th>3rd_season</th>\n",
       "      <th>player_id_1st_season</th>\n",
       "      <th>player_id_2nd_season</th>\n",
       "      <th>player_id_3rd_season</th>\n",
       "    </tr>\n",
       "  </thead>\n",
       "  <tbody>\n",
       "    <tr>\n",
       "      <th>0</th>\n",
       "      <td>0</td>\n",
       "      <td>0.0</td>\n",
       "      <td>2015</td>\n",
       "      <td>ameer-abdullah-1</td>\n",
       "      <td>Ameer Abdullah</td>\n",
       "      <td>RB</td>\n",
       "      <td>Nebraska</td>\n",
       "      <td>69.0</td>\n",
       "      <td>205.0</td>\n",
       "      <td>4.600</td>\n",
       "      <td>...</td>\n",
       "      <td>0.0</td>\n",
       "      <td>0.0</td>\n",
       "      <td>0.0</td>\n",
       "      <td>0.0</td>\n",
       "      <td>00-0032104</td>\n",
       "      <td>2016</td>\n",
       "      <td>2017</td>\n",
       "      <td>00-0032104_2015</td>\n",
       "      <td>00-0032104_2016</td>\n",
       "      <td>00-0032104_2017</td>\n",
       "    </tr>\n",
       "    <tr>\n",
       "      <th>152</th>\n",
       "      <td>354</td>\n",
       "      <td>105.0</td>\n",
       "      <td>2015</td>\n",
       "      <td>devin-funchess-1</td>\n",
       "      <td>Devin Funchess</td>\n",
       "      <td>WR</td>\n",
       "      <td>Michigan</td>\n",
       "      <td>76.0</td>\n",
       "      <td>232.0</td>\n",
       "      <td>4.700</td>\n",
       "      <td>...</td>\n",
       "      <td>0.0</td>\n",
       "      <td>0.0</td>\n",
       "      <td>0.0</td>\n",
       "      <td>0.0</td>\n",
       "      <td>00-0032055</td>\n",
       "      <td>2016</td>\n",
       "      <td>2017</td>\n",
       "      <td>00-0032055_2015</td>\n",
       "      <td>00-0032055_2016</td>\n",
       "      <td>00-0032055_2017</td>\n",
       "    </tr>\n",
       "    <tr>\n",
       "      <th>151</th>\n",
       "      <td>335</td>\n",
       "      <td>83.0</td>\n",
       "      <td>2015</td>\n",
       "      <td>phillip-dorsett-1</td>\n",
       "      <td>Phillip Dorsett</td>\n",
       "      <td>WR</td>\n",
       "      <td>Miami (FL)</td>\n",
       "      <td>70.0</td>\n",
       "      <td>185.0</td>\n",
       "      <td>4.330</td>\n",
       "      <td>...</td>\n",
       "      <td>0.0</td>\n",
       "      <td>0.0</td>\n",
       "      <td>0.0</td>\n",
       "      <td>0.0</td>\n",
       "      <td>00-0032208</td>\n",
       "      <td>2016</td>\n",
       "      <td>2017</td>\n",
       "      <td>00-0032208_2015</td>\n",
       "      <td>00-0032208_2016</td>\n",
       "      <td>00-0032208_2017</td>\n",
       "    </tr>\n",
       "    <tr>\n",
       "      <th>150</th>\n",
       "      <td>332</td>\n",
       "      <td>80.0</td>\n",
       "      <td>2015</td>\n",
       "      <td>stefon-diggs-1</td>\n",
       "      <td>Stefon Diggs</td>\n",
       "      <td>WR</td>\n",
       "      <td>Maryland</td>\n",
       "      <td>72.0</td>\n",
       "      <td>195.0</td>\n",
       "      <td>4.460</td>\n",
       "      <td>...</td>\n",
       "      <td>0.0</td>\n",
       "      <td>0.0</td>\n",
       "      <td>0.0</td>\n",
       "      <td>0.0</td>\n",
       "      <td>00-0031588</td>\n",
       "      <td>2016</td>\n",
       "      <td>2017</td>\n",
       "      <td>00-0031588_2015</td>\n",
       "      <td>00-0031588_2016</td>\n",
       "      <td>00-0031588_2017</td>\n",
       "    </tr>\n",
       "    <tr>\n",
       "      <th>149</th>\n",
       "      <td>324</td>\n",
       "      <td>70.0</td>\n",
       "      <td>2015</td>\n",
       "      <td>geremy-davis-1</td>\n",
       "      <td>Geremy Davis</td>\n",
       "      <td>WR</td>\n",
       "      <td>Connecticut</td>\n",
       "      <td>74.0</td>\n",
       "      <td>216.0</td>\n",
       "      <td>4.490</td>\n",
       "      <td>...</td>\n",
       "      <td>0.0</td>\n",
       "      <td>0.0</td>\n",
       "      <td>0.0</td>\n",
       "      <td>0.0</td>\n",
       "      <td>00-0031953</td>\n",
       "      <td>2016</td>\n",
       "      <td>2017</td>\n",
       "      <td>00-0031953_2015</td>\n",
       "      <td>00-0031953_2016</td>\n",
       "      <td>00-0031953_2017</td>\n",
       "    </tr>\n",
       "    <tr>\n",
       "      <th>...</th>\n",
       "      <td>...</td>\n",
       "      <td>...</td>\n",
       "      <td>...</td>\n",
       "      <td>...</td>\n",
       "      <td>...</td>\n",
       "      <td>...</td>\n",
       "      <td>...</td>\n",
       "      <td>...</td>\n",
       "      <td>...</td>\n",
       "      <td>...</td>\n",
       "      <td>...</td>\n",
       "      <td>...</td>\n",
       "      <td>...</td>\n",
       "      <td>...</td>\n",
       "      <td>...</td>\n",
       "      <td>...</td>\n",
       "      <td>...</td>\n",
       "      <td>...</td>\n",
       "      <td>...</td>\n",
       "      <td>...</td>\n",
       "      <td>...</td>\n",
       "    </tr>\n",
       "    <tr>\n",
       "      <th>362</th>\n",
       "      <td>2810</td>\n",
       "      <td>2762.0</td>\n",
       "      <td>2023</td>\n",
       "      <td>jonathan-mingo-1</td>\n",
       "      <td>Jonathan Mingo</td>\n",
       "      <td>WR</td>\n",
       "      <td>Mississippi</td>\n",
       "      <td>74.0</td>\n",
       "      <td>220.0</td>\n",
       "      <td>4.460</td>\n",
       "      <td>...</td>\n",
       "      <td>0.0</td>\n",
       "      <td>0.0</td>\n",
       "      <td>0.0</td>\n",
       "      <td>0.0</td>\n",
       "      <td>00-0039062</td>\n",
       "      <td>2024</td>\n",
       "      <td>2025</td>\n",
       "      <td>00-0039062_2023</td>\n",
       "      <td>00-0039062_2024</td>\n",
       "      <td>00-0039062_2025</td>\n",
       "    </tr>\n",
       "    <tr>\n",
       "      <th>361</th>\n",
       "      <td>2809</td>\n",
       "      <td>2761.0</td>\n",
       "      <td>2023</td>\n",
       "      <td>marvin-mims-1</td>\n",
       "      <td>Marvin Mims</td>\n",
       "      <td>WR</td>\n",
       "      <td>Oklahoma</td>\n",
       "      <td>71.0</td>\n",
       "      <td>183.0</td>\n",
       "      <td>4.380</td>\n",
       "      <td>...</td>\n",
       "      <td>0.0</td>\n",
       "      <td>0.0</td>\n",
       "      <td>0.0</td>\n",
       "      <td>0.0</td>\n",
       "      <td>00-0038976</td>\n",
       "      <td>2024</td>\n",
       "      <td>2025</td>\n",
       "      <td>00-0038976_2023</td>\n",
       "      <td>00-0038976_2024</td>\n",
       "      <td>00-0038976_2025</td>\n",
       "    </tr>\n",
       "    <tr>\n",
       "      <th>359</th>\n",
       "      <td>2765</td>\n",
       "      <td>2708.0</td>\n",
       "      <td>2023</td>\n",
       "      <td>quentin-johnston-1</td>\n",
       "      <td>Quentin Johnston</td>\n",
       "      <td>WR</td>\n",
       "      <td>TCU</td>\n",
       "      <td>75.0</td>\n",
       "      <td>208.0</td>\n",
       "      <td>4.505</td>\n",
       "      <td>...</td>\n",
       "      <td>0.0</td>\n",
       "      <td>0.0</td>\n",
       "      <td>0.0</td>\n",
       "      <td>0.0</td>\n",
       "      <td>00-0038544</td>\n",
       "      <td>2024</td>\n",
       "      <td>2025</td>\n",
       "      <td>00-0038544_2023</td>\n",
       "      <td>00-0038544_2024</td>\n",
       "      <td>00-0038544_2025</td>\n",
       "    </tr>\n",
       "    <tr>\n",
       "      <th>373</th>\n",
       "      <td>2905</td>\n",
       "      <td>2864.0</td>\n",
       "      <td>2023</td>\n",
       "      <td>dontayvion-wicks-1</td>\n",
       "      <td>Dontayvion Wicks</td>\n",
       "      <td>WR</td>\n",
       "      <td>Virginia</td>\n",
       "      <td>73.0</td>\n",
       "      <td>206.0</td>\n",
       "      <td>4.620</td>\n",
       "      <td>...</td>\n",
       "      <td>0.0</td>\n",
       "      <td>0.0</td>\n",
       "      <td>0.0</td>\n",
       "      <td>0.0</td>\n",
       "      <td>00-0038393</td>\n",
       "      <td>2024</td>\n",
       "      <td>2025</td>\n",
       "      <td>00-0038393_2023</td>\n",
       "      <td>00-0038393_2024</td>\n",
       "      <td>00-0038393_2025</td>\n",
       "    </tr>\n",
       "    <tr>\n",
       "      <th>478</th>\n",
       "      <td>2818</td>\n",
       "      <td>2772.0</td>\n",
       "      <td>2023</td>\n",
       "      <td>luke-musgrave-1</td>\n",
       "      <td>Luke Musgrave</td>\n",
       "      <td>TE</td>\n",
       "      <td>Oregon St.</td>\n",
       "      <td>78.0</td>\n",
       "      <td>253.0</td>\n",
       "      <td>4.750</td>\n",
       "      <td>...</td>\n",
       "      <td>0.0</td>\n",
       "      <td>0.0</td>\n",
       "      <td>0.0</td>\n",
       "      <td>0.0</td>\n",
       "      <td>00-0039144</td>\n",
       "      <td>2024</td>\n",
       "      <td>2025</td>\n",
       "      <td>00-0039144_2023</td>\n",
       "      <td>00-0039144_2024</td>\n",
       "      <td>00-0039144_2025</td>\n",
       "    </tr>\n",
       "  </tbody>\n",
       "</table>\n",
       "<p>577 rows × 491 columns</p>\n",
       "</div>"
      ],
      "text/plain": [
       "     Unnamed: 0   index  season              cfb_id       player_name pos  \\\n",
       "0             0     0.0    2015    ameer-abdullah-1    Ameer Abdullah  RB   \n",
       "152         354   105.0    2015    devin-funchess-1    Devin Funchess  WR   \n",
       "151         335    83.0    2015   phillip-dorsett-1   Phillip Dorsett  WR   \n",
       "150         332    80.0    2015      stefon-diggs-1      Stefon Diggs  WR   \n",
       "149         324    70.0    2015      geremy-davis-1      Geremy Davis  WR   \n",
       "..          ...     ...     ...                 ...               ...  ..   \n",
       "362        2810  2762.0    2023    jonathan-mingo-1    Jonathan Mingo  WR   \n",
       "361        2809  2761.0    2023       marvin-mims-1       Marvin Mims  WR   \n",
       "359        2765  2708.0    2023  quentin-johnston-1  Quentin Johnston  WR   \n",
       "373        2905  2864.0    2023  dontayvion-wicks-1  Dontayvion Wicks  WR   \n",
       "478        2818  2772.0    2023     luke-musgrave-1     Luke Musgrave  TE   \n",
       "\n",
       "          school    ht     wt  forty  ...  coverage_targets  \\\n",
       "0       Nebraska  69.0  205.0  4.600  ...               0.0   \n",
       "152     Michigan  76.0  232.0  4.700  ...               0.0   \n",
       "151   Miami (FL)  70.0  185.0  4.330  ...               0.0   \n",
       "150     Maryland  72.0  195.0  4.460  ...               0.0   \n",
       "149  Connecticut  74.0  216.0  4.490  ...               0.0   \n",
       "..           ...   ...    ...    ...  ...               ...   \n",
       "362  Mississippi  74.0  220.0  4.460  ...               0.0   \n",
       "361     Oklahoma  71.0  183.0  4.380  ...               0.0   \n",
       "359          TCU  75.0  208.0  4.505  ...               0.0   \n",
       "373     Virginia  73.0  206.0  4.620  ...               0.0   \n",
       "478   Oregon St.  78.0  253.0  4.750  ...               0.0   \n",
       "\n",
       "     allowed_recpetions  allowed_passing_yards  allowed_passing_touchdowns  \\\n",
       "0                   0.0                    0.0                         0.0   \n",
       "152                 0.0                    0.0                         0.0   \n",
       "151                 0.0                    0.0                         0.0   \n",
       "150                 0.0                    0.0                         0.0   \n",
       "149                 0.0                    0.0                         0.0   \n",
       "..                  ...                    ...                         ...   \n",
       "362                 0.0                    0.0                         0.0   \n",
       "361                 0.0                    0.0                         0.0   \n",
       "359                 0.0                    0.0                         0.0   \n",
       "373                 0.0                    0.0                         0.0   \n",
       "478                 0.0                    0.0                         0.0   \n",
       "\n",
       "      gsis_id_y  2nd_season  3rd_season player_id_1st_season  \\\n",
       "0    00-0032104        2016        2017      00-0032104_2015   \n",
       "152  00-0032055        2016        2017      00-0032055_2015   \n",
       "151  00-0032208        2016        2017      00-0032208_2015   \n",
       "150  00-0031588        2016        2017      00-0031588_2015   \n",
       "149  00-0031953        2016        2017      00-0031953_2015   \n",
       "..          ...         ...         ...                  ...   \n",
       "362  00-0039062        2024        2025      00-0039062_2023   \n",
       "361  00-0038976        2024        2025      00-0038976_2023   \n",
       "359  00-0038544        2024        2025      00-0038544_2023   \n",
       "373  00-0038393        2024        2025      00-0038393_2023   \n",
       "478  00-0039144        2024        2025      00-0039144_2023   \n",
       "\n",
       "     player_id_2nd_season player_id_3rd_season  \n",
       "0         00-0032104_2016      00-0032104_2017  \n",
       "152       00-0032055_2016      00-0032055_2017  \n",
       "151       00-0032208_2016      00-0032208_2017  \n",
       "150       00-0031588_2016      00-0031588_2017  \n",
       "149       00-0031953_2016      00-0031953_2017  \n",
       "..                    ...                  ...  \n",
       "362       00-0039062_2024      00-0039062_2025  \n",
       "361       00-0038976_2024      00-0038976_2025  \n",
       "359       00-0038544_2024      00-0038544_2025  \n",
       "373       00-0038393_2024      00-0038393_2025  \n",
       "478       00-0039144_2024      00-0039144_2025  \n",
       "\n",
       "[577 rows x 491 columns]"
      ]
     },
     "execution_count": 228,
     "metadata": {},
     "output_type": "execute_result"
    }
   ],
   "source": [
    "college_profile_df['season'] = college_profile_df['season'].astype('int')\n",
    "\n",
    "college_profile_df['player_id_1st_season'] = college_profile_df['player_id'] + \"_\" + college_profile_df['season'].astype('str')\n",
    "college_profile_df['player_id_2nd_season'] = college_profile_df['player_id'] + \"_\" + college_profile_df['2nd_season'].astype('str')\n",
    "college_profile_df['player_id_3rd_season'] = college_profile_df['player_id'] + \"_\" + college_profile_df['3rd_season'].astype('str')\n",
    "college_profile_df = college_profile_df.sort_values(by='season')\n",
    "\n",
    "college_profile_df"
   ]
  },
  {
   "cell_type": "code",
   "execution_count": 229,
   "id": "a873ffe0",
   "metadata": {},
   "outputs": [
    {
     "data": {
      "text/html": [
       "<div>\n",
       "<style scoped>\n",
       "    .dataframe tbody tr th:only-of-type {\n",
       "        vertical-align: middle;\n",
       "    }\n",
       "\n",
       "    .dataframe tbody tr th {\n",
       "        vertical-align: top;\n",
       "    }\n",
       "\n",
       "    .dataframe thead th {\n",
       "        text-align: right;\n",
       "    }\n",
       "</style>\n",
       "<table border=\"1\" class=\"dataframe\">\n",
       "  <thead>\n",
       "    <tr style=\"text-align: right;\">\n",
       "      <th></th>\n",
       "      <th>player_id</th>\n",
       "      <th>season</th>\n",
       "      <th>season_type</th>\n",
       "      <th>completions</th>\n",
       "      <th>attempts</th>\n",
       "      <th>passing_yards</th>\n",
       "      <th>passing_tds</th>\n",
       "      <th>interceptions</th>\n",
       "      <th>sacks</th>\n",
       "      <th>sack_yards</th>\n",
       "      <th>...</th>\n",
       "      <th>wopr_y</th>\n",
       "      <th>ry_sh</th>\n",
       "      <th>rtd_sh</th>\n",
       "      <th>rfd_sh</th>\n",
       "      <th>rtdfd_sh</th>\n",
       "      <th>dom</th>\n",
       "      <th>w8dom</th>\n",
       "      <th>yptmpa</th>\n",
       "      <th>ppr_sh</th>\n",
       "      <th>player_id_season</th>\n",
       "    </tr>\n",
       "  </thead>\n",
       "  <tbody>\n",
       "    <tr>\n",
       "      <th>0</th>\n",
       "      <td>00-0007091</td>\n",
       "      <td>2015</td>\n",
       "      <td>REG</td>\n",
       "      <td>156</td>\n",
       "      <td>256</td>\n",
       "      <td>1690.0</td>\n",
       "      <td>9</td>\n",
       "      <td>5.0</td>\n",
       "      <td>16.0</td>\n",
       "      <td>101.0</td>\n",
       "      <td>...</td>\n",
       "      <td>0.000000</td>\n",
       "      <td>0.000000</td>\n",
       "      <td>0.0</td>\n",
       "      <td>0.000000</td>\n",
       "      <td>0.000000</td>\n",
       "      <td>0.000000</td>\n",
       "      <td>0.000000</td>\n",
       "      <td>0.000000</td>\n",
       "      <td>0.159657</td>\n",
       "      <td>00-0007091_2015</td>\n",
       "    </tr>\n",
       "    <tr>\n",
       "      <th>1</th>\n",
       "      <td>00-0010346</td>\n",
       "      <td>2015</td>\n",
       "      <td>REG</td>\n",
       "      <td>198</td>\n",
       "      <td>331</td>\n",
       "      <td>2249.0</td>\n",
       "      <td>9</td>\n",
       "      <td>17.0</td>\n",
       "      <td>16.0</td>\n",
       "      <td>95.0</td>\n",
       "      <td>...</td>\n",
       "      <td>0.000000</td>\n",
       "      <td>0.000000</td>\n",
       "      <td>0.0</td>\n",
       "      <td>0.000000</td>\n",
       "      <td>0.000000</td>\n",
       "      <td>0.000000</td>\n",
       "      <td>0.000000</td>\n",
       "      <td>0.000000</td>\n",
       "      <td>0.113044</td>\n",
       "      <td>00-0010346_2015</td>\n",
       "    </tr>\n",
       "    <tr>\n",
       "      <th>2</th>\n",
       "      <td>00-0018227</td>\n",
       "      <td>2015</td>\n",
       "      <td>REG</td>\n",
       "      <td>0</td>\n",
       "      <td>0</td>\n",
       "      <td>0.0</td>\n",
       "      <td>0</td>\n",
       "      <td>0.0</td>\n",
       "      <td>0.0</td>\n",
       "      <td>0.0</td>\n",
       "      <td>...</td>\n",
       "      <td>0.000000</td>\n",
       "      <td>0.000000</td>\n",
       "      <td>0.0</td>\n",
       "      <td>0.000000</td>\n",
       "      <td>0.000000</td>\n",
       "      <td>0.000000</td>\n",
       "      <td>0.000000</td>\n",
       "      <td>0.000000</td>\n",
       "      <td>-0.003743</td>\n",
       "      <td>00-0018227_2015</td>\n",
       "    </tr>\n",
       "    <tr>\n",
       "      <th>3</th>\n",
       "      <td>00-0019596</td>\n",
       "      <td>2015</td>\n",
       "      <td>REG</td>\n",
       "      <td>402</td>\n",
       "      <td>624</td>\n",
       "      <td>4770.0</td>\n",
       "      <td>36</td>\n",
       "      <td>7.0</td>\n",
       "      <td>38.0</td>\n",
       "      <td>225.0</td>\n",
       "      <td>...</td>\n",
       "      <td>0.003519</td>\n",
       "      <td>0.007481</td>\n",
       "      <td>0.0</td>\n",
       "      <td>0.004367</td>\n",
       "      <td>0.003774</td>\n",
       "      <td>0.003741</td>\n",
       "      <td>0.005985</td>\n",
       "      <td>0.057234</td>\n",
       "      <td>0.210173</td>\n",
       "      <td>00-0019596_2015</td>\n",
       "    </tr>\n",
       "    <tr>\n",
       "      <th>4</th>\n",
       "      <td>00-0019596</td>\n",
       "      <td>2016</td>\n",
       "      <td>REG</td>\n",
       "      <td>291</td>\n",
       "      <td>432</td>\n",
       "      <td>3554.0</td>\n",
       "      <td>28</td>\n",
       "      <td>2.0</td>\n",
       "      <td>15.0</td>\n",
       "      <td>87.0</td>\n",
       "      <td>...</td>\n",
       "      <td>0.000000</td>\n",
       "      <td>0.000000</td>\n",
       "      <td>0.0</td>\n",
       "      <td>0.000000</td>\n",
       "      <td>0.000000</td>\n",
       "      <td>0.000000</td>\n",
       "      <td>0.000000</td>\n",
       "      <td>0.000000</td>\n",
       "      <td>0.201465</td>\n",
       "      <td>00-0019596_2016</td>\n",
       "    </tr>\n",
       "    <tr>\n",
       "      <th>...</th>\n",
       "      <td>...</td>\n",
       "      <td>...</td>\n",
       "      <td>...</td>\n",
       "      <td>...</td>\n",
       "      <td>...</td>\n",
       "      <td>...</td>\n",
       "      <td>...</td>\n",
       "      <td>...</td>\n",
       "      <td>...</td>\n",
       "      <td>...</td>\n",
       "      <td>...</td>\n",
       "      <td>...</td>\n",
       "      <td>...</td>\n",
       "      <td>...</td>\n",
       "      <td>...</td>\n",
       "      <td>...</td>\n",
       "      <td>...</td>\n",
       "      <td>...</td>\n",
       "      <td>...</td>\n",
       "      <td>...</td>\n",
       "      <td>...</td>\n",
       "    </tr>\n",
       "    <tr>\n",
       "      <th>5486</th>\n",
       "      <td>00-0039150</td>\n",
       "      <td>2023</td>\n",
       "      <td>REG</td>\n",
       "      <td>315</td>\n",
       "      <td>527</td>\n",
       "      <td>2877.0</td>\n",
       "      <td>11</td>\n",
       "      <td>10.0</td>\n",
       "      <td>62.0</td>\n",
       "      <td>477.0</td>\n",
       "      <td>...</td>\n",
       "      <td>0.000000</td>\n",
       "      <td>0.000000</td>\n",
       "      <td>0.0</td>\n",
       "      <td>0.000000</td>\n",
       "      <td>0.000000</td>\n",
       "      <td>0.000000</td>\n",
       "      <td>0.000000</td>\n",
       "      <td>0.000000</td>\n",
       "      <td>0.154486</td>\n",
       "      <td>00-0039150_2023</td>\n",
       "    </tr>\n",
       "    <tr>\n",
       "      <th>5487</th>\n",
       "      <td>00-0039152</td>\n",
       "      <td>2023</td>\n",
       "      <td>REG</td>\n",
       "      <td>149</td>\n",
       "      <td>255</td>\n",
       "      <td>1808.0</td>\n",
       "      <td>8</td>\n",
       "      <td>4.0</td>\n",
       "      <td>28.0</td>\n",
       "      <td>185.0</td>\n",
       "      <td>...</td>\n",
       "      <td>0.000000</td>\n",
       "      <td>0.000000</td>\n",
       "      <td>0.0</td>\n",
       "      <td>0.000000</td>\n",
       "      <td>0.000000</td>\n",
       "      <td>0.000000</td>\n",
       "      <td>0.000000</td>\n",
       "      <td>0.000000</td>\n",
       "      <td>0.159821</td>\n",
       "      <td>00-0039152_2023</td>\n",
       "    </tr>\n",
       "    <tr>\n",
       "      <th>5488</th>\n",
       "      <td>00-0039163</td>\n",
       "      <td>2023</td>\n",
       "      <td>REG</td>\n",
       "      <td>319</td>\n",
       "      <td>499</td>\n",
       "      <td>4108.0</td>\n",
       "      <td>23</td>\n",
       "      <td>5.0</td>\n",
       "      <td>38.0</td>\n",
       "      <td>331.0</td>\n",
       "      <td>...</td>\n",
       "      <td>0.002783</td>\n",
       "      <td>0.000000</td>\n",
       "      <td>0.0</td>\n",
       "      <td>0.000000</td>\n",
       "      <td>0.000000</td>\n",
       "      <td>0.000000</td>\n",
       "      <td>0.000000</td>\n",
       "      <td>0.000000</td>\n",
       "      <td>0.206779</td>\n",
       "      <td>00-0039163_2023</td>\n",
       "    </tr>\n",
       "    <tr>\n",
       "      <th>5489</th>\n",
       "      <td>00-0039164</td>\n",
       "      <td>2023</td>\n",
       "      <td>REG</td>\n",
       "      <td>50</td>\n",
       "      <td>84</td>\n",
       "      <td>577.0</td>\n",
       "      <td>3</td>\n",
       "      <td>1.0</td>\n",
       "      <td>7.0</td>\n",
       "      <td>29.0</td>\n",
       "      <td>...</td>\n",
       "      <td>0.000000</td>\n",
       "      <td>0.000000</td>\n",
       "      <td>0.0</td>\n",
       "      <td>0.000000</td>\n",
       "      <td>0.000000</td>\n",
       "      <td>0.000000</td>\n",
       "      <td>0.000000</td>\n",
       "      <td>0.000000</td>\n",
       "      <td>0.213689</td>\n",
       "      <td>00-0039164_2023</td>\n",
       "    </tr>\n",
       "    <tr>\n",
       "      <th>5490</th>\n",
       "      <td>00-0039165</td>\n",
       "      <td>2023</td>\n",
       "      <td>REG</td>\n",
       "      <td>0</td>\n",
       "      <td>0</td>\n",
       "      <td>0.0</td>\n",
       "      <td>0</td>\n",
       "      <td>0.0</td>\n",
       "      <td>0.0</td>\n",
       "      <td>0.0</td>\n",
       "      <td>...</td>\n",
       "      <td>0.100465</td>\n",
       "      <td>0.052938</td>\n",
       "      <td>0.0</td>\n",
       "      <td>0.039326</td>\n",
       "      <td>0.035176</td>\n",
       "      <td>0.026469</td>\n",
       "      <td>0.042351</td>\n",
       "      <td>0.379310</td>\n",
       "      <td>0.080979</td>\n",
       "      <td>00-0039165_2023</td>\n",
       "    </tr>\n",
       "  </tbody>\n",
       "</table>\n",
       "<p>5491 rows × 59 columns</p>\n",
       "</div>"
      ],
      "text/plain": [
       "       player_id  season season_type  completions  attempts  passing_yards  \\\n",
       "0     00-0007091    2015         REG          156       256         1690.0   \n",
       "1     00-0010346    2015         REG          198       331         2249.0   \n",
       "2     00-0018227    2015         REG            0         0            0.0   \n",
       "3     00-0019596    2015         REG          402       624         4770.0   \n",
       "4     00-0019596    2016         REG          291       432         3554.0   \n",
       "...          ...     ...         ...          ...       ...            ...   \n",
       "5486  00-0039150    2023         REG          315       527         2877.0   \n",
       "5487  00-0039152    2023         REG          149       255         1808.0   \n",
       "5488  00-0039163    2023         REG          319       499         4108.0   \n",
       "5489  00-0039164    2023         REG           50        84          577.0   \n",
       "5490  00-0039165    2023         REG            0         0            0.0   \n",
       "\n",
       "      passing_tds  interceptions  sacks  sack_yards  ...    wopr_y     ry_sh  \\\n",
       "0               9            5.0   16.0       101.0  ...  0.000000  0.000000   \n",
       "1               9           17.0   16.0        95.0  ...  0.000000  0.000000   \n",
       "2               0            0.0    0.0         0.0  ...  0.000000  0.000000   \n",
       "3              36            7.0   38.0       225.0  ...  0.003519  0.007481   \n",
       "4              28            2.0   15.0        87.0  ...  0.000000  0.000000   \n",
       "...           ...            ...    ...         ...  ...       ...       ...   \n",
       "5486           11           10.0   62.0       477.0  ...  0.000000  0.000000   \n",
       "5487            8            4.0   28.0       185.0  ...  0.000000  0.000000   \n",
       "5488           23            5.0   38.0       331.0  ...  0.002783  0.000000   \n",
       "5489            3            1.0    7.0        29.0  ...  0.000000  0.000000   \n",
       "5490            0            0.0    0.0         0.0  ...  0.100465  0.052938   \n",
       "\n",
       "      rtd_sh    rfd_sh  rtdfd_sh       dom     w8dom    yptmpa    ppr_sh  \\\n",
       "0        0.0  0.000000  0.000000  0.000000  0.000000  0.000000  0.159657   \n",
       "1        0.0  0.000000  0.000000  0.000000  0.000000  0.000000  0.113044   \n",
       "2        0.0  0.000000  0.000000  0.000000  0.000000  0.000000 -0.003743   \n",
       "3        0.0  0.004367  0.003774  0.003741  0.005985  0.057234  0.210173   \n",
       "4        0.0  0.000000  0.000000  0.000000  0.000000  0.000000  0.201465   \n",
       "...      ...       ...       ...       ...       ...       ...       ...   \n",
       "5486     0.0  0.000000  0.000000  0.000000  0.000000  0.000000  0.154486   \n",
       "5487     0.0  0.000000  0.000000  0.000000  0.000000  0.000000  0.159821   \n",
       "5488     0.0  0.000000  0.000000  0.000000  0.000000  0.000000  0.206779   \n",
       "5489     0.0  0.000000  0.000000  0.000000  0.000000  0.000000  0.213689   \n",
       "5490     0.0  0.039326  0.035176  0.026469  0.042351  0.379310  0.080979   \n",
       "\n",
       "      player_id_season  \n",
       "0      00-0007091_2015  \n",
       "1      00-0010346_2015  \n",
       "2      00-0018227_2015  \n",
       "3      00-0019596_2015  \n",
       "4      00-0019596_2016  \n",
       "...                ...  \n",
       "5486   00-0039150_2023  \n",
       "5487   00-0039152_2023  \n",
       "5488   00-0039163_2023  \n",
       "5489   00-0039164_2023  \n",
       "5490   00-0039165_2023  \n",
       "\n",
       "[5491 rows x 59 columns]"
      ]
     },
     "execution_count": 229,
     "metadata": {},
     "output_type": "execute_result"
    }
   ],
   "source": [
    "seasonal_data_df['player_id_season'] = seasonal_data_df['player_id'] + \"_\" + seasonal_data_df['season'].astype('str')\n",
    "seasonal_data_df"
   ]
  },
  {
   "cell_type": "markdown",
   "id": "e64c64cb",
   "metadata": {},
   "source": [
    "# Creating 2nd Year Projections"
   ]
  },
  {
   "cell_type": "code",
   "execution_count": 230,
   "id": "0cc3638c",
   "metadata": {},
   "outputs": [
    {
     "data": {
      "text/html": [
       "<div>\n",
       "<style scoped>\n",
       "    .dataframe tbody tr th:only-of-type {\n",
       "        vertical-align: middle;\n",
       "    }\n",
       "\n",
       "    .dataframe tbody tr th {\n",
       "        vertical-align: top;\n",
       "    }\n",
       "\n",
       "    .dataframe thead th {\n",
       "        text-align: right;\n",
       "    }\n",
       "</style>\n",
       "<table border=\"1\" class=\"dataframe\">\n",
       "  <thead>\n",
       "    <tr style=\"text-align: right;\">\n",
       "      <th></th>\n",
       "      <th>Unnamed: 0</th>\n",
       "      <th>index</th>\n",
       "      <th>season_1st_year_stats</th>\n",
       "      <th>cfb_id</th>\n",
       "      <th>player_name</th>\n",
       "      <th>pos</th>\n",
       "      <th>school</th>\n",
       "      <th>ht</th>\n",
       "      <th>wt</th>\n",
       "      <th>forty</th>\n",
       "      <th>...</th>\n",
       "      <th>wopr_y_2nd_year_stats</th>\n",
       "      <th>ry_sh_2nd_year_stats</th>\n",
       "      <th>rtd_sh_2nd_year_stats</th>\n",
       "      <th>rfd_sh_2nd_year_stats</th>\n",
       "      <th>rtdfd_sh_2nd_year_stats</th>\n",
       "      <th>dom_2nd_year_stats</th>\n",
       "      <th>w8dom_2nd_year_stats</th>\n",
       "      <th>yptmpa_2nd_year_stats</th>\n",
       "      <th>ppr_sh_2nd_year_stats</th>\n",
       "      <th>player_id_season</th>\n",
       "    </tr>\n",
       "  </thead>\n",
       "  <tbody>\n",
       "    <tr>\n",
       "      <th>0</th>\n",
       "      <td>0.0</td>\n",
       "      <td>0.0</td>\n",
       "      <td>2015.0</td>\n",
       "      <td>ameer-abdullah-1</td>\n",
       "      <td>Ameer Abdullah</td>\n",
       "      <td>RB</td>\n",
       "      <td>Nebraska</td>\n",
       "      <td>69.0</td>\n",
       "      <td>205.0</td>\n",
       "      <td>4.600</td>\n",
       "      <td>...</td>\n",
       "      <td>0.099125</td>\n",
       "      <td>0.095000</td>\n",
       "      <td>0.250000</td>\n",
       "      <td>0.129032</td>\n",
       "      <td>0.142857</td>\n",
       "      <td>0.172500</td>\n",
       "      <td>0.126000</td>\n",
       "      <td>0.721519</td>\n",
       "      <td>0.126236</td>\n",
       "      <td>00-0032104_2016</td>\n",
       "    </tr>\n",
       "    <tr>\n",
       "      <th>1</th>\n",
       "      <td>354.0</td>\n",
       "      <td>105.0</td>\n",
       "      <td>2015.0</td>\n",
       "      <td>devin-funchess-1</td>\n",
       "      <td>Devin Funchess</td>\n",
       "      <td>WR</td>\n",
       "      <td>Michigan</td>\n",
       "      <td>76.0</td>\n",
       "      <td>232.0</td>\n",
       "      <td>4.700</td>\n",
       "      <td>...</td>\n",
       "      <td>0.293134</td>\n",
       "      <td>0.107630</td>\n",
       "      <td>0.200000</td>\n",
       "      <td>0.119048</td>\n",
       "      <td>0.127660</td>\n",
       "      <td>0.153815</td>\n",
       "      <td>0.126104</td>\n",
       "      <td>0.737575</td>\n",
       "      <td>0.074637</td>\n",
       "      <td>00-0032055_2016</td>\n",
       "    </tr>\n",
       "    <tr>\n",
       "      <th>2</th>\n",
       "      <td>335.0</td>\n",
       "      <td>83.0</td>\n",
       "      <td>2015.0</td>\n",
       "      <td>phillip-dorsett-1</td>\n",
       "      <td>Phillip Dorsett</td>\n",
       "      <td>WR</td>\n",
       "      <td>Miami (FL)</td>\n",
       "      <td>70.0</td>\n",
       "      <td>185.0</td>\n",
       "      <td>4.330</td>\n",
       "      <td>...</td>\n",
       "      <td>0.299182</td>\n",
       "      <td>0.127598</td>\n",
       "      <td>0.068966</td>\n",
       "      <td>0.098039</td>\n",
       "      <td>0.094421</td>\n",
       "      <td>0.098282</td>\n",
       "      <td>0.115871</td>\n",
       "      <td>0.970588</td>\n",
       "      <td>0.069724</td>\n",
       "      <td>00-0032208_2016</td>\n",
       "    </tr>\n",
       "    <tr>\n",
       "      <th>3</th>\n",
       "      <td>332.0</td>\n",
       "      <td>80.0</td>\n",
       "      <td>2015.0</td>\n",
       "      <td>stefon-diggs-1</td>\n",
       "      <td>Stefon Diggs</td>\n",
       "      <td>WR</td>\n",
       "      <td>Maryland</td>\n",
       "      <td>72.0</td>\n",
       "      <td>195.0</td>\n",
       "      <td>4.460</td>\n",
       "      <td>...</td>\n",
       "      <td>0.571465</td>\n",
       "      <td>0.267635</td>\n",
       "      <td>0.200000</td>\n",
       "      <td>0.271676</td>\n",
       "      <td>0.265957</td>\n",
       "      <td>0.233817</td>\n",
       "      <td>0.254108</td>\n",
       "      <td>1.854209</td>\n",
       "      <td>0.179204</td>\n",
       "      <td>00-0031588_2016</td>\n",
       "    </tr>\n",
       "    <tr>\n",
       "      <th>4</th>\n",
       "      <td>324.0</td>\n",
       "      <td>70.0</td>\n",
       "      <td>2015.0</td>\n",
       "      <td>geremy-davis-1</td>\n",
       "      <td>Geremy Davis</td>\n",
       "      <td>WR</td>\n",
       "      <td>Connecticut</td>\n",
       "      <td>74.0</td>\n",
       "      <td>216.0</td>\n",
       "      <td>4.490</td>\n",
       "      <td>...</td>\n",
       "      <td>0.040645</td>\n",
       "      <td>0.000000</td>\n",
       "      <td>0.000000</td>\n",
       "      <td>0.000000</td>\n",
       "      <td>0.000000</td>\n",
       "      <td>0.000000</td>\n",
       "      <td>0.000000</td>\n",
       "      <td>0.000000</td>\n",
       "      <td>0.000000</td>\n",
       "      <td>00-0031953_2016</td>\n",
       "    </tr>\n",
       "    <tr>\n",
       "      <th>...</th>\n",
       "      <td>...</td>\n",
       "      <td>...</td>\n",
       "      <td>...</td>\n",
       "      <td>...</td>\n",
       "      <td>...</td>\n",
       "      <td>...</td>\n",
       "      <td>...</td>\n",
       "      <td>...</td>\n",
       "      <td>...</td>\n",
       "      <td>...</td>\n",
       "      <td>...</td>\n",
       "      <td>...</td>\n",
       "      <td>...</td>\n",
       "      <td>...</td>\n",
       "      <td>...</td>\n",
       "      <td>...</td>\n",
       "      <td>...</td>\n",
       "      <td>...</td>\n",
       "      <td>...</td>\n",
       "      <td>...</td>\n",
       "      <td>...</td>\n",
       "    </tr>\n",
       "    <tr>\n",
       "      <th>572</th>\n",
       "      <td>2810.0</td>\n",
       "      <td>2762.0</td>\n",
       "      <td>2023.0</td>\n",
       "      <td>jonathan-mingo-1</td>\n",
       "      <td>Jonathan Mingo</td>\n",
       "      <td>WR</td>\n",
       "      <td>Mississippi</td>\n",
       "      <td>74.0</td>\n",
       "      <td>220.0</td>\n",
       "      <td>4.460</td>\n",
       "      <td>...</td>\n",
       "      <td>0.000000</td>\n",
       "      <td>0.000000</td>\n",
       "      <td>0.000000</td>\n",
       "      <td>0.000000</td>\n",
       "      <td>0.000000</td>\n",
       "      <td>0.000000</td>\n",
       "      <td>0.000000</td>\n",
       "      <td>0.000000</td>\n",
       "      <td>0.000000</td>\n",
       "      <td>0</td>\n",
       "    </tr>\n",
       "    <tr>\n",
       "      <th>573</th>\n",
       "      <td>2809.0</td>\n",
       "      <td>2761.0</td>\n",
       "      <td>2023.0</td>\n",
       "      <td>marvin-mims-1</td>\n",
       "      <td>Marvin Mims</td>\n",
       "      <td>WR</td>\n",
       "      <td>Oklahoma</td>\n",
       "      <td>71.0</td>\n",
       "      <td>183.0</td>\n",
       "      <td>4.380</td>\n",
       "      <td>...</td>\n",
       "      <td>0.000000</td>\n",
       "      <td>0.000000</td>\n",
       "      <td>0.000000</td>\n",
       "      <td>0.000000</td>\n",
       "      <td>0.000000</td>\n",
       "      <td>0.000000</td>\n",
       "      <td>0.000000</td>\n",
       "      <td>0.000000</td>\n",
       "      <td>0.000000</td>\n",
       "      <td>0</td>\n",
       "    </tr>\n",
       "    <tr>\n",
       "      <th>574</th>\n",
       "      <td>2765.0</td>\n",
       "      <td>2708.0</td>\n",
       "      <td>2023.0</td>\n",
       "      <td>quentin-johnston-1</td>\n",
       "      <td>Quentin Johnston</td>\n",
       "      <td>WR</td>\n",
       "      <td>TCU</td>\n",
       "      <td>75.0</td>\n",
       "      <td>208.0</td>\n",
       "      <td>4.505</td>\n",
       "      <td>...</td>\n",
       "      <td>0.000000</td>\n",
       "      <td>0.000000</td>\n",
       "      <td>0.000000</td>\n",
       "      <td>0.000000</td>\n",
       "      <td>0.000000</td>\n",
       "      <td>0.000000</td>\n",
       "      <td>0.000000</td>\n",
       "      <td>0.000000</td>\n",
       "      <td>0.000000</td>\n",
       "      <td>0</td>\n",
       "    </tr>\n",
       "    <tr>\n",
       "      <th>575</th>\n",
       "      <td>2905.0</td>\n",
       "      <td>2864.0</td>\n",
       "      <td>2023.0</td>\n",
       "      <td>dontayvion-wicks-1</td>\n",
       "      <td>Dontayvion Wicks</td>\n",
       "      <td>WR</td>\n",
       "      <td>Virginia</td>\n",
       "      <td>73.0</td>\n",
       "      <td>206.0</td>\n",
       "      <td>4.620</td>\n",
       "      <td>...</td>\n",
       "      <td>0.000000</td>\n",
       "      <td>0.000000</td>\n",
       "      <td>0.000000</td>\n",
       "      <td>0.000000</td>\n",
       "      <td>0.000000</td>\n",
       "      <td>0.000000</td>\n",
       "      <td>0.000000</td>\n",
       "      <td>0.000000</td>\n",
       "      <td>0.000000</td>\n",
       "      <td>0</td>\n",
       "    </tr>\n",
       "    <tr>\n",
       "      <th>576</th>\n",
       "      <td>2818.0</td>\n",
       "      <td>2772.0</td>\n",
       "      <td>2023.0</td>\n",
       "      <td>luke-musgrave-1</td>\n",
       "      <td>Luke Musgrave</td>\n",
       "      <td>TE</td>\n",
       "      <td>Oregon St.</td>\n",
       "      <td>78.0</td>\n",
       "      <td>253.0</td>\n",
       "      <td>4.750</td>\n",
       "      <td>...</td>\n",
       "      <td>0.000000</td>\n",
       "      <td>0.000000</td>\n",
       "      <td>0.000000</td>\n",
       "      <td>0.000000</td>\n",
       "      <td>0.000000</td>\n",
       "      <td>0.000000</td>\n",
       "      <td>0.000000</td>\n",
       "      <td>0.000000</td>\n",
       "      <td>0.000000</td>\n",
       "      <td>0</td>\n",
       "    </tr>\n",
       "  </tbody>\n",
       "</table>\n",
       "<p>577 rows × 550 columns</p>\n",
       "</div>"
      ],
      "text/plain": [
       "     Unnamed: 0   index  season_1st_year_stats              cfb_id  \\\n",
       "0           0.0     0.0                 2015.0    ameer-abdullah-1   \n",
       "1         354.0   105.0                 2015.0    devin-funchess-1   \n",
       "2         335.0    83.0                 2015.0   phillip-dorsett-1   \n",
       "3         332.0    80.0                 2015.0      stefon-diggs-1   \n",
       "4         324.0    70.0                 2015.0      geremy-davis-1   \n",
       "..          ...     ...                    ...                 ...   \n",
       "572      2810.0  2762.0                 2023.0    jonathan-mingo-1   \n",
       "573      2809.0  2761.0                 2023.0       marvin-mims-1   \n",
       "574      2765.0  2708.0                 2023.0  quentin-johnston-1   \n",
       "575      2905.0  2864.0                 2023.0  dontayvion-wicks-1   \n",
       "576      2818.0  2772.0                 2023.0     luke-musgrave-1   \n",
       "\n",
       "          player_name pos       school    ht     wt  forty  ...  \\\n",
       "0      Ameer Abdullah  RB     Nebraska  69.0  205.0  4.600  ...   \n",
       "1      Devin Funchess  WR     Michigan  76.0  232.0  4.700  ...   \n",
       "2     Phillip Dorsett  WR   Miami (FL)  70.0  185.0  4.330  ...   \n",
       "3        Stefon Diggs  WR     Maryland  72.0  195.0  4.460  ...   \n",
       "4        Geremy Davis  WR  Connecticut  74.0  216.0  4.490  ...   \n",
       "..                ...  ..          ...   ...    ...    ...  ...   \n",
       "572    Jonathan Mingo  WR  Mississippi  74.0  220.0  4.460  ...   \n",
       "573       Marvin Mims  WR     Oklahoma  71.0  183.0  4.380  ...   \n",
       "574  Quentin Johnston  WR          TCU  75.0  208.0  4.505  ...   \n",
       "575  Dontayvion Wicks  WR     Virginia  73.0  206.0  4.620  ...   \n",
       "576     Luke Musgrave  TE   Oregon St.  78.0  253.0  4.750  ...   \n",
       "\n",
       "     wopr_y_2nd_year_stats  ry_sh_2nd_year_stats  rtd_sh_2nd_year_stats  \\\n",
       "0                 0.099125              0.095000               0.250000   \n",
       "1                 0.293134              0.107630               0.200000   \n",
       "2                 0.299182              0.127598               0.068966   \n",
       "3                 0.571465              0.267635               0.200000   \n",
       "4                 0.040645              0.000000               0.000000   \n",
       "..                     ...                   ...                    ...   \n",
       "572               0.000000              0.000000               0.000000   \n",
       "573               0.000000              0.000000               0.000000   \n",
       "574               0.000000              0.000000               0.000000   \n",
       "575               0.000000              0.000000               0.000000   \n",
       "576               0.000000              0.000000               0.000000   \n",
       "\n",
       "     rfd_sh_2nd_year_stats  rtdfd_sh_2nd_year_stats  dom_2nd_year_stats  \\\n",
       "0                 0.129032                 0.142857            0.172500   \n",
       "1                 0.119048                 0.127660            0.153815   \n",
       "2                 0.098039                 0.094421            0.098282   \n",
       "3                 0.271676                 0.265957            0.233817   \n",
       "4                 0.000000                 0.000000            0.000000   \n",
       "..                     ...                      ...                 ...   \n",
       "572               0.000000                 0.000000            0.000000   \n",
       "573               0.000000                 0.000000            0.000000   \n",
       "574               0.000000                 0.000000            0.000000   \n",
       "575               0.000000                 0.000000            0.000000   \n",
       "576               0.000000                 0.000000            0.000000   \n",
       "\n",
       "     w8dom_2nd_year_stats yptmpa_2nd_year_stats  ppr_sh_2nd_year_stats  \\\n",
       "0                0.126000              0.721519               0.126236   \n",
       "1                0.126104              0.737575               0.074637   \n",
       "2                0.115871              0.970588               0.069724   \n",
       "3                0.254108              1.854209               0.179204   \n",
       "4                0.000000              0.000000               0.000000   \n",
       "..                    ...                   ...                    ...   \n",
       "572              0.000000              0.000000               0.000000   \n",
       "573              0.000000              0.000000               0.000000   \n",
       "574              0.000000              0.000000               0.000000   \n",
       "575              0.000000              0.000000               0.000000   \n",
       "576              0.000000              0.000000               0.000000   \n",
       "\n",
       "    player_id_season  \n",
       "0    00-0032104_2016  \n",
       "1    00-0032055_2016  \n",
       "2    00-0032208_2016  \n",
       "3    00-0031588_2016  \n",
       "4    00-0031953_2016  \n",
       "..               ...  \n",
       "572                0  \n",
       "573                0  \n",
       "574                0  \n",
       "575                0  \n",
       "576                0  \n",
       "\n",
       "[577 rows x 550 columns]"
      ]
     },
     "execution_count": 230,
     "metadata": {},
     "output_type": "execute_result"
    }
   ],
   "source": [
    "second_year_df = college_profile_df.merge(seasonal_data_df, left_on='player_id_2nd_season', right_on='player_id_season', suffixes=['_1st_year_stats', '_2nd_year_stats'], how='outer')\n",
    "second_year_df = second_year_df.fillna(0)\n",
    "second_year_df = second_year_df[second_year_df['player_name'] != 0]\n",
    "second_year_df"
   ]
  },
  {
   "cell_type": "code",
   "execution_count": 231,
   "id": "a7311a63",
   "metadata": {},
   "outputs": [],
   "source": [
    "stats_to_perdict = [ 'games_2nd_year_stats',\n",
    " 'passing_yards_2nd_year_stats',\n",
    " 'passing_tds_2nd_year_stats',\n",
    " 'interceptions_2nd_year_stats',\n",
    " 'sacks_2nd_year_stats',\n",
    " 'sack_yards_2nd_year_stats',\n",
    " 'passing_air_yards_2nd_year_stats',\n",
    " 'passing_yards_after_catch_2nd_year_stats',\n",
    " 'passing_first_downs_2nd_year_stats',\n",
    " 'passing_epa_2nd_year_stats',\n",
    " 'pacr_2nd_year_stats',\n",
    " 'dakota_2nd_year_stats',\n",
    " 'rushing_yards_2nd_year_stats',\n",
    " 'rushing_tds_2nd_year_stats',\n",
    " 'rushing_fumbles_2nd_year_stats',\n",
    " 'rushing_fumbles_lost_2nd_year_stats',\n",
    " 'rushing_first_downs_2nd_year_stats',\n",
    " 'rushing_epa_2nd_year_stats',\n",
    " 'targets_2nd_year_stats',\n",
    " 'receptions_2nd_year_stats',\n",
    " 'receiving_yards_2nd_year_stats',\n",
    " 'receiving_tds_2nd_year_stats',\n",
    " 'receiving_fumbles_2nd_year_stats',\n",
    " 'receiving_fumbles_lost_2nd_year_stats',\n",
    " 'receiving_air_yards_2nd_year_stats',\n",
    " 'receiving_yards_after_catch_2nd_year_stats',\n",
    " 'receiving_first_downs_2nd_year_stats',\n",
    " 'receiving_epa_2nd_year_stats',\n",
    " 'racr_2nd_year_stats',\n",
    " 'air_yards_share_2nd_year_stats',\n",
    " 'wopr_x_2nd_year_stats',\n",
    " 'special_teams_tds_2nd_year_stats',\n",
    " 'tgt_sh_2nd_year_stats',\n",
    " 'ay_sh_2nd_year_stats',\n",
    " 'yac_sh_2nd_year_stats',\n",
    " 'wopr_y_2nd_year_stats',\n",
    " 'ry_sh_2nd_year_stats',\n",
    " 'rtd_sh_2nd_year_stats',\n",
    " 'rfd_sh_2nd_year_stats',\n",
    " 'dom_2nd_year_stats',\n",
    " 'yptmpa_2nd_year_stats']\n",
    "\n",
    "x_stats = ['ht',\n",
    " 'wt',\n",
    " 'forty',\n",
    " 'bench',\n",
    " 'vertical',\n",
    " 'broad_jump',\n",
    " 'cone',\n",
    " 'shuttle',\n",
    " 'draft_ovr',\n",
    " 'draft_round',\n",
    " 'Season_career',\n",
    " 'player_game_count_career',\n",
    " 'aimed_passes_career',\n",
    " 'attempts_passing_career',\n",
    " 'avg_depth_of_target_passing_career',\n",
    " 'avg_time_to_throw_career',\n",
    " 'bats_career',\n",
    " 'big_time_throws_career',\n",
    " 'completions_career',\n",
    " 'declined_penalties_career',\n",
    " 'def_gen_pressures_career',\n",
    " 'dropbacks_career',\n",
    " 'drops_passing_career',\n",
    " 'first_downs_passing_career',\n",
    " 'grades_hands_fumble_career',\n",
    " 'grades_offense_career',\n",
    " 'grades_pass_career',\n",
    " 'hit_as_threw_career',\n",
    " 'interceptions_passing_career',\n",
    " 'passing_snaps_career',\n",
    " 'penalties_career',\n",
    " 'pressure_to_sack_rate_career',\n",
    " 'qb_rating_career',\n",
    " 'sacks_career',\n",
    " 'scrambles_career',\n",
    " 'spikes_career',\n",
    " 'thrown_aways_career',\n",
    " 'touchdowns_passing_career',\n",
    " 'turnover_worthy_plays_career',\n",
    " 'yards_passing_career',\n",
    " 'attempts_rushing_career',\n",
    " 'avoided_tackles_career',\n",
    " 'breakaway_attempts_career',\n",
    " 'breakaway_yards_career',\n",
    " 'designed_yards_career',\n",
    " 'elu_recv_mtf_career',\n",
    " 'elu_rush_mtf_career',\n",
    " 'elu_yco_career',\n",
    " 'elusive_rating_career',\n",
    " 'explosive_career',\n",
    " 'first_downs_rushing_career',\n",
    " 'fumbles_career',\n",
    " 'gap_attempts_career',\n",
    " 'grades_run_career',\n",
    " 'grades_offense_penalty_career',\n",
    " 'grades_run_block_career',\n",
    " 'longest_rush_career',\n",
    " 'run_plays_career',\n",
    " 'scramble_yards_career',\n",
    " 'total_touches_career',\n",
    " 'touchdowns_rushing_career',\n",
    " 'yards_rushing_career',\n",
    " 'yards_after_contact_career',\n",
    " 'yco_attempt_career',\n",
    " 'ypa_career',\n",
    " 'zone_attempts_career',\n",
    " 'avg_depth_of_target_receiving_career',\n",
    " 'contested_receptions_career',\n",
    " 'contested_targets_career',\n",
    " 'drops_receiving_career',\n",
    " 'first_downs_receiving_career',\n",
    " 'grades_hands_drop_career',\n",
    " 'grades_pass_route_career',\n",
    " 'inline_rate_career',\n",
    " 'inline_snaps_career',\n",
    " 'interceptions_receiving_career',\n",
    " 'longest_career',\n",
    " 'pass_plays_career',\n",
    " 'receptions_career',\n",
    " 'route_rate_career',\n",
    " 'routes_career',\n",
    " 'slot_rate_career',\n",
    " 'slot_snaps_career',\n",
    " 'targeted_qb_rating_career',\n",
    " 'targets_receiving_career',\n",
    " 'touchdowns_receiving_career',\n",
    " 'wide_rate_career',\n",
    " 'wide_snaps_career',\n",
    " 'yards_receiving_career',\n",
    " 'yards_after_catch_career',\n",
    " 'grades_pass_block_career',\n",
    " 'hits_allowed_career',\n",
    " 'hurries_allowed_career',\n",
    " 'snap_counts_offense_career',\n",
    " 'non_spike_pass_block_career',\n",
    " 'snap_counts_pass_block_career',\n",
    " 'pressures_allowed_career',\n",
    " 'sacks_allowed_career',\n",
    " 'snap_counts_block_career',\n",
    " 'snap_counts_run_block_career',\n",
    " 'snap_counts_lt_career',\n",
    " 'snap_counts_lg_career',\n",
    " 'snap_counts_ce_career',\n",
    " 'snap_counts_rg_career',\n",
    " 'snap_counts_rt_career',\n",
    " 'snap_counts_te_career',\n",
    " 'assists_career',\n",
    " 'batted_passes_career',\n",
    " 'forced_fumbles_career',\n",
    " 'fumble_recoveries_defensive_career',\n",
    " 'fumble_recovery_touchdowns_career',\n",
    " 'grades_coverage_defense_career',\n",
    " 'grades_defense_career',\n",
    " 'grades_defense_penalty_career',\n",
    " 'grades_pass_rush_defense_career',\n",
    " 'grades_run_defense_career',\n",
    " 'grades_tackle_career',\n",
    " 'hits_career',\n",
    " 'hurries_career',\n",
    " 'interception_touchdowns_career',\n",
    " 'interceptions_defensive_career',\n",
    " 'missed_tackle_rate_career',\n",
    " 'missed_tackles_career',\n",
    " 'pass_break_ups_career',\n",
    " 'receptions_allowed_career',\n",
    " 'sacks_defensive_career',\n",
    " 'safeties_career',\n",
    " 'stops_career',\n",
    " 'tackles_career',\n",
    " 'tackles_for_loss_career',\n",
    " 'targets_allowed_career',\n",
    " 'total_pressures_career',\n",
    " 'coverage_touchdowns_allowed_career',\n",
    " 'coverage_yards_allowed_career',\n",
    " 'offensive/defensive_grade_career',\n",
    " 'yards_passing/att_career',\n",
    " 'completion_pct_career',\n",
    " 'adj_completion_pct_career',\n",
    " 'touchdown_pct_career',\n",
    " 'interception_pct_career',\n",
    " 'dangerous_play_pct_career',\n",
    " 'money_throw_pct_career',\n",
    " '1st_downs/pass_att_career',\n",
    " 'breakaway_runs/att_career',\n",
    " 'fumbles/att_career',\n",
    " 'touchdowns_rushing/att_career',\n",
    " 'yards_rushing/att_career',\n",
    " 'catch_pct_career',\n",
    " 'contested_catch_pct_career',\n",
    " 'touchdowns_receiving/target_career',\n",
    " 'interceptions_receiving/target_career',\n",
    " 'targets/route_ran_career',\n",
    " '1st_downs/route_ran_career',\n",
    " 'drops/target_career',\n",
    " 'yards/reception_career',\n",
    " 'yards/target_career',\n",
    " 'yards/route_ran_career',\n",
    " 'yards_after_catch/reception_career',\n",
    " 'yards_after_catch/target_career',\n",
    " 'yards_after_catch/route_ran_career',\n",
    " 'wide_snaps_routes_pct_career',\n",
    " 'slot_snaps_routes_pct_career',\n",
    " 'pass_blocking_efficency',\n",
    " 'blocking_pct_per play',\n",
    " 'avoided_tackles/touches_career',\n",
    " 'fumbles/touches_career',\n",
    " 'allowed_catch_pct',\n",
    " 'yards_per_catch_allowed',\n",
    " 'player_id_epa_career',\n",
    " 'Season_epa_career',\n",
    " 'CountablePlays_career',\n",
    " 'TotalPPA All_career',\n",
    " 'TotalPPA Pass_career',\n",
    " 'TotalPPA Rush_career',\n",
    " 'TotalPPA FirstDown_career',\n",
    " 'TotalPPA SecondDown_career',\n",
    " 'TotalPPA ThirdDown_career',\n",
    " 'TotalPPA StandardDowns_career',\n",
    " 'TotalPPA PassingDowns_career',\n",
    " 'power_5_team',\n",
    " 'Total_EPA_avg',\n",
    " 'EPA_Pass_avg',\n",
    " 'EPA_Rush_avg',\n",
    " 'EPA_1st_down_avg',\n",
    " 'EPA_2nd_down_avg',\n",
    " 'EPA_3rd_down_avg',\n",
    " 'EPA_StandardDowns_avg',\n",
    " 'EPA_PassingDowns_avg',\n",
    " 'Season_final_season',\n",
    " 'player_game_count_final_season',\n",
    " 'accuracy_percent',\n",
    " 'aimed_passes_final_season',\n",
    " 'attempts_passing_final_season',\n",
    " 'avg_depth_of_target_passing_final_season',\n",
    " 'avg_time_to_throw_final_season',\n",
    " 'bats_final_season',\n",
    " 'big_time_throws_final_season',\n",
    " 'btt_rate',\n",
    " 'completion_percent',\n",
    " 'completions_final_season',\n",
    " 'declined_penalties_final_season',\n",
    " 'def_gen_pressures_final_season',\n",
    " 'drop_rate',\n",
    " 'dropbacks_final_season',\n",
    " 'drops_passing_final_season',\n",
    " 'first_downs_passing_final_season',\n",
    " 'franchise_id',\n",
    " 'grades_hands_fumble_final_season',\n",
    " 'grades_offense_final_season',\n",
    " 'grades_pass_final_season',\n",
    " 'grades_run_final_season',\n",
    " 'hit_as_threw_final_season',\n",
    " 'interceptions_passing_final_season',\n",
    " 'passing_snaps_final_season',\n",
    " 'penalties_final_season',\n",
    " 'pressure_to_sack_rate_final_season',\n",
    " 'qb_rating_final_season',\n",
    " 'sack_percent',\n",
    " 'sacks_final_season',\n",
    " 'scrambles_final_season',\n",
    " 'spikes_final_season',\n",
    " 'thrown_aways_final_season',\n",
    " 'touchdowns_passing_final_season',\n",
    " 'turnover_worthy_plays_final_season',\n",
    " 'twp_rate',\n",
    " 'yards_passing_final_season',\n",
    " 'ypa_final_season',\n",
    " 'attempts_rushing_final_season',\n",
    " 'avoided_tackles_final_season',\n",
    " 'breakaway_attempts_final_season',\n",
    " 'breakaway_percent',\n",
    " 'breakaway_yards_final_season',\n",
    " 'designed_yards_final_season',\n",
    " 'drops',\n",
    " 'elu_recv_mtf_final_season',\n",
    " 'elu_rush_mtf_final_season',\n",
    " 'elu_yco_final_season',\n",
    " 'elusive_rating_final_season',\n",
    " 'explosive_final_season',\n",
    " 'first_downs_rushing_final_season',\n",
    " 'fumbles_final_season',\n",
    " 'gap_attempts_final_season',\n",
    " 'grades_offense_penalty_final_season',\n",
    " 'grades_pass_block_final_season',\n",
    " 'grades_pass_route_final_season',\n",
    " 'grades_run_block_final_season',\n",
    " 'longest_rush_final_season',\n",
    " 'rec_yards',\n",
    " 'receptions_final_season',\n",
    " 'routes_final_season',\n",
    " 'run_plays_final_season',\n",
    " 'scramble_yards_final_season',\n",
    " 'targets_1st_year_stats',\n",
    " 'total_touches_final_season',\n",
    " 'touchdowns_rushing_final_season',\n",
    " 'yards_rushing_final_season',\n",
    " 'yards_after_contact_final_season',\n",
    " 'yco_attempt_final_season',\n",
    " 'yprr',\n",
    " 'zone_attempts_final_season',\n",
    " 'avg_depth_of_target_receiving_final_season',\n",
    " 'caught_percent',\n",
    " 'contested_catch_rate',\n",
    " 'contested_receptions_final_season',\n",
    " 'contested_targets_final_season',\n",
    " 'drops_receiving_final_season',\n",
    " 'first_downs_receiving_final_season',\n",
    " 'grades_hands_drop_final_season',\n",
    " 'inline_rate_final_season',\n",
    " 'inline_snaps_final_season',\n",
    " 'interceptions_receiving_final_season',\n",
    " 'longest_final_season',\n",
    " 'pass_block_rate',\n",
    " 'pass_blocks',\n",
    " 'pass_plays_final_season',\n",
    " 'route_rate_final_season',\n",
    " 'slot_rate_final_season',\n",
    " 'slot_snaps_final_season',\n",
    " 'targeted_qb_rating_final_season',\n",
    " 'targets_receiving_final_season',\n",
    " 'touchdowns_receiving_final_season',\n",
    " 'wide_rate_final_season',\n",
    " 'wide_snaps_final_season',\n",
    " 'yards_receiving_final_season',\n",
    " 'yards_after_catch_final_season',\n",
    " 'yards_after_catch_per_reception',\n",
    " 'yards_per_reception',\n",
    " 'block_percent',\n",
    " 'hits_allowed_final_season',\n",
    " 'hurries_allowed_final_season',\n",
    " 'non_spike_pass_block_final_season',\n",
    " 'non_spike_pass_block_percentage',\n",
    " 'pass_block_percent',\n",
    " 'pbe',\n",
    " 'pressures_allowed_final_season',\n",
    " 'sacks_allowed_final_season',\n",
    " 'snap_counts_block_final_season',\n",
    " 'snap_counts_ce_final_season',\n",
    " 'snap_counts_lg_final_season',\n",
    " 'snap_counts_lt_final_season',\n",
    " 'snap_counts_offense_final_season',\n",
    " 'snap_counts_pass_block_final_season',\n",
    " 'snap_counts_pass_play',\n",
    " 'snap_counts_rg_final_season',\n",
    " 'snap_counts_rt_final_season',\n",
    " 'snap_counts_run_block_final_season',\n",
    " 'snap_counts_te_final_season',\n",
    " 'assists_final_season',\n",
    " 'batted_passes_final_season',\n",
    " 'catch_rate',\n",
    " 'forced_fumbles_final_season',\n",
    " 'fumble_recoveries_defensive_final_season',\n",
    " 'fumble_recovery_touchdowns_final_season',\n",
    " 'grades_coverage_defense_final_season',\n",
    " 'grades_defense_final_season',\n",
    " 'grades_defense_penalty_final_season',\n",
    " 'grades_pass_rush_defense_final_season',\n",
    " 'grades_run_defense_final_season',\n",
    " 'grades_tackle_final_season',\n",
    " 'hits_final_season',\n",
    " 'hurries_final_season',\n",
    " 'interception_touchdowns_final_season',\n",
    " 'interceptions_defensive_final_season',\n",
    " 'missed_tackle_rate_final_season',\n",
    " 'missed_tackles_final_season',\n",
    " 'pass_break_ups_final_season',\n",
    " 'qb_rating_against',\n",
    " 'receptions_allowed_final_season',\n",
    " 'sacks_defensive_final_season',\n",
    " 'safeties_final_season',\n",
    " 'snap_counts_box',\n",
    " 'snap_counts_corner',\n",
    " 'snap_counts_coverage',\n",
    " 'snap_counts_defense',\n",
    " 'snap_counts_dl',\n",
    " 'snap_counts_dl_a_gap',\n",
    " 'snap_counts_dl_b_gap',\n",
    " 'snap_counts_dl_outside_t',\n",
    " 'snap_counts_dl_over_t',\n",
    " 'snap_counts_fs',\n",
    " 'snap_counts_offball',\n",
    " 'snap_counts_pass_rush',\n",
    " 'snap_counts_run_defense',\n",
    " 'snap_counts_slot',\n",
    " 'stops_final_season',\n",
    " 'tackles_final_season',\n",
    " 'tackles_for_loss_final_season',\n",
    " 'targets_allowed_final_season',\n",
    " 'total_pressures_final_season',\n",
    " 'coverage_touchdowns_allowed_final_season',\n",
    " 'coverage_yards_allowed_final_season',\n",
    " 'offensive/defensive_grade_final_season',\n",
    " 'player_id_epa_final_season',\n",
    " 'Season_epa_final_season',\n",
    " 'CountablePlays_final_season',\n",
    " 'AveragePPA All',\n",
    " 'AveragePPA Pass',\n",
    " 'AveragePPA Rush',\n",
    " 'AveragePPA FirstDown',\n",
    " 'AveragePPA SecondDown',\n",
    " 'AveragePPA ThirdDown',\n",
    " 'AveragePPA StandardDowns',\n",
    " 'AveragePPA PassingDowns',\n",
    " 'TotalPPA All_final_season',\n",
    " 'TotalPPA Pass_final_season',\n",
    " 'TotalPPA Rush_final_season',\n",
    " 'TotalPPA FirstDown_final_season',\n",
    " 'TotalPPA SecondDown_final_season',\n",
    " 'TotalPPA ThirdDown_final_season',\n",
    " 'TotalPPA StandardDowns_final_season',\n",
    " 'TotalPPA PassingDowns_final_season',\n",
    " 'completions_1st_year_stats',\n",
    " 'attempts_1st_year_stats',\n",
    " 'passing_yards_1st_year_stats',\n",
    " 'passing_tds_1st_year_stats',\n",
    " 'interceptions_1st_year_stats',\n",
    " 'sacks_1st_year_stats',\n",
    " 'sack_yards_1st_year_stats',\n",
    " 'sack_fumbles_1st_year_stats',\n",
    " 'sack_fumbles_lost_1st_year_stats',\n",
    " 'passing_air_yards_1st_year_stats',\n",
    " 'passing_yards_after_catch_1st_year_stats',\n",
    " 'passing_first_downs_1st_year_stats',\n",
    " 'passing_epa_1st_year_stats',\n",
    " 'passing_2pt_conversions_1st_year_stats',\n",
    " 'pacr_1st_year_stats',\n",
    " 'dakota_1st_year_stats',\n",
    " 'carries_1st_year_stats',\n",
    " 'rushing_yards_1st_year_stats',\n",
    " 'rushing_tds_1st_year_stats',\n",
    " 'rushing_fumbles_1st_year_stats',\n",
    " 'rushing_fumbles_lost_1st_year_stats',\n",
    " 'rushing_first_downs_1st_year_stats',\n",
    " 'rushing_epa_1st_year_stats',\n",
    " 'rushing_2pt_conversions_1st_year_stats',\n",
    " 'receptions_1st_year_stats',\n",
    " 'targets_y',\n",
    " 'receiving_yards_1st_year_stats',\n",
    " 'receiving_tds_1st_year_stats',\n",
    " 'receiving_fumbles_1st_year_stats',\n",
    " 'receiving_fumbles_lost_1st_year_stats',\n",
    " 'receiving_air_yards_1st_year_stats',\n",
    " 'receiving_yards_after_catch_1st_year_stats',\n",
    " 'receiving_first_downs_1st_year_stats',\n",
    " 'receiving_epa_1st_year_stats',\n",
    " 'receiving_2pt_conversions_1st_year_stats',\n",
    " 'racr_1st_year_stats',\n",
    " 'target_share_1st_year_stats',\n",
    " 'air_yards_share_1st_year_stats',\n",
    " 'wopr_x_1st_year_stats',\n",
    " 'special_teams_tds_1st_year_stats',\n",
    " 'fantasy_points_1st_year_stats',\n",
    " 'fantasy_points_ppr_1st_year_stats',\n",
    " 'games_1st_year_stats',\n",
    " 'tgt_sh_1st_year_stats',\n",
    " 'ay_sh_1st_year_stats',\n",
    " 'yac_sh_1st_year_stats',\n",
    " 'wopr_y_1st_year_stats',\n",
    " 'ry_sh_1st_year_stats',\n",
    " 'rtd_sh_1st_year_stats',\n",
    " 'rfd_sh_1st_year_stats',\n",
    " 'rtdfd_sh_1st_year_stats',\n",
    " 'dom_1st_year_stats',\n",
    " 'w8dom_1st_year_stats',\n",
    " 'yptmpa_1st_year_stats',\n",
    " 'ppr_sh_1st_year_stats',\n",
    " 'season_defensive',\n",
    " 'player_game_count',\n",
    " 'tackles',\n",
    " 'assisted_tackles',\n",
    " 'tackles_for_loss',\n",
    " 'stops',\n",
    " 'missed_tackle_rate',\n",
    " 'missed_tackles',\n",
    " 'forced_fumbles',\n",
    " 'fumble_recoveries',\n",
    " 'fumble_recovery_touchdowns',\n",
    " 'total_defensive_pressures',\n",
    " 'pass_rushing_hurries',\n",
    " 'hits',\n",
    " 'defensive_sacks',\n",
    " 'safeties',\n",
    " 'defensive_interceptions',\n",
    " 'defensive_interception_touchdowns',\n",
    " 'pass_break_ups',\n",
    " 'coverage_targets',\n",
    " 'allowed_recpetions',\n",
    " 'allowed_passing_yards',\n",
    " 'allowed_passing_touchdowns']"
   ]
  },
  {
   "cell_type": "code",
   "execution_count": 232,
   "id": "6665c8ae",
   "metadata": {},
   "outputs": [],
   "source": [
    "#Limiting to offensive skill positions, at the moment\n",
    "pos_list = ['QB', 'RB', 'WR', 'TE']"
   ]
  },
  {
   "cell_type": "code",
   "execution_count": 233,
   "id": "3f90499d",
   "metadata": {},
   "outputs": [
    {
     "name": "stdout",
     "output_type": "stream",
     "text": [
      "QB\n",
      "games_2nd_year_stats\n"
     ]
    },
    {
     "name": "stderr",
     "output_type": "stream",
     "text": [
      "C:\\Users\\jkepler\\AppData\\Local\\Temp\\ipykernel_21608\\21534768.py:17: SettingWithCopyWarning: \n",
      "A value is trying to be set on a copy of a slice from a DataFrame.\n",
      "Try using .loc[row_indexer,col_indexer] = value instead\n",
      "\n",
      "See the caveats in the documentation: https://pandas.pydata.org/pandas-docs/stable/user_guide/indexing.html#returning-a-view-versus-a-copy\n",
      "  pos_df[stat + '_y_pred_gbf'] = gbr_predictions\n"
     ]
    },
    {
     "name": "stdout",
     "output_type": "stream",
     "text": [
      "passing_yards_2nd_year_stats\n"
     ]
    },
    {
     "name": "stderr",
     "output_type": "stream",
     "text": [
      "C:\\Users\\jkepler\\AppData\\Local\\Temp\\ipykernel_21608\\21534768.py:17: SettingWithCopyWarning: \n",
      "A value is trying to be set on a copy of a slice from a DataFrame.\n",
      "Try using .loc[row_indexer,col_indexer] = value instead\n",
      "\n",
      "See the caveats in the documentation: https://pandas.pydata.org/pandas-docs/stable/user_guide/indexing.html#returning-a-view-versus-a-copy\n",
      "  pos_df[stat + '_y_pred_gbf'] = gbr_predictions\n"
     ]
    },
    {
     "name": "stdout",
     "output_type": "stream",
     "text": [
      "passing_tds_2nd_year_stats\n"
     ]
    },
    {
     "name": "stderr",
     "output_type": "stream",
     "text": [
      "C:\\Users\\jkepler\\AppData\\Local\\Temp\\ipykernel_21608\\21534768.py:17: SettingWithCopyWarning: \n",
      "A value is trying to be set on a copy of a slice from a DataFrame.\n",
      "Try using .loc[row_indexer,col_indexer] = value instead\n",
      "\n",
      "See the caveats in the documentation: https://pandas.pydata.org/pandas-docs/stable/user_guide/indexing.html#returning-a-view-versus-a-copy\n",
      "  pos_df[stat + '_y_pred_gbf'] = gbr_predictions\n"
     ]
    },
    {
     "name": "stdout",
     "output_type": "stream",
     "text": [
      "interceptions_2nd_year_stats\n"
     ]
    },
    {
     "name": "stderr",
     "output_type": "stream",
     "text": [
      "C:\\Users\\jkepler\\AppData\\Local\\Temp\\ipykernel_21608\\21534768.py:17: SettingWithCopyWarning: \n",
      "A value is trying to be set on a copy of a slice from a DataFrame.\n",
      "Try using .loc[row_indexer,col_indexer] = value instead\n",
      "\n",
      "See the caveats in the documentation: https://pandas.pydata.org/pandas-docs/stable/user_guide/indexing.html#returning-a-view-versus-a-copy\n",
      "  pos_df[stat + '_y_pred_gbf'] = gbr_predictions\n"
     ]
    },
    {
     "name": "stdout",
     "output_type": "stream",
     "text": [
      "sacks_2nd_year_stats\n"
     ]
    },
    {
     "name": "stderr",
     "output_type": "stream",
     "text": [
      "C:\\Users\\jkepler\\AppData\\Local\\Temp\\ipykernel_21608\\21534768.py:17: SettingWithCopyWarning: \n",
      "A value is trying to be set on a copy of a slice from a DataFrame.\n",
      "Try using .loc[row_indexer,col_indexer] = value instead\n",
      "\n",
      "See the caveats in the documentation: https://pandas.pydata.org/pandas-docs/stable/user_guide/indexing.html#returning-a-view-versus-a-copy\n",
      "  pos_df[stat + '_y_pred_gbf'] = gbr_predictions\n"
     ]
    },
    {
     "name": "stdout",
     "output_type": "stream",
     "text": [
      "sack_yards_2nd_year_stats\n"
     ]
    },
    {
     "name": "stderr",
     "output_type": "stream",
     "text": [
      "C:\\Users\\jkepler\\AppData\\Local\\Temp\\ipykernel_21608\\21534768.py:17: SettingWithCopyWarning: \n",
      "A value is trying to be set on a copy of a slice from a DataFrame.\n",
      "Try using .loc[row_indexer,col_indexer] = value instead\n",
      "\n",
      "See the caveats in the documentation: https://pandas.pydata.org/pandas-docs/stable/user_guide/indexing.html#returning-a-view-versus-a-copy\n",
      "  pos_df[stat + '_y_pred_gbf'] = gbr_predictions\n"
     ]
    },
    {
     "name": "stdout",
     "output_type": "stream",
     "text": [
      "passing_air_yards_2nd_year_stats\n"
     ]
    },
    {
     "name": "stderr",
     "output_type": "stream",
     "text": [
      "C:\\Users\\jkepler\\AppData\\Local\\Temp\\ipykernel_21608\\21534768.py:17: SettingWithCopyWarning: \n",
      "A value is trying to be set on a copy of a slice from a DataFrame.\n",
      "Try using .loc[row_indexer,col_indexer] = value instead\n",
      "\n",
      "See the caveats in the documentation: https://pandas.pydata.org/pandas-docs/stable/user_guide/indexing.html#returning-a-view-versus-a-copy\n",
      "  pos_df[stat + '_y_pred_gbf'] = gbr_predictions\n"
     ]
    },
    {
     "name": "stdout",
     "output_type": "stream",
     "text": [
      "passing_yards_after_catch_2nd_year_stats\n"
     ]
    },
    {
     "name": "stderr",
     "output_type": "stream",
     "text": [
      "C:\\Users\\jkepler\\AppData\\Local\\Temp\\ipykernel_21608\\21534768.py:17: SettingWithCopyWarning: \n",
      "A value is trying to be set on a copy of a slice from a DataFrame.\n",
      "Try using .loc[row_indexer,col_indexer] = value instead\n",
      "\n",
      "See the caveats in the documentation: https://pandas.pydata.org/pandas-docs/stable/user_guide/indexing.html#returning-a-view-versus-a-copy\n",
      "  pos_df[stat + '_y_pred_gbf'] = gbr_predictions\n"
     ]
    },
    {
     "name": "stdout",
     "output_type": "stream",
     "text": [
      "passing_first_downs_2nd_year_stats\n"
     ]
    },
    {
     "name": "stderr",
     "output_type": "stream",
     "text": [
      "C:\\Users\\jkepler\\AppData\\Local\\Temp\\ipykernel_21608\\21534768.py:17: SettingWithCopyWarning: \n",
      "A value is trying to be set on a copy of a slice from a DataFrame.\n",
      "Try using .loc[row_indexer,col_indexer] = value instead\n",
      "\n",
      "See the caveats in the documentation: https://pandas.pydata.org/pandas-docs/stable/user_guide/indexing.html#returning-a-view-versus-a-copy\n",
      "  pos_df[stat + '_y_pred_gbf'] = gbr_predictions\n"
     ]
    },
    {
     "name": "stdout",
     "output_type": "stream",
     "text": [
      "passing_epa_2nd_year_stats\n"
     ]
    },
    {
     "name": "stderr",
     "output_type": "stream",
     "text": [
      "C:\\Users\\jkepler\\AppData\\Local\\Temp\\ipykernel_21608\\21534768.py:17: SettingWithCopyWarning: \n",
      "A value is trying to be set on a copy of a slice from a DataFrame.\n",
      "Try using .loc[row_indexer,col_indexer] = value instead\n",
      "\n",
      "See the caveats in the documentation: https://pandas.pydata.org/pandas-docs/stable/user_guide/indexing.html#returning-a-view-versus-a-copy\n",
      "  pos_df[stat + '_y_pred_gbf'] = gbr_predictions\n"
     ]
    },
    {
     "name": "stdout",
     "output_type": "stream",
     "text": [
      "pacr_2nd_year_stats\n"
     ]
    },
    {
     "name": "stderr",
     "output_type": "stream",
     "text": [
      "C:\\Users\\jkepler\\AppData\\Local\\Temp\\ipykernel_21608\\21534768.py:17: SettingWithCopyWarning: \n",
      "A value is trying to be set on a copy of a slice from a DataFrame.\n",
      "Try using .loc[row_indexer,col_indexer] = value instead\n",
      "\n",
      "See the caveats in the documentation: https://pandas.pydata.org/pandas-docs/stable/user_guide/indexing.html#returning-a-view-versus-a-copy\n",
      "  pos_df[stat + '_y_pred_gbf'] = gbr_predictions\n"
     ]
    },
    {
     "name": "stdout",
     "output_type": "stream",
     "text": [
      "dakota_2nd_year_stats\n"
     ]
    },
    {
     "name": "stderr",
     "output_type": "stream",
     "text": [
      "C:\\Users\\jkepler\\AppData\\Local\\Temp\\ipykernel_21608\\21534768.py:17: SettingWithCopyWarning: \n",
      "A value is trying to be set on a copy of a slice from a DataFrame.\n",
      "Try using .loc[row_indexer,col_indexer] = value instead\n",
      "\n",
      "See the caveats in the documentation: https://pandas.pydata.org/pandas-docs/stable/user_guide/indexing.html#returning-a-view-versus-a-copy\n",
      "  pos_df[stat + '_y_pred_gbf'] = gbr_predictions\n"
     ]
    },
    {
     "name": "stdout",
     "output_type": "stream",
     "text": [
      "rushing_yards_2nd_year_stats\n"
     ]
    },
    {
     "name": "stderr",
     "output_type": "stream",
     "text": [
      "C:\\Users\\jkepler\\AppData\\Local\\Temp\\ipykernel_21608\\21534768.py:17: SettingWithCopyWarning: \n",
      "A value is trying to be set on a copy of a slice from a DataFrame.\n",
      "Try using .loc[row_indexer,col_indexer] = value instead\n",
      "\n",
      "See the caveats in the documentation: https://pandas.pydata.org/pandas-docs/stable/user_guide/indexing.html#returning-a-view-versus-a-copy\n",
      "  pos_df[stat + '_y_pred_gbf'] = gbr_predictions\n"
     ]
    },
    {
     "name": "stdout",
     "output_type": "stream",
     "text": [
      "rushing_tds_2nd_year_stats\n"
     ]
    },
    {
     "name": "stderr",
     "output_type": "stream",
     "text": [
      "C:\\Users\\jkepler\\AppData\\Local\\Temp\\ipykernel_21608\\21534768.py:17: SettingWithCopyWarning: \n",
      "A value is trying to be set on a copy of a slice from a DataFrame.\n",
      "Try using .loc[row_indexer,col_indexer] = value instead\n",
      "\n",
      "See the caveats in the documentation: https://pandas.pydata.org/pandas-docs/stable/user_guide/indexing.html#returning-a-view-versus-a-copy\n",
      "  pos_df[stat + '_y_pred_gbf'] = gbr_predictions\n"
     ]
    },
    {
     "name": "stdout",
     "output_type": "stream",
     "text": [
      "rushing_fumbles_2nd_year_stats\n"
     ]
    },
    {
     "name": "stderr",
     "output_type": "stream",
     "text": [
      "C:\\Users\\jkepler\\AppData\\Local\\Temp\\ipykernel_21608\\21534768.py:17: SettingWithCopyWarning: \n",
      "A value is trying to be set on a copy of a slice from a DataFrame.\n",
      "Try using .loc[row_indexer,col_indexer] = value instead\n",
      "\n",
      "See the caveats in the documentation: https://pandas.pydata.org/pandas-docs/stable/user_guide/indexing.html#returning-a-view-versus-a-copy\n",
      "  pos_df[stat + '_y_pred_gbf'] = gbr_predictions\n"
     ]
    },
    {
     "name": "stdout",
     "output_type": "stream",
     "text": [
      "rushing_fumbles_lost_2nd_year_stats\n"
     ]
    },
    {
     "name": "stderr",
     "output_type": "stream",
     "text": [
      "C:\\Users\\jkepler\\AppData\\Local\\Temp\\ipykernel_21608\\21534768.py:17: SettingWithCopyWarning: \n",
      "A value is trying to be set on a copy of a slice from a DataFrame.\n",
      "Try using .loc[row_indexer,col_indexer] = value instead\n",
      "\n",
      "See the caveats in the documentation: https://pandas.pydata.org/pandas-docs/stable/user_guide/indexing.html#returning-a-view-versus-a-copy\n",
      "  pos_df[stat + '_y_pred_gbf'] = gbr_predictions\n"
     ]
    },
    {
     "name": "stdout",
     "output_type": "stream",
     "text": [
      "rushing_first_downs_2nd_year_stats\n"
     ]
    },
    {
     "name": "stderr",
     "output_type": "stream",
     "text": [
      "C:\\Users\\jkepler\\AppData\\Local\\Temp\\ipykernel_21608\\21534768.py:17: SettingWithCopyWarning: \n",
      "A value is trying to be set on a copy of a slice from a DataFrame.\n",
      "Try using .loc[row_indexer,col_indexer] = value instead\n",
      "\n",
      "See the caveats in the documentation: https://pandas.pydata.org/pandas-docs/stable/user_guide/indexing.html#returning-a-view-versus-a-copy\n",
      "  pos_df[stat + '_y_pred_gbf'] = gbr_predictions\n"
     ]
    },
    {
     "name": "stdout",
     "output_type": "stream",
     "text": [
      "rushing_epa_2nd_year_stats\n"
     ]
    },
    {
     "name": "stderr",
     "output_type": "stream",
     "text": [
      "C:\\Users\\jkepler\\AppData\\Local\\Temp\\ipykernel_21608\\21534768.py:17: SettingWithCopyWarning: \n",
      "A value is trying to be set on a copy of a slice from a DataFrame.\n",
      "Try using .loc[row_indexer,col_indexer] = value instead\n",
      "\n",
      "See the caveats in the documentation: https://pandas.pydata.org/pandas-docs/stable/user_guide/indexing.html#returning-a-view-versus-a-copy\n",
      "  pos_df[stat + '_y_pred_gbf'] = gbr_predictions\n"
     ]
    },
    {
     "name": "stdout",
     "output_type": "stream",
     "text": [
      "targets_2nd_year_stats\n"
     ]
    },
    {
     "name": "stderr",
     "output_type": "stream",
     "text": [
      "C:\\Users\\jkepler\\AppData\\Local\\Temp\\ipykernel_21608\\21534768.py:17: SettingWithCopyWarning: \n",
      "A value is trying to be set on a copy of a slice from a DataFrame.\n",
      "Try using .loc[row_indexer,col_indexer] = value instead\n",
      "\n",
      "See the caveats in the documentation: https://pandas.pydata.org/pandas-docs/stable/user_guide/indexing.html#returning-a-view-versus-a-copy\n",
      "  pos_df[stat + '_y_pred_gbf'] = gbr_predictions\n"
     ]
    },
    {
     "name": "stdout",
     "output_type": "stream",
     "text": [
      "receptions_2nd_year_stats\n"
     ]
    },
    {
     "name": "stderr",
     "output_type": "stream",
     "text": [
      "C:\\Users\\jkepler\\AppData\\Local\\Temp\\ipykernel_21608\\21534768.py:17: SettingWithCopyWarning: \n",
      "A value is trying to be set on a copy of a slice from a DataFrame.\n",
      "Try using .loc[row_indexer,col_indexer] = value instead\n",
      "\n",
      "See the caveats in the documentation: https://pandas.pydata.org/pandas-docs/stable/user_guide/indexing.html#returning-a-view-versus-a-copy\n",
      "  pos_df[stat + '_y_pred_gbf'] = gbr_predictions\n"
     ]
    },
    {
     "name": "stdout",
     "output_type": "stream",
     "text": [
      "receiving_yards_2nd_year_stats\n"
     ]
    },
    {
     "name": "stderr",
     "output_type": "stream",
     "text": [
      "C:\\Users\\jkepler\\AppData\\Local\\Temp\\ipykernel_21608\\21534768.py:17: SettingWithCopyWarning: \n",
      "A value is trying to be set on a copy of a slice from a DataFrame.\n",
      "Try using .loc[row_indexer,col_indexer] = value instead\n",
      "\n",
      "See the caveats in the documentation: https://pandas.pydata.org/pandas-docs/stable/user_guide/indexing.html#returning-a-view-versus-a-copy\n",
      "  pos_df[stat + '_y_pred_gbf'] = gbr_predictions\n"
     ]
    },
    {
     "name": "stdout",
     "output_type": "stream",
     "text": [
      "receiving_tds_2nd_year_stats\n"
     ]
    },
    {
     "name": "stderr",
     "output_type": "stream",
     "text": [
      "C:\\Users\\jkepler\\AppData\\Local\\Temp\\ipykernel_21608\\21534768.py:17: SettingWithCopyWarning: \n",
      "A value is trying to be set on a copy of a slice from a DataFrame.\n",
      "Try using .loc[row_indexer,col_indexer] = value instead\n",
      "\n",
      "See the caveats in the documentation: https://pandas.pydata.org/pandas-docs/stable/user_guide/indexing.html#returning-a-view-versus-a-copy\n",
      "  pos_df[stat + '_y_pred_gbf'] = gbr_predictions\n",
      "C:\\Users\\jkepler\\AppData\\Local\\Temp\\ipykernel_21608\\21534768.py:17: SettingWithCopyWarning: \n",
      "A value is trying to be set on a copy of a slice from a DataFrame.\n",
      "Try using .loc[row_indexer,col_indexer] = value instead\n",
      "\n",
      "See the caveats in the documentation: https://pandas.pydata.org/pandas-docs/stable/user_guide/indexing.html#returning-a-view-versus-a-copy\n",
      "  pos_df[stat + '_y_pred_gbf'] = gbr_predictions\n",
      "C:\\Users\\jkepler\\AppData\\Local\\Temp\\ipykernel_21608\\21534768.py:17: SettingWithCopyWarning: \n",
      "A value is trying to be set on a copy of a slice from a DataFrame.\n",
      "Try using .loc[row_indexer,col_indexer] = value instead\n",
      "\n",
      "See the caveats in the documentation: https://pandas.pydata.org/pandas-docs/stable/user_guide/indexing.html#returning-a-view-versus-a-copy\n",
      "  pos_df[stat + '_y_pred_gbf'] = gbr_predictions\n"
     ]
    },
    {
     "name": "stdout",
     "output_type": "stream",
     "text": [
      "receiving_fumbles_2nd_year_stats\n",
      "receiving_fumbles_lost_2nd_year_stats\n",
      "receiving_air_yards_2nd_year_stats\n"
     ]
    },
    {
     "name": "stderr",
     "output_type": "stream",
     "text": [
      "C:\\Users\\jkepler\\AppData\\Local\\Temp\\ipykernel_21608\\21534768.py:17: SettingWithCopyWarning: \n",
      "A value is trying to be set on a copy of a slice from a DataFrame.\n",
      "Try using .loc[row_indexer,col_indexer] = value instead\n",
      "\n",
      "See the caveats in the documentation: https://pandas.pydata.org/pandas-docs/stable/user_guide/indexing.html#returning-a-view-versus-a-copy\n",
      "  pos_df[stat + '_y_pred_gbf'] = gbr_predictions\n"
     ]
    },
    {
     "name": "stdout",
     "output_type": "stream",
     "text": [
      "receiving_yards_after_catch_2nd_year_stats\n"
     ]
    },
    {
     "name": "stderr",
     "output_type": "stream",
     "text": [
      "C:\\Users\\jkepler\\AppData\\Local\\Temp\\ipykernel_21608\\21534768.py:17: SettingWithCopyWarning: \n",
      "A value is trying to be set on a copy of a slice from a DataFrame.\n",
      "Try using .loc[row_indexer,col_indexer] = value instead\n",
      "\n",
      "See the caveats in the documentation: https://pandas.pydata.org/pandas-docs/stable/user_guide/indexing.html#returning-a-view-versus-a-copy\n",
      "  pos_df[stat + '_y_pred_gbf'] = gbr_predictions\n"
     ]
    },
    {
     "name": "stdout",
     "output_type": "stream",
     "text": [
      "receiving_first_downs_2nd_year_stats\n"
     ]
    },
    {
     "name": "stderr",
     "output_type": "stream",
     "text": [
      "C:\\Users\\jkepler\\AppData\\Local\\Temp\\ipykernel_21608\\21534768.py:17: SettingWithCopyWarning: \n",
      "A value is trying to be set on a copy of a slice from a DataFrame.\n",
      "Try using .loc[row_indexer,col_indexer] = value instead\n",
      "\n",
      "See the caveats in the documentation: https://pandas.pydata.org/pandas-docs/stable/user_guide/indexing.html#returning-a-view-versus-a-copy\n",
      "  pos_df[stat + '_y_pred_gbf'] = gbr_predictions\n"
     ]
    },
    {
     "name": "stdout",
     "output_type": "stream",
     "text": [
      "receiving_epa_2nd_year_stats\n"
     ]
    },
    {
     "name": "stderr",
     "output_type": "stream",
     "text": [
      "C:\\Users\\jkepler\\AppData\\Local\\Temp\\ipykernel_21608\\21534768.py:17: SettingWithCopyWarning: \n",
      "A value is trying to be set on a copy of a slice from a DataFrame.\n",
      "Try using .loc[row_indexer,col_indexer] = value instead\n",
      "\n",
      "See the caveats in the documentation: https://pandas.pydata.org/pandas-docs/stable/user_guide/indexing.html#returning-a-view-versus-a-copy\n",
      "  pos_df[stat + '_y_pred_gbf'] = gbr_predictions\n"
     ]
    },
    {
     "name": "stdout",
     "output_type": "stream",
     "text": [
      "racr_2nd_year_stats\n"
     ]
    },
    {
     "name": "stderr",
     "output_type": "stream",
     "text": [
      "C:\\Users\\jkepler\\AppData\\Local\\Temp\\ipykernel_21608\\21534768.py:17: SettingWithCopyWarning: \n",
      "A value is trying to be set on a copy of a slice from a DataFrame.\n",
      "Try using .loc[row_indexer,col_indexer] = value instead\n",
      "\n",
      "See the caveats in the documentation: https://pandas.pydata.org/pandas-docs/stable/user_guide/indexing.html#returning-a-view-versus-a-copy\n",
      "  pos_df[stat + '_y_pred_gbf'] = gbr_predictions\n"
     ]
    },
    {
     "name": "stdout",
     "output_type": "stream",
     "text": [
      "air_yards_share_2nd_year_stats\n"
     ]
    },
    {
     "name": "stderr",
     "output_type": "stream",
     "text": [
      "C:\\Users\\jkepler\\AppData\\Local\\Temp\\ipykernel_21608\\21534768.py:17: SettingWithCopyWarning: \n",
      "A value is trying to be set on a copy of a slice from a DataFrame.\n",
      "Try using .loc[row_indexer,col_indexer] = value instead\n",
      "\n",
      "See the caveats in the documentation: https://pandas.pydata.org/pandas-docs/stable/user_guide/indexing.html#returning-a-view-versus-a-copy\n",
      "  pos_df[stat + '_y_pred_gbf'] = gbr_predictions\n"
     ]
    },
    {
     "name": "stdout",
     "output_type": "stream",
     "text": [
      "wopr_x_2nd_year_stats\n"
     ]
    },
    {
     "name": "stderr",
     "output_type": "stream",
     "text": [
      "C:\\Users\\jkepler\\AppData\\Local\\Temp\\ipykernel_21608\\21534768.py:17: SettingWithCopyWarning: \n",
      "A value is trying to be set on a copy of a slice from a DataFrame.\n",
      "Try using .loc[row_indexer,col_indexer] = value instead\n",
      "\n",
      "See the caveats in the documentation: https://pandas.pydata.org/pandas-docs/stable/user_guide/indexing.html#returning-a-view-versus-a-copy\n",
      "  pos_df[stat + '_y_pred_gbf'] = gbr_predictions\n",
      "C:\\Users\\jkepler\\AppData\\Local\\Temp\\ipykernel_21608\\21534768.py:17: SettingWithCopyWarning: \n",
      "A value is trying to be set on a copy of a slice from a DataFrame.\n",
      "Try using .loc[row_indexer,col_indexer] = value instead\n",
      "\n",
      "See the caveats in the documentation: https://pandas.pydata.org/pandas-docs/stable/user_guide/indexing.html#returning-a-view-versus-a-copy\n",
      "  pos_df[stat + '_y_pred_gbf'] = gbr_predictions\n"
     ]
    },
    {
     "name": "stdout",
     "output_type": "stream",
     "text": [
      "special_teams_tds_2nd_year_stats\n",
      "tgt_sh_2nd_year_stats\n"
     ]
    },
    {
     "name": "stderr",
     "output_type": "stream",
     "text": [
      "C:\\Users\\jkepler\\AppData\\Local\\Temp\\ipykernel_21608\\21534768.py:17: SettingWithCopyWarning: \n",
      "A value is trying to be set on a copy of a slice from a DataFrame.\n",
      "Try using .loc[row_indexer,col_indexer] = value instead\n",
      "\n",
      "See the caveats in the documentation: https://pandas.pydata.org/pandas-docs/stable/user_guide/indexing.html#returning-a-view-versus-a-copy\n",
      "  pos_df[stat + '_y_pred_gbf'] = gbr_predictions\n"
     ]
    },
    {
     "name": "stdout",
     "output_type": "stream",
     "text": [
      "ay_sh_2nd_year_stats\n"
     ]
    },
    {
     "name": "stderr",
     "output_type": "stream",
     "text": [
      "C:\\Users\\jkepler\\AppData\\Local\\Temp\\ipykernel_21608\\21534768.py:17: SettingWithCopyWarning: \n",
      "A value is trying to be set on a copy of a slice from a DataFrame.\n",
      "Try using .loc[row_indexer,col_indexer] = value instead\n",
      "\n",
      "See the caveats in the documentation: https://pandas.pydata.org/pandas-docs/stable/user_guide/indexing.html#returning-a-view-versus-a-copy\n",
      "  pos_df[stat + '_y_pred_gbf'] = gbr_predictions\n"
     ]
    },
    {
     "name": "stdout",
     "output_type": "stream",
     "text": [
      "yac_sh_2nd_year_stats\n"
     ]
    },
    {
     "name": "stderr",
     "output_type": "stream",
     "text": [
      "C:\\Users\\jkepler\\AppData\\Local\\Temp\\ipykernel_21608\\21534768.py:17: SettingWithCopyWarning: \n",
      "A value is trying to be set on a copy of a slice from a DataFrame.\n",
      "Try using .loc[row_indexer,col_indexer] = value instead\n",
      "\n",
      "See the caveats in the documentation: https://pandas.pydata.org/pandas-docs/stable/user_guide/indexing.html#returning-a-view-versus-a-copy\n",
      "  pos_df[stat + '_y_pred_gbf'] = gbr_predictions\n"
     ]
    },
    {
     "name": "stdout",
     "output_type": "stream",
     "text": [
      "wopr_y_2nd_year_stats\n"
     ]
    },
    {
     "name": "stderr",
     "output_type": "stream",
     "text": [
      "C:\\Users\\jkepler\\AppData\\Local\\Temp\\ipykernel_21608\\21534768.py:17: SettingWithCopyWarning: \n",
      "A value is trying to be set on a copy of a slice from a DataFrame.\n",
      "Try using .loc[row_indexer,col_indexer] = value instead\n",
      "\n",
      "See the caveats in the documentation: https://pandas.pydata.org/pandas-docs/stable/user_guide/indexing.html#returning-a-view-versus-a-copy\n",
      "  pos_df[stat + '_y_pred_gbf'] = gbr_predictions\n"
     ]
    },
    {
     "name": "stdout",
     "output_type": "stream",
     "text": [
      "ry_sh_2nd_year_stats\n"
     ]
    },
    {
     "name": "stderr",
     "output_type": "stream",
     "text": [
      "C:\\Users\\jkepler\\AppData\\Local\\Temp\\ipykernel_21608\\21534768.py:17: SettingWithCopyWarning: \n",
      "A value is trying to be set on a copy of a slice from a DataFrame.\n",
      "Try using .loc[row_indexer,col_indexer] = value instead\n",
      "\n",
      "See the caveats in the documentation: https://pandas.pydata.org/pandas-docs/stable/user_guide/indexing.html#returning-a-view-versus-a-copy\n",
      "  pos_df[stat + '_y_pred_gbf'] = gbr_predictions\n"
     ]
    },
    {
     "name": "stdout",
     "output_type": "stream",
     "text": [
      "rtd_sh_2nd_year_stats\n"
     ]
    },
    {
     "name": "stderr",
     "output_type": "stream",
     "text": [
      "C:\\Users\\jkepler\\AppData\\Local\\Temp\\ipykernel_21608\\21534768.py:17: SettingWithCopyWarning: \n",
      "A value is trying to be set on a copy of a slice from a DataFrame.\n",
      "Try using .loc[row_indexer,col_indexer] = value instead\n",
      "\n",
      "See the caveats in the documentation: https://pandas.pydata.org/pandas-docs/stable/user_guide/indexing.html#returning-a-view-versus-a-copy\n",
      "  pos_df[stat + '_y_pred_gbf'] = gbr_predictions\n"
     ]
    },
    {
     "name": "stdout",
     "output_type": "stream",
     "text": [
      "rfd_sh_2nd_year_stats\n"
     ]
    },
    {
     "name": "stderr",
     "output_type": "stream",
     "text": [
      "C:\\Users\\jkepler\\AppData\\Local\\Temp\\ipykernel_21608\\21534768.py:17: SettingWithCopyWarning: \n",
      "A value is trying to be set on a copy of a slice from a DataFrame.\n",
      "Try using .loc[row_indexer,col_indexer] = value instead\n",
      "\n",
      "See the caveats in the documentation: https://pandas.pydata.org/pandas-docs/stable/user_guide/indexing.html#returning-a-view-versus-a-copy\n",
      "  pos_df[stat + '_y_pred_gbf'] = gbr_predictions\n"
     ]
    },
    {
     "name": "stdout",
     "output_type": "stream",
     "text": [
      "dom_2nd_year_stats\n"
     ]
    },
    {
     "name": "stderr",
     "output_type": "stream",
     "text": [
      "C:\\Users\\jkepler\\AppData\\Local\\Temp\\ipykernel_21608\\21534768.py:17: SettingWithCopyWarning: \n",
      "A value is trying to be set on a copy of a slice from a DataFrame.\n",
      "Try using .loc[row_indexer,col_indexer] = value instead\n",
      "\n",
      "See the caveats in the documentation: https://pandas.pydata.org/pandas-docs/stable/user_guide/indexing.html#returning-a-view-versus-a-copy\n",
      "  pos_df[stat + '_y_pred_gbf'] = gbr_predictions\n"
     ]
    },
    {
     "name": "stdout",
     "output_type": "stream",
     "text": [
      "yptmpa_2nd_year_stats\n"
     ]
    },
    {
     "name": "stderr",
     "output_type": "stream",
     "text": [
      "C:\\Users\\jkepler\\AppData\\Local\\Temp\\ipykernel_21608\\21534768.py:17: SettingWithCopyWarning: \n",
      "A value is trying to be set on a copy of a slice from a DataFrame.\n",
      "Try using .loc[row_indexer,col_indexer] = value instead\n",
      "\n",
      "See the caveats in the documentation: https://pandas.pydata.org/pandas-docs/stable/user_guide/indexing.html#returning-a-view-versus-a-copy\n",
      "  pos_df[stat + '_y_pred_gbf'] = gbr_predictions\n"
     ]
    },
    {
     "name": "stdout",
     "output_type": "stream",
     "text": [
      "RB\n",
      "games_2nd_year_stats\n"
     ]
    },
    {
     "name": "stderr",
     "output_type": "stream",
     "text": [
      "C:\\Users\\jkepler\\AppData\\Local\\Temp\\ipykernel_21608\\21534768.py:17: SettingWithCopyWarning: \n",
      "A value is trying to be set on a copy of a slice from a DataFrame.\n",
      "Try using .loc[row_indexer,col_indexer] = value instead\n",
      "\n",
      "See the caveats in the documentation: https://pandas.pydata.org/pandas-docs/stable/user_guide/indexing.html#returning-a-view-versus-a-copy\n",
      "  pos_df[stat + '_y_pred_gbf'] = gbr_predictions\n"
     ]
    },
    {
     "name": "stdout",
     "output_type": "stream",
     "text": [
      "passing_yards_2nd_year_stats\n"
     ]
    },
    {
     "name": "stderr",
     "output_type": "stream",
     "text": [
      "C:\\Users\\jkepler\\AppData\\Local\\Temp\\ipykernel_21608\\21534768.py:17: SettingWithCopyWarning: \n",
      "A value is trying to be set on a copy of a slice from a DataFrame.\n",
      "Try using .loc[row_indexer,col_indexer] = value instead\n",
      "\n",
      "See the caveats in the documentation: https://pandas.pydata.org/pandas-docs/stable/user_guide/indexing.html#returning-a-view-versus-a-copy\n",
      "  pos_df[stat + '_y_pred_gbf'] = gbr_predictions\n"
     ]
    },
    {
     "name": "stdout",
     "output_type": "stream",
     "text": [
      "passing_tds_2nd_year_stats\n"
     ]
    },
    {
     "name": "stderr",
     "output_type": "stream",
     "text": [
      "C:\\Users\\jkepler\\AppData\\Local\\Temp\\ipykernel_21608\\21534768.py:17: SettingWithCopyWarning: \n",
      "A value is trying to be set on a copy of a slice from a DataFrame.\n",
      "Try using .loc[row_indexer,col_indexer] = value instead\n",
      "\n",
      "See the caveats in the documentation: https://pandas.pydata.org/pandas-docs/stable/user_guide/indexing.html#returning-a-view-versus-a-copy\n",
      "  pos_df[stat + '_y_pred_gbf'] = gbr_predictions\n",
      "C:\\Users\\jkepler\\AppData\\Local\\Temp\\ipykernel_21608\\21534768.py:17: SettingWithCopyWarning: \n",
      "A value is trying to be set on a copy of a slice from a DataFrame.\n",
      "Try using .loc[row_indexer,col_indexer] = value instead\n",
      "\n",
      "See the caveats in the documentation: https://pandas.pydata.org/pandas-docs/stable/user_guide/indexing.html#returning-a-view-versus-a-copy\n",
      "  pos_df[stat + '_y_pred_gbf'] = gbr_predictions\n",
      "C:\\Users\\jkepler\\AppData\\Local\\Temp\\ipykernel_21608\\21534768.py:17: SettingWithCopyWarning: \n",
      "A value is trying to be set on a copy of a slice from a DataFrame.\n",
      "Try using .loc[row_indexer,col_indexer] = value instead\n",
      "\n",
      "See the caveats in the documentation: https://pandas.pydata.org/pandas-docs/stable/user_guide/indexing.html#returning-a-view-versus-a-copy\n",
      "  pos_df[stat + '_y_pred_gbf'] = gbr_predictions\n",
      "C:\\Users\\jkepler\\AppData\\Local\\Temp\\ipykernel_21608\\21534768.py:17: SettingWithCopyWarning: \n",
      "A value is trying to be set on a copy of a slice from a DataFrame.\n",
      "Try using .loc[row_indexer,col_indexer] = value instead\n",
      "\n",
      "See the caveats in the documentation: https://pandas.pydata.org/pandas-docs/stable/user_guide/indexing.html#returning-a-view-versus-a-copy\n",
      "  pos_df[stat + '_y_pred_gbf'] = gbr_predictions\n"
     ]
    },
    {
     "name": "stdout",
     "output_type": "stream",
     "text": [
      "interceptions_2nd_year_stats\n",
      "sacks_2nd_year_stats\n",
      "sack_yards_2nd_year_stats\n",
      "passing_air_yards_2nd_year_stats\n"
     ]
    },
    {
     "name": "stderr",
     "output_type": "stream",
     "text": [
      "C:\\Users\\jkepler\\AppData\\Local\\Temp\\ipykernel_21608\\21534768.py:17: SettingWithCopyWarning: \n",
      "A value is trying to be set on a copy of a slice from a DataFrame.\n",
      "Try using .loc[row_indexer,col_indexer] = value instead\n",
      "\n",
      "See the caveats in the documentation: https://pandas.pydata.org/pandas-docs/stable/user_guide/indexing.html#returning-a-view-versus-a-copy\n",
      "  pos_df[stat + '_y_pred_gbf'] = gbr_predictions\n"
     ]
    },
    {
     "name": "stdout",
     "output_type": "stream",
     "text": [
      "passing_yards_after_catch_2nd_year_stats\n"
     ]
    },
    {
     "name": "stderr",
     "output_type": "stream",
     "text": [
      "C:\\Users\\jkepler\\AppData\\Local\\Temp\\ipykernel_21608\\21534768.py:17: SettingWithCopyWarning: \n",
      "A value is trying to be set on a copy of a slice from a DataFrame.\n",
      "Try using .loc[row_indexer,col_indexer] = value instead\n",
      "\n",
      "See the caveats in the documentation: https://pandas.pydata.org/pandas-docs/stable/user_guide/indexing.html#returning-a-view-versus-a-copy\n",
      "  pos_df[stat + '_y_pred_gbf'] = gbr_predictions\n"
     ]
    },
    {
     "name": "stdout",
     "output_type": "stream",
     "text": [
      "passing_first_downs_2nd_year_stats\n"
     ]
    },
    {
     "name": "stderr",
     "output_type": "stream",
     "text": [
      "C:\\Users\\jkepler\\AppData\\Local\\Temp\\ipykernel_21608\\21534768.py:17: SettingWithCopyWarning: \n",
      "A value is trying to be set on a copy of a slice from a DataFrame.\n",
      "Try using .loc[row_indexer,col_indexer] = value instead\n",
      "\n",
      "See the caveats in the documentation: https://pandas.pydata.org/pandas-docs/stable/user_guide/indexing.html#returning-a-view-versus-a-copy\n",
      "  pos_df[stat + '_y_pred_gbf'] = gbr_predictions\n"
     ]
    },
    {
     "name": "stdout",
     "output_type": "stream",
     "text": [
      "passing_epa_2nd_year_stats\n"
     ]
    },
    {
     "name": "stderr",
     "output_type": "stream",
     "text": [
      "C:\\Users\\jkepler\\AppData\\Local\\Temp\\ipykernel_21608\\21534768.py:17: SettingWithCopyWarning: \n",
      "A value is trying to be set on a copy of a slice from a DataFrame.\n",
      "Try using .loc[row_indexer,col_indexer] = value instead\n",
      "\n",
      "See the caveats in the documentation: https://pandas.pydata.org/pandas-docs/stable/user_guide/indexing.html#returning-a-view-versus-a-copy\n",
      "  pos_df[stat + '_y_pred_gbf'] = gbr_predictions\n"
     ]
    },
    {
     "name": "stdout",
     "output_type": "stream",
     "text": [
      "pacr_2nd_year_stats\n"
     ]
    },
    {
     "name": "stderr",
     "output_type": "stream",
     "text": [
      "C:\\Users\\jkepler\\AppData\\Local\\Temp\\ipykernel_21608\\21534768.py:17: SettingWithCopyWarning: \n",
      "A value is trying to be set on a copy of a slice from a DataFrame.\n",
      "Try using .loc[row_indexer,col_indexer] = value instead\n",
      "\n",
      "See the caveats in the documentation: https://pandas.pydata.org/pandas-docs/stable/user_guide/indexing.html#returning-a-view-versus-a-copy\n",
      "  pos_df[stat + '_y_pred_gbf'] = gbr_predictions\n",
      "C:\\Users\\jkepler\\AppData\\Local\\Temp\\ipykernel_21608\\21534768.py:17: SettingWithCopyWarning: \n",
      "A value is trying to be set on a copy of a slice from a DataFrame.\n",
      "Try using .loc[row_indexer,col_indexer] = value instead\n",
      "\n",
      "See the caveats in the documentation: https://pandas.pydata.org/pandas-docs/stable/user_guide/indexing.html#returning-a-view-versus-a-copy\n",
      "  pos_df[stat + '_y_pred_gbf'] = gbr_predictions\n"
     ]
    },
    {
     "name": "stdout",
     "output_type": "stream",
     "text": [
      "dakota_2nd_year_stats\n",
      "rushing_yards_2nd_year_stats\n"
     ]
    },
    {
     "name": "stderr",
     "output_type": "stream",
     "text": [
      "C:\\Users\\jkepler\\AppData\\Local\\Temp\\ipykernel_21608\\21534768.py:17: SettingWithCopyWarning: \n",
      "A value is trying to be set on a copy of a slice from a DataFrame.\n",
      "Try using .loc[row_indexer,col_indexer] = value instead\n",
      "\n",
      "See the caveats in the documentation: https://pandas.pydata.org/pandas-docs/stable/user_guide/indexing.html#returning-a-view-versus-a-copy\n",
      "  pos_df[stat + '_y_pred_gbf'] = gbr_predictions\n"
     ]
    },
    {
     "name": "stdout",
     "output_type": "stream",
     "text": [
      "rushing_tds_2nd_year_stats\n"
     ]
    },
    {
     "name": "stderr",
     "output_type": "stream",
     "text": [
      "C:\\Users\\jkepler\\AppData\\Local\\Temp\\ipykernel_21608\\21534768.py:17: SettingWithCopyWarning: \n",
      "A value is trying to be set on a copy of a slice from a DataFrame.\n",
      "Try using .loc[row_indexer,col_indexer] = value instead\n",
      "\n",
      "See the caveats in the documentation: https://pandas.pydata.org/pandas-docs/stable/user_guide/indexing.html#returning-a-view-versus-a-copy\n",
      "  pos_df[stat + '_y_pred_gbf'] = gbr_predictions\n"
     ]
    },
    {
     "name": "stdout",
     "output_type": "stream",
     "text": [
      "rushing_fumbles_2nd_year_stats\n"
     ]
    },
    {
     "name": "stderr",
     "output_type": "stream",
     "text": [
      "C:\\Users\\jkepler\\AppData\\Local\\Temp\\ipykernel_21608\\21534768.py:17: SettingWithCopyWarning: \n",
      "A value is trying to be set on a copy of a slice from a DataFrame.\n",
      "Try using .loc[row_indexer,col_indexer] = value instead\n",
      "\n",
      "See the caveats in the documentation: https://pandas.pydata.org/pandas-docs/stable/user_guide/indexing.html#returning-a-view-versus-a-copy\n",
      "  pos_df[stat + '_y_pred_gbf'] = gbr_predictions\n"
     ]
    },
    {
     "name": "stdout",
     "output_type": "stream",
     "text": [
      "rushing_fumbles_lost_2nd_year_stats\n"
     ]
    },
    {
     "name": "stderr",
     "output_type": "stream",
     "text": [
      "C:\\Users\\jkepler\\AppData\\Local\\Temp\\ipykernel_21608\\21534768.py:17: SettingWithCopyWarning: \n",
      "A value is trying to be set on a copy of a slice from a DataFrame.\n",
      "Try using .loc[row_indexer,col_indexer] = value instead\n",
      "\n",
      "See the caveats in the documentation: https://pandas.pydata.org/pandas-docs/stable/user_guide/indexing.html#returning-a-view-versus-a-copy\n",
      "  pos_df[stat + '_y_pred_gbf'] = gbr_predictions\n"
     ]
    },
    {
     "name": "stdout",
     "output_type": "stream",
     "text": [
      "rushing_first_downs_2nd_year_stats\n"
     ]
    },
    {
     "name": "stderr",
     "output_type": "stream",
     "text": [
      "C:\\Users\\jkepler\\AppData\\Local\\Temp\\ipykernel_21608\\21534768.py:17: SettingWithCopyWarning: \n",
      "A value is trying to be set on a copy of a slice from a DataFrame.\n",
      "Try using .loc[row_indexer,col_indexer] = value instead\n",
      "\n",
      "See the caveats in the documentation: https://pandas.pydata.org/pandas-docs/stable/user_guide/indexing.html#returning-a-view-versus-a-copy\n",
      "  pos_df[stat + '_y_pred_gbf'] = gbr_predictions\n"
     ]
    },
    {
     "name": "stdout",
     "output_type": "stream",
     "text": [
      "rushing_epa_2nd_year_stats\n"
     ]
    },
    {
     "name": "stderr",
     "output_type": "stream",
     "text": [
      "C:\\Users\\jkepler\\AppData\\Local\\Temp\\ipykernel_21608\\21534768.py:17: SettingWithCopyWarning: \n",
      "A value is trying to be set on a copy of a slice from a DataFrame.\n",
      "Try using .loc[row_indexer,col_indexer] = value instead\n",
      "\n",
      "See the caveats in the documentation: https://pandas.pydata.org/pandas-docs/stable/user_guide/indexing.html#returning-a-view-versus-a-copy\n",
      "  pos_df[stat + '_y_pred_gbf'] = gbr_predictions\n"
     ]
    },
    {
     "name": "stdout",
     "output_type": "stream",
     "text": [
      "targets_2nd_year_stats\n"
     ]
    },
    {
     "name": "stderr",
     "output_type": "stream",
     "text": [
      "C:\\Users\\jkepler\\AppData\\Local\\Temp\\ipykernel_21608\\21534768.py:17: SettingWithCopyWarning: \n",
      "A value is trying to be set on a copy of a slice from a DataFrame.\n",
      "Try using .loc[row_indexer,col_indexer] = value instead\n",
      "\n",
      "See the caveats in the documentation: https://pandas.pydata.org/pandas-docs/stable/user_guide/indexing.html#returning-a-view-versus-a-copy\n",
      "  pos_df[stat + '_y_pred_gbf'] = gbr_predictions\n"
     ]
    },
    {
     "name": "stdout",
     "output_type": "stream",
     "text": [
      "receptions_2nd_year_stats\n"
     ]
    },
    {
     "name": "stderr",
     "output_type": "stream",
     "text": [
      "C:\\Users\\jkepler\\AppData\\Local\\Temp\\ipykernel_21608\\21534768.py:17: SettingWithCopyWarning: \n",
      "A value is trying to be set on a copy of a slice from a DataFrame.\n",
      "Try using .loc[row_indexer,col_indexer] = value instead\n",
      "\n",
      "See the caveats in the documentation: https://pandas.pydata.org/pandas-docs/stable/user_guide/indexing.html#returning-a-view-versus-a-copy\n",
      "  pos_df[stat + '_y_pred_gbf'] = gbr_predictions\n"
     ]
    },
    {
     "name": "stdout",
     "output_type": "stream",
     "text": [
      "receiving_yards_2nd_year_stats\n"
     ]
    },
    {
     "name": "stderr",
     "output_type": "stream",
     "text": [
      "C:\\Users\\jkepler\\AppData\\Local\\Temp\\ipykernel_21608\\21534768.py:17: SettingWithCopyWarning: \n",
      "A value is trying to be set on a copy of a slice from a DataFrame.\n",
      "Try using .loc[row_indexer,col_indexer] = value instead\n",
      "\n",
      "See the caveats in the documentation: https://pandas.pydata.org/pandas-docs/stable/user_guide/indexing.html#returning-a-view-versus-a-copy\n",
      "  pos_df[stat + '_y_pred_gbf'] = gbr_predictions\n"
     ]
    },
    {
     "name": "stdout",
     "output_type": "stream",
     "text": [
      "receiving_tds_2nd_year_stats\n"
     ]
    },
    {
     "name": "stderr",
     "output_type": "stream",
     "text": [
      "C:\\Users\\jkepler\\AppData\\Local\\Temp\\ipykernel_21608\\21534768.py:17: SettingWithCopyWarning: \n",
      "A value is trying to be set on a copy of a slice from a DataFrame.\n",
      "Try using .loc[row_indexer,col_indexer] = value instead\n",
      "\n",
      "See the caveats in the documentation: https://pandas.pydata.org/pandas-docs/stable/user_guide/indexing.html#returning-a-view-versus-a-copy\n",
      "  pos_df[stat + '_y_pred_gbf'] = gbr_predictions\n"
     ]
    },
    {
     "name": "stdout",
     "output_type": "stream",
     "text": [
      "receiving_fumbles_2nd_year_stats\n"
     ]
    },
    {
     "name": "stderr",
     "output_type": "stream",
     "text": [
      "C:\\Users\\jkepler\\AppData\\Local\\Temp\\ipykernel_21608\\21534768.py:17: SettingWithCopyWarning: \n",
      "A value is trying to be set on a copy of a slice from a DataFrame.\n",
      "Try using .loc[row_indexer,col_indexer] = value instead\n",
      "\n",
      "See the caveats in the documentation: https://pandas.pydata.org/pandas-docs/stable/user_guide/indexing.html#returning-a-view-versus-a-copy\n",
      "  pos_df[stat + '_y_pred_gbf'] = gbr_predictions\n"
     ]
    },
    {
     "name": "stdout",
     "output_type": "stream",
     "text": [
      "receiving_fumbles_lost_2nd_year_stats\n"
     ]
    },
    {
     "name": "stderr",
     "output_type": "stream",
     "text": [
      "C:\\Users\\jkepler\\AppData\\Local\\Temp\\ipykernel_21608\\21534768.py:17: SettingWithCopyWarning: \n",
      "A value is trying to be set on a copy of a slice from a DataFrame.\n",
      "Try using .loc[row_indexer,col_indexer] = value instead\n",
      "\n",
      "See the caveats in the documentation: https://pandas.pydata.org/pandas-docs/stable/user_guide/indexing.html#returning-a-view-versus-a-copy\n",
      "  pos_df[stat + '_y_pred_gbf'] = gbr_predictions\n"
     ]
    },
    {
     "name": "stdout",
     "output_type": "stream",
     "text": [
      "receiving_air_yards_2nd_year_stats\n"
     ]
    },
    {
     "name": "stderr",
     "output_type": "stream",
     "text": [
      "C:\\Users\\jkepler\\AppData\\Local\\Temp\\ipykernel_21608\\21534768.py:17: SettingWithCopyWarning: \n",
      "A value is trying to be set on a copy of a slice from a DataFrame.\n",
      "Try using .loc[row_indexer,col_indexer] = value instead\n",
      "\n",
      "See the caveats in the documentation: https://pandas.pydata.org/pandas-docs/stable/user_guide/indexing.html#returning-a-view-versus-a-copy\n",
      "  pos_df[stat + '_y_pred_gbf'] = gbr_predictions\n"
     ]
    },
    {
     "name": "stdout",
     "output_type": "stream",
     "text": [
      "receiving_yards_after_catch_2nd_year_stats\n"
     ]
    },
    {
     "name": "stderr",
     "output_type": "stream",
     "text": [
      "C:\\Users\\jkepler\\AppData\\Local\\Temp\\ipykernel_21608\\21534768.py:17: SettingWithCopyWarning: \n",
      "A value is trying to be set on a copy of a slice from a DataFrame.\n",
      "Try using .loc[row_indexer,col_indexer] = value instead\n",
      "\n",
      "See the caveats in the documentation: https://pandas.pydata.org/pandas-docs/stable/user_guide/indexing.html#returning-a-view-versus-a-copy\n",
      "  pos_df[stat + '_y_pred_gbf'] = gbr_predictions\n"
     ]
    },
    {
     "name": "stdout",
     "output_type": "stream",
     "text": [
      "receiving_first_downs_2nd_year_stats\n"
     ]
    },
    {
     "name": "stderr",
     "output_type": "stream",
     "text": [
      "C:\\Users\\jkepler\\AppData\\Local\\Temp\\ipykernel_21608\\21534768.py:17: SettingWithCopyWarning: \n",
      "A value is trying to be set on a copy of a slice from a DataFrame.\n",
      "Try using .loc[row_indexer,col_indexer] = value instead\n",
      "\n",
      "See the caveats in the documentation: https://pandas.pydata.org/pandas-docs/stable/user_guide/indexing.html#returning-a-view-versus-a-copy\n",
      "  pos_df[stat + '_y_pred_gbf'] = gbr_predictions\n"
     ]
    },
    {
     "name": "stdout",
     "output_type": "stream",
     "text": [
      "receiving_epa_2nd_year_stats\n"
     ]
    },
    {
     "name": "stderr",
     "output_type": "stream",
     "text": [
      "C:\\Users\\jkepler\\AppData\\Local\\Temp\\ipykernel_21608\\21534768.py:17: SettingWithCopyWarning: \n",
      "A value is trying to be set on a copy of a slice from a DataFrame.\n",
      "Try using .loc[row_indexer,col_indexer] = value instead\n",
      "\n",
      "See the caveats in the documentation: https://pandas.pydata.org/pandas-docs/stable/user_guide/indexing.html#returning-a-view-versus-a-copy\n",
      "  pos_df[stat + '_y_pred_gbf'] = gbr_predictions\n"
     ]
    },
    {
     "name": "stdout",
     "output_type": "stream",
     "text": [
      "racr_2nd_year_stats\n"
     ]
    },
    {
     "name": "stderr",
     "output_type": "stream",
     "text": [
      "C:\\Users\\jkepler\\AppData\\Local\\Temp\\ipykernel_21608\\21534768.py:17: SettingWithCopyWarning: \n",
      "A value is trying to be set on a copy of a slice from a DataFrame.\n",
      "Try using .loc[row_indexer,col_indexer] = value instead\n",
      "\n",
      "See the caveats in the documentation: https://pandas.pydata.org/pandas-docs/stable/user_guide/indexing.html#returning-a-view-versus-a-copy\n",
      "  pos_df[stat + '_y_pred_gbf'] = gbr_predictions\n"
     ]
    },
    {
     "name": "stdout",
     "output_type": "stream",
     "text": [
      "air_yards_share_2nd_year_stats\n"
     ]
    },
    {
     "name": "stderr",
     "output_type": "stream",
     "text": [
      "C:\\Users\\jkepler\\AppData\\Local\\Temp\\ipykernel_21608\\21534768.py:17: SettingWithCopyWarning: \n",
      "A value is trying to be set on a copy of a slice from a DataFrame.\n",
      "Try using .loc[row_indexer,col_indexer] = value instead\n",
      "\n",
      "See the caveats in the documentation: https://pandas.pydata.org/pandas-docs/stable/user_guide/indexing.html#returning-a-view-versus-a-copy\n",
      "  pos_df[stat + '_y_pred_gbf'] = gbr_predictions\n"
     ]
    },
    {
     "name": "stdout",
     "output_type": "stream",
     "text": [
      "wopr_x_2nd_year_stats\n"
     ]
    },
    {
     "name": "stderr",
     "output_type": "stream",
     "text": [
      "C:\\Users\\jkepler\\AppData\\Local\\Temp\\ipykernel_21608\\21534768.py:17: SettingWithCopyWarning: \n",
      "A value is trying to be set on a copy of a slice from a DataFrame.\n",
      "Try using .loc[row_indexer,col_indexer] = value instead\n",
      "\n",
      "See the caveats in the documentation: https://pandas.pydata.org/pandas-docs/stable/user_guide/indexing.html#returning-a-view-versus-a-copy\n",
      "  pos_df[stat + '_y_pred_gbf'] = gbr_predictions\n"
     ]
    },
    {
     "name": "stdout",
     "output_type": "stream",
     "text": [
      "special_teams_tds_2nd_year_stats\n"
     ]
    },
    {
     "name": "stderr",
     "output_type": "stream",
     "text": [
      "C:\\Users\\jkepler\\AppData\\Local\\Temp\\ipykernel_21608\\21534768.py:17: SettingWithCopyWarning: \n",
      "A value is trying to be set on a copy of a slice from a DataFrame.\n",
      "Try using .loc[row_indexer,col_indexer] = value instead\n",
      "\n",
      "See the caveats in the documentation: https://pandas.pydata.org/pandas-docs/stable/user_guide/indexing.html#returning-a-view-versus-a-copy\n",
      "  pos_df[stat + '_y_pred_gbf'] = gbr_predictions\n"
     ]
    },
    {
     "name": "stdout",
     "output_type": "stream",
     "text": [
      "tgt_sh_2nd_year_stats\n"
     ]
    },
    {
     "name": "stderr",
     "output_type": "stream",
     "text": [
      "C:\\Users\\jkepler\\AppData\\Local\\Temp\\ipykernel_21608\\21534768.py:17: SettingWithCopyWarning: \n",
      "A value is trying to be set on a copy of a slice from a DataFrame.\n",
      "Try using .loc[row_indexer,col_indexer] = value instead\n",
      "\n",
      "See the caveats in the documentation: https://pandas.pydata.org/pandas-docs/stable/user_guide/indexing.html#returning-a-view-versus-a-copy\n",
      "  pos_df[stat + '_y_pred_gbf'] = gbr_predictions\n"
     ]
    },
    {
     "name": "stdout",
     "output_type": "stream",
     "text": [
      "ay_sh_2nd_year_stats\n"
     ]
    },
    {
     "name": "stderr",
     "output_type": "stream",
     "text": [
      "C:\\Users\\jkepler\\AppData\\Local\\Temp\\ipykernel_21608\\21534768.py:17: SettingWithCopyWarning: \n",
      "A value is trying to be set on a copy of a slice from a DataFrame.\n",
      "Try using .loc[row_indexer,col_indexer] = value instead\n",
      "\n",
      "See the caveats in the documentation: https://pandas.pydata.org/pandas-docs/stable/user_guide/indexing.html#returning-a-view-versus-a-copy\n",
      "  pos_df[stat + '_y_pred_gbf'] = gbr_predictions\n"
     ]
    },
    {
     "name": "stdout",
     "output_type": "stream",
     "text": [
      "yac_sh_2nd_year_stats\n"
     ]
    },
    {
     "name": "stderr",
     "output_type": "stream",
     "text": [
      "C:\\Users\\jkepler\\AppData\\Local\\Temp\\ipykernel_21608\\21534768.py:17: SettingWithCopyWarning: \n",
      "A value is trying to be set on a copy of a slice from a DataFrame.\n",
      "Try using .loc[row_indexer,col_indexer] = value instead\n",
      "\n",
      "See the caveats in the documentation: https://pandas.pydata.org/pandas-docs/stable/user_guide/indexing.html#returning-a-view-versus-a-copy\n",
      "  pos_df[stat + '_y_pred_gbf'] = gbr_predictions\n"
     ]
    },
    {
     "name": "stdout",
     "output_type": "stream",
     "text": [
      "wopr_y_2nd_year_stats\n"
     ]
    },
    {
     "name": "stderr",
     "output_type": "stream",
     "text": [
      "C:\\Users\\jkepler\\AppData\\Local\\Temp\\ipykernel_21608\\21534768.py:17: SettingWithCopyWarning: \n",
      "A value is trying to be set on a copy of a slice from a DataFrame.\n",
      "Try using .loc[row_indexer,col_indexer] = value instead\n",
      "\n",
      "See the caveats in the documentation: https://pandas.pydata.org/pandas-docs/stable/user_guide/indexing.html#returning-a-view-versus-a-copy\n",
      "  pos_df[stat + '_y_pred_gbf'] = gbr_predictions\n"
     ]
    },
    {
     "name": "stdout",
     "output_type": "stream",
     "text": [
      "ry_sh_2nd_year_stats\n"
     ]
    },
    {
     "name": "stderr",
     "output_type": "stream",
     "text": [
      "C:\\Users\\jkepler\\AppData\\Local\\Temp\\ipykernel_21608\\21534768.py:17: SettingWithCopyWarning: \n",
      "A value is trying to be set on a copy of a slice from a DataFrame.\n",
      "Try using .loc[row_indexer,col_indexer] = value instead\n",
      "\n",
      "See the caveats in the documentation: https://pandas.pydata.org/pandas-docs/stable/user_guide/indexing.html#returning-a-view-versus-a-copy\n",
      "  pos_df[stat + '_y_pred_gbf'] = gbr_predictions\n"
     ]
    },
    {
     "name": "stdout",
     "output_type": "stream",
     "text": [
      "rtd_sh_2nd_year_stats\n"
     ]
    },
    {
     "name": "stderr",
     "output_type": "stream",
     "text": [
      "C:\\Users\\jkepler\\AppData\\Local\\Temp\\ipykernel_21608\\21534768.py:17: SettingWithCopyWarning: \n",
      "A value is trying to be set on a copy of a slice from a DataFrame.\n",
      "Try using .loc[row_indexer,col_indexer] = value instead\n",
      "\n",
      "See the caveats in the documentation: https://pandas.pydata.org/pandas-docs/stable/user_guide/indexing.html#returning-a-view-versus-a-copy\n",
      "  pos_df[stat + '_y_pred_gbf'] = gbr_predictions\n"
     ]
    },
    {
     "name": "stdout",
     "output_type": "stream",
     "text": [
      "rfd_sh_2nd_year_stats\n"
     ]
    },
    {
     "name": "stderr",
     "output_type": "stream",
     "text": [
      "C:\\Users\\jkepler\\AppData\\Local\\Temp\\ipykernel_21608\\21534768.py:17: SettingWithCopyWarning: \n",
      "A value is trying to be set on a copy of a slice from a DataFrame.\n",
      "Try using .loc[row_indexer,col_indexer] = value instead\n",
      "\n",
      "See the caveats in the documentation: https://pandas.pydata.org/pandas-docs/stable/user_guide/indexing.html#returning-a-view-versus-a-copy\n",
      "  pos_df[stat + '_y_pred_gbf'] = gbr_predictions\n"
     ]
    },
    {
     "name": "stdout",
     "output_type": "stream",
     "text": [
      "dom_2nd_year_stats\n"
     ]
    },
    {
     "name": "stderr",
     "output_type": "stream",
     "text": [
      "C:\\Users\\jkepler\\AppData\\Local\\Temp\\ipykernel_21608\\21534768.py:17: SettingWithCopyWarning: \n",
      "A value is trying to be set on a copy of a slice from a DataFrame.\n",
      "Try using .loc[row_indexer,col_indexer] = value instead\n",
      "\n",
      "See the caveats in the documentation: https://pandas.pydata.org/pandas-docs/stable/user_guide/indexing.html#returning-a-view-versus-a-copy\n",
      "  pos_df[stat + '_y_pred_gbf'] = gbr_predictions\n"
     ]
    },
    {
     "name": "stdout",
     "output_type": "stream",
     "text": [
      "yptmpa_2nd_year_stats\n"
     ]
    },
    {
     "name": "stderr",
     "output_type": "stream",
     "text": [
      "C:\\Users\\jkepler\\AppData\\Local\\Temp\\ipykernel_21608\\21534768.py:17: SettingWithCopyWarning: \n",
      "A value is trying to be set on a copy of a slice from a DataFrame.\n",
      "Try using .loc[row_indexer,col_indexer] = value instead\n",
      "\n",
      "See the caveats in the documentation: https://pandas.pydata.org/pandas-docs/stable/user_guide/indexing.html#returning-a-view-versus-a-copy\n",
      "  pos_df[stat + '_y_pred_gbf'] = gbr_predictions\n"
     ]
    },
    {
     "name": "stdout",
     "output_type": "stream",
     "text": [
      "WR\n",
      "games_2nd_year_stats\n"
     ]
    },
    {
     "name": "stderr",
     "output_type": "stream",
     "text": [
      "C:\\Users\\jkepler\\AppData\\Local\\Temp\\ipykernel_21608\\21534768.py:17: SettingWithCopyWarning: \n",
      "A value is trying to be set on a copy of a slice from a DataFrame.\n",
      "Try using .loc[row_indexer,col_indexer] = value instead\n",
      "\n",
      "See the caveats in the documentation: https://pandas.pydata.org/pandas-docs/stable/user_guide/indexing.html#returning-a-view-versus-a-copy\n",
      "  pos_df[stat + '_y_pred_gbf'] = gbr_predictions\n"
     ]
    },
    {
     "name": "stdout",
     "output_type": "stream",
     "text": [
      "passing_yards_2nd_year_stats\n"
     ]
    },
    {
     "name": "stderr",
     "output_type": "stream",
     "text": [
      "C:\\Users\\jkepler\\AppData\\Local\\Temp\\ipykernel_21608\\21534768.py:17: SettingWithCopyWarning: \n",
      "A value is trying to be set on a copy of a slice from a DataFrame.\n",
      "Try using .loc[row_indexer,col_indexer] = value instead\n",
      "\n",
      "See the caveats in the documentation: https://pandas.pydata.org/pandas-docs/stable/user_guide/indexing.html#returning-a-view-versus-a-copy\n",
      "  pos_df[stat + '_y_pred_gbf'] = gbr_predictions\n",
      "C:\\Users\\jkepler\\AppData\\Local\\Temp\\ipykernel_21608\\21534768.py:17: SettingWithCopyWarning: \n",
      "A value is trying to be set on a copy of a slice from a DataFrame.\n",
      "Try using .loc[row_indexer,col_indexer] = value instead\n",
      "\n",
      "See the caveats in the documentation: https://pandas.pydata.org/pandas-docs/stable/user_guide/indexing.html#returning-a-view-versus-a-copy\n",
      "  pos_df[stat + '_y_pred_gbf'] = gbr_predictions\n",
      "C:\\Users\\jkepler\\AppData\\Local\\Temp\\ipykernel_21608\\21534768.py:17: SettingWithCopyWarning: \n",
      "A value is trying to be set on a copy of a slice from a DataFrame.\n",
      "Try using .loc[row_indexer,col_indexer] = value instead\n",
      "\n",
      "See the caveats in the documentation: https://pandas.pydata.org/pandas-docs/stable/user_guide/indexing.html#returning-a-view-versus-a-copy\n",
      "  pos_df[stat + '_y_pred_gbf'] = gbr_predictions\n"
     ]
    },
    {
     "name": "stdout",
     "output_type": "stream",
     "text": [
      "passing_tds_2nd_year_stats\n",
      "interceptions_2nd_year_stats\n",
      "sacks_2nd_year_stats\n"
     ]
    },
    {
     "name": "stderr",
     "output_type": "stream",
     "text": [
      "C:\\Users\\jkepler\\AppData\\Local\\Temp\\ipykernel_21608\\21534768.py:17: SettingWithCopyWarning: \n",
      "A value is trying to be set on a copy of a slice from a DataFrame.\n",
      "Try using .loc[row_indexer,col_indexer] = value instead\n",
      "\n",
      "See the caveats in the documentation: https://pandas.pydata.org/pandas-docs/stable/user_guide/indexing.html#returning-a-view-versus-a-copy\n",
      "  pos_df[stat + '_y_pred_gbf'] = gbr_predictions\n"
     ]
    },
    {
     "name": "stdout",
     "output_type": "stream",
     "text": [
      "sack_yards_2nd_year_stats\n"
     ]
    },
    {
     "name": "stderr",
     "output_type": "stream",
     "text": [
      "C:\\Users\\jkepler\\AppData\\Local\\Temp\\ipykernel_21608\\21534768.py:17: SettingWithCopyWarning: \n",
      "A value is trying to be set on a copy of a slice from a DataFrame.\n",
      "Try using .loc[row_indexer,col_indexer] = value instead\n",
      "\n",
      "See the caveats in the documentation: https://pandas.pydata.org/pandas-docs/stable/user_guide/indexing.html#returning-a-view-versus-a-copy\n",
      "  pos_df[stat + '_y_pred_gbf'] = gbr_predictions\n"
     ]
    },
    {
     "name": "stdout",
     "output_type": "stream",
     "text": [
      "passing_air_yards_2nd_year_stats\n"
     ]
    },
    {
     "name": "stderr",
     "output_type": "stream",
     "text": [
      "C:\\Users\\jkepler\\AppData\\Local\\Temp\\ipykernel_21608\\21534768.py:17: SettingWithCopyWarning: \n",
      "A value is trying to be set on a copy of a slice from a DataFrame.\n",
      "Try using .loc[row_indexer,col_indexer] = value instead\n",
      "\n",
      "See the caveats in the documentation: https://pandas.pydata.org/pandas-docs/stable/user_guide/indexing.html#returning-a-view-versus-a-copy\n",
      "  pos_df[stat + '_y_pred_gbf'] = gbr_predictions\n"
     ]
    },
    {
     "name": "stdout",
     "output_type": "stream",
     "text": [
      "passing_yards_after_catch_2nd_year_stats\n"
     ]
    },
    {
     "name": "stderr",
     "output_type": "stream",
     "text": [
      "C:\\Users\\jkepler\\AppData\\Local\\Temp\\ipykernel_21608\\21534768.py:17: SettingWithCopyWarning: \n",
      "A value is trying to be set on a copy of a slice from a DataFrame.\n",
      "Try using .loc[row_indexer,col_indexer] = value instead\n",
      "\n",
      "See the caveats in the documentation: https://pandas.pydata.org/pandas-docs/stable/user_guide/indexing.html#returning-a-view-versus-a-copy\n",
      "  pos_df[stat + '_y_pred_gbf'] = gbr_predictions\n"
     ]
    },
    {
     "name": "stdout",
     "output_type": "stream",
     "text": [
      "passing_first_downs_2nd_year_stats\n"
     ]
    },
    {
     "name": "stderr",
     "output_type": "stream",
     "text": [
      "C:\\Users\\jkepler\\AppData\\Local\\Temp\\ipykernel_21608\\21534768.py:17: SettingWithCopyWarning: \n",
      "A value is trying to be set on a copy of a slice from a DataFrame.\n",
      "Try using .loc[row_indexer,col_indexer] = value instead\n",
      "\n",
      "See the caveats in the documentation: https://pandas.pydata.org/pandas-docs/stable/user_guide/indexing.html#returning-a-view-versus-a-copy\n",
      "  pos_df[stat + '_y_pred_gbf'] = gbr_predictions\n"
     ]
    },
    {
     "name": "stdout",
     "output_type": "stream",
     "text": [
      "passing_epa_2nd_year_stats\n"
     ]
    },
    {
     "name": "stderr",
     "output_type": "stream",
     "text": [
      "C:\\Users\\jkepler\\AppData\\Local\\Temp\\ipykernel_21608\\21534768.py:17: SettingWithCopyWarning: \n",
      "A value is trying to be set on a copy of a slice from a DataFrame.\n",
      "Try using .loc[row_indexer,col_indexer] = value instead\n",
      "\n",
      "See the caveats in the documentation: https://pandas.pydata.org/pandas-docs/stable/user_guide/indexing.html#returning-a-view-versus-a-copy\n",
      "  pos_df[stat + '_y_pred_gbf'] = gbr_predictions\n"
     ]
    },
    {
     "name": "stdout",
     "output_type": "stream",
     "text": [
      "pacr_2nd_year_stats\n"
     ]
    },
    {
     "name": "stderr",
     "output_type": "stream",
     "text": [
      "C:\\Users\\jkepler\\AppData\\Local\\Temp\\ipykernel_21608\\21534768.py:17: SettingWithCopyWarning: \n",
      "A value is trying to be set on a copy of a slice from a DataFrame.\n",
      "Try using .loc[row_indexer,col_indexer] = value instead\n",
      "\n",
      "See the caveats in the documentation: https://pandas.pydata.org/pandas-docs/stable/user_guide/indexing.html#returning-a-view-versus-a-copy\n",
      "  pos_df[stat + '_y_pred_gbf'] = gbr_predictions\n",
      "C:\\Users\\jkepler\\AppData\\Local\\Temp\\ipykernel_21608\\21534768.py:17: SettingWithCopyWarning: \n",
      "A value is trying to be set on a copy of a slice from a DataFrame.\n",
      "Try using .loc[row_indexer,col_indexer] = value instead\n",
      "\n",
      "See the caveats in the documentation: https://pandas.pydata.org/pandas-docs/stable/user_guide/indexing.html#returning-a-view-versus-a-copy\n",
      "  pos_df[stat + '_y_pred_gbf'] = gbr_predictions\n"
     ]
    },
    {
     "name": "stdout",
     "output_type": "stream",
     "text": [
      "dakota_2nd_year_stats\n",
      "rushing_yards_2nd_year_stats\n"
     ]
    },
    {
     "name": "stderr",
     "output_type": "stream",
     "text": [
      "C:\\Users\\jkepler\\AppData\\Local\\Temp\\ipykernel_21608\\21534768.py:17: SettingWithCopyWarning: \n",
      "A value is trying to be set on a copy of a slice from a DataFrame.\n",
      "Try using .loc[row_indexer,col_indexer] = value instead\n",
      "\n",
      "See the caveats in the documentation: https://pandas.pydata.org/pandas-docs/stable/user_guide/indexing.html#returning-a-view-versus-a-copy\n",
      "  pos_df[stat + '_y_pred_gbf'] = gbr_predictions\n"
     ]
    },
    {
     "name": "stdout",
     "output_type": "stream",
     "text": [
      "rushing_tds_2nd_year_stats\n"
     ]
    },
    {
     "name": "stderr",
     "output_type": "stream",
     "text": [
      "C:\\Users\\jkepler\\AppData\\Local\\Temp\\ipykernel_21608\\21534768.py:17: SettingWithCopyWarning: \n",
      "A value is trying to be set on a copy of a slice from a DataFrame.\n",
      "Try using .loc[row_indexer,col_indexer] = value instead\n",
      "\n",
      "See the caveats in the documentation: https://pandas.pydata.org/pandas-docs/stable/user_guide/indexing.html#returning-a-view-versus-a-copy\n",
      "  pos_df[stat + '_y_pred_gbf'] = gbr_predictions\n"
     ]
    },
    {
     "name": "stdout",
     "output_type": "stream",
     "text": [
      "rushing_fumbles_2nd_year_stats\n"
     ]
    },
    {
     "name": "stderr",
     "output_type": "stream",
     "text": [
      "C:\\Users\\jkepler\\AppData\\Local\\Temp\\ipykernel_21608\\21534768.py:17: SettingWithCopyWarning: \n",
      "A value is trying to be set on a copy of a slice from a DataFrame.\n",
      "Try using .loc[row_indexer,col_indexer] = value instead\n",
      "\n",
      "See the caveats in the documentation: https://pandas.pydata.org/pandas-docs/stable/user_guide/indexing.html#returning-a-view-versus-a-copy\n",
      "  pos_df[stat + '_y_pred_gbf'] = gbr_predictions\n"
     ]
    },
    {
     "name": "stdout",
     "output_type": "stream",
     "text": [
      "rushing_fumbles_lost_2nd_year_stats\n"
     ]
    },
    {
     "name": "stderr",
     "output_type": "stream",
     "text": [
      "C:\\Users\\jkepler\\AppData\\Local\\Temp\\ipykernel_21608\\21534768.py:17: SettingWithCopyWarning: \n",
      "A value is trying to be set on a copy of a slice from a DataFrame.\n",
      "Try using .loc[row_indexer,col_indexer] = value instead\n",
      "\n",
      "See the caveats in the documentation: https://pandas.pydata.org/pandas-docs/stable/user_guide/indexing.html#returning-a-view-versus-a-copy\n",
      "  pos_df[stat + '_y_pred_gbf'] = gbr_predictions\n"
     ]
    },
    {
     "name": "stdout",
     "output_type": "stream",
     "text": [
      "rushing_first_downs_2nd_year_stats\n"
     ]
    },
    {
     "name": "stderr",
     "output_type": "stream",
     "text": [
      "C:\\Users\\jkepler\\AppData\\Local\\Temp\\ipykernel_21608\\21534768.py:17: SettingWithCopyWarning: \n",
      "A value is trying to be set on a copy of a slice from a DataFrame.\n",
      "Try using .loc[row_indexer,col_indexer] = value instead\n",
      "\n",
      "See the caveats in the documentation: https://pandas.pydata.org/pandas-docs/stable/user_guide/indexing.html#returning-a-view-versus-a-copy\n",
      "  pos_df[stat + '_y_pred_gbf'] = gbr_predictions\n"
     ]
    },
    {
     "name": "stdout",
     "output_type": "stream",
     "text": [
      "rushing_epa_2nd_year_stats\n"
     ]
    },
    {
     "name": "stderr",
     "output_type": "stream",
     "text": [
      "C:\\Users\\jkepler\\AppData\\Local\\Temp\\ipykernel_21608\\21534768.py:17: SettingWithCopyWarning: \n",
      "A value is trying to be set on a copy of a slice from a DataFrame.\n",
      "Try using .loc[row_indexer,col_indexer] = value instead\n",
      "\n",
      "See the caveats in the documentation: https://pandas.pydata.org/pandas-docs/stable/user_guide/indexing.html#returning-a-view-versus-a-copy\n",
      "  pos_df[stat + '_y_pred_gbf'] = gbr_predictions\n"
     ]
    },
    {
     "name": "stdout",
     "output_type": "stream",
     "text": [
      "targets_2nd_year_stats\n"
     ]
    },
    {
     "name": "stderr",
     "output_type": "stream",
     "text": [
      "C:\\Users\\jkepler\\AppData\\Local\\Temp\\ipykernel_21608\\21534768.py:17: SettingWithCopyWarning: \n",
      "A value is trying to be set on a copy of a slice from a DataFrame.\n",
      "Try using .loc[row_indexer,col_indexer] = value instead\n",
      "\n",
      "See the caveats in the documentation: https://pandas.pydata.org/pandas-docs/stable/user_guide/indexing.html#returning-a-view-versus-a-copy\n",
      "  pos_df[stat + '_y_pred_gbf'] = gbr_predictions\n"
     ]
    },
    {
     "name": "stdout",
     "output_type": "stream",
     "text": [
      "receptions_2nd_year_stats\n"
     ]
    },
    {
     "name": "stderr",
     "output_type": "stream",
     "text": [
      "C:\\Users\\jkepler\\AppData\\Local\\Temp\\ipykernel_21608\\21534768.py:17: SettingWithCopyWarning: \n",
      "A value is trying to be set on a copy of a slice from a DataFrame.\n",
      "Try using .loc[row_indexer,col_indexer] = value instead\n",
      "\n",
      "See the caveats in the documentation: https://pandas.pydata.org/pandas-docs/stable/user_guide/indexing.html#returning-a-view-versus-a-copy\n",
      "  pos_df[stat + '_y_pred_gbf'] = gbr_predictions\n"
     ]
    },
    {
     "name": "stdout",
     "output_type": "stream",
     "text": [
      "receiving_yards_2nd_year_stats\n"
     ]
    },
    {
     "name": "stderr",
     "output_type": "stream",
     "text": [
      "C:\\Users\\jkepler\\AppData\\Local\\Temp\\ipykernel_21608\\21534768.py:17: SettingWithCopyWarning: \n",
      "A value is trying to be set on a copy of a slice from a DataFrame.\n",
      "Try using .loc[row_indexer,col_indexer] = value instead\n",
      "\n",
      "See the caveats in the documentation: https://pandas.pydata.org/pandas-docs/stable/user_guide/indexing.html#returning-a-view-versus-a-copy\n",
      "  pos_df[stat + '_y_pred_gbf'] = gbr_predictions\n"
     ]
    },
    {
     "name": "stdout",
     "output_type": "stream",
     "text": [
      "receiving_tds_2nd_year_stats\n"
     ]
    },
    {
     "name": "stderr",
     "output_type": "stream",
     "text": [
      "C:\\Users\\jkepler\\AppData\\Local\\Temp\\ipykernel_21608\\21534768.py:17: SettingWithCopyWarning: \n",
      "A value is trying to be set on a copy of a slice from a DataFrame.\n",
      "Try using .loc[row_indexer,col_indexer] = value instead\n",
      "\n",
      "See the caveats in the documentation: https://pandas.pydata.org/pandas-docs/stable/user_guide/indexing.html#returning-a-view-versus-a-copy\n",
      "  pos_df[stat + '_y_pred_gbf'] = gbr_predictions\n"
     ]
    },
    {
     "name": "stdout",
     "output_type": "stream",
     "text": [
      "receiving_fumbles_2nd_year_stats\n"
     ]
    },
    {
     "name": "stderr",
     "output_type": "stream",
     "text": [
      "C:\\Users\\jkepler\\AppData\\Local\\Temp\\ipykernel_21608\\21534768.py:17: SettingWithCopyWarning: \n",
      "A value is trying to be set on a copy of a slice from a DataFrame.\n",
      "Try using .loc[row_indexer,col_indexer] = value instead\n",
      "\n",
      "See the caveats in the documentation: https://pandas.pydata.org/pandas-docs/stable/user_guide/indexing.html#returning-a-view-versus-a-copy\n",
      "  pos_df[stat + '_y_pred_gbf'] = gbr_predictions\n"
     ]
    },
    {
     "name": "stdout",
     "output_type": "stream",
     "text": [
      "receiving_fumbles_lost_2nd_year_stats\n"
     ]
    },
    {
     "name": "stderr",
     "output_type": "stream",
     "text": [
      "C:\\Users\\jkepler\\AppData\\Local\\Temp\\ipykernel_21608\\21534768.py:17: SettingWithCopyWarning: \n",
      "A value is trying to be set on a copy of a slice from a DataFrame.\n",
      "Try using .loc[row_indexer,col_indexer] = value instead\n",
      "\n",
      "See the caveats in the documentation: https://pandas.pydata.org/pandas-docs/stable/user_guide/indexing.html#returning-a-view-versus-a-copy\n",
      "  pos_df[stat + '_y_pred_gbf'] = gbr_predictions\n"
     ]
    },
    {
     "name": "stdout",
     "output_type": "stream",
     "text": [
      "receiving_air_yards_2nd_year_stats\n"
     ]
    },
    {
     "name": "stderr",
     "output_type": "stream",
     "text": [
      "C:\\Users\\jkepler\\AppData\\Local\\Temp\\ipykernel_21608\\21534768.py:17: SettingWithCopyWarning: \n",
      "A value is trying to be set on a copy of a slice from a DataFrame.\n",
      "Try using .loc[row_indexer,col_indexer] = value instead\n",
      "\n",
      "See the caveats in the documentation: https://pandas.pydata.org/pandas-docs/stable/user_guide/indexing.html#returning-a-view-versus-a-copy\n",
      "  pos_df[stat + '_y_pred_gbf'] = gbr_predictions\n"
     ]
    },
    {
     "name": "stdout",
     "output_type": "stream",
     "text": [
      "receiving_yards_after_catch_2nd_year_stats\n"
     ]
    },
    {
     "name": "stderr",
     "output_type": "stream",
     "text": [
      "C:\\Users\\jkepler\\AppData\\Local\\Temp\\ipykernel_21608\\21534768.py:17: SettingWithCopyWarning: \n",
      "A value is trying to be set on a copy of a slice from a DataFrame.\n",
      "Try using .loc[row_indexer,col_indexer] = value instead\n",
      "\n",
      "See the caveats in the documentation: https://pandas.pydata.org/pandas-docs/stable/user_guide/indexing.html#returning-a-view-versus-a-copy\n",
      "  pos_df[stat + '_y_pred_gbf'] = gbr_predictions\n"
     ]
    },
    {
     "name": "stdout",
     "output_type": "stream",
     "text": [
      "receiving_first_downs_2nd_year_stats\n"
     ]
    },
    {
     "name": "stderr",
     "output_type": "stream",
     "text": [
      "C:\\Users\\jkepler\\AppData\\Local\\Temp\\ipykernel_21608\\21534768.py:17: SettingWithCopyWarning: \n",
      "A value is trying to be set on a copy of a slice from a DataFrame.\n",
      "Try using .loc[row_indexer,col_indexer] = value instead\n",
      "\n",
      "See the caveats in the documentation: https://pandas.pydata.org/pandas-docs/stable/user_guide/indexing.html#returning-a-view-versus-a-copy\n",
      "  pos_df[stat + '_y_pred_gbf'] = gbr_predictions\n"
     ]
    },
    {
     "name": "stdout",
     "output_type": "stream",
     "text": [
      "receiving_epa_2nd_year_stats\n"
     ]
    },
    {
     "name": "stderr",
     "output_type": "stream",
     "text": [
      "C:\\Users\\jkepler\\AppData\\Local\\Temp\\ipykernel_21608\\21534768.py:17: SettingWithCopyWarning: \n",
      "A value is trying to be set on a copy of a slice from a DataFrame.\n",
      "Try using .loc[row_indexer,col_indexer] = value instead\n",
      "\n",
      "See the caveats in the documentation: https://pandas.pydata.org/pandas-docs/stable/user_guide/indexing.html#returning-a-view-versus-a-copy\n",
      "  pos_df[stat + '_y_pred_gbf'] = gbr_predictions\n"
     ]
    },
    {
     "name": "stdout",
     "output_type": "stream",
     "text": [
      "racr_2nd_year_stats\n"
     ]
    },
    {
     "name": "stderr",
     "output_type": "stream",
     "text": [
      "C:\\Users\\jkepler\\AppData\\Local\\Temp\\ipykernel_21608\\21534768.py:17: SettingWithCopyWarning: \n",
      "A value is trying to be set on a copy of a slice from a DataFrame.\n",
      "Try using .loc[row_indexer,col_indexer] = value instead\n",
      "\n",
      "See the caveats in the documentation: https://pandas.pydata.org/pandas-docs/stable/user_guide/indexing.html#returning-a-view-versus-a-copy\n",
      "  pos_df[stat + '_y_pred_gbf'] = gbr_predictions\n"
     ]
    },
    {
     "name": "stdout",
     "output_type": "stream",
     "text": [
      "air_yards_share_2nd_year_stats\n"
     ]
    },
    {
     "name": "stderr",
     "output_type": "stream",
     "text": [
      "C:\\Users\\jkepler\\AppData\\Local\\Temp\\ipykernel_21608\\21534768.py:17: SettingWithCopyWarning: \n",
      "A value is trying to be set on a copy of a slice from a DataFrame.\n",
      "Try using .loc[row_indexer,col_indexer] = value instead\n",
      "\n",
      "See the caveats in the documentation: https://pandas.pydata.org/pandas-docs/stable/user_guide/indexing.html#returning-a-view-versus-a-copy\n",
      "  pos_df[stat + '_y_pred_gbf'] = gbr_predictions\n"
     ]
    },
    {
     "name": "stdout",
     "output_type": "stream",
     "text": [
      "wopr_x_2nd_year_stats\n"
     ]
    },
    {
     "name": "stderr",
     "output_type": "stream",
     "text": [
      "C:\\Users\\jkepler\\AppData\\Local\\Temp\\ipykernel_21608\\21534768.py:17: SettingWithCopyWarning: \n",
      "A value is trying to be set on a copy of a slice from a DataFrame.\n",
      "Try using .loc[row_indexer,col_indexer] = value instead\n",
      "\n",
      "See the caveats in the documentation: https://pandas.pydata.org/pandas-docs/stable/user_guide/indexing.html#returning-a-view-versus-a-copy\n",
      "  pos_df[stat + '_y_pred_gbf'] = gbr_predictions\n"
     ]
    },
    {
     "name": "stdout",
     "output_type": "stream",
     "text": [
      "special_teams_tds_2nd_year_stats\n"
     ]
    },
    {
     "name": "stderr",
     "output_type": "stream",
     "text": [
      "C:\\Users\\jkepler\\AppData\\Local\\Temp\\ipykernel_21608\\21534768.py:17: SettingWithCopyWarning: \n",
      "A value is trying to be set on a copy of a slice from a DataFrame.\n",
      "Try using .loc[row_indexer,col_indexer] = value instead\n",
      "\n",
      "See the caveats in the documentation: https://pandas.pydata.org/pandas-docs/stable/user_guide/indexing.html#returning-a-view-versus-a-copy\n",
      "  pos_df[stat + '_y_pred_gbf'] = gbr_predictions\n"
     ]
    },
    {
     "name": "stdout",
     "output_type": "stream",
     "text": [
      "tgt_sh_2nd_year_stats\n"
     ]
    },
    {
     "name": "stderr",
     "output_type": "stream",
     "text": [
      "C:\\Users\\jkepler\\AppData\\Local\\Temp\\ipykernel_21608\\21534768.py:17: SettingWithCopyWarning: \n",
      "A value is trying to be set on a copy of a slice from a DataFrame.\n",
      "Try using .loc[row_indexer,col_indexer] = value instead\n",
      "\n",
      "See the caveats in the documentation: https://pandas.pydata.org/pandas-docs/stable/user_guide/indexing.html#returning-a-view-versus-a-copy\n",
      "  pos_df[stat + '_y_pred_gbf'] = gbr_predictions\n"
     ]
    },
    {
     "name": "stdout",
     "output_type": "stream",
     "text": [
      "ay_sh_2nd_year_stats\n"
     ]
    },
    {
     "name": "stderr",
     "output_type": "stream",
     "text": [
      "C:\\Users\\jkepler\\AppData\\Local\\Temp\\ipykernel_21608\\21534768.py:17: SettingWithCopyWarning: \n",
      "A value is trying to be set on a copy of a slice from a DataFrame.\n",
      "Try using .loc[row_indexer,col_indexer] = value instead\n",
      "\n",
      "See the caveats in the documentation: https://pandas.pydata.org/pandas-docs/stable/user_guide/indexing.html#returning-a-view-versus-a-copy\n",
      "  pos_df[stat + '_y_pred_gbf'] = gbr_predictions\n"
     ]
    },
    {
     "name": "stdout",
     "output_type": "stream",
     "text": [
      "yac_sh_2nd_year_stats\n"
     ]
    },
    {
     "name": "stderr",
     "output_type": "stream",
     "text": [
      "C:\\Users\\jkepler\\AppData\\Local\\Temp\\ipykernel_21608\\21534768.py:17: SettingWithCopyWarning: \n",
      "A value is trying to be set on a copy of a slice from a DataFrame.\n",
      "Try using .loc[row_indexer,col_indexer] = value instead\n",
      "\n",
      "See the caveats in the documentation: https://pandas.pydata.org/pandas-docs/stable/user_guide/indexing.html#returning-a-view-versus-a-copy\n",
      "  pos_df[stat + '_y_pred_gbf'] = gbr_predictions\n"
     ]
    },
    {
     "name": "stdout",
     "output_type": "stream",
     "text": [
      "wopr_y_2nd_year_stats\n"
     ]
    },
    {
     "name": "stderr",
     "output_type": "stream",
     "text": [
      "C:\\Users\\jkepler\\AppData\\Local\\Temp\\ipykernel_21608\\21534768.py:17: SettingWithCopyWarning: \n",
      "A value is trying to be set on a copy of a slice from a DataFrame.\n",
      "Try using .loc[row_indexer,col_indexer] = value instead\n",
      "\n",
      "See the caveats in the documentation: https://pandas.pydata.org/pandas-docs/stable/user_guide/indexing.html#returning-a-view-versus-a-copy\n",
      "  pos_df[stat + '_y_pred_gbf'] = gbr_predictions\n"
     ]
    },
    {
     "name": "stdout",
     "output_type": "stream",
     "text": [
      "ry_sh_2nd_year_stats\n"
     ]
    },
    {
     "name": "stderr",
     "output_type": "stream",
     "text": [
      "C:\\Users\\jkepler\\AppData\\Local\\Temp\\ipykernel_21608\\21534768.py:17: SettingWithCopyWarning: \n",
      "A value is trying to be set on a copy of a slice from a DataFrame.\n",
      "Try using .loc[row_indexer,col_indexer] = value instead\n",
      "\n",
      "See the caveats in the documentation: https://pandas.pydata.org/pandas-docs/stable/user_guide/indexing.html#returning-a-view-versus-a-copy\n",
      "  pos_df[stat + '_y_pred_gbf'] = gbr_predictions\n"
     ]
    },
    {
     "name": "stdout",
     "output_type": "stream",
     "text": [
      "rtd_sh_2nd_year_stats\n"
     ]
    },
    {
     "name": "stderr",
     "output_type": "stream",
     "text": [
      "C:\\Users\\jkepler\\AppData\\Local\\Temp\\ipykernel_21608\\21534768.py:17: SettingWithCopyWarning: \n",
      "A value is trying to be set on a copy of a slice from a DataFrame.\n",
      "Try using .loc[row_indexer,col_indexer] = value instead\n",
      "\n",
      "See the caveats in the documentation: https://pandas.pydata.org/pandas-docs/stable/user_guide/indexing.html#returning-a-view-versus-a-copy\n",
      "  pos_df[stat + '_y_pred_gbf'] = gbr_predictions\n"
     ]
    },
    {
     "name": "stdout",
     "output_type": "stream",
     "text": [
      "rfd_sh_2nd_year_stats\n"
     ]
    },
    {
     "name": "stderr",
     "output_type": "stream",
     "text": [
      "C:\\Users\\jkepler\\AppData\\Local\\Temp\\ipykernel_21608\\21534768.py:17: SettingWithCopyWarning: \n",
      "A value is trying to be set on a copy of a slice from a DataFrame.\n",
      "Try using .loc[row_indexer,col_indexer] = value instead\n",
      "\n",
      "See the caveats in the documentation: https://pandas.pydata.org/pandas-docs/stable/user_guide/indexing.html#returning-a-view-versus-a-copy\n",
      "  pos_df[stat + '_y_pred_gbf'] = gbr_predictions\n"
     ]
    },
    {
     "name": "stdout",
     "output_type": "stream",
     "text": [
      "dom_2nd_year_stats\n"
     ]
    },
    {
     "name": "stderr",
     "output_type": "stream",
     "text": [
      "C:\\Users\\jkepler\\AppData\\Local\\Temp\\ipykernel_21608\\21534768.py:17: SettingWithCopyWarning: \n",
      "A value is trying to be set on a copy of a slice from a DataFrame.\n",
      "Try using .loc[row_indexer,col_indexer] = value instead\n",
      "\n",
      "See the caveats in the documentation: https://pandas.pydata.org/pandas-docs/stable/user_guide/indexing.html#returning-a-view-versus-a-copy\n",
      "  pos_df[stat + '_y_pred_gbf'] = gbr_predictions\n"
     ]
    },
    {
     "name": "stdout",
     "output_type": "stream",
     "text": [
      "yptmpa_2nd_year_stats\n"
     ]
    },
    {
     "name": "stderr",
     "output_type": "stream",
     "text": [
      "C:\\Users\\jkepler\\AppData\\Local\\Temp\\ipykernel_21608\\21534768.py:17: SettingWithCopyWarning: \n",
      "A value is trying to be set on a copy of a slice from a DataFrame.\n",
      "Try using .loc[row_indexer,col_indexer] = value instead\n",
      "\n",
      "See the caveats in the documentation: https://pandas.pydata.org/pandas-docs/stable/user_guide/indexing.html#returning-a-view-versus-a-copy\n",
      "  pos_df[stat + '_y_pred_gbf'] = gbr_predictions\n"
     ]
    },
    {
     "name": "stdout",
     "output_type": "stream",
     "text": [
      "TE\n",
      "games_2nd_year_stats\n"
     ]
    },
    {
     "name": "stderr",
     "output_type": "stream",
     "text": [
      "C:\\Users\\jkepler\\AppData\\Local\\Temp\\ipykernel_21608\\21534768.py:17: SettingWithCopyWarning: \n",
      "A value is trying to be set on a copy of a slice from a DataFrame.\n",
      "Try using .loc[row_indexer,col_indexer] = value instead\n",
      "\n",
      "See the caveats in the documentation: https://pandas.pydata.org/pandas-docs/stable/user_guide/indexing.html#returning-a-view-versus-a-copy\n",
      "  pos_df[stat + '_y_pred_gbf'] = gbr_predictions\n"
     ]
    },
    {
     "name": "stdout",
     "output_type": "stream",
     "text": [
      "passing_yards_2nd_year_stats\n"
     ]
    },
    {
     "name": "stderr",
     "output_type": "stream",
     "text": [
      "C:\\Users\\jkepler\\AppData\\Local\\Temp\\ipykernel_21608\\21534768.py:17: SettingWithCopyWarning: \n",
      "A value is trying to be set on a copy of a slice from a DataFrame.\n",
      "Try using .loc[row_indexer,col_indexer] = value instead\n",
      "\n",
      "See the caveats in the documentation: https://pandas.pydata.org/pandas-docs/stable/user_guide/indexing.html#returning-a-view-versus-a-copy\n",
      "  pos_df[stat + '_y_pred_gbf'] = gbr_predictions\n",
      "C:\\Users\\jkepler\\AppData\\Local\\Temp\\ipykernel_21608\\21534768.py:17: SettingWithCopyWarning: \n",
      "A value is trying to be set on a copy of a slice from a DataFrame.\n",
      "Try using .loc[row_indexer,col_indexer] = value instead\n",
      "\n",
      "See the caveats in the documentation: https://pandas.pydata.org/pandas-docs/stable/user_guide/indexing.html#returning-a-view-versus-a-copy\n",
      "  pos_df[stat + '_y_pred_gbf'] = gbr_predictions\n"
     ]
    },
    {
     "name": "stdout",
     "output_type": "stream",
     "text": [
      "passing_tds_2nd_year_stats\n",
      "interceptions_2nd_year_stats\n"
     ]
    },
    {
     "name": "stderr",
     "output_type": "stream",
     "text": [
      "C:\\Users\\jkepler\\AppData\\Local\\Temp\\ipykernel_21608\\21534768.py:17: SettingWithCopyWarning: \n",
      "A value is trying to be set on a copy of a slice from a DataFrame.\n",
      "Try using .loc[row_indexer,col_indexer] = value instead\n",
      "\n",
      "See the caveats in the documentation: https://pandas.pydata.org/pandas-docs/stable/user_guide/indexing.html#returning-a-view-versus-a-copy\n",
      "  pos_df[stat + '_y_pred_gbf'] = gbr_predictions\n",
      "C:\\Users\\jkepler\\AppData\\Local\\Temp\\ipykernel_21608\\21534768.py:17: SettingWithCopyWarning: \n",
      "A value is trying to be set on a copy of a slice from a DataFrame.\n",
      "Try using .loc[row_indexer,col_indexer] = value instead\n",
      "\n",
      "See the caveats in the documentation: https://pandas.pydata.org/pandas-docs/stable/user_guide/indexing.html#returning-a-view-versus-a-copy\n",
      "  pos_df[stat + '_y_pred_gbf'] = gbr_predictions\n",
      "C:\\Users\\jkepler\\AppData\\Local\\Temp\\ipykernel_21608\\21534768.py:17: SettingWithCopyWarning: \n",
      "A value is trying to be set on a copy of a slice from a DataFrame.\n",
      "Try using .loc[row_indexer,col_indexer] = value instead\n",
      "\n",
      "See the caveats in the documentation: https://pandas.pydata.org/pandas-docs/stable/user_guide/indexing.html#returning-a-view-versus-a-copy\n",
      "  pos_df[stat + '_y_pred_gbf'] = gbr_predictions\n"
     ]
    },
    {
     "name": "stdout",
     "output_type": "stream",
     "text": [
      "sacks_2nd_year_stats\n",
      "sack_yards_2nd_year_stats\n",
      "passing_air_yards_2nd_year_stats\n"
     ]
    },
    {
     "name": "stderr",
     "output_type": "stream",
     "text": [
      "C:\\Users\\jkepler\\AppData\\Local\\Temp\\ipykernel_21608\\21534768.py:17: SettingWithCopyWarning: \n",
      "A value is trying to be set on a copy of a slice from a DataFrame.\n",
      "Try using .loc[row_indexer,col_indexer] = value instead\n",
      "\n",
      "See the caveats in the documentation: https://pandas.pydata.org/pandas-docs/stable/user_guide/indexing.html#returning-a-view-versus-a-copy\n",
      "  pos_df[stat + '_y_pred_gbf'] = gbr_predictions\n"
     ]
    },
    {
     "name": "stdout",
     "output_type": "stream",
     "text": [
      "passing_yards_after_catch_2nd_year_stats\n"
     ]
    },
    {
     "name": "stderr",
     "output_type": "stream",
     "text": [
      "C:\\Users\\jkepler\\AppData\\Local\\Temp\\ipykernel_21608\\21534768.py:17: SettingWithCopyWarning: \n",
      "A value is trying to be set on a copy of a slice from a DataFrame.\n",
      "Try using .loc[row_indexer,col_indexer] = value instead\n",
      "\n",
      "See the caveats in the documentation: https://pandas.pydata.org/pandas-docs/stable/user_guide/indexing.html#returning-a-view-versus-a-copy\n",
      "  pos_df[stat + '_y_pred_gbf'] = gbr_predictions\n"
     ]
    },
    {
     "name": "stdout",
     "output_type": "stream",
     "text": [
      "passing_first_downs_2nd_year_stats\n"
     ]
    },
    {
     "name": "stderr",
     "output_type": "stream",
     "text": [
      "C:\\Users\\jkepler\\AppData\\Local\\Temp\\ipykernel_21608\\21534768.py:17: SettingWithCopyWarning: \n",
      "A value is trying to be set on a copy of a slice from a DataFrame.\n",
      "Try using .loc[row_indexer,col_indexer] = value instead\n",
      "\n",
      "See the caveats in the documentation: https://pandas.pydata.org/pandas-docs/stable/user_guide/indexing.html#returning-a-view-versus-a-copy\n",
      "  pos_df[stat + '_y_pred_gbf'] = gbr_predictions\n"
     ]
    },
    {
     "name": "stdout",
     "output_type": "stream",
     "text": [
      "passing_epa_2nd_year_stats\n"
     ]
    },
    {
     "name": "stderr",
     "output_type": "stream",
     "text": [
      "C:\\Users\\jkepler\\AppData\\Local\\Temp\\ipykernel_21608\\21534768.py:17: SettingWithCopyWarning: \n",
      "A value is trying to be set on a copy of a slice from a DataFrame.\n",
      "Try using .loc[row_indexer,col_indexer] = value instead\n",
      "\n",
      "See the caveats in the documentation: https://pandas.pydata.org/pandas-docs/stable/user_guide/indexing.html#returning-a-view-versus-a-copy\n",
      "  pos_df[stat + '_y_pred_gbf'] = gbr_predictions\n",
      "C:\\Users\\jkepler\\AppData\\Local\\Temp\\ipykernel_21608\\21534768.py:17: SettingWithCopyWarning: \n",
      "A value is trying to be set on a copy of a slice from a DataFrame.\n",
      "Try using .loc[row_indexer,col_indexer] = value instead\n",
      "\n",
      "See the caveats in the documentation: https://pandas.pydata.org/pandas-docs/stable/user_guide/indexing.html#returning-a-view-versus-a-copy\n",
      "  pos_df[stat + '_y_pred_gbf'] = gbr_predictions\n",
      "C:\\Users\\jkepler\\AppData\\Local\\Temp\\ipykernel_21608\\21534768.py:17: SettingWithCopyWarning: \n",
      "A value is trying to be set on a copy of a slice from a DataFrame.\n",
      "Try using .loc[row_indexer,col_indexer] = value instead\n",
      "\n",
      "See the caveats in the documentation: https://pandas.pydata.org/pandas-docs/stable/user_guide/indexing.html#returning-a-view-versus-a-copy\n",
      "  pos_df[stat + '_y_pred_gbf'] = gbr_predictions\n"
     ]
    },
    {
     "name": "stdout",
     "output_type": "stream",
     "text": [
      "pacr_2nd_year_stats\n",
      "dakota_2nd_year_stats\n",
      "rushing_yards_2nd_year_stats\n"
     ]
    },
    {
     "name": "stderr",
     "output_type": "stream",
     "text": [
      "C:\\Users\\jkepler\\AppData\\Local\\Temp\\ipykernel_21608\\21534768.py:17: SettingWithCopyWarning: \n",
      "A value is trying to be set on a copy of a slice from a DataFrame.\n",
      "Try using .loc[row_indexer,col_indexer] = value instead\n",
      "\n",
      "See the caveats in the documentation: https://pandas.pydata.org/pandas-docs/stable/user_guide/indexing.html#returning-a-view-versus-a-copy\n",
      "  pos_df[stat + '_y_pred_gbf'] = gbr_predictions\n"
     ]
    },
    {
     "name": "stdout",
     "output_type": "stream",
     "text": [
      "rushing_tds_2nd_year_stats\n"
     ]
    },
    {
     "name": "stderr",
     "output_type": "stream",
     "text": [
      "C:\\Users\\jkepler\\AppData\\Local\\Temp\\ipykernel_21608\\21534768.py:17: SettingWithCopyWarning: \n",
      "A value is trying to be set on a copy of a slice from a DataFrame.\n",
      "Try using .loc[row_indexer,col_indexer] = value instead\n",
      "\n",
      "See the caveats in the documentation: https://pandas.pydata.org/pandas-docs/stable/user_guide/indexing.html#returning-a-view-versus-a-copy\n",
      "  pos_df[stat + '_y_pred_gbf'] = gbr_predictions\n"
     ]
    },
    {
     "name": "stdout",
     "output_type": "stream",
     "text": [
      "rushing_fumbles_2nd_year_stats\n"
     ]
    },
    {
     "name": "stderr",
     "output_type": "stream",
     "text": [
      "C:\\Users\\jkepler\\AppData\\Local\\Temp\\ipykernel_21608\\21534768.py:17: SettingWithCopyWarning: \n",
      "A value is trying to be set on a copy of a slice from a DataFrame.\n",
      "Try using .loc[row_indexer,col_indexer] = value instead\n",
      "\n",
      "See the caveats in the documentation: https://pandas.pydata.org/pandas-docs/stable/user_guide/indexing.html#returning-a-view-versus-a-copy\n",
      "  pos_df[stat + '_y_pred_gbf'] = gbr_predictions\n"
     ]
    },
    {
     "name": "stdout",
     "output_type": "stream",
     "text": [
      "rushing_fumbles_lost_2nd_year_stats\n"
     ]
    },
    {
     "name": "stderr",
     "output_type": "stream",
     "text": [
      "C:\\Users\\jkepler\\AppData\\Local\\Temp\\ipykernel_21608\\21534768.py:17: SettingWithCopyWarning: \n",
      "A value is trying to be set on a copy of a slice from a DataFrame.\n",
      "Try using .loc[row_indexer,col_indexer] = value instead\n",
      "\n",
      "See the caveats in the documentation: https://pandas.pydata.org/pandas-docs/stable/user_guide/indexing.html#returning-a-view-versus-a-copy\n",
      "  pos_df[stat + '_y_pred_gbf'] = gbr_predictions\n"
     ]
    },
    {
     "name": "stdout",
     "output_type": "stream",
     "text": [
      "rushing_first_downs_2nd_year_stats\n"
     ]
    },
    {
     "name": "stderr",
     "output_type": "stream",
     "text": [
      "C:\\Users\\jkepler\\AppData\\Local\\Temp\\ipykernel_21608\\21534768.py:17: SettingWithCopyWarning: \n",
      "A value is trying to be set on a copy of a slice from a DataFrame.\n",
      "Try using .loc[row_indexer,col_indexer] = value instead\n",
      "\n",
      "See the caveats in the documentation: https://pandas.pydata.org/pandas-docs/stable/user_guide/indexing.html#returning-a-view-versus-a-copy\n",
      "  pos_df[stat + '_y_pred_gbf'] = gbr_predictions\n"
     ]
    },
    {
     "name": "stdout",
     "output_type": "stream",
     "text": [
      "rushing_epa_2nd_year_stats\n"
     ]
    },
    {
     "name": "stderr",
     "output_type": "stream",
     "text": [
      "C:\\Users\\jkepler\\AppData\\Local\\Temp\\ipykernel_21608\\21534768.py:17: SettingWithCopyWarning: \n",
      "A value is trying to be set on a copy of a slice from a DataFrame.\n",
      "Try using .loc[row_indexer,col_indexer] = value instead\n",
      "\n",
      "See the caveats in the documentation: https://pandas.pydata.org/pandas-docs/stable/user_guide/indexing.html#returning-a-view-versus-a-copy\n",
      "  pos_df[stat + '_y_pred_gbf'] = gbr_predictions\n"
     ]
    },
    {
     "name": "stdout",
     "output_type": "stream",
     "text": [
      "targets_2nd_year_stats\n"
     ]
    },
    {
     "name": "stderr",
     "output_type": "stream",
     "text": [
      "C:\\Users\\jkepler\\AppData\\Local\\Temp\\ipykernel_21608\\21534768.py:17: SettingWithCopyWarning: \n",
      "A value is trying to be set on a copy of a slice from a DataFrame.\n",
      "Try using .loc[row_indexer,col_indexer] = value instead\n",
      "\n",
      "See the caveats in the documentation: https://pandas.pydata.org/pandas-docs/stable/user_guide/indexing.html#returning-a-view-versus-a-copy\n",
      "  pos_df[stat + '_y_pred_gbf'] = gbr_predictions\n"
     ]
    },
    {
     "name": "stdout",
     "output_type": "stream",
     "text": [
      "receptions_2nd_year_stats\n"
     ]
    },
    {
     "name": "stderr",
     "output_type": "stream",
     "text": [
      "C:\\Users\\jkepler\\AppData\\Local\\Temp\\ipykernel_21608\\21534768.py:17: SettingWithCopyWarning: \n",
      "A value is trying to be set on a copy of a slice from a DataFrame.\n",
      "Try using .loc[row_indexer,col_indexer] = value instead\n",
      "\n",
      "See the caveats in the documentation: https://pandas.pydata.org/pandas-docs/stable/user_guide/indexing.html#returning-a-view-versus-a-copy\n",
      "  pos_df[stat + '_y_pred_gbf'] = gbr_predictions\n"
     ]
    },
    {
     "name": "stdout",
     "output_type": "stream",
     "text": [
      "receiving_yards_2nd_year_stats\n"
     ]
    },
    {
     "name": "stderr",
     "output_type": "stream",
     "text": [
      "C:\\Users\\jkepler\\AppData\\Local\\Temp\\ipykernel_21608\\21534768.py:17: SettingWithCopyWarning: \n",
      "A value is trying to be set on a copy of a slice from a DataFrame.\n",
      "Try using .loc[row_indexer,col_indexer] = value instead\n",
      "\n",
      "See the caveats in the documentation: https://pandas.pydata.org/pandas-docs/stable/user_guide/indexing.html#returning-a-view-versus-a-copy\n",
      "  pos_df[stat + '_y_pred_gbf'] = gbr_predictions\n"
     ]
    },
    {
     "name": "stdout",
     "output_type": "stream",
     "text": [
      "receiving_tds_2nd_year_stats\n"
     ]
    },
    {
     "name": "stderr",
     "output_type": "stream",
     "text": [
      "C:\\Users\\jkepler\\AppData\\Local\\Temp\\ipykernel_21608\\21534768.py:17: SettingWithCopyWarning: \n",
      "A value is trying to be set on a copy of a slice from a DataFrame.\n",
      "Try using .loc[row_indexer,col_indexer] = value instead\n",
      "\n",
      "See the caveats in the documentation: https://pandas.pydata.org/pandas-docs/stable/user_guide/indexing.html#returning-a-view-versus-a-copy\n",
      "  pos_df[stat + '_y_pred_gbf'] = gbr_predictions\n"
     ]
    },
    {
     "name": "stdout",
     "output_type": "stream",
     "text": [
      "receiving_fumbles_2nd_year_stats\n"
     ]
    },
    {
     "name": "stderr",
     "output_type": "stream",
     "text": [
      "C:\\Users\\jkepler\\AppData\\Local\\Temp\\ipykernel_21608\\21534768.py:17: SettingWithCopyWarning: \n",
      "A value is trying to be set on a copy of a slice from a DataFrame.\n",
      "Try using .loc[row_indexer,col_indexer] = value instead\n",
      "\n",
      "See the caveats in the documentation: https://pandas.pydata.org/pandas-docs/stable/user_guide/indexing.html#returning-a-view-versus-a-copy\n",
      "  pos_df[stat + '_y_pred_gbf'] = gbr_predictions\n"
     ]
    },
    {
     "name": "stdout",
     "output_type": "stream",
     "text": [
      "receiving_fumbles_lost_2nd_year_stats\n"
     ]
    },
    {
     "name": "stderr",
     "output_type": "stream",
     "text": [
      "C:\\Users\\jkepler\\AppData\\Local\\Temp\\ipykernel_21608\\21534768.py:17: SettingWithCopyWarning: \n",
      "A value is trying to be set on a copy of a slice from a DataFrame.\n",
      "Try using .loc[row_indexer,col_indexer] = value instead\n",
      "\n",
      "See the caveats in the documentation: https://pandas.pydata.org/pandas-docs/stable/user_guide/indexing.html#returning-a-view-versus-a-copy\n",
      "  pos_df[stat + '_y_pred_gbf'] = gbr_predictions\n"
     ]
    },
    {
     "name": "stdout",
     "output_type": "stream",
     "text": [
      "receiving_air_yards_2nd_year_stats\n"
     ]
    },
    {
     "name": "stderr",
     "output_type": "stream",
     "text": [
      "C:\\Users\\jkepler\\AppData\\Local\\Temp\\ipykernel_21608\\21534768.py:17: SettingWithCopyWarning: \n",
      "A value is trying to be set on a copy of a slice from a DataFrame.\n",
      "Try using .loc[row_indexer,col_indexer] = value instead\n",
      "\n",
      "See the caveats in the documentation: https://pandas.pydata.org/pandas-docs/stable/user_guide/indexing.html#returning-a-view-versus-a-copy\n",
      "  pos_df[stat + '_y_pred_gbf'] = gbr_predictions\n"
     ]
    },
    {
     "name": "stdout",
     "output_type": "stream",
     "text": [
      "receiving_yards_after_catch_2nd_year_stats\n"
     ]
    },
    {
     "name": "stderr",
     "output_type": "stream",
     "text": [
      "C:\\Users\\jkepler\\AppData\\Local\\Temp\\ipykernel_21608\\21534768.py:17: SettingWithCopyWarning: \n",
      "A value is trying to be set on a copy of a slice from a DataFrame.\n",
      "Try using .loc[row_indexer,col_indexer] = value instead\n",
      "\n",
      "See the caveats in the documentation: https://pandas.pydata.org/pandas-docs/stable/user_guide/indexing.html#returning-a-view-versus-a-copy\n",
      "  pos_df[stat + '_y_pred_gbf'] = gbr_predictions\n"
     ]
    },
    {
     "name": "stdout",
     "output_type": "stream",
     "text": [
      "receiving_first_downs_2nd_year_stats\n"
     ]
    },
    {
     "name": "stderr",
     "output_type": "stream",
     "text": [
      "C:\\Users\\jkepler\\AppData\\Local\\Temp\\ipykernel_21608\\21534768.py:17: SettingWithCopyWarning: \n",
      "A value is trying to be set on a copy of a slice from a DataFrame.\n",
      "Try using .loc[row_indexer,col_indexer] = value instead\n",
      "\n",
      "See the caveats in the documentation: https://pandas.pydata.org/pandas-docs/stable/user_guide/indexing.html#returning-a-view-versus-a-copy\n",
      "  pos_df[stat + '_y_pred_gbf'] = gbr_predictions\n"
     ]
    },
    {
     "name": "stdout",
     "output_type": "stream",
     "text": [
      "receiving_epa_2nd_year_stats\n"
     ]
    },
    {
     "name": "stderr",
     "output_type": "stream",
     "text": [
      "C:\\Users\\jkepler\\AppData\\Local\\Temp\\ipykernel_21608\\21534768.py:17: SettingWithCopyWarning: \n",
      "A value is trying to be set on a copy of a slice from a DataFrame.\n",
      "Try using .loc[row_indexer,col_indexer] = value instead\n",
      "\n",
      "See the caveats in the documentation: https://pandas.pydata.org/pandas-docs/stable/user_guide/indexing.html#returning-a-view-versus-a-copy\n",
      "  pos_df[stat + '_y_pred_gbf'] = gbr_predictions\n"
     ]
    },
    {
     "name": "stdout",
     "output_type": "stream",
     "text": [
      "racr_2nd_year_stats\n"
     ]
    },
    {
     "name": "stderr",
     "output_type": "stream",
     "text": [
      "C:\\Users\\jkepler\\AppData\\Local\\Temp\\ipykernel_21608\\21534768.py:17: SettingWithCopyWarning: \n",
      "A value is trying to be set on a copy of a slice from a DataFrame.\n",
      "Try using .loc[row_indexer,col_indexer] = value instead\n",
      "\n",
      "See the caveats in the documentation: https://pandas.pydata.org/pandas-docs/stable/user_guide/indexing.html#returning-a-view-versus-a-copy\n",
      "  pos_df[stat + '_y_pred_gbf'] = gbr_predictions\n"
     ]
    },
    {
     "name": "stdout",
     "output_type": "stream",
     "text": [
      "air_yards_share_2nd_year_stats\n"
     ]
    },
    {
     "name": "stderr",
     "output_type": "stream",
     "text": [
      "C:\\Users\\jkepler\\AppData\\Local\\Temp\\ipykernel_21608\\21534768.py:17: SettingWithCopyWarning: \n",
      "A value is trying to be set on a copy of a slice from a DataFrame.\n",
      "Try using .loc[row_indexer,col_indexer] = value instead\n",
      "\n",
      "See the caveats in the documentation: https://pandas.pydata.org/pandas-docs/stable/user_guide/indexing.html#returning-a-view-versus-a-copy\n",
      "  pos_df[stat + '_y_pred_gbf'] = gbr_predictions\n"
     ]
    },
    {
     "name": "stdout",
     "output_type": "stream",
     "text": [
      "wopr_x_2nd_year_stats\n"
     ]
    },
    {
     "name": "stderr",
     "output_type": "stream",
     "text": [
      "C:\\Users\\jkepler\\AppData\\Local\\Temp\\ipykernel_21608\\21534768.py:17: SettingWithCopyWarning: \n",
      "A value is trying to be set on a copy of a slice from a DataFrame.\n",
      "Try using .loc[row_indexer,col_indexer] = value instead\n",
      "\n",
      "See the caveats in the documentation: https://pandas.pydata.org/pandas-docs/stable/user_guide/indexing.html#returning-a-view-versus-a-copy\n",
      "  pos_df[stat + '_y_pred_gbf'] = gbr_predictions\n",
      "C:\\Users\\jkepler\\AppData\\Local\\Temp\\ipykernel_21608\\21534768.py:17: SettingWithCopyWarning: \n",
      "A value is trying to be set on a copy of a slice from a DataFrame.\n",
      "Try using .loc[row_indexer,col_indexer] = value instead\n",
      "\n",
      "See the caveats in the documentation: https://pandas.pydata.org/pandas-docs/stable/user_guide/indexing.html#returning-a-view-versus-a-copy\n",
      "  pos_df[stat + '_y_pred_gbf'] = gbr_predictions\n"
     ]
    },
    {
     "name": "stdout",
     "output_type": "stream",
     "text": [
      "special_teams_tds_2nd_year_stats\n",
      "tgt_sh_2nd_year_stats\n"
     ]
    },
    {
     "name": "stderr",
     "output_type": "stream",
     "text": [
      "C:\\Users\\jkepler\\AppData\\Local\\Temp\\ipykernel_21608\\21534768.py:17: SettingWithCopyWarning: \n",
      "A value is trying to be set on a copy of a slice from a DataFrame.\n",
      "Try using .loc[row_indexer,col_indexer] = value instead\n",
      "\n",
      "See the caveats in the documentation: https://pandas.pydata.org/pandas-docs/stable/user_guide/indexing.html#returning-a-view-versus-a-copy\n",
      "  pos_df[stat + '_y_pred_gbf'] = gbr_predictions\n"
     ]
    },
    {
     "name": "stdout",
     "output_type": "stream",
     "text": [
      "ay_sh_2nd_year_stats\n"
     ]
    },
    {
     "name": "stderr",
     "output_type": "stream",
     "text": [
      "C:\\Users\\jkepler\\AppData\\Local\\Temp\\ipykernel_21608\\21534768.py:17: SettingWithCopyWarning: \n",
      "A value is trying to be set on a copy of a slice from a DataFrame.\n",
      "Try using .loc[row_indexer,col_indexer] = value instead\n",
      "\n",
      "See the caveats in the documentation: https://pandas.pydata.org/pandas-docs/stable/user_guide/indexing.html#returning-a-view-versus-a-copy\n",
      "  pos_df[stat + '_y_pred_gbf'] = gbr_predictions\n"
     ]
    },
    {
     "name": "stdout",
     "output_type": "stream",
     "text": [
      "yac_sh_2nd_year_stats\n"
     ]
    },
    {
     "name": "stderr",
     "output_type": "stream",
     "text": [
      "C:\\Users\\jkepler\\AppData\\Local\\Temp\\ipykernel_21608\\21534768.py:17: SettingWithCopyWarning: \n",
      "A value is trying to be set on a copy of a slice from a DataFrame.\n",
      "Try using .loc[row_indexer,col_indexer] = value instead\n",
      "\n",
      "See the caveats in the documentation: https://pandas.pydata.org/pandas-docs/stable/user_guide/indexing.html#returning-a-view-versus-a-copy\n",
      "  pos_df[stat + '_y_pred_gbf'] = gbr_predictions\n"
     ]
    },
    {
     "name": "stdout",
     "output_type": "stream",
     "text": [
      "wopr_y_2nd_year_stats\n"
     ]
    },
    {
     "name": "stderr",
     "output_type": "stream",
     "text": [
      "C:\\Users\\jkepler\\AppData\\Local\\Temp\\ipykernel_21608\\21534768.py:17: SettingWithCopyWarning: \n",
      "A value is trying to be set on a copy of a slice from a DataFrame.\n",
      "Try using .loc[row_indexer,col_indexer] = value instead\n",
      "\n",
      "See the caveats in the documentation: https://pandas.pydata.org/pandas-docs/stable/user_guide/indexing.html#returning-a-view-versus-a-copy\n",
      "  pos_df[stat + '_y_pred_gbf'] = gbr_predictions\n"
     ]
    },
    {
     "name": "stdout",
     "output_type": "stream",
     "text": [
      "ry_sh_2nd_year_stats\n"
     ]
    },
    {
     "name": "stderr",
     "output_type": "stream",
     "text": [
      "C:\\Users\\jkepler\\AppData\\Local\\Temp\\ipykernel_21608\\21534768.py:17: SettingWithCopyWarning: \n",
      "A value is trying to be set on a copy of a slice from a DataFrame.\n",
      "Try using .loc[row_indexer,col_indexer] = value instead\n",
      "\n",
      "See the caveats in the documentation: https://pandas.pydata.org/pandas-docs/stable/user_guide/indexing.html#returning-a-view-versus-a-copy\n",
      "  pos_df[stat + '_y_pred_gbf'] = gbr_predictions\n"
     ]
    },
    {
     "name": "stdout",
     "output_type": "stream",
     "text": [
      "rtd_sh_2nd_year_stats\n"
     ]
    },
    {
     "name": "stderr",
     "output_type": "stream",
     "text": [
      "C:\\Users\\jkepler\\AppData\\Local\\Temp\\ipykernel_21608\\21534768.py:17: SettingWithCopyWarning: \n",
      "A value is trying to be set on a copy of a slice from a DataFrame.\n",
      "Try using .loc[row_indexer,col_indexer] = value instead\n",
      "\n",
      "See the caveats in the documentation: https://pandas.pydata.org/pandas-docs/stable/user_guide/indexing.html#returning-a-view-versus-a-copy\n",
      "  pos_df[stat + '_y_pred_gbf'] = gbr_predictions\n"
     ]
    },
    {
     "name": "stdout",
     "output_type": "stream",
     "text": [
      "rfd_sh_2nd_year_stats\n"
     ]
    },
    {
     "name": "stderr",
     "output_type": "stream",
     "text": [
      "C:\\Users\\jkepler\\AppData\\Local\\Temp\\ipykernel_21608\\21534768.py:17: SettingWithCopyWarning: \n",
      "A value is trying to be set on a copy of a slice from a DataFrame.\n",
      "Try using .loc[row_indexer,col_indexer] = value instead\n",
      "\n",
      "See the caveats in the documentation: https://pandas.pydata.org/pandas-docs/stable/user_guide/indexing.html#returning-a-view-versus-a-copy\n",
      "  pos_df[stat + '_y_pred_gbf'] = gbr_predictions\n"
     ]
    },
    {
     "name": "stdout",
     "output_type": "stream",
     "text": [
      "dom_2nd_year_stats\n"
     ]
    },
    {
     "name": "stderr",
     "output_type": "stream",
     "text": [
      "C:\\Users\\jkepler\\AppData\\Local\\Temp\\ipykernel_21608\\21534768.py:17: SettingWithCopyWarning: \n",
      "A value is trying to be set on a copy of a slice from a DataFrame.\n",
      "Try using .loc[row_indexer,col_indexer] = value instead\n",
      "\n",
      "See the caveats in the documentation: https://pandas.pydata.org/pandas-docs/stable/user_guide/indexing.html#returning-a-view-versus-a-copy\n",
      "  pos_df[stat + '_y_pred_gbf'] = gbr_predictions\n"
     ]
    },
    {
     "name": "stdout",
     "output_type": "stream",
     "text": [
      "yptmpa_2nd_year_stats\n"
     ]
    },
    {
     "name": "stderr",
     "output_type": "stream",
     "text": [
      "C:\\Users\\jkepler\\AppData\\Local\\Temp\\ipykernel_21608\\21534768.py:17: SettingWithCopyWarning: \n",
      "A value is trying to be set on a copy of a slice from a DataFrame.\n",
      "Try using .loc[row_indexer,col_indexer] = value instead\n",
      "\n",
      "See the caveats in the documentation: https://pandas.pydata.org/pandas-docs/stable/user_guide/indexing.html#returning-a-view-versus-a-copy\n",
      "  pos_df[stat + '_y_pred_gbf'] = gbr_predictions\n"
     ]
    },
    {
     "data": {
      "text/html": [
       "<div>\n",
       "<style scoped>\n",
       "    .dataframe tbody tr th:only-of-type {\n",
       "        vertical-align: middle;\n",
       "    }\n",
       "\n",
       "    .dataframe tbody tr th {\n",
       "        vertical-align: top;\n",
       "    }\n",
       "\n",
       "    .dataframe thead th {\n",
       "        text-align: right;\n",
       "    }\n",
       "</style>\n",
       "<table border=\"1\" class=\"dataframe\">\n",
       "  <thead>\n",
       "    <tr style=\"text-align: right;\">\n",
       "      <th></th>\n",
       "      <th>Unnamed: 0</th>\n",
       "      <th>index</th>\n",
       "      <th>season_1st_year_stats</th>\n",
       "      <th>cfb_id</th>\n",
       "      <th>player_name</th>\n",
       "      <th>pos</th>\n",
       "      <th>school</th>\n",
       "      <th>ht</th>\n",
       "      <th>wt</th>\n",
       "      <th>forty</th>\n",
       "      <th>...</th>\n",
       "      <th>special_teams_tds_2nd_year_stats_y_pred_gbf</th>\n",
       "      <th>tgt_sh_2nd_year_stats_y_pred_gbf</th>\n",
       "      <th>ay_sh_2nd_year_stats_y_pred_gbf</th>\n",
       "      <th>yac_sh_2nd_year_stats_y_pred_gbf</th>\n",
       "      <th>wopr_y_2nd_year_stats_y_pred_gbf</th>\n",
       "      <th>ry_sh_2nd_year_stats_y_pred_gbf</th>\n",
       "      <th>rtd_sh_2nd_year_stats_y_pred_gbf</th>\n",
       "      <th>rfd_sh_2nd_year_stats_y_pred_gbf</th>\n",
       "      <th>dom_2nd_year_stats_y_pred_gbf</th>\n",
       "      <th>yptmpa_2nd_year_stats_y_pred_gbf</th>\n",
       "    </tr>\n",
       "  </thead>\n",
       "  <tbody>\n",
       "    <tr>\n",
       "      <th>12</th>\n",
       "      <td>402.0</td>\n",
       "      <td>155.0</td>\n",
       "      <td>2015.0</td>\n",
       "      <td>brett-hundley-1</td>\n",
       "      <td>Brett Hundley</td>\n",
       "      <td>QB</td>\n",
       "      <td>UCLA</td>\n",
       "      <td>75.0</td>\n",
       "      <td>226.0</td>\n",
       "      <td>4.63</td>\n",
       "      <td>...</td>\n",
       "      <td>0.0</td>\n",
       "      <td>-0.000006</td>\n",
       "      <td>2.407841e-07</td>\n",
       "      <td>5.719253e-07</td>\n",
       "      <td>5.025389e-07</td>\n",
       "      <td>2.580232e-07</td>\n",
       "      <td>0.000002</td>\n",
       "      <td>3.567552e-07</td>\n",
       "      <td>0.000001</td>\n",
       "      <td>0.000002</td>\n",
       "    </tr>\n",
       "    <tr>\n",
       "      <th>13</th>\n",
       "      <td>432.0</td>\n",
       "      <td>191.0</td>\n",
       "      <td>2015.0</td>\n",
       "      <td>sean-mannion-1</td>\n",
       "      <td>Sean Mannion</td>\n",
       "      <td>QB</td>\n",
       "      <td>Oregon State</td>\n",
       "      <td>78.0</td>\n",
       "      <td>229.0</td>\n",
       "      <td>5.14</td>\n",
       "      <td>...</td>\n",
       "      <td>0.0</td>\n",
       "      <td>-0.000003</td>\n",
       "      <td>2.846089e-07</td>\n",
       "      <td>5.719253e-07</td>\n",
       "      <td>-4.908184e-06</td>\n",
       "      <td>2.580232e-07</td>\n",
       "      <td>0.000002</td>\n",
       "      <td>3.567552e-07</td>\n",
       "      <td>0.000001</td>\n",
       "      <td>0.000002</td>\n",
       "    </tr>\n",
       "    <tr>\n",
       "      <th>14</th>\n",
       "      <td>433.0</td>\n",
       "      <td>192.0</td>\n",
       "      <td>2015.0</td>\n",
       "      <td>marcus-mariota-1</td>\n",
       "      <td>Marcus Mariota</td>\n",
       "      <td>QB</td>\n",
       "      <td>Oregon</td>\n",
       "      <td>76.0</td>\n",
       "      <td>222.0</td>\n",
       "      <td>4.52</td>\n",
       "      <td>...</td>\n",
       "      <td>0.0</td>\n",
       "      <td>0.002065</td>\n",
       "      <td>3.947706e-03</td>\n",
       "      <td>5.719253e-07</td>\n",
       "      <td>6.272463e-03</td>\n",
       "      <td>2.580232e-07</td>\n",
       "      <td>0.000002</td>\n",
       "      <td>3.567552e-07</td>\n",
       "      <td>0.000001</td>\n",
       "      <td>0.000002</td>\n",
       "    </tr>\n",
       "    <tr>\n",
       "      <th>15</th>\n",
       "      <td>462.0</td>\n",
       "      <td>229.0</td>\n",
       "      <td>2015.0</td>\n",
       "      <td>bryce-petty-1</td>\n",
       "      <td>Bryce Petty</td>\n",
       "      <td>QB</td>\n",
       "      <td>Baylor</td>\n",
       "      <td>75.0</td>\n",
       "      <td>230.0</td>\n",
       "      <td>4.87</td>\n",
       "      <td>...</td>\n",
       "      <td>0.0</td>\n",
       "      <td>-0.000005</td>\n",
       "      <td>2.846089e-07</td>\n",
       "      <td>5.719253e-07</td>\n",
       "      <td>-4.908184e-06</td>\n",
       "      <td>2.580232e-07</td>\n",
       "      <td>0.000002</td>\n",
       "      <td>3.567552e-07</td>\n",
       "      <td>0.000001</td>\n",
       "      <td>0.000002</td>\n",
       "    </tr>\n",
       "    <tr>\n",
       "      <th>16</th>\n",
       "      <td>527.0</td>\n",
       "      <td>305.0</td>\n",
       "      <td>2015.0</td>\n",
       "      <td>jameis-winston-1</td>\n",
       "      <td>Jameis Winston</td>\n",
       "      <td>QB</td>\n",
       "      <td>Florida State</td>\n",
       "      <td>76.0</td>\n",
       "      <td>231.0</td>\n",
       "      <td>4.97</td>\n",
       "      <td>...</td>\n",
       "      <td>0.0</td>\n",
       "      <td>-0.000005</td>\n",
       "      <td>2.846089e-07</td>\n",
       "      <td>5.719253e-07</td>\n",
       "      <td>-4.521846e-06</td>\n",
       "      <td>2.580232e-07</td>\n",
       "      <td>0.000002</td>\n",
       "      <td>3.567552e-07</td>\n",
       "      <td>0.000001</td>\n",
       "      <td>0.000002</td>\n",
       "    </tr>\n",
       "    <tr>\n",
       "      <th>...</th>\n",
       "      <td>...</td>\n",
       "      <td>...</td>\n",
       "      <td>...</td>\n",
       "      <td>...</td>\n",
       "      <td>...</td>\n",
       "      <td>...</td>\n",
       "      <td>...</td>\n",
       "      <td>...</td>\n",
       "      <td>...</td>\n",
       "      <td>...</td>\n",
       "      <td>...</td>\n",
       "      <td>...</td>\n",
       "      <td>...</td>\n",
       "      <td>...</td>\n",
       "      <td>...</td>\n",
       "      <td>...</td>\n",
       "      <td>...</td>\n",
       "      <td>...</td>\n",
       "      <td>...</td>\n",
       "      <td>...</td>\n",
       "      <td>...</td>\n",
       "    </tr>\n",
       "    <tr>\n",
       "      <th>541</th>\n",
       "      <td>2871.0</td>\n",
       "      <td>2830.0</td>\n",
       "      <td>2023.0</td>\n",
       "      <td>brenton-strange-1</td>\n",
       "      <td>Brenton Strange</td>\n",
       "      <td>TE</td>\n",
       "      <td>Penn St.</td>\n",
       "      <td>76.0</td>\n",
       "      <td>253.0</td>\n",
       "      <td>4.75</td>\n",
       "      <td>...</td>\n",
       "      <td>0.0</td>\n",
       "      <td>0.068385</td>\n",
       "      <td>2.457607e-02</td>\n",
       "      <td>9.747611e-02</td>\n",
       "      <td>1.304862e-01</td>\n",
       "      <td>6.876139e-02</td>\n",
       "      <td>0.028166</td>\n",
       "      <td>8.029974e-02</td>\n",
       "      <td>0.053821</td>\n",
       "      <td>0.444813</td>\n",
       "    </tr>\n",
       "    <tr>\n",
       "      <th>542</th>\n",
       "      <td>2853.0</td>\n",
       "      <td>2810.0</td>\n",
       "      <td>2023.0</td>\n",
       "      <td>luke-schoonmaker-1</td>\n",
       "      <td>Luke Schoonmaker</td>\n",
       "      <td>TE</td>\n",
       "      <td>Michigan</td>\n",
       "      <td>77.0</td>\n",
       "      <td>251.0</td>\n",
       "      <td>4.75</td>\n",
       "      <td>...</td>\n",
       "      <td>0.0</td>\n",
       "      <td>0.047969</td>\n",
       "      <td>4.508032e-02</td>\n",
       "      <td>7.986247e-02</td>\n",
       "      <td>1.173480e-01</td>\n",
       "      <td>6.579088e-02</td>\n",
       "      <td>0.012192</td>\n",
       "      <td>6.125382e-02</td>\n",
       "      <td>0.034468</td>\n",
       "      <td>0.403883</td>\n",
       "    </tr>\n",
       "    <tr>\n",
       "      <th>547</th>\n",
       "      <td>2653.0</td>\n",
       "      <td>2579.0</td>\n",
       "      <td>2023.0</td>\n",
       "      <td>davis-allen-1</td>\n",
       "      <td>Davis Allen</td>\n",
       "      <td>TE</td>\n",
       "      <td>Clemson</td>\n",
       "      <td>78.0</td>\n",
       "      <td>245.0</td>\n",
       "      <td>4.75</td>\n",
       "      <td>...</td>\n",
       "      <td>0.0</td>\n",
       "      <td>0.073115</td>\n",
       "      <td>6.166197e-02</td>\n",
       "      <td>8.365349e-02</td>\n",
       "      <td>1.432403e-01</td>\n",
       "      <td>8.420760e-02</td>\n",
       "      <td>0.064412</td>\n",
       "      <td>1.003118e-01</td>\n",
       "      <td>0.075454</td>\n",
       "      <td>0.677898</td>\n",
       "    </tr>\n",
       "    <tr>\n",
       "      <th>559</th>\n",
       "      <td>2800.0</td>\n",
       "      <td>2751.0</td>\n",
       "      <td>2023.0</td>\n",
       "      <td>michael-mayer-1</td>\n",
       "      <td>Michael Mayer</td>\n",
       "      <td>TE</td>\n",
       "      <td>Notre Dame</td>\n",
       "      <td>77.0</td>\n",
       "      <td>249.0</td>\n",
       "      <td>4.75</td>\n",
       "      <td>...</td>\n",
       "      <td>0.0</td>\n",
       "      <td>0.104413</td>\n",
       "      <td>9.238106e-02</td>\n",
       "      <td>1.304535e-01</td>\n",
       "      <td>2.203628e-01</td>\n",
       "      <td>1.368338e-01</td>\n",
       "      <td>0.206162</td>\n",
       "      <td>1.277500e-01</td>\n",
       "      <td>0.143609</td>\n",
       "      <td>1.008864</td>\n",
       "    </tr>\n",
       "    <tr>\n",
       "      <th>576</th>\n",
       "      <td>2818.0</td>\n",
       "      <td>2772.0</td>\n",
       "      <td>2023.0</td>\n",
       "      <td>luke-musgrave-1</td>\n",
       "      <td>Luke Musgrave</td>\n",
       "      <td>TE</td>\n",
       "      <td>Oregon St.</td>\n",
       "      <td>78.0</td>\n",
       "      <td>253.0</td>\n",
       "      <td>4.75</td>\n",
       "      <td>...</td>\n",
       "      <td>0.0</td>\n",
       "      <td>0.107893</td>\n",
       "      <td>9.656352e-02</td>\n",
       "      <td>1.491927e-01</td>\n",
       "      <td>2.508164e-01</td>\n",
       "      <td>1.207589e-01</td>\n",
       "      <td>0.066384</td>\n",
       "      <td>1.158593e-01</td>\n",
       "      <td>0.067766</td>\n",
       "      <td>0.819408</td>\n",
       "    </tr>\n",
       "  </tbody>\n",
       "</table>\n",
       "<p>538 rows × 591 columns</p>\n",
       "</div>"
      ],
      "text/plain": [
       "     Unnamed: 0   index  season_1st_year_stats              cfb_id  \\\n",
       "12        402.0   155.0                 2015.0     brett-hundley-1   \n",
       "13        432.0   191.0                 2015.0      sean-mannion-1   \n",
       "14        433.0   192.0                 2015.0    marcus-mariota-1   \n",
       "15        462.0   229.0                 2015.0       bryce-petty-1   \n",
       "16        527.0   305.0                 2015.0    jameis-winston-1   \n",
       "..          ...     ...                    ...                 ...   \n",
       "541      2871.0  2830.0                 2023.0   brenton-strange-1   \n",
       "542      2853.0  2810.0                 2023.0  luke-schoonmaker-1   \n",
       "547      2653.0  2579.0                 2023.0       davis-allen-1   \n",
       "559      2800.0  2751.0                 2023.0     michael-mayer-1   \n",
       "576      2818.0  2772.0                 2023.0     luke-musgrave-1   \n",
       "\n",
       "          player_name pos         school    ht     wt  forty  ...  \\\n",
       "12      Brett Hundley  QB           UCLA  75.0  226.0   4.63  ...   \n",
       "13       Sean Mannion  QB   Oregon State  78.0  229.0   5.14  ...   \n",
       "14     Marcus Mariota  QB         Oregon  76.0  222.0   4.52  ...   \n",
       "15        Bryce Petty  QB         Baylor  75.0  230.0   4.87  ...   \n",
       "16     Jameis Winston  QB  Florida State  76.0  231.0   4.97  ...   \n",
       "..                ...  ..            ...   ...    ...    ...  ...   \n",
       "541   Brenton Strange  TE       Penn St.  76.0  253.0   4.75  ...   \n",
       "542  Luke Schoonmaker  TE       Michigan  77.0  251.0   4.75  ...   \n",
       "547       Davis Allen  TE        Clemson  78.0  245.0   4.75  ...   \n",
       "559     Michael Mayer  TE     Notre Dame  77.0  249.0   4.75  ...   \n",
       "576     Luke Musgrave  TE     Oregon St.  78.0  253.0   4.75  ...   \n",
       "\n",
       "     special_teams_tds_2nd_year_stats_y_pred_gbf  \\\n",
       "12                                           0.0   \n",
       "13                                           0.0   \n",
       "14                                           0.0   \n",
       "15                                           0.0   \n",
       "16                                           0.0   \n",
       "..                                           ...   \n",
       "541                                          0.0   \n",
       "542                                          0.0   \n",
       "547                                          0.0   \n",
       "559                                          0.0   \n",
       "576                                          0.0   \n",
       "\n",
       "     tgt_sh_2nd_year_stats_y_pred_gbf  ay_sh_2nd_year_stats_y_pred_gbf  \\\n",
       "12                          -0.000006                     2.407841e-07   \n",
       "13                          -0.000003                     2.846089e-07   \n",
       "14                           0.002065                     3.947706e-03   \n",
       "15                          -0.000005                     2.846089e-07   \n",
       "16                          -0.000005                     2.846089e-07   \n",
       "..                                ...                              ...   \n",
       "541                          0.068385                     2.457607e-02   \n",
       "542                          0.047969                     4.508032e-02   \n",
       "547                          0.073115                     6.166197e-02   \n",
       "559                          0.104413                     9.238106e-02   \n",
       "576                          0.107893                     9.656352e-02   \n",
       "\n",
       "     yac_sh_2nd_year_stats_y_pred_gbf  wopr_y_2nd_year_stats_y_pred_gbf  \\\n",
       "12                       5.719253e-07                      5.025389e-07   \n",
       "13                       5.719253e-07                     -4.908184e-06   \n",
       "14                       5.719253e-07                      6.272463e-03   \n",
       "15                       5.719253e-07                     -4.908184e-06   \n",
       "16                       5.719253e-07                     -4.521846e-06   \n",
       "..                                ...                               ...   \n",
       "541                      9.747611e-02                      1.304862e-01   \n",
       "542                      7.986247e-02                      1.173480e-01   \n",
       "547                      8.365349e-02                      1.432403e-01   \n",
       "559                      1.304535e-01                      2.203628e-01   \n",
       "576                      1.491927e-01                      2.508164e-01   \n",
       "\n",
       "     ry_sh_2nd_year_stats_y_pred_gbf  rtd_sh_2nd_year_stats_y_pred_gbf  \\\n",
       "12                      2.580232e-07                          0.000002   \n",
       "13                      2.580232e-07                          0.000002   \n",
       "14                      2.580232e-07                          0.000002   \n",
       "15                      2.580232e-07                          0.000002   \n",
       "16                      2.580232e-07                          0.000002   \n",
       "..                               ...                               ...   \n",
       "541                     6.876139e-02                          0.028166   \n",
       "542                     6.579088e-02                          0.012192   \n",
       "547                     8.420760e-02                          0.064412   \n",
       "559                     1.368338e-01                          0.206162   \n",
       "576                     1.207589e-01                          0.066384   \n",
       "\n",
       "    rfd_sh_2nd_year_stats_y_pred_gbf  dom_2nd_year_stats_y_pred_gbf  \\\n",
       "12                      3.567552e-07                       0.000001   \n",
       "13                      3.567552e-07                       0.000001   \n",
       "14                      3.567552e-07                       0.000001   \n",
       "15                      3.567552e-07                       0.000001   \n",
       "16                      3.567552e-07                       0.000001   \n",
       "..                               ...                            ...   \n",
       "541                     8.029974e-02                       0.053821   \n",
       "542                     6.125382e-02                       0.034468   \n",
       "547                     1.003118e-01                       0.075454   \n",
       "559                     1.277500e-01                       0.143609   \n",
       "576                     1.158593e-01                       0.067766   \n",
       "\n",
       "    yptmpa_2nd_year_stats_y_pred_gbf  \n",
       "12                          0.000002  \n",
       "13                          0.000002  \n",
       "14                          0.000002  \n",
       "15                          0.000002  \n",
       "16                          0.000002  \n",
       "..                               ...  \n",
       "541                         0.444813  \n",
       "542                         0.403883  \n",
       "547                         0.677898  \n",
       "559                         1.008864  \n",
       "576                         0.819408  \n",
       "\n",
       "[538 rows x 591 columns]"
      ]
     },
     "execution_count": 233,
     "metadata": {},
     "output_type": "execute_result"
    }
   ],
   "source": [
    "export_df = pd.DataFrame()\n",
    "\n",
    "for pos in pos_list:\n",
    "    print(pos)\n",
    "    temp_df = second_year_df[second_year_df['pos'] == pos]\n",
    "    temp_df = temp_df[temp_df['2nd_season'] < current_year]\n",
    "    pos_df = second_year_df[(second_year_df['pos'] == pos) & (second_year_df['2nd_season'] < current_year + 1)]\n",
    "    \n",
    "    for stat in stats_to_perdict:\n",
    "        print(stat)\n",
    "        X = temp_df[x_stats]\n",
    "        Y = temp_df[stat]\n",
    "\n",
    "        gbr_model = GradientBoostingRegressor(n_estimators=(temp_df.shape[0]), learning_rate=0.1)\n",
    "        gbr_model.fit(X, Y)\n",
    "        gbr_predictions = gbr_model.predict(pos_df[x_stats])\n",
    "        pos_df[stat + '_y_pred_gbf'] = gbr_predictions\n",
    "    export_df = pd.concat([export_df,pos_df])\n",
    "        \n",
    "export_df"
   ]
  },
  {
   "cell_type": "code",
   "execution_count": 234,
   "id": "1489b0fc",
   "metadata": {},
   "outputs": [
    {
     "data": {
      "text/html": [
       "<div>\n",
       "<style scoped>\n",
       "    .dataframe tbody tr th:only-of-type {\n",
       "        vertical-align: middle;\n",
       "    }\n",
       "\n",
       "    .dataframe tbody tr th {\n",
       "        vertical-align: top;\n",
       "    }\n",
       "\n",
       "    .dataframe thead th {\n",
       "        text-align: right;\n",
       "    }\n",
       "</style>\n",
       "<table border=\"1\" class=\"dataframe\">\n",
       "  <thead>\n",
       "    <tr style=\"text-align: right;\">\n",
       "      <th></th>\n",
       "      <th>Unnamed: 0</th>\n",
       "      <th>index</th>\n",
       "      <th>season_1st_year_stats</th>\n",
       "      <th>cfb_id</th>\n",
       "      <th>player_name</th>\n",
       "      <th>pos</th>\n",
       "      <th>school</th>\n",
       "      <th>ht</th>\n",
       "      <th>wt</th>\n",
       "      <th>forty</th>\n",
       "      <th>...</th>\n",
       "      <th>special_teams_tds_2nd_year_stats_y_pred_gbf</th>\n",
       "      <th>tgt_sh_2nd_year_stats_y_pred_gbf</th>\n",
       "      <th>ay_sh_2nd_year_stats_y_pred_gbf</th>\n",
       "      <th>yac_sh_2nd_year_stats_y_pred_gbf</th>\n",
       "      <th>wopr_y_2nd_year_stats_y_pred_gbf</th>\n",
       "      <th>ry_sh_2nd_year_stats_y_pred_gbf</th>\n",
       "      <th>rtd_sh_2nd_year_stats_y_pred_gbf</th>\n",
       "      <th>rfd_sh_2nd_year_stats_y_pred_gbf</th>\n",
       "      <th>dom_2nd_year_stats_y_pred_gbf</th>\n",
       "      <th>yptmpa_2nd_year_stats_y_pred_gbf</th>\n",
       "    </tr>\n",
       "  </thead>\n",
       "  <tbody>\n",
       "    <tr>\n",
       "      <th>12</th>\n",
       "      <td>402.0</td>\n",
       "      <td>155.0</td>\n",
       "      <td>2015.0</td>\n",
       "      <td>brett-hundley-1</td>\n",
       "      <td>Brett Hundley</td>\n",
       "      <td>QB</td>\n",
       "      <td>UCLA</td>\n",
       "      <td>75.0</td>\n",
       "      <td>226.0</td>\n",
       "      <td>4.63</td>\n",
       "      <td>...</td>\n",
       "      <td>0.0</td>\n",
       "      <td>-0.000006</td>\n",
       "      <td>2.407841e-07</td>\n",
       "      <td>5.719253e-07</td>\n",
       "      <td>5.025389e-07</td>\n",
       "      <td>2.580232e-07</td>\n",
       "      <td>0.000002</td>\n",
       "      <td>3.567552e-07</td>\n",
       "      <td>0.000001</td>\n",
       "      <td>0.000002</td>\n",
       "    </tr>\n",
       "    <tr>\n",
       "      <th>13</th>\n",
       "      <td>432.0</td>\n",
       "      <td>191.0</td>\n",
       "      <td>2015.0</td>\n",
       "      <td>sean-mannion-1</td>\n",
       "      <td>Sean Mannion</td>\n",
       "      <td>QB</td>\n",
       "      <td>Oregon State</td>\n",
       "      <td>78.0</td>\n",
       "      <td>229.0</td>\n",
       "      <td>5.14</td>\n",
       "      <td>...</td>\n",
       "      <td>0.0</td>\n",
       "      <td>-0.000003</td>\n",
       "      <td>2.846089e-07</td>\n",
       "      <td>5.719253e-07</td>\n",
       "      <td>-4.908184e-06</td>\n",
       "      <td>2.580232e-07</td>\n",
       "      <td>0.000002</td>\n",
       "      <td>3.567552e-07</td>\n",
       "      <td>0.000001</td>\n",
       "      <td>0.000002</td>\n",
       "    </tr>\n",
       "    <tr>\n",
       "      <th>14</th>\n",
       "      <td>433.0</td>\n",
       "      <td>192.0</td>\n",
       "      <td>2015.0</td>\n",
       "      <td>marcus-mariota-1</td>\n",
       "      <td>Marcus Mariota</td>\n",
       "      <td>QB</td>\n",
       "      <td>Oregon</td>\n",
       "      <td>76.0</td>\n",
       "      <td>222.0</td>\n",
       "      <td>4.52</td>\n",
       "      <td>...</td>\n",
       "      <td>0.0</td>\n",
       "      <td>0.002065</td>\n",
       "      <td>3.947706e-03</td>\n",
       "      <td>5.719253e-07</td>\n",
       "      <td>6.272463e-03</td>\n",
       "      <td>2.580232e-07</td>\n",
       "      <td>0.000002</td>\n",
       "      <td>3.567552e-07</td>\n",
       "      <td>0.000001</td>\n",
       "      <td>0.000002</td>\n",
       "    </tr>\n",
       "    <tr>\n",
       "      <th>15</th>\n",
       "      <td>462.0</td>\n",
       "      <td>229.0</td>\n",
       "      <td>2015.0</td>\n",
       "      <td>bryce-petty-1</td>\n",
       "      <td>Bryce Petty</td>\n",
       "      <td>QB</td>\n",
       "      <td>Baylor</td>\n",
       "      <td>75.0</td>\n",
       "      <td>230.0</td>\n",
       "      <td>4.87</td>\n",
       "      <td>...</td>\n",
       "      <td>0.0</td>\n",
       "      <td>-0.000005</td>\n",
       "      <td>2.846089e-07</td>\n",
       "      <td>5.719253e-07</td>\n",
       "      <td>-4.908184e-06</td>\n",
       "      <td>2.580232e-07</td>\n",
       "      <td>0.000002</td>\n",
       "      <td>3.567552e-07</td>\n",
       "      <td>0.000001</td>\n",
       "      <td>0.000002</td>\n",
       "    </tr>\n",
       "    <tr>\n",
       "      <th>16</th>\n",
       "      <td>527.0</td>\n",
       "      <td>305.0</td>\n",
       "      <td>2015.0</td>\n",
       "      <td>jameis-winston-1</td>\n",
       "      <td>Jameis Winston</td>\n",
       "      <td>QB</td>\n",
       "      <td>Florida State</td>\n",
       "      <td>76.0</td>\n",
       "      <td>231.0</td>\n",
       "      <td>4.97</td>\n",
       "      <td>...</td>\n",
       "      <td>0.0</td>\n",
       "      <td>-0.000005</td>\n",
       "      <td>2.846089e-07</td>\n",
       "      <td>5.719253e-07</td>\n",
       "      <td>-4.521846e-06</td>\n",
       "      <td>2.580232e-07</td>\n",
       "      <td>0.000002</td>\n",
       "      <td>3.567552e-07</td>\n",
       "      <td>0.000001</td>\n",
       "      <td>0.000002</td>\n",
       "    </tr>\n",
       "    <tr>\n",
       "      <th>...</th>\n",
       "      <td>...</td>\n",
       "      <td>...</td>\n",
       "      <td>...</td>\n",
       "      <td>...</td>\n",
       "      <td>...</td>\n",
       "      <td>...</td>\n",
       "      <td>...</td>\n",
       "      <td>...</td>\n",
       "      <td>...</td>\n",
       "      <td>...</td>\n",
       "      <td>...</td>\n",
       "      <td>...</td>\n",
       "      <td>...</td>\n",
       "      <td>...</td>\n",
       "      <td>...</td>\n",
       "      <td>...</td>\n",
       "      <td>...</td>\n",
       "      <td>...</td>\n",
       "      <td>...</td>\n",
       "      <td>...</td>\n",
       "      <td>...</td>\n",
       "    </tr>\n",
       "    <tr>\n",
       "      <th>541</th>\n",
       "      <td>2871.0</td>\n",
       "      <td>2830.0</td>\n",
       "      <td>2023.0</td>\n",
       "      <td>brenton-strange-1</td>\n",
       "      <td>Brenton Strange</td>\n",
       "      <td>TE</td>\n",
       "      <td>Penn St.</td>\n",
       "      <td>76.0</td>\n",
       "      <td>253.0</td>\n",
       "      <td>4.75</td>\n",
       "      <td>...</td>\n",
       "      <td>0.0</td>\n",
       "      <td>0.068385</td>\n",
       "      <td>2.457607e-02</td>\n",
       "      <td>9.747611e-02</td>\n",
       "      <td>1.304862e-01</td>\n",
       "      <td>6.876139e-02</td>\n",
       "      <td>0.028166</td>\n",
       "      <td>8.029974e-02</td>\n",
       "      <td>0.053821</td>\n",
       "      <td>0.444813</td>\n",
       "    </tr>\n",
       "    <tr>\n",
       "      <th>542</th>\n",
       "      <td>2853.0</td>\n",
       "      <td>2810.0</td>\n",
       "      <td>2023.0</td>\n",
       "      <td>luke-schoonmaker-1</td>\n",
       "      <td>Luke Schoonmaker</td>\n",
       "      <td>TE</td>\n",
       "      <td>Michigan</td>\n",
       "      <td>77.0</td>\n",
       "      <td>251.0</td>\n",
       "      <td>4.75</td>\n",
       "      <td>...</td>\n",
       "      <td>0.0</td>\n",
       "      <td>0.047969</td>\n",
       "      <td>4.508032e-02</td>\n",
       "      <td>7.986247e-02</td>\n",
       "      <td>1.173480e-01</td>\n",
       "      <td>6.579088e-02</td>\n",
       "      <td>0.012192</td>\n",
       "      <td>6.125382e-02</td>\n",
       "      <td>0.034468</td>\n",
       "      <td>0.403883</td>\n",
       "    </tr>\n",
       "    <tr>\n",
       "      <th>547</th>\n",
       "      <td>2653.0</td>\n",
       "      <td>2579.0</td>\n",
       "      <td>2023.0</td>\n",
       "      <td>davis-allen-1</td>\n",
       "      <td>Davis Allen</td>\n",
       "      <td>TE</td>\n",
       "      <td>Clemson</td>\n",
       "      <td>78.0</td>\n",
       "      <td>245.0</td>\n",
       "      <td>4.75</td>\n",
       "      <td>...</td>\n",
       "      <td>0.0</td>\n",
       "      <td>0.073115</td>\n",
       "      <td>6.166197e-02</td>\n",
       "      <td>8.365349e-02</td>\n",
       "      <td>1.432403e-01</td>\n",
       "      <td>8.420760e-02</td>\n",
       "      <td>0.064412</td>\n",
       "      <td>1.003118e-01</td>\n",
       "      <td>0.075454</td>\n",
       "      <td>0.677898</td>\n",
       "    </tr>\n",
       "    <tr>\n",
       "      <th>559</th>\n",
       "      <td>2800.0</td>\n",
       "      <td>2751.0</td>\n",
       "      <td>2023.0</td>\n",
       "      <td>michael-mayer-1</td>\n",
       "      <td>Michael Mayer</td>\n",
       "      <td>TE</td>\n",
       "      <td>Notre Dame</td>\n",
       "      <td>77.0</td>\n",
       "      <td>249.0</td>\n",
       "      <td>4.75</td>\n",
       "      <td>...</td>\n",
       "      <td>0.0</td>\n",
       "      <td>0.104413</td>\n",
       "      <td>9.238106e-02</td>\n",
       "      <td>1.304535e-01</td>\n",
       "      <td>2.203628e-01</td>\n",
       "      <td>1.368338e-01</td>\n",
       "      <td>0.206162</td>\n",
       "      <td>1.277500e-01</td>\n",
       "      <td>0.143609</td>\n",
       "      <td>1.008864</td>\n",
       "    </tr>\n",
       "    <tr>\n",
       "      <th>576</th>\n",
       "      <td>2818.0</td>\n",
       "      <td>2772.0</td>\n",
       "      <td>2023.0</td>\n",
       "      <td>luke-musgrave-1</td>\n",
       "      <td>Luke Musgrave</td>\n",
       "      <td>TE</td>\n",
       "      <td>Oregon St.</td>\n",
       "      <td>78.0</td>\n",
       "      <td>253.0</td>\n",
       "      <td>4.75</td>\n",
       "      <td>...</td>\n",
       "      <td>0.0</td>\n",
       "      <td>0.107893</td>\n",
       "      <td>9.656352e-02</td>\n",
       "      <td>1.491927e-01</td>\n",
       "      <td>2.508164e-01</td>\n",
       "      <td>1.207589e-01</td>\n",
       "      <td>0.066384</td>\n",
       "      <td>1.158593e-01</td>\n",
       "      <td>0.067766</td>\n",
       "      <td>0.819408</td>\n",
       "    </tr>\n",
       "  </tbody>\n",
       "</table>\n",
       "<p>538 rows × 591 columns</p>\n",
       "</div>"
      ],
      "text/plain": [
       "     Unnamed: 0   index  season_1st_year_stats              cfb_id  \\\n",
       "12        402.0   155.0                 2015.0     brett-hundley-1   \n",
       "13        432.0   191.0                 2015.0      sean-mannion-1   \n",
       "14        433.0   192.0                 2015.0    marcus-mariota-1   \n",
       "15        462.0   229.0                 2015.0       bryce-petty-1   \n",
       "16        527.0   305.0                 2015.0    jameis-winston-1   \n",
       "..          ...     ...                    ...                 ...   \n",
       "541      2871.0  2830.0                 2023.0   brenton-strange-1   \n",
       "542      2853.0  2810.0                 2023.0  luke-schoonmaker-1   \n",
       "547      2653.0  2579.0                 2023.0       davis-allen-1   \n",
       "559      2800.0  2751.0                 2023.0     michael-mayer-1   \n",
       "576      2818.0  2772.0                 2023.0     luke-musgrave-1   \n",
       "\n",
       "          player_name pos         school    ht     wt  forty  ...  \\\n",
       "12      Brett Hundley  QB           UCLA  75.0  226.0   4.63  ...   \n",
       "13       Sean Mannion  QB   Oregon State  78.0  229.0   5.14  ...   \n",
       "14     Marcus Mariota  QB         Oregon  76.0  222.0   4.52  ...   \n",
       "15        Bryce Petty  QB         Baylor  75.0  230.0   4.87  ...   \n",
       "16     Jameis Winston  QB  Florida State  76.0  231.0   4.97  ...   \n",
       "..                ...  ..            ...   ...    ...    ...  ...   \n",
       "541   Brenton Strange  TE       Penn St.  76.0  253.0   4.75  ...   \n",
       "542  Luke Schoonmaker  TE       Michigan  77.0  251.0   4.75  ...   \n",
       "547       Davis Allen  TE        Clemson  78.0  245.0   4.75  ...   \n",
       "559     Michael Mayer  TE     Notre Dame  77.0  249.0   4.75  ...   \n",
       "576     Luke Musgrave  TE     Oregon St.  78.0  253.0   4.75  ...   \n",
       "\n",
       "     special_teams_tds_2nd_year_stats_y_pred_gbf  \\\n",
       "12                                           0.0   \n",
       "13                                           0.0   \n",
       "14                                           0.0   \n",
       "15                                           0.0   \n",
       "16                                           0.0   \n",
       "..                                           ...   \n",
       "541                                          0.0   \n",
       "542                                          0.0   \n",
       "547                                          0.0   \n",
       "559                                          0.0   \n",
       "576                                          0.0   \n",
       "\n",
       "     tgt_sh_2nd_year_stats_y_pred_gbf  ay_sh_2nd_year_stats_y_pred_gbf  \\\n",
       "12                          -0.000006                     2.407841e-07   \n",
       "13                          -0.000003                     2.846089e-07   \n",
       "14                           0.002065                     3.947706e-03   \n",
       "15                          -0.000005                     2.846089e-07   \n",
       "16                          -0.000005                     2.846089e-07   \n",
       "..                                ...                              ...   \n",
       "541                          0.068385                     2.457607e-02   \n",
       "542                          0.047969                     4.508032e-02   \n",
       "547                          0.073115                     6.166197e-02   \n",
       "559                          0.104413                     9.238106e-02   \n",
       "576                          0.107893                     9.656352e-02   \n",
       "\n",
       "     yac_sh_2nd_year_stats_y_pred_gbf  wopr_y_2nd_year_stats_y_pred_gbf  \\\n",
       "12                       5.719253e-07                      5.025389e-07   \n",
       "13                       5.719253e-07                     -4.908184e-06   \n",
       "14                       5.719253e-07                      6.272463e-03   \n",
       "15                       5.719253e-07                     -4.908184e-06   \n",
       "16                       5.719253e-07                     -4.521846e-06   \n",
       "..                                ...                               ...   \n",
       "541                      9.747611e-02                      1.304862e-01   \n",
       "542                      7.986247e-02                      1.173480e-01   \n",
       "547                      8.365349e-02                      1.432403e-01   \n",
       "559                      1.304535e-01                      2.203628e-01   \n",
       "576                      1.491927e-01                      2.508164e-01   \n",
       "\n",
       "     ry_sh_2nd_year_stats_y_pred_gbf  rtd_sh_2nd_year_stats_y_pred_gbf  \\\n",
       "12                      2.580232e-07                          0.000002   \n",
       "13                      2.580232e-07                          0.000002   \n",
       "14                      2.580232e-07                          0.000002   \n",
       "15                      2.580232e-07                          0.000002   \n",
       "16                      2.580232e-07                          0.000002   \n",
       "..                               ...                               ...   \n",
       "541                     6.876139e-02                          0.028166   \n",
       "542                     6.579088e-02                          0.012192   \n",
       "547                     8.420760e-02                          0.064412   \n",
       "559                     1.368338e-01                          0.206162   \n",
       "576                     1.207589e-01                          0.066384   \n",
       "\n",
       "    rfd_sh_2nd_year_stats_y_pred_gbf  dom_2nd_year_stats_y_pred_gbf  \\\n",
       "12                      3.567552e-07                       0.000001   \n",
       "13                      3.567552e-07                       0.000001   \n",
       "14                      3.567552e-07                       0.000001   \n",
       "15                      3.567552e-07                       0.000001   \n",
       "16                      3.567552e-07                       0.000001   \n",
       "..                               ...                            ...   \n",
       "541                     8.029974e-02                       0.053821   \n",
       "542                     6.125382e-02                       0.034468   \n",
       "547                     1.003118e-01                       0.075454   \n",
       "559                     1.277500e-01                       0.143609   \n",
       "576                     1.158593e-01                       0.067766   \n",
       "\n",
       "    yptmpa_2nd_year_stats_y_pred_gbf  \n",
       "12                          0.000002  \n",
       "13                          0.000002  \n",
       "14                          0.000002  \n",
       "15                          0.000002  \n",
       "16                          0.000002  \n",
       "..                               ...  \n",
       "541                         0.444813  \n",
       "542                         0.403883  \n",
       "547                         0.677898  \n",
       "559                         1.008864  \n",
       "576                         0.819408  \n",
       "\n",
       "[538 rows x 591 columns]"
      ]
     },
     "execution_count": 234,
     "metadata": {},
     "output_type": "execute_result"
    }
   ],
   "source": [
    "export_df.fillna(0)\n",
    "#export_df.to_csv('export.csv')"
   ]
  },
  {
   "cell_type": "code",
   "execution_count": 235,
   "id": "79a6063b",
   "metadata": {},
   "outputs": [],
   "source": [
    "filter_columns = ['player_name','pos','school','2nd_season']\n",
    "\n",
    "perdicted_stats = [item + '_y_pred_gbf' for item in stats_to_perdict]\n",
    "\n",
    "filtered_columns = filter_columns + perdicted_stats"
   ]
  },
  {
   "cell_type": "code",
   "execution_count": 236,
   "id": "17fdb568",
   "metadata": {},
   "outputs": [
    {
     "name": "stderr",
     "output_type": "stream",
     "text": [
      "C:\\Users\\jkepler\\AppData\\Local\\Temp\\ipykernel_21608\\2618261176.py:3: SettingWithCopyWarning: \n",
      "A value is trying to be set on a copy of a slice from a DataFrame.\n",
      "Try using .loc[row_indexer,col_indexer] = value instead\n",
      "\n",
      "See the caveats in the documentation: https://pandas.pydata.org/pandas-docs/stable/user_guide/indexing.html#returning-a-view-versus-a-copy\n",
      "  filtered_export['scrimmage_yards'] = filtered_export['rushing_yards_2nd_year_stats_y_pred_gbf'] + filtered_export['receiving_yards_2nd_year_stats_y_pred_gbf']\n",
      "C:\\Users\\jkepler\\AppData\\Local\\Temp\\ipykernel_21608\\2618261176.py:4: SettingWithCopyWarning: \n",
      "A value is trying to be set on a copy of a slice from a DataFrame.\n",
      "Try using .loc[row_indexer,col_indexer] = value instead\n",
      "\n",
      "See the caveats in the documentation: https://pandas.pydata.org/pandas-docs/stable/user_guide/indexing.html#returning-a-view-versus-a-copy\n",
      "  filtered_export['scrimmage_TDs'] = filtered_export['rushing_tds_2nd_year_stats_y_pred_gbf'] + filtered_export['receiving_tds_2nd_year_stats_y_pred_gbf']\n",
      "C:\\Users\\jkepler\\AppData\\Local\\Temp\\ipykernel_21608\\2618261176.py:23: SettingWithCopyWarning: \n",
      "A value is trying to be set on a copy of a slice from a DataFrame.\n",
      "Try using .loc[row_indexer,col_indexer] = value instead\n",
      "\n",
      "See the caveats in the documentation: https://pandas.pydata.org/pandas-docs/stable/user_guide/indexing.html#returning-a-view-versus-a-copy\n",
      "  filtered_export['fantasy_points'] = filtered_export[scoring_dict.keys()].mul(list(scoring_dict.values()), axis=1).sum(axis=1)\n",
      "C:\\Users\\jkepler\\AppData\\Local\\Temp\\ipykernel_21608\\2618261176.py:24: SettingWithCopyWarning: \n",
      "A value is trying to be set on a copy of a slice from a DataFrame.\n",
      "Try using .loc[row_indexer,col_indexer] = value instead\n",
      "\n",
      "See the caveats in the documentation: https://pandas.pydata.org/pandas-docs/stable/user_guide/indexing.html#returning-a-view-versus-a-copy\n",
      "  filtered_export['fantasy_points/G'] = filtered_export['fantasy_points'] / filtered_export['games_2nd_year_stats_y_pred_gbf']\n"
     ]
    }
   ],
   "source": [
    "filtered_export = export_df[filtered_columns]\n",
    "\n",
    "filtered_export['scrimmage_yards'] = filtered_export['rushing_yards_2nd_year_stats_y_pred_gbf'] + filtered_export['receiving_yards_2nd_year_stats_y_pred_gbf']\n",
    "filtered_export['scrimmage_TDs'] = filtered_export['rushing_tds_2nd_year_stats_y_pred_gbf'] + filtered_export['receiving_tds_2nd_year_stats_y_pred_gbf']\n",
    "\n",
    "scoring_dict = {\n",
    "'passing_yards_2nd_year_stats_y_pred_gbf': .04,\n",
    "'passing_tds_2nd_year_stats_y_pred_gbf': 4,\n",
    "'interceptions_2nd_year_stats_y_pred_gbf' : -2,\n",
    "'rushing_yards_2nd_year_stats_y_pred_gbf' : .1,\n",
    "'rushing_tds_2nd_year_stats_y_pred_gbf' : 6,\n",
    "'rushing_fumbles_2nd_year_stats_y_pred_gbf' : -1,\n",
    "'rushing_fumbles_lost_2nd_year_stats_y_pred_gbf' : -1,\n",
    "'rushing_first_downs_2nd_year_stats_y_pred_gbf': .5,\n",
    "'receptions_2nd_year_stats_y_pred_gbf' : .5,\n",
    "'receiving_yards_2nd_year_stats_y_pred_gbf' : .1,\n",
    "'receiving_tds_2nd_year_stats_y_pred_gbf' : 6,\n",
    "'receiving_fumbles_2nd_year_stats_y_pred_gbf' : -1,\n",
    "'receiving_fumbles_lost_2nd_year_stats_y_pred_gbf' : -1,\n",
    "'receiving_first_downs_2nd_year_stats_y_pred_gbf' : .5\n",
    "}\n",
    "\n",
    "filtered_export['fantasy_points'] = filtered_export[scoring_dict.keys()].mul(list(scoring_dict.values()), axis=1).sum(axis=1)\n",
    "filtered_export['fantasy_points/G'] = filtered_export['fantasy_points'] / filtered_export['games_2nd_year_stats_y_pred_gbf']\n",
    "\n",
    "filtered_export = filtered_export.sort_values(by='fantasy_points/G', ascending=False)\n",
    "\n",
    "filtered_export.to_csv('filtered_2nd_year_prediction.csv')"
   ]
  },
  {
   "cell_type": "markdown",
   "id": "2425a6b7",
   "metadata": {},
   "source": [
    "# Creating 3rd Year Projections"
   ]
  },
  {
   "cell_type": "code",
   "execution_count": 237,
   "id": "4f997427",
   "metadata": {},
   "outputs": [
    {
     "data": {
      "text/html": [
       "<div>\n",
       "<style scoped>\n",
       "    .dataframe tbody tr th:only-of-type {\n",
       "        vertical-align: middle;\n",
       "    }\n",
       "\n",
       "    .dataframe tbody tr th {\n",
       "        vertical-align: top;\n",
       "    }\n",
       "\n",
       "    .dataframe thead th {\n",
       "        text-align: right;\n",
       "    }\n",
       "</style>\n",
       "<table border=\"1\" class=\"dataframe\">\n",
       "  <thead>\n",
       "    <tr style=\"text-align: right;\">\n",
       "      <th></th>\n",
       "      <th>Unnamed: 0</th>\n",
       "      <th>index</th>\n",
       "      <th>season_1st_year_stats</th>\n",
       "      <th>cfb_id</th>\n",
       "      <th>player_name</th>\n",
       "      <th>pos</th>\n",
       "      <th>school</th>\n",
       "      <th>ht</th>\n",
       "      <th>wt</th>\n",
       "      <th>forty</th>\n",
       "      <th>...</th>\n",
       "      <th>wopr_y</th>\n",
       "      <th>ry_sh</th>\n",
       "      <th>rtd_sh</th>\n",
       "      <th>rfd_sh</th>\n",
       "      <th>rtdfd_sh</th>\n",
       "      <th>dom</th>\n",
       "      <th>w8dom</th>\n",
       "      <th>yptmpa</th>\n",
       "      <th>ppr_sh</th>\n",
       "      <th>player_id_season_y</th>\n",
       "    </tr>\n",
       "  </thead>\n",
       "  <tbody>\n",
       "    <tr>\n",
       "      <th>0</th>\n",
       "      <td>0.0</td>\n",
       "      <td>0.0</td>\n",
       "      <td>2015.0</td>\n",
       "      <td>ameer-abdullah-1</td>\n",
       "      <td>Ameer Abdullah</td>\n",
       "      <td>RB</td>\n",
       "      <td>Nebraska</td>\n",
       "      <td>69.0</td>\n",
       "      <td>205.0</td>\n",
       "      <td>4.60</td>\n",
       "      <td>...</td>\n",
       "      <td>0.117387</td>\n",
       "      <td>0.042937</td>\n",
       "      <td>0.037037</td>\n",
       "      <td>0.072222</td>\n",
       "      <td>0.067633</td>\n",
       "      <td>0.039987</td>\n",
       "      <td>0.041757</td>\n",
       "      <td>0.329268</td>\n",
       "      <td>0.100143</td>\n",
       "      <td>00-0032104_2017</td>\n",
       "    </tr>\n",
       "    <tr>\n",
       "      <th>1</th>\n",
       "      <td>354.0</td>\n",
       "      <td>105.0</td>\n",
       "      <td>2015.0</td>\n",
       "      <td>devin-funchess-1</td>\n",
       "      <td>Devin Funchess</td>\n",
       "      <td>WR</td>\n",
       "      <td>Michigan</td>\n",
       "      <td>76.0</td>\n",
       "      <td>232.0</td>\n",
       "      <td>4.70</td>\n",
       "      <td>...</td>\n",
       "      <td>0.603898</td>\n",
       "      <td>0.253088</td>\n",
       "      <td>0.363636</td>\n",
       "      <td>0.239521</td>\n",
       "      <td>0.253968</td>\n",
       "      <td>0.308362</td>\n",
       "      <td>0.275198</td>\n",
       "      <td>1.676647</td>\n",
       "      <td>0.156017</td>\n",
       "      <td>00-0032055_2017</td>\n",
       "    </tr>\n",
       "    <tr>\n",
       "      <th>2</th>\n",
       "      <td>335.0</td>\n",
       "      <td>83.0</td>\n",
       "      <td>2015.0</td>\n",
       "      <td>phillip-dorsett-1</td>\n",
       "      <td>Phillip Dorsett</td>\n",
       "      <td>WR</td>\n",
       "      <td>Miami (FL)</td>\n",
       "      <td>70.0</td>\n",
       "      <td>185.0</td>\n",
       "      <td>4.33</td>\n",
       "      <td>...</td>\n",
       "      <td>0.175403</td>\n",
       "      <td>0.076832</td>\n",
       "      <td>0.000000</td>\n",
       "      <td>0.062016</td>\n",
       "      <td>0.054054</td>\n",
       "      <td>0.038416</td>\n",
       "      <td>0.061465</td>\n",
       "      <td>0.595092</td>\n",
       "      <td>0.034120</td>\n",
       "      <td>00-0032208_2017</td>\n",
       "    </tr>\n",
       "    <tr>\n",
       "      <th>3</th>\n",
       "      <td>332.0</td>\n",
       "      <td>80.0</td>\n",
       "      <td>2015.0</td>\n",
       "      <td>stefon-diggs-1</td>\n",
       "      <td>Stefon Diggs</td>\n",
       "      <td>WR</td>\n",
       "      <td>Maryland</td>\n",
       "      <td>72.0</td>\n",
       "      <td>195.0</td>\n",
       "      <td>4.46</td>\n",
       "      <td>...</td>\n",
       "      <td>0.555662</td>\n",
       "      <td>0.242433</td>\n",
       "      <td>0.333333</td>\n",
       "      <td>0.244186</td>\n",
       "      <td>0.255102</td>\n",
       "      <td>0.287883</td>\n",
       "      <td>0.260613</td>\n",
       "      <td>1.853712</td>\n",
       "      <td>0.155710</td>\n",
       "      <td>00-0031588_2017</td>\n",
       "    </tr>\n",
       "    <tr>\n",
       "      <th>4</th>\n",
       "      <td>324.0</td>\n",
       "      <td>70.0</td>\n",
       "      <td>2015.0</td>\n",
       "      <td>geremy-davis-1</td>\n",
       "      <td>Geremy Davis</td>\n",
       "      <td>WR</td>\n",
       "      <td>Connecticut</td>\n",
       "      <td>74.0</td>\n",
       "      <td>216.0</td>\n",
       "      <td>4.49</td>\n",
       "      <td>...</td>\n",
       "      <td>0.000000</td>\n",
       "      <td>0.000000</td>\n",
       "      <td>0.000000</td>\n",
       "      <td>0.000000</td>\n",
       "      <td>0.000000</td>\n",
       "      <td>0.000000</td>\n",
       "      <td>0.000000</td>\n",
       "      <td>0.000000</td>\n",
       "      <td>0.000000</td>\n",
       "      <td>0</td>\n",
       "    </tr>\n",
       "    <tr>\n",
       "      <th>...</th>\n",
       "      <td>...</td>\n",
       "      <td>...</td>\n",
       "      <td>...</td>\n",
       "      <td>...</td>\n",
       "      <td>...</td>\n",
       "      <td>...</td>\n",
       "      <td>...</td>\n",
       "      <td>...</td>\n",
       "      <td>...</td>\n",
       "      <td>...</td>\n",
       "      <td>...</td>\n",
       "      <td>...</td>\n",
       "      <td>...</td>\n",
       "      <td>...</td>\n",
       "      <td>...</td>\n",
       "      <td>...</td>\n",
       "      <td>...</td>\n",
       "      <td>...</td>\n",
       "      <td>...</td>\n",
       "      <td>...</td>\n",
       "      <td>...</td>\n",
       "    </tr>\n",
       "    <tr>\n",
       "      <th>511</th>\n",
       "      <td>2562.0</td>\n",
       "      <td>2476.0</td>\n",
       "      <td>2022.0</td>\n",
       "      <td>teagan-quitoriano-1</td>\n",
       "      <td>Teagan Quitoriano</td>\n",
       "      <td>TE</td>\n",
       "      <td>Oregon St.</td>\n",
       "      <td>78.0</td>\n",
       "      <td>258.0</td>\n",
       "      <td>4.75</td>\n",
       "      <td>...</td>\n",
       "      <td>0.000000</td>\n",
       "      <td>0.000000</td>\n",
       "      <td>0.000000</td>\n",
       "      <td>0.000000</td>\n",
       "      <td>0.000000</td>\n",
       "      <td>0.000000</td>\n",
       "      <td>0.000000</td>\n",
       "      <td>0.000000</td>\n",
       "      <td>0.000000</td>\n",
       "      <td>0</td>\n",
       "    </tr>\n",
       "    <tr>\n",
       "      <th>512</th>\n",
       "      <td>2579.0</td>\n",
       "      <td>2493.0</td>\n",
       "      <td>2022.0</td>\n",
       "      <td>jeremy-ruckert-1</td>\n",
       "      <td>Jeremy Ruckert</td>\n",
       "      <td>TE</td>\n",
       "      <td>Ohio St.</td>\n",
       "      <td>77.0</td>\n",
       "      <td>250.0</td>\n",
       "      <td>4.75</td>\n",
       "      <td>...</td>\n",
       "      <td>0.000000</td>\n",
       "      <td>0.000000</td>\n",
       "      <td>0.000000</td>\n",
       "      <td>0.000000</td>\n",
       "      <td>0.000000</td>\n",
       "      <td>0.000000</td>\n",
       "      <td>0.000000</td>\n",
       "      <td>0.000000</td>\n",
       "      <td>0.000000</td>\n",
       "      <td>0</td>\n",
       "    </tr>\n",
       "    <tr>\n",
       "      <th>513</th>\n",
       "      <td>2613.0</td>\n",
       "      <td>2531.0</td>\n",
       "      <td>2022.0</td>\n",
       "      <td>cole-turner-2</td>\n",
       "      <td>Cole Turner</td>\n",
       "      <td>TE</td>\n",
       "      <td>Nevada</td>\n",
       "      <td>78.0</td>\n",
       "      <td>246.0</td>\n",
       "      <td>4.76</td>\n",
       "      <td>...</td>\n",
       "      <td>0.000000</td>\n",
       "      <td>0.000000</td>\n",
       "      <td>0.000000</td>\n",
       "      <td>0.000000</td>\n",
       "      <td>0.000000</td>\n",
       "      <td>0.000000</td>\n",
       "      <td>0.000000</td>\n",
       "      <td>0.000000</td>\n",
       "      <td>0.000000</td>\n",
       "      <td>0</td>\n",
       "    </tr>\n",
       "    <tr>\n",
       "      <th>514</th>\n",
       "      <td>2638.0</td>\n",
       "      <td>2563.0</td>\n",
       "      <td>2022.0</td>\n",
       "      <td>jelani-woods-1</td>\n",
       "      <td>Jelani Woods</td>\n",
       "      <td>TE</td>\n",
       "      <td>Virginia</td>\n",
       "      <td>79.0</td>\n",
       "      <td>259.0</td>\n",
       "      <td>4.61</td>\n",
       "      <td>...</td>\n",
       "      <td>0.000000</td>\n",
       "      <td>0.000000</td>\n",
       "      <td>0.000000</td>\n",
       "      <td>0.000000</td>\n",
       "      <td>0.000000</td>\n",
       "      <td>0.000000</td>\n",
       "      <td>0.000000</td>\n",
       "      <td>0.000000</td>\n",
       "      <td>0.000000</td>\n",
       "      <td>0</td>\n",
       "    </tr>\n",
       "    <tr>\n",
       "      <th>515</th>\n",
       "      <td>2531.0</td>\n",
       "      <td>2442.0</td>\n",
       "      <td>2022.0</td>\n",
       "      <td>james-mitchell-2</td>\n",
       "      <td>James Mitchell</td>\n",
       "      <td>TE</td>\n",
       "      <td>Virginia Tech</td>\n",
       "      <td>76.0</td>\n",
       "      <td>249.0</td>\n",
       "      <td>4.75</td>\n",
       "      <td>...</td>\n",
       "      <td>0.000000</td>\n",
       "      <td>0.000000</td>\n",
       "      <td>0.000000</td>\n",
       "      <td>0.000000</td>\n",
       "      <td>0.000000</td>\n",
       "      <td>0.000000</td>\n",
       "      <td>0.000000</td>\n",
       "      <td>0.000000</td>\n",
       "      <td>0.000000</td>\n",
       "      <td>0</td>\n",
       "    </tr>\n",
       "  </tbody>\n",
       "</table>\n",
       "<p>516 rows × 609 columns</p>\n",
       "</div>"
      ],
      "text/plain": [
       "     Unnamed: 0   index  season_1st_year_stats               cfb_id  \\\n",
       "0           0.0     0.0                 2015.0     ameer-abdullah-1   \n",
       "1         354.0   105.0                 2015.0     devin-funchess-1   \n",
       "2         335.0    83.0                 2015.0    phillip-dorsett-1   \n",
       "3         332.0    80.0                 2015.0       stefon-diggs-1   \n",
       "4         324.0    70.0                 2015.0       geremy-davis-1   \n",
       "..          ...     ...                    ...                  ...   \n",
       "511      2562.0  2476.0                 2022.0  teagan-quitoriano-1   \n",
       "512      2579.0  2493.0                 2022.0     jeremy-ruckert-1   \n",
       "513      2613.0  2531.0                 2022.0        cole-turner-2   \n",
       "514      2638.0  2563.0                 2022.0       jelani-woods-1   \n",
       "515      2531.0  2442.0                 2022.0     james-mitchell-2   \n",
       "\n",
       "           player_name pos         school    ht     wt  forty  ...    wopr_y  \\\n",
       "0       Ameer Abdullah  RB       Nebraska  69.0  205.0   4.60  ...  0.117387   \n",
       "1       Devin Funchess  WR       Michigan  76.0  232.0   4.70  ...  0.603898   \n",
       "2      Phillip Dorsett  WR     Miami (FL)  70.0  185.0   4.33  ...  0.175403   \n",
       "3         Stefon Diggs  WR       Maryland  72.0  195.0   4.46  ...  0.555662   \n",
       "4         Geremy Davis  WR    Connecticut  74.0  216.0   4.49  ...  0.000000   \n",
       "..                 ...  ..            ...   ...    ...    ...  ...       ...   \n",
       "511  Teagan Quitoriano  TE     Oregon St.  78.0  258.0   4.75  ...  0.000000   \n",
       "512     Jeremy Ruckert  TE       Ohio St.  77.0  250.0   4.75  ...  0.000000   \n",
       "513        Cole Turner  TE         Nevada  78.0  246.0   4.76  ...  0.000000   \n",
       "514       Jelani Woods  TE       Virginia  79.0  259.0   4.61  ...  0.000000   \n",
       "515     James Mitchell  TE  Virginia Tech  76.0  249.0   4.75  ...  0.000000   \n",
       "\n",
       "        ry_sh    rtd_sh    rfd_sh  rtdfd_sh       dom     w8dom    yptmpa  \\\n",
       "0    0.042937  0.037037  0.072222  0.067633  0.039987  0.041757  0.329268   \n",
       "1    0.253088  0.363636  0.239521  0.253968  0.308362  0.275198  1.676647   \n",
       "2    0.076832  0.000000  0.062016  0.054054  0.038416  0.061465  0.595092   \n",
       "3    0.242433  0.333333  0.244186  0.255102  0.287883  0.260613  1.853712   \n",
       "4    0.000000  0.000000  0.000000  0.000000  0.000000  0.000000  0.000000   \n",
       "..        ...       ...       ...       ...       ...       ...       ...   \n",
       "511  0.000000  0.000000  0.000000  0.000000  0.000000  0.000000  0.000000   \n",
       "512  0.000000  0.000000  0.000000  0.000000  0.000000  0.000000  0.000000   \n",
       "513  0.000000  0.000000  0.000000  0.000000  0.000000  0.000000  0.000000   \n",
       "514  0.000000  0.000000  0.000000  0.000000  0.000000  0.000000  0.000000   \n",
       "515  0.000000  0.000000  0.000000  0.000000  0.000000  0.000000  0.000000   \n",
       "\n",
       "       ppr_sh player_id_season_y  \n",
       "0    0.100143    00-0032104_2017  \n",
       "1    0.156017    00-0032055_2017  \n",
       "2    0.034120    00-0032208_2017  \n",
       "3    0.155710    00-0031588_2017  \n",
       "4    0.000000                  0  \n",
       "..        ...                ...  \n",
       "511  0.000000                  0  \n",
       "512  0.000000                  0  \n",
       "513  0.000000                  0  \n",
       "514  0.000000                  0  \n",
       "515  0.000000                  0  \n",
       "\n",
       "[516 rows x 609 columns]"
      ]
     },
     "execution_count": 237,
     "metadata": {},
     "output_type": "execute_result"
    }
   ],
   "source": [
    "third_year_df = second_year_df.merge(seasonal_data_df, left_on='player_id_3rd_season', right_on='player_id_season', how='left')\n",
    "third_year_df = third_year_df.fillna(0)\n",
    "third_year_df = third_year_df[(third_year_df['player_name'] != 0) & (third_year_df['3rd_season'] < current_year+1)]\n",
    "third_year_df"
   ]
  },
  {
   "cell_type": "code",
   "execution_count": 238,
   "id": "7ab17e0b",
   "metadata": {},
   "outputs": [],
   "source": [
    "named_columns = ['season',\n",
    "'season_type',\n",
    "'completions',\n",
    "'attempts',\n",
    "'passing_yards',\n",
    "'passing_tds',\n",
    "'interceptions',\n",
    "'sacks',\n",
    "'sack_yards',\n",
    "'sack_fumbles',\n",
    "'sack_fumbles_lost',\n",
    "'passing_air_yards',\n",
    "'passing_yards_after_catch',\n",
    "'passing_first_downs',\n",
    "'passing_epa',\n",
    "'passing_2pt_conversions',\n",
    "'pacr',\n",
    "'dakota',\n",
    "'carries',\n",
    "'rushing_yards',\n",
    "'rushing_tds',\n",
    "'rushing_fumbles',\n",
    "'rushing_fumbles_lost',\n",
    "'rushing_first_downs',\n",
    "'rushing_epa',\n",
    "'rushing_2pt_conversions',\n",
    "'receptions',\n",
    "'targets',\n",
    "'receiving_yards',\n",
    "'receiving_tds',\n",
    "'receiving_fumbles',\n",
    "'receiving_fumbles_lost',\n",
    "'receiving_air_yards',\n",
    "'receiving_yards_after_catch',\n",
    "'receiving_first_downs',\n",
    "'receiving_epa',\n",
    "'receiving_2pt_conversions',\n",
    "'racr',\n",
    "'target_share',\n",
    "'air_yards_share',\n",
    "'wopr_x',\n",
    "'special_teams_tds',\n",
    "'fantasy_points',\n",
    "'fantasy_points_ppr',\n",
    "'games',\n",
    "'tgt_sh',\n",
    "'ay_sh',\n",
    "'yac_sh',\n",
    "'wopr_y',\n",
    "'ry_sh',\n",
    "'rtd_sh',\n",
    "'rfd_sh',\n",
    "'rtdfd_sh',\n",
    "'dom',\n",
    "'w8dom',\n",
    "'yptmpa',\n",
    "'ppr_sh']\n",
    "\n",
    "renamed_columns = [col + '_3rd_year_stats' for col in named_columns]"
   ]
  },
  {
   "cell_type": "code",
   "execution_count": 239,
   "id": "d49b7fe7",
   "metadata": {},
   "outputs": [
    {
     "data": {
      "text/plain": [
       "{'season': 'season_3rd_year_stats',\n",
       " 'season_type': 'season_type_3rd_year_stats',\n",
       " 'completions': 'completions_3rd_year_stats',\n",
       " 'attempts': 'attempts_3rd_year_stats',\n",
       " 'passing_yards': 'passing_yards_3rd_year_stats',\n",
       " 'passing_tds': 'passing_tds_3rd_year_stats',\n",
       " 'interceptions': 'interceptions_3rd_year_stats',\n",
       " 'sacks': 'sacks_3rd_year_stats',\n",
       " 'sack_yards': 'sack_yards_3rd_year_stats',\n",
       " 'sack_fumbles': 'sack_fumbles_3rd_year_stats',\n",
       " 'sack_fumbles_lost': 'sack_fumbles_lost_3rd_year_stats',\n",
       " 'passing_air_yards': 'passing_air_yards_3rd_year_stats',\n",
       " 'passing_yards_after_catch': 'passing_yards_after_catch_3rd_year_stats',\n",
       " 'passing_first_downs': 'passing_first_downs_3rd_year_stats',\n",
       " 'passing_epa': 'passing_epa_3rd_year_stats',\n",
       " 'passing_2pt_conversions': 'passing_2pt_conversions_3rd_year_stats',\n",
       " 'pacr': 'pacr_3rd_year_stats',\n",
       " 'dakota': 'dakota_3rd_year_stats',\n",
       " 'carries': 'carries_3rd_year_stats',\n",
       " 'rushing_yards': 'rushing_yards_3rd_year_stats',\n",
       " 'rushing_tds': 'rushing_tds_3rd_year_stats',\n",
       " 'rushing_fumbles': 'rushing_fumbles_3rd_year_stats',\n",
       " 'rushing_fumbles_lost': 'rushing_fumbles_lost_3rd_year_stats',\n",
       " 'rushing_first_downs': 'rushing_first_downs_3rd_year_stats',\n",
       " 'rushing_epa': 'rushing_epa_3rd_year_stats',\n",
       " 'rushing_2pt_conversions': 'rushing_2pt_conversions_3rd_year_stats',\n",
       " 'receptions': 'receptions_3rd_year_stats',\n",
       " 'targets': 'targets_3rd_year_stats',\n",
       " 'receiving_yards': 'receiving_yards_3rd_year_stats',\n",
       " 'receiving_tds': 'receiving_tds_3rd_year_stats',\n",
       " 'receiving_fumbles': 'receiving_fumbles_3rd_year_stats',\n",
       " 'receiving_fumbles_lost': 'receiving_fumbles_lost_3rd_year_stats',\n",
       " 'receiving_air_yards': 'receiving_air_yards_3rd_year_stats',\n",
       " 'receiving_yards_after_catch': 'receiving_yards_after_catch_3rd_year_stats',\n",
       " 'receiving_first_downs': 'receiving_first_downs_3rd_year_stats',\n",
       " 'receiving_epa': 'receiving_epa_3rd_year_stats',\n",
       " 'receiving_2pt_conversions': 'receiving_2pt_conversions_3rd_year_stats',\n",
       " 'racr': 'racr_3rd_year_stats',\n",
       " 'target_share': 'target_share_3rd_year_stats',\n",
       " 'air_yards_share': 'air_yards_share_3rd_year_stats',\n",
       " 'wopr_x': 'wopr_x_3rd_year_stats',\n",
       " 'special_teams_tds': 'special_teams_tds_3rd_year_stats',\n",
       " 'fantasy_points': 'fantasy_points_3rd_year_stats',\n",
       " 'fantasy_points_ppr': 'fantasy_points_ppr_3rd_year_stats',\n",
       " 'games': 'games_3rd_year_stats',\n",
       " 'tgt_sh': 'tgt_sh_3rd_year_stats',\n",
       " 'ay_sh': 'ay_sh_3rd_year_stats',\n",
       " 'yac_sh': 'yac_sh_3rd_year_stats',\n",
       " 'wopr_y': 'wopr_y_3rd_year_stats',\n",
       " 'ry_sh': 'ry_sh_3rd_year_stats',\n",
       " 'rtd_sh': 'rtd_sh_3rd_year_stats',\n",
       " 'rfd_sh': 'rfd_sh_3rd_year_stats',\n",
       " 'rtdfd_sh': 'rtdfd_sh_3rd_year_stats',\n",
       " 'dom': 'dom_3rd_year_stats',\n",
       " 'w8dom': 'w8dom_3rd_year_stats',\n",
       " 'yptmpa': 'yptmpa_3rd_year_stats',\n",
       " 'ppr_sh': 'ppr_sh_3rd_year_stats'}"
      ]
     },
     "execution_count": 239,
     "metadata": {},
     "output_type": "execute_result"
    }
   ],
   "source": [
    "column_dict = {}\n",
    "\n",
    "column_dict = dict(zip(named_columns,renamed_columns))\n",
    "\n",
    "column_dict"
   ]
  },
  {
   "cell_type": "code",
   "execution_count": 240,
   "id": "86949922",
   "metadata": {},
   "outputs": [
    {
     "data": {
      "text/html": [
       "<div>\n",
       "<style scoped>\n",
       "    .dataframe tbody tr th:only-of-type {\n",
       "        vertical-align: middle;\n",
       "    }\n",
       "\n",
       "    .dataframe tbody tr th {\n",
       "        vertical-align: top;\n",
       "    }\n",
       "\n",
       "    .dataframe thead th {\n",
       "        text-align: right;\n",
       "    }\n",
       "</style>\n",
       "<table border=\"1\" class=\"dataframe\">\n",
       "  <thead>\n",
       "    <tr style=\"text-align: right;\">\n",
       "      <th></th>\n",
       "      <th>Unnamed: 0</th>\n",
       "      <th>index</th>\n",
       "      <th>season_1st_year_stats</th>\n",
       "      <th>cfb_id</th>\n",
       "      <th>player_name</th>\n",
       "      <th>pos</th>\n",
       "      <th>school</th>\n",
       "      <th>ht</th>\n",
       "      <th>wt</th>\n",
       "      <th>forty</th>\n",
       "      <th>...</th>\n",
       "      <th>wopr_y_3rd_year_stats</th>\n",
       "      <th>ry_sh_3rd_year_stats</th>\n",
       "      <th>rtd_sh_3rd_year_stats</th>\n",
       "      <th>rfd_sh_3rd_year_stats</th>\n",
       "      <th>rtdfd_sh_3rd_year_stats</th>\n",
       "      <th>dom_3rd_year_stats</th>\n",
       "      <th>w8dom_3rd_year_stats</th>\n",
       "      <th>yptmpa_3rd_year_stats</th>\n",
       "      <th>ppr_sh_3rd_year_stats</th>\n",
       "      <th>player_id_season_y</th>\n",
       "    </tr>\n",
       "  </thead>\n",
       "  <tbody>\n",
       "    <tr>\n",
       "      <th>0</th>\n",
       "      <td>0.0</td>\n",
       "      <td>0.0</td>\n",
       "      <td>2015.0</td>\n",
       "      <td>ameer-abdullah-1</td>\n",
       "      <td>Ameer Abdullah</td>\n",
       "      <td>RB</td>\n",
       "      <td>Nebraska</td>\n",
       "      <td>69.0</td>\n",
       "      <td>205.0</td>\n",
       "      <td>4.60</td>\n",
       "      <td>...</td>\n",
       "      <td>0.117387</td>\n",
       "      <td>0.042937</td>\n",
       "      <td>0.037037</td>\n",
       "      <td>0.072222</td>\n",
       "      <td>0.067633</td>\n",
       "      <td>0.039987</td>\n",
       "      <td>0.041757</td>\n",
       "      <td>0.329268</td>\n",
       "      <td>0.100143</td>\n",
       "      <td>00-0032104_2017</td>\n",
       "    </tr>\n",
       "    <tr>\n",
       "      <th>1</th>\n",
       "      <td>354.0</td>\n",
       "      <td>105.0</td>\n",
       "      <td>2015.0</td>\n",
       "      <td>devin-funchess-1</td>\n",
       "      <td>Devin Funchess</td>\n",
       "      <td>WR</td>\n",
       "      <td>Michigan</td>\n",
       "      <td>76.0</td>\n",
       "      <td>232.0</td>\n",
       "      <td>4.70</td>\n",
       "      <td>...</td>\n",
       "      <td>0.603898</td>\n",
       "      <td>0.253088</td>\n",
       "      <td>0.363636</td>\n",
       "      <td>0.239521</td>\n",
       "      <td>0.253968</td>\n",
       "      <td>0.308362</td>\n",
       "      <td>0.275198</td>\n",
       "      <td>1.676647</td>\n",
       "      <td>0.156017</td>\n",
       "      <td>00-0032055_2017</td>\n",
       "    </tr>\n",
       "    <tr>\n",
       "      <th>2</th>\n",
       "      <td>335.0</td>\n",
       "      <td>83.0</td>\n",
       "      <td>2015.0</td>\n",
       "      <td>phillip-dorsett-1</td>\n",
       "      <td>Phillip Dorsett</td>\n",
       "      <td>WR</td>\n",
       "      <td>Miami (FL)</td>\n",
       "      <td>70.0</td>\n",
       "      <td>185.0</td>\n",
       "      <td>4.33</td>\n",
       "      <td>...</td>\n",
       "      <td>0.175403</td>\n",
       "      <td>0.076832</td>\n",
       "      <td>0.000000</td>\n",
       "      <td>0.062016</td>\n",
       "      <td>0.054054</td>\n",
       "      <td>0.038416</td>\n",
       "      <td>0.061465</td>\n",
       "      <td>0.595092</td>\n",
       "      <td>0.034120</td>\n",
       "      <td>00-0032208_2017</td>\n",
       "    </tr>\n",
       "    <tr>\n",
       "      <th>3</th>\n",
       "      <td>332.0</td>\n",
       "      <td>80.0</td>\n",
       "      <td>2015.0</td>\n",
       "      <td>stefon-diggs-1</td>\n",
       "      <td>Stefon Diggs</td>\n",
       "      <td>WR</td>\n",
       "      <td>Maryland</td>\n",
       "      <td>72.0</td>\n",
       "      <td>195.0</td>\n",
       "      <td>4.46</td>\n",
       "      <td>...</td>\n",
       "      <td>0.555662</td>\n",
       "      <td>0.242433</td>\n",
       "      <td>0.333333</td>\n",
       "      <td>0.244186</td>\n",
       "      <td>0.255102</td>\n",
       "      <td>0.287883</td>\n",
       "      <td>0.260613</td>\n",
       "      <td>1.853712</td>\n",
       "      <td>0.155710</td>\n",
       "      <td>00-0031588_2017</td>\n",
       "    </tr>\n",
       "    <tr>\n",
       "      <th>4</th>\n",
       "      <td>324.0</td>\n",
       "      <td>70.0</td>\n",
       "      <td>2015.0</td>\n",
       "      <td>geremy-davis-1</td>\n",
       "      <td>Geremy Davis</td>\n",
       "      <td>WR</td>\n",
       "      <td>Connecticut</td>\n",
       "      <td>74.0</td>\n",
       "      <td>216.0</td>\n",
       "      <td>4.49</td>\n",
       "      <td>...</td>\n",
       "      <td>0.000000</td>\n",
       "      <td>0.000000</td>\n",
       "      <td>0.000000</td>\n",
       "      <td>0.000000</td>\n",
       "      <td>0.000000</td>\n",
       "      <td>0.000000</td>\n",
       "      <td>0.000000</td>\n",
       "      <td>0.000000</td>\n",
       "      <td>0.000000</td>\n",
       "      <td>0</td>\n",
       "    </tr>\n",
       "    <tr>\n",
       "      <th>...</th>\n",
       "      <td>...</td>\n",
       "      <td>...</td>\n",
       "      <td>...</td>\n",
       "      <td>...</td>\n",
       "      <td>...</td>\n",
       "      <td>...</td>\n",
       "      <td>...</td>\n",
       "      <td>...</td>\n",
       "      <td>...</td>\n",
       "      <td>...</td>\n",
       "      <td>...</td>\n",
       "      <td>...</td>\n",
       "      <td>...</td>\n",
       "      <td>...</td>\n",
       "      <td>...</td>\n",
       "      <td>...</td>\n",
       "      <td>...</td>\n",
       "      <td>...</td>\n",
       "      <td>...</td>\n",
       "      <td>...</td>\n",
       "      <td>...</td>\n",
       "    </tr>\n",
       "    <tr>\n",
       "      <th>511</th>\n",
       "      <td>2562.0</td>\n",
       "      <td>2476.0</td>\n",
       "      <td>2022.0</td>\n",
       "      <td>teagan-quitoriano-1</td>\n",
       "      <td>Teagan Quitoriano</td>\n",
       "      <td>TE</td>\n",
       "      <td>Oregon St.</td>\n",
       "      <td>78.0</td>\n",
       "      <td>258.0</td>\n",
       "      <td>4.75</td>\n",
       "      <td>...</td>\n",
       "      <td>0.000000</td>\n",
       "      <td>0.000000</td>\n",
       "      <td>0.000000</td>\n",
       "      <td>0.000000</td>\n",
       "      <td>0.000000</td>\n",
       "      <td>0.000000</td>\n",
       "      <td>0.000000</td>\n",
       "      <td>0.000000</td>\n",
       "      <td>0.000000</td>\n",
       "      <td>0</td>\n",
       "    </tr>\n",
       "    <tr>\n",
       "      <th>512</th>\n",
       "      <td>2579.0</td>\n",
       "      <td>2493.0</td>\n",
       "      <td>2022.0</td>\n",
       "      <td>jeremy-ruckert-1</td>\n",
       "      <td>Jeremy Ruckert</td>\n",
       "      <td>TE</td>\n",
       "      <td>Ohio St.</td>\n",
       "      <td>77.0</td>\n",
       "      <td>250.0</td>\n",
       "      <td>4.75</td>\n",
       "      <td>...</td>\n",
       "      <td>0.000000</td>\n",
       "      <td>0.000000</td>\n",
       "      <td>0.000000</td>\n",
       "      <td>0.000000</td>\n",
       "      <td>0.000000</td>\n",
       "      <td>0.000000</td>\n",
       "      <td>0.000000</td>\n",
       "      <td>0.000000</td>\n",
       "      <td>0.000000</td>\n",
       "      <td>0</td>\n",
       "    </tr>\n",
       "    <tr>\n",
       "      <th>513</th>\n",
       "      <td>2613.0</td>\n",
       "      <td>2531.0</td>\n",
       "      <td>2022.0</td>\n",
       "      <td>cole-turner-2</td>\n",
       "      <td>Cole Turner</td>\n",
       "      <td>TE</td>\n",
       "      <td>Nevada</td>\n",
       "      <td>78.0</td>\n",
       "      <td>246.0</td>\n",
       "      <td>4.76</td>\n",
       "      <td>...</td>\n",
       "      <td>0.000000</td>\n",
       "      <td>0.000000</td>\n",
       "      <td>0.000000</td>\n",
       "      <td>0.000000</td>\n",
       "      <td>0.000000</td>\n",
       "      <td>0.000000</td>\n",
       "      <td>0.000000</td>\n",
       "      <td>0.000000</td>\n",
       "      <td>0.000000</td>\n",
       "      <td>0</td>\n",
       "    </tr>\n",
       "    <tr>\n",
       "      <th>514</th>\n",
       "      <td>2638.0</td>\n",
       "      <td>2563.0</td>\n",
       "      <td>2022.0</td>\n",
       "      <td>jelani-woods-1</td>\n",
       "      <td>Jelani Woods</td>\n",
       "      <td>TE</td>\n",
       "      <td>Virginia</td>\n",
       "      <td>79.0</td>\n",
       "      <td>259.0</td>\n",
       "      <td>4.61</td>\n",
       "      <td>...</td>\n",
       "      <td>0.000000</td>\n",
       "      <td>0.000000</td>\n",
       "      <td>0.000000</td>\n",
       "      <td>0.000000</td>\n",
       "      <td>0.000000</td>\n",
       "      <td>0.000000</td>\n",
       "      <td>0.000000</td>\n",
       "      <td>0.000000</td>\n",
       "      <td>0.000000</td>\n",
       "      <td>0</td>\n",
       "    </tr>\n",
       "    <tr>\n",
       "      <th>515</th>\n",
       "      <td>2531.0</td>\n",
       "      <td>2442.0</td>\n",
       "      <td>2022.0</td>\n",
       "      <td>james-mitchell-2</td>\n",
       "      <td>James Mitchell</td>\n",
       "      <td>TE</td>\n",
       "      <td>Virginia Tech</td>\n",
       "      <td>76.0</td>\n",
       "      <td>249.0</td>\n",
       "      <td>4.75</td>\n",
       "      <td>...</td>\n",
       "      <td>0.000000</td>\n",
       "      <td>0.000000</td>\n",
       "      <td>0.000000</td>\n",
       "      <td>0.000000</td>\n",
       "      <td>0.000000</td>\n",
       "      <td>0.000000</td>\n",
       "      <td>0.000000</td>\n",
       "      <td>0.000000</td>\n",
       "      <td>0.000000</td>\n",
       "      <td>0</td>\n",
       "    </tr>\n",
       "  </tbody>\n",
       "</table>\n",
       "<p>516 rows × 609 columns</p>\n",
       "</div>"
      ],
      "text/plain": [
       "     Unnamed: 0   index  season_1st_year_stats               cfb_id  \\\n",
       "0           0.0     0.0                 2015.0     ameer-abdullah-1   \n",
       "1         354.0   105.0                 2015.0     devin-funchess-1   \n",
       "2         335.0    83.0                 2015.0    phillip-dorsett-1   \n",
       "3         332.0    80.0                 2015.0       stefon-diggs-1   \n",
       "4         324.0    70.0                 2015.0       geremy-davis-1   \n",
       "..          ...     ...                    ...                  ...   \n",
       "511      2562.0  2476.0                 2022.0  teagan-quitoriano-1   \n",
       "512      2579.0  2493.0                 2022.0     jeremy-ruckert-1   \n",
       "513      2613.0  2531.0                 2022.0        cole-turner-2   \n",
       "514      2638.0  2563.0                 2022.0       jelani-woods-1   \n",
       "515      2531.0  2442.0                 2022.0     james-mitchell-2   \n",
       "\n",
       "           player_name pos         school    ht     wt  forty  ...  \\\n",
       "0       Ameer Abdullah  RB       Nebraska  69.0  205.0   4.60  ...   \n",
       "1       Devin Funchess  WR       Michigan  76.0  232.0   4.70  ...   \n",
       "2      Phillip Dorsett  WR     Miami (FL)  70.0  185.0   4.33  ...   \n",
       "3         Stefon Diggs  WR       Maryland  72.0  195.0   4.46  ...   \n",
       "4         Geremy Davis  WR    Connecticut  74.0  216.0   4.49  ...   \n",
       "..                 ...  ..            ...   ...    ...    ...  ...   \n",
       "511  Teagan Quitoriano  TE     Oregon St.  78.0  258.0   4.75  ...   \n",
       "512     Jeremy Ruckert  TE       Ohio St.  77.0  250.0   4.75  ...   \n",
       "513        Cole Turner  TE         Nevada  78.0  246.0   4.76  ...   \n",
       "514       Jelani Woods  TE       Virginia  79.0  259.0   4.61  ...   \n",
       "515     James Mitchell  TE  Virginia Tech  76.0  249.0   4.75  ...   \n",
       "\n",
       "     wopr_y_3rd_year_stats  ry_sh_3rd_year_stats  rtd_sh_3rd_year_stats  \\\n",
       "0                 0.117387              0.042937               0.037037   \n",
       "1                 0.603898              0.253088               0.363636   \n",
       "2                 0.175403              0.076832               0.000000   \n",
       "3                 0.555662              0.242433               0.333333   \n",
       "4                 0.000000              0.000000               0.000000   \n",
       "..                     ...                   ...                    ...   \n",
       "511               0.000000              0.000000               0.000000   \n",
       "512               0.000000              0.000000               0.000000   \n",
       "513               0.000000              0.000000               0.000000   \n",
       "514               0.000000              0.000000               0.000000   \n",
       "515               0.000000              0.000000               0.000000   \n",
       "\n",
       "     rfd_sh_3rd_year_stats  rtdfd_sh_3rd_year_stats  dom_3rd_year_stats  \\\n",
       "0                 0.072222                 0.067633            0.039987   \n",
       "1                 0.239521                 0.253968            0.308362   \n",
       "2                 0.062016                 0.054054            0.038416   \n",
       "3                 0.244186                 0.255102            0.287883   \n",
       "4                 0.000000                 0.000000            0.000000   \n",
       "..                     ...                      ...                 ...   \n",
       "511               0.000000                 0.000000            0.000000   \n",
       "512               0.000000                 0.000000            0.000000   \n",
       "513               0.000000                 0.000000            0.000000   \n",
       "514               0.000000                 0.000000            0.000000   \n",
       "515               0.000000                 0.000000            0.000000   \n",
       "\n",
       "     w8dom_3rd_year_stats yptmpa_3rd_year_stats  ppr_sh_3rd_year_stats  \\\n",
       "0                0.041757              0.329268               0.100143   \n",
       "1                0.275198              1.676647               0.156017   \n",
       "2                0.061465              0.595092               0.034120   \n",
       "3                0.260613              1.853712               0.155710   \n",
       "4                0.000000              0.000000               0.000000   \n",
       "..                    ...                   ...                    ...   \n",
       "511              0.000000              0.000000               0.000000   \n",
       "512              0.000000              0.000000               0.000000   \n",
       "513              0.000000              0.000000               0.000000   \n",
       "514              0.000000              0.000000               0.000000   \n",
       "515              0.000000              0.000000               0.000000   \n",
       "\n",
       "    player_id_season_y  \n",
       "0      00-0032104_2017  \n",
       "1      00-0032055_2017  \n",
       "2      00-0032208_2017  \n",
       "3      00-0031588_2017  \n",
       "4                    0  \n",
       "..                 ...  \n",
       "511                  0  \n",
       "512                  0  \n",
       "513                  0  \n",
       "514                  0  \n",
       "515                  0  \n",
       "\n",
       "[516 rows x 609 columns]"
      ]
     },
     "execution_count": 240,
     "metadata": {},
     "output_type": "execute_result"
    }
   ],
   "source": [
    "third_year_df = third_year_df.rename(columns=column_dict)\n",
    "\n",
    "#third_year_df.to_csv('3rd_year_raw.csv')\n",
    "\n",
    "third_year_df"
   ]
  },
  {
   "cell_type": "code",
   "execution_count": 241,
   "id": "bb675bc3",
   "metadata": {},
   "outputs": [],
   "source": [
    "stats_to_perdict = [ 'games_3rd_year_stats',\n",
    " 'passing_yards_3rd_year_stats',\n",
    " 'passing_tds_3rd_year_stats',\n",
    " 'interceptions_3rd_year_stats',\n",
    " 'sacks_3rd_year_stats',\n",
    " 'sack_yards_3rd_year_stats',\n",
    " 'passing_air_yards_3rd_year_stats',\n",
    " 'passing_yards_after_catch_3rd_year_stats',\n",
    " 'passing_first_downs_3rd_year_stats',\n",
    " 'passing_epa_3rd_year_stats',\n",
    " 'pacr_3rd_year_stats',\n",
    " 'dakota_3rd_year_stats',\n",
    " 'rushing_yards_3rd_year_stats',\n",
    " 'rushing_tds_3rd_year_stats',\n",
    " 'rushing_fumbles_3rd_year_stats',\n",
    " 'rushing_fumbles_lost_3rd_year_stats',\n",
    " 'rushing_first_downs_3rd_year_stats',\n",
    " 'rushing_epa_3rd_year_stats',\n",
    " 'targets_3rd_year_stats',\n",
    " 'receptions_3rd_year_stats',\n",
    " 'receiving_yards_3rd_year_stats',\n",
    " 'receiving_tds_3rd_year_stats',\n",
    " 'receiving_fumbles_3rd_year_stats',\n",
    " 'receiving_fumbles_lost_3rd_year_stats',\n",
    " 'receiving_air_yards_3rd_year_stats',\n",
    " 'receiving_yards_after_catch_3rd_year_stats',\n",
    " 'receiving_first_downs_3rd_year_stats',\n",
    " 'receiving_epa_3rd_year_stats',\n",
    " 'racr_3rd_year_stats',\n",
    " 'air_yards_share_3rd_year_stats',\n",
    " 'wopr_x_3rd_year_stats',\n",
    " 'special_teams_tds_3rd_year_stats',\n",
    " 'tgt_sh_3rd_year_stats',\n",
    " 'ay_sh_3rd_year_stats',\n",
    " 'yac_sh_3rd_year_stats',\n",
    " 'wopr_y_3rd_year_stats',\n",
    " 'ry_sh_3rd_year_stats',\n",
    " 'rtd_sh_3rd_year_stats',\n",
    " 'rfd_sh_3rd_year_stats',\n",
    " 'dom_3rd_year_stats',\n",
    " 'yptmpa_3rd_year_stats']\n",
    "\n",
    "x_stats = ['ht',\n",
    " 'wt',\n",
    " 'forty',\n",
    " 'bench',\n",
    " 'vertical',\n",
    " 'broad_jump',\n",
    " 'cone',\n",
    " 'shuttle',\n",
    " 'draft_ovr',\n",
    " 'draft_round',\n",
    " 'Season_career',\n",
    " 'player_game_count_career',\n",
    " 'aimed_passes_career',\n",
    " 'attempts_passing_career',\n",
    " 'avg_depth_of_target_passing_career',\n",
    " 'avg_time_to_throw_career',\n",
    " 'bats_career',\n",
    " 'big_time_throws_career',\n",
    " 'completions_career',\n",
    " 'declined_penalties_career',\n",
    " 'def_gen_pressures_career',\n",
    " 'dropbacks_career',\n",
    " 'drops_passing_career',\n",
    " 'first_downs_passing_career',\n",
    " 'grades_hands_fumble_career',\n",
    " 'grades_offense_career',\n",
    " 'grades_pass_career',\n",
    " 'hit_as_threw_career',\n",
    " 'interceptions_passing_career',\n",
    " 'passing_snaps_career',\n",
    " 'penalties_career',\n",
    " 'pressure_to_sack_rate_career',\n",
    " 'qb_rating_career',\n",
    " 'sacks_career',\n",
    " 'scrambles_career',\n",
    " 'spikes_career',\n",
    " 'thrown_aways_career',\n",
    " 'touchdowns_passing_career',\n",
    " 'turnover_worthy_plays_career',\n",
    " 'yards_passing_career',\n",
    " 'attempts_rushing_career',\n",
    " 'avoided_tackles_career',\n",
    " 'breakaway_attempts_career',\n",
    " 'breakaway_yards_career',\n",
    " 'designed_yards_career',\n",
    " 'elu_recv_mtf_career',\n",
    " 'elu_rush_mtf_career',\n",
    " 'elu_yco_career',\n",
    " 'elusive_rating_career',\n",
    " 'explosive_career',\n",
    " 'first_downs_rushing_career',\n",
    " 'fumbles_career',\n",
    " 'gap_attempts_career',\n",
    " 'grades_run_career',\n",
    " 'grades_offense_penalty_career',\n",
    " 'grades_run_block_career',\n",
    " 'longest_rush_career',\n",
    " 'run_plays_career',\n",
    " 'scramble_yards_career',\n",
    " 'total_touches_career',\n",
    " 'touchdowns_rushing_career',\n",
    " 'yards_rushing_career',\n",
    " 'yards_after_contact_career',\n",
    " 'yco_attempt_career',\n",
    " 'ypa_career',\n",
    " 'zone_attempts_career',\n",
    " 'avg_depth_of_target_receiving_career',\n",
    " 'contested_receptions_career',\n",
    " 'contested_targets_career',\n",
    " 'drops_receiving_career',\n",
    " 'first_downs_receiving_career',\n",
    " 'grades_hands_drop_career',\n",
    " 'grades_pass_route_career',\n",
    " 'inline_rate_career',\n",
    " 'inline_snaps_career',\n",
    " 'interceptions_receiving_career',\n",
    " 'longest_career',\n",
    " 'pass_plays_career',\n",
    " 'receptions_career',\n",
    " 'route_rate_career',\n",
    " 'routes_career',\n",
    " 'slot_rate_career',\n",
    " 'slot_snaps_career',\n",
    " 'targeted_qb_rating_career',\n",
    " 'targets_receiving_career',\n",
    " 'touchdowns_receiving_career',\n",
    " 'wide_rate_career',\n",
    " 'wide_snaps_career',\n",
    " 'yards_receiving_career',\n",
    " 'yards_after_catch_career',\n",
    " 'grades_pass_block_career',\n",
    " 'hits_allowed_career',\n",
    " 'hurries_allowed_career',\n",
    " 'snap_counts_offense_career',\n",
    " 'non_spike_pass_block_career',\n",
    " 'snap_counts_pass_block_career',\n",
    " 'pressures_allowed_career',\n",
    " 'sacks_allowed_career',\n",
    " 'snap_counts_block_career',\n",
    " 'snap_counts_run_block_career',\n",
    " 'snap_counts_lt_career',\n",
    " 'snap_counts_lg_career',\n",
    " 'snap_counts_ce_career',\n",
    " 'snap_counts_rg_career',\n",
    " 'snap_counts_rt_career',\n",
    " 'snap_counts_te_career',\n",
    " 'assists_career',\n",
    " 'batted_passes_career',\n",
    " 'forced_fumbles_career',\n",
    " 'fumble_recoveries_defensive_career',\n",
    " 'fumble_recovery_touchdowns_career',\n",
    " 'grades_coverage_defense_career',\n",
    " 'grades_defense_career',\n",
    " 'grades_defense_penalty_career',\n",
    " 'grades_pass_rush_defense_career',\n",
    " 'grades_run_defense_career',\n",
    " 'grades_tackle_career',\n",
    " 'hits_career',\n",
    " 'hurries_career',\n",
    " 'interception_touchdowns_career',\n",
    " 'interceptions_defensive_career',\n",
    " 'missed_tackle_rate_career',\n",
    " 'missed_tackles_career',\n",
    " 'pass_break_ups_career',\n",
    " 'receptions_allowed_career',\n",
    " 'sacks_defensive_career',\n",
    " 'safeties_career',\n",
    " 'stops_career',\n",
    " 'tackles_career',\n",
    " 'tackles_for_loss_career',\n",
    " 'targets_allowed_career',\n",
    " 'total_pressures_career',\n",
    " 'coverage_touchdowns_allowed_career',\n",
    " 'coverage_yards_allowed_career',\n",
    " 'offensive/defensive_grade_career',\n",
    " 'yards_passing/att_career',\n",
    " 'completion_pct_career',\n",
    " 'adj_completion_pct_career',\n",
    " 'touchdown_pct_career',\n",
    " 'interception_pct_career',\n",
    " 'dangerous_play_pct_career',\n",
    " 'money_throw_pct_career',\n",
    " '1st_downs/pass_att_career',\n",
    " 'breakaway_runs/att_career',\n",
    " 'fumbles/att_career',\n",
    " 'touchdowns_rushing/att_career',\n",
    " 'yards_rushing/att_career',\n",
    " 'catch_pct_career',\n",
    " 'contested_catch_pct_career',\n",
    " 'touchdowns_receiving/target_career',\n",
    " 'interceptions_receiving/target_career',\n",
    " 'targets/route_ran_career',\n",
    " '1st_downs/route_ran_career',\n",
    " 'drops/target_career',\n",
    " 'yards/reception_career',\n",
    " 'yards/target_career',\n",
    " 'yards/route_ran_career',\n",
    " 'yards_after_catch/reception_career',\n",
    " 'yards_after_catch/target_career',\n",
    " 'yards_after_catch/route_ran_career',\n",
    " 'wide_snaps_routes_pct_career',\n",
    " 'slot_snaps_routes_pct_career',\n",
    " 'pass_blocking_efficency',\n",
    " 'blocking_pct_per play',\n",
    " 'avoided_tackles/touches_career',\n",
    " 'fumbles/touches_career',\n",
    " 'allowed_catch_pct',\n",
    " 'yards_per_catch_allowed',\n",
    " 'player_id_epa_career',\n",
    " 'Season_epa_career',\n",
    " 'CountablePlays_career',\n",
    " 'TotalPPA All_career',\n",
    " 'TotalPPA Pass_career',\n",
    " 'TotalPPA Rush_career',\n",
    " 'TotalPPA FirstDown_career',\n",
    " 'TotalPPA SecondDown_career',\n",
    " 'TotalPPA ThirdDown_career',\n",
    " 'TotalPPA StandardDowns_career',\n",
    " 'TotalPPA PassingDowns_career',\n",
    " 'power_5_team',\n",
    " 'Total_EPA_avg',\n",
    " 'EPA_Pass_avg',\n",
    " 'EPA_Rush_avg',\n",
    " 'EPA_1st_down_avg',\n",
    " 'EPA_2nd_down_avg',\n",
    " 'EPA_3rd_down_avg',\n",
    " 'EPA_StandardDowns_avg',\n",
    " 'EPA_PassingDowns_avg',\n",
    " 'Season_final_season',\n",
    " 'player_game_count_final_season',\n",
    " 'accuracy_percent',\n",
    " 'aimed_passes_final_season',\n",
    " 'attempts_passing_final_season',\n",
    " 'avg_depth_of_target_passing_final_season',\n",
    " 'avg_time_to_throw_final_season',\n",
    " 'bats_final_season',\n",
    " 'big_time_throws_final_season',\n",
    " 'btt_rate',\n",
    " 'completion_percent',\n",
    " 'completions_final_season',\n",
    " 'declined_penalties_final_season',\n",
    " 'def_gen_pressures_final_season',\n",
    " 'drop_rate',\n",
    " 'dropbacks_final_season',\n",
    " 'drops_passing_final_season',\n",
    " 'first_downs_passing_final_season',\n",
    " 'franchise_id',\n",
    " 'grades_hands_fumble_final_season',\n",
    " 'grades_offense_final_season',\n",
    " 'grades_pass_final_season',\n",
    " 'grades_run_final_season',\n",
    " 'hit_as_threw_final_season',\n",
    " 'interceptions_passing_final_season',\n",
    " 'passing_snaps_final_season',\n",
    " 'penalties_final_season',\n",
    " 'pressure_to_sack_rate_final_season',\n",
    " 'qb_rating_final_season',\n",
    " 'sack_percent',\n",
    " 'sacks_final_season',\n",
    " 'scrambles_final_season',\n",
    " 'spikes_final_season',\n",
    " 'thrown_aways_final_season',\n",
    " 'touchdowns_passing_final_season',\n",
    " 'turnover_worthy_plays_final_season',\n",
    " 'twp_rate',\n",
    " 'yards_passing_final_season',\n",
    " 'ypa_final_season',\n",
    " 'attempts_rushing_final_season',\n",
    " 'avoided_tackles_final_season',\n",
    " 'breakaway_attempts_final_season',\n",
    " 'breakaway_percent',\n",
    " 'breakaway_yards_final_season',\n",
    " 'designed_yards_final_season',\n",
    " 'drops',\n",
    " 'elu_recv_mtf_final_season',\n",
    " 'elu_rush_mtf_final_season',\n",
    " 'elu_yco_final_season',\n",
    " 'elusive_rating_final_season',\n",
    " 'explosive_final_season',\n",
    " 'first_downs_rushing_final_season',\n",
    " 'fumbles_final_season',\n",
    " 'gap_attempts_final_season',\n",
    " 'grades_offense_penalty_final_season',\n",
    " 'grades_pass_block_final_season',\n",
    " 'grades_pass_route_final_season',\n",
    " 'grades_run_block_final_season',\n",
    " 'longest_rush_final_season',\n",
    " 'rec_yards',\n",
    " 'receptions_final_season',\n",
    " 'routes_final_season',\n",
    " 'run_plays_final_season',\n",
    " 'scramble_yards_final_season',\n",
    " 'targets_1st_year_stats',\n",
    " 'total_touches_final_season',\n",
    " 'touchdowns_rushing_final_season',\n",
    " 'yards_rushing_final_season',\n",
    " 'yards_after_contact_final_season',\n",
    " 'yco_attempt_final_season',\n",
    " 'yprr',\n",
    " 'zone_attempts_final_season',\n",
    " 'avg_depth_of_target_receiving_final_season',\n",
    " 'caught_percent',\n",
    " 'contested_catch_rate',\n",
    " 'contested_receptions_final_season',\n",
    " 'contested_targets_final_season',\n",
    " 'drops_receiving_final_season',\n",
    " 'first_downs_receiving_final_season',\n",
    " 'grades_hands_drop_final_season',\n",
    " 'inline_rate_final_season',\n",
    " 'inline_snaps_final_season',\n",
    " 'interceptions_receiving_final_season',\n",
    " 'longest_final_season',\n",
    " 'pass_block_rate',\n",
    " 'pass_blocks',\n",
    " 'pass_plays_final_season',\n",
    " 'route_rate_final_season',\n",
    " 'slot_rate_final_season',\n",
    " 'slot_snaps_final_season',\n",
    " 'targeted_qb_rating_final_season',\n",
    " 'targets_receiving_final_season',\n",
    " 'touchdowns_receiving_final_season',\n",
    " 'wide_rate_final_season',\n",
    " 'wide_snaps_final_season',\n",
    " 'yards_receiving_final_season',\n",
    " 'yards_after_catch_final_season',\n",
    " 'yards_after_catch_per_reception',\n",
    " 'yards_per_reception',\n",
    " 'block_percent',\n",
    " 'hits_allowed_final_season',\n",
    " 'hurries_allowed_final_season',\n",
    " 'non_spike_pass_block_final_season',\n",
    " 'non_spike_pass_block_percentage',\n",
    " 'pass_block_percent',\n",
    " 'pbe',\n",
    " 'pressures_allowed_final_season',\n",
    " 'sacks_allowed_final_season',\n",
    " 'snap_counts_block_final_season',\n",
    " 'snap_counts_ce_final_season',\n",
    " 'snap_counts_lg_final_season',\n",
    " 'snap_counts_lt_final_season',\n",
    " 'snap_counts_offense_final_season',\n",
    " 'snap_counts_pass_block_final_season',\n",
    " 'snap_counts_pass_play',\n",
    " 'snap_counts_rg_final_season',\n",
    " 'snap_counts_rt_final_season',\n",
    " 'snap_counts_run_block_final_season',\n",
    " 'snap_counts_te_final_season',\n",
    " 'assists_final_season',\n",
    " 'batted_passes_final_season',\n",
    " 'catch_rate',\n",
    " 'forced_fumbles_final_season',\n",
    " 'fumble_recoveries_defensive_final_season',\n",
    " 'fumble_recovery_touchdowns_final_season',\n",
    " 'grades_coverage_defense_final_season',\n",
    " 'grades_defense_final_season',\n",
    " 'grades_defense_penalty_final_season',\n",
    " 'grades_pass_rush_defense_final_season',\n",
    " 'grades_run_defense_final_season',\n",
    " 'grades_tackle_final_season',\n",
    " 'hits_final_season',\n",
    " 'hurries_final_season',\n",
    " 'interception_touchdowns_final_season',\n",
    " 'interceptions_defensive_final_season',\n",
    " 'missed_tackle_rate_final_season',\n",
    " 'missed_tackles_final_season',\n",
    " 'pass_break_ups_final_season',\n",
    " 'qb_rating_against',\n",
    " 'receptions_allowed_final_season',\n",
    " 'sacks_defensive_final_season',\n",
    " 'safeties_final_season',\n",
    " 'snap_counts_box',\n",
    " 'snap_counts_corner',\n",
    " 'snap_counts_coverage',\n",
    " 'snap_counts_defense',\n",
    " 'snap_counts_dl',\n",
    " 'snap_counts_dl_a_gap',\n",
    " 'snap_counts_dl_b_gap',\n",
    " 'snap_counts_dl_outside_t',\n",
    " 'snap_counts_dl_over_t',\n",
    " 'snap_counts_fs',\n",
    " 'snap_counts_offball',\n",
    " 'snap_counts_pass_rush',\n",
    " 'snap_counts_run_defense',\n",
    " 'snap_counts_slot',\n",
    " 'stops_final_season',\n",
    " 'tackles_final_season',\n",
    " 'tackles_for_loss_final_season',\n",
    " 'targets_allowed_final_season',\n",
    " 'total_pressures_final_season',\n",
    " 'coverage_touchdowns_allowed_final_season',\n",
    " 'coverage_yards_allowed_final_season',\n",
    " 'offensive/defensive_grade_final_season',\n",
    " 'player_id_epa_final_season',\n",
    " 'Season_epa_final_season',\n",
    " 'CountablePlays_final_season',\n",
    " 'AveragePPA All',\n",
    " 'AveragePPA Pass',\n",
    " 'AveragePPA Rush',\n",
    " 'AveragePPA FirstDown',\n",
    " 'AveragePPA SecondDown',\n",
    " 'AveragePPA ThirdDown',\n",
    " 'AveragePPA StandardDowns',\n",
    " 'AveragePPA PassingDowns',\n",
    " 'TotalPPA All_final_season',\n",
    " 'TotalPPA Pass_final_season',\n",
    " 'TotalPPA Rush_final_season',\n",
    " 'TotalPPA FirstDown_final_season',\n",
    " 'TotalPPA SecondDown_final_season',\n",
    " 'TotalPPA ThirdDown_final_season',\n",
    " 'TotalPPA StandardDowns_final_season',\n",
    " 'TotalPPA PassingDowns_final_season',\n",
    " 'completions_1st_year_stats',\n",
    " 'attempts_1st_year_stats',\n",
    " 'passing_yards_1st_year_stats',\n",
    " 'passing_tds_1st_year_stats',\n",
    " 'interceptions_1st_year_stats',\n",
    " 'sacks_1st_year_stats',\n",
    " 'sack_yards_1st_year_stats',\n",
    " 'sack_fumbles_1st_year_stats',\n",
    " 'sack_fumbles_lost_1st_year_stats',\n",
    " 'passing_air_yards_1st_year_stats',\n",
    " 'passing_yards_after_catch_1st_year_stats',\n",
    " 'passing_first_downs_1st_year_stats',\n",
    " 'passing_epa_1st_year_stats',\n",
    " 'passing_2pt_conversions_1st_year_stats',\n",
    " 'pacr_1st_year_stats',\n",
    " 'dakota_1st_year_stats',\n",
    " 'carries_1st_year_stats',\n",
    " 'rushing_yards_1st_year_stats',\n",
    " 'rushing_tds_1st_year_stats',\n",
    " 'rushing_fumbles_1st_year_stats',\n",
    " 'rushing_fumbles_lost_1st_year_stats',\n",
    " 'rushing_first_downs_1st_year_stats',\n",
    " 'rushing_epa_1st_year_stats',\n",
    " 'rushing_2pt_conversions_1st_year_stats',\n",
    " 'receptions_1st_year_stats',\n",
    " 'targets_y',\n",
    " 'receiving_yards_1st_year_stats',\n",
    " 'receiving_tds_1st_year_stats',\n",
    " 'receiving_fumbles_1st_year_stats',\n",
    " 'receiving_fumbles_lost_1st_year_stats',\n",
    " 'receiving_air_yards_1st_year_stats',\n",
    " 'receiving_yards_after_catch_1st_year_stats',\n",
    " 'receiving_first_downs_1st_year_stats',\n",
    " 'receiving_epa_1st_year_stats',\n",
    " 'receiving_2pt_conversions_1st_year_stats',\n",
    " 'racr_1st_year_stats',\n",
    " 'target_share_1st_year_stats',\n",
    " 'air_yards_share_1st_year_stats',\n",
    " 'wopr_x_1st_year_stats',\n",
    " 'special_teams_tds_1st_year_stats',\n",
    " 'fantasy_points_1st_year_stats',\n",
    " 'fantasy_points_ppr_1st_year_stats',\n",
    " 'games_1st_year_stats',\n",
    " 'tgt_sh_1st_year_stats',\n",
    " 'ay_sh_1st_year_stats',\n",
    " 'yac_sh_1st_year_stats',\n",
    " 'wopr_y_1st_year_stats',\n",
    " 'ry_sh_1st_year_stats',\n",
    " 'rtd_sh_1st_year_stats',\n",
    " 'rfd_sh_1st_year_stats',\n",
    " 'rtdfd_sh_1st_year_stats',\n",
    " 'dom_1st_year_stats',\n",
    " 'w8dom_1st_year_stats',\n",
    " 'yptmpa_1st_year_stats',\n",
    " 'ppr_sh_1st_year_stats',\n",
    " 'season_defensive',\n",
    " 'player_game_count',\n",
    " 'tackles',\n",
    " 'assisted_tackles',\n",
    " 'tackles_for_loss',\n",
    " 'stops',\n",
    " 'missed_tackle_rate',\n",
    " 'missed_tackles',\n",
    " 'forced_fumbles',\n",
    " 'fumble_recoveries',\n",
    " 'fumble_recovery_touchdowns',\n",
    " 'total_defensive_pressures',\n",
    " 'pass_rushing_hurries',\n",
    " 'hits',\n",
    " 'defensive_sacks',\n",
    " 'safeties',\n",
    " 'defensive_interceptions',\n",
    " 'defensive_interception_touchdowns',\n",
    " 'pass_break_ups',\n",
    " 'coverage_targets',\n",
    " 'allowed_recpetions',\n",
    " 'allowed_passing_yards',\n",
    " 'allowed_passing_touchdowns',\n",
    " 'games_2nd_year_stats',\n",
    " 'passing_yards_2nd_year_stats',\n",
    " 'passing_tds_2nd_year_stats',\n",
    " 'interceptions_2nd_year_stats',\n",
    " 'sacks_2nd_year_stats',\n",
    " 'sack_yards_2nd_year_stats',\n",
    " 'passing_air_yards_2nd_year_stats',\n",
    " 'passing_yards_after_catch_2nd_year_stats',\n",
    " 'passing_first_downs_2nd_year_stats',\n",
    " 'passing_epa_2nd_year_stats',\n",
    " 'pacr_2nd_year_stats',\n",
    " 'dakota_2nd_year_stats',\n",
    " 'rushing_yards_2nd_year_stats',\n",
    " 'rushing_tds_2nd_year_stats',\n",
    " 'rushing_fumbles_2nd_year_stats',\n",
    " 'rushing_fumbles_lost_2nd_year_stats',\n",
    " 'rushing_first_downs_2nd_year_stats',\n",
    " 'rushing_epa_2nd_year_stats',\n",
    " 'targets_2nd_year_stats',\n",
    " 'receptions_2nd_year_stats',\n",
    " 'receiving_yards_2nd_year_stats',\n",
    " 'receiving_tds_2nd_year_stats',\n",
    " 'receiving_fumbles_2nd_year_stats',\n",
    " 'receiving_fumbles_lost_2nd_year_stats',\n",
    " 'receiving_air_yards_2nd_year_stats',\n",
    " 'receiving_yards_after_catch_2nd_year_stats',\n",
    " 'receiving_first_downs_2nd_year_stats',\n",
    " 'receiving_epa_2nd_year_stats',\n",
    " 'racr_2nd_year_stats',\n",
    " 'air_yards_share_2nd_year_stats',\n",
    " 'wopr_x_2nd_year_stats',\n",
    " 'special_teams_tds_2nd_year_stats',\n",
    " 'tgt_sh_2nd_year_stats',\n",
    " 'ay_sh_2nd_year_stats',\n",
    " 'yac_sh_2nd_year_stats',\n",
    " 'wopr_y_2nd_year_stats',\n",
    " 'ry_sh_2nd_year_stats',\n",
    " 'rtd_sh_2nd_year_stats',\n",
    " 'rfd_sh_2nd_year_stats',\n",
    " 'dom_2nd_year_stats',\n",
    " 'yptmpa_2nd_year_stats']"
   ]
  },
  {
   "cell_type": "code",
   "execution_count": 242,
   "id": "3d723e66",
   "metadata": {},
   "outputs": [
    {
     "name": "stdout",
     "output_type": "stream",
     "text": [
      "QB\n",
      "games_3rd_year_stats\n"
     ]
    },
    {
     "name": "stderr",
     "output_type": "stream",
     "text": [
      "C:\\Users\\jkepler\\AppData\\Local\\Temp\\ipykernel_21608\\3853764565.py:17: SettingWithCopyWarning: \n",
      "A value is trying to be set on a copy of a slice from a DataFrame.\n",
      "Try using .loc[row_indexer,col_indexer] = value instead\n",
      "\n",
      "See the caveats in the documentation: https://pandas.pydata.org/pandas-docs/stable/user_guide/indexing.html#returning-a-view-versus-a-copy\n",
      "  pos_df[stat + '_y_pred_gbf'] = gbr_predictions\n"
     ]
    },
    {
     "name": "stdout",
     "output_type": "stream",
     "text": [
      "passing_yards_3rd_year_stats\n"
     ]
    },
    {
     "name": "stderr",
     "output_type": "stream",
     "text": [
      "C:\\Users\\jkepler\\AppData\\Local\\Temp\\ipykernel_21608\\3853764565.py:17: SettingWithCopyWarning: \n",
      "A value is trying to be set on a copy of a slice from a DataFrame.\n",
      "Try using .loc[row_indexer,col_indexer] = value instead\n",
      "\n",
      "See the caveats in the documentation: https://pandas.pydata.org/pandas-docs/stable/user_guide/indexing.html#returning-a-view-versus-a-copy\n",
      "  pos_df[stat + '_y_pred_gbf'] = gbr_predictions\n"
     ]
    },
    {
     "name": "stdout",
     "output_type": "stream",
     "text": [
      "passing_tds_3rd_year_stats\n"
     ]
    },
    {
     "name": "stderr",
     "output_type": "stream",
     "text": [
      "C:\\Users\\jkepler\\AppData\\Local\\Temp\\ipykernel_21608\\3853764565.py:17: SettingWithCopyWarning: \n",
      "A value is trying to be set on a copy of a slice from a DataFrame.\n",
      "Try using .loc[row_indexer,col_indexer] = value instead\n",
      "\n",
      "See the caveats in the documentation: https://pandas.pydata.org/pandas-docs/stable/user_guide/indexing.html#returning-a-view-versus-a-copy\n",
      "  pos_df[stat + '_y_pred_gbf'] = gbr_predictions\n"
     ]
    },
    {
     "name": "stdout",
     "output_type": "stream",
     "text": [
      "interceptions_3rd_year_stats\n"
     ]
    },
    {
     "name": "stderr",
     "output_type": "stream",
     "text": [
      "C:\\Users\\jkepler\\AppData\\Local\\Temp\\ipykernel_21608\\3853764565.py:17: SettingWithCopyWarning: \n",
      "A value is trying to be set on a copy of a slice from a DataFrame.\n",
      "Try using .loc[row_indexer,col_indexer] = value instead\n",
      "\n",
      "See the caveats in the documentation: https://pandas.pydata.org/pandas-docs/stable/user_guide/indexing.html#returning-a-view-versus-a-copy\n",
      "  pos_df[stat + '_y_pred_gbf'] = gbr_predictions\n"
     ]
    },
    {
     "name": "stdout",
     "output_type": "stream",
     "text": [
      "sacks_3rd_year_stats\n"
     ]
    },
    {
     "name": "stderr",
     "output_type": "stream",
     "text": [
      "C:\\Users\\jkepler\\AppData\\Local\\Temp\\ipykernel_21608\\3853764565.py:17: SettingWithCopyWarning: \n",
      "A value is trying to be set on a copy of a slice from a DataFrame.\n",
      "Try using .loc[row_indexer,col_indexer] = value instead\n",
      "\n",
      "See the caveats in the documentation: https://pandas.pydata.org/pandas-docs/stable/user_guide/indexing.html#returning-a-view-versus-a-copy\n",
      "  pos_df[stat + '_y_pred_gbf'] = gbr_predictions\n"
     ]
    },
    {
     "name": "stdout",
     "output_type": "stream",
     "text": [
      "sack_yards_3rd_year_stats\n"
     ]
    },
    {
     "name": "stderr",
     "output_type": "stream",
     "text": [
      "C:\\Users\\jkepler\\AppData\\Local\\Temp\\ipykernel_21608\\3853764565.py:17: SettingWithCopyWarning: \n",
      "A value is trying to be set on a copy of a slice from a DataFrame.\n",
      "Try using .loc[row_indexer,col_indexer] = value instead\n",
      "\n",
      "See the caveats in the documentation: https://pandas.pydata.org/pandas-docs/stable/user_guide/indexing.html#returning-a-view-versus-a-copy\n",
      "  pos_df[stat + '_y_pred_gbf'] = gbr_predictions\n"
     ]
    },
    {
     "name": "stdout",
     "output_type": "stream",
     "text": [
      "passing_air_yards_3rd_year_stats\n"
     ]
    },
    {
     "name": "stderr",
     "output_type": "stream",
     "text": [
      "C:\\Users\\jkepler\\AppData\\Local\\Temp\\ipykernel_21608\\3853764565.py:17: SettingWithCopyWarning: \n",
      "A value is trying to be set on a copy of a slice from a DataFrame.\n",
      "Try using .loc[row_indexer,col_indexer] = value instead\n",
      "\n",
      "See the caveats in the documentation: https://pandas.pydata.org/pandas-docs/stable/user_guide/indexing.html#returning-a-view-versus-a-copy\n",
      "  pos_df[stat + '_y_pred_gbf'] = gbr_predictions\n"
     ]
    },
    {
     "name": "stdout",
     "output_type": "stream",
     "text": [
      "passing_yards_after_catch_3rd_year_stats\n"
     ]
    },
    {
     "name": "stderr",
     "output_type": "stream",
     "text": [
      "C:\\Users\\jkepler\\AppData\\Local\\Temp\\ipykernel_21608\\3853764565.py:17: SettingWithCopyWarning: \n",
      "A value is trying to be set on a copy of a slice from a DataFrame.\n",
      "Try using .loc[row_indexer,col_indexer] = value instead\n",
      "\n",
      "See the caveats in the documentation: https://pandas.pydata.org/pandas-docs/stable/user_guide/indexing.html#returning-a-view-versus-a-copy\n",
      "  pos_df[stat + '_y_pred_gbf'] = gbr_predictions\n"
     ]
    },
    {
     "name": "stdout",
     "output_type": "stream",
     "text": [
      "passing_first_downs_3rd_year_stats\n"
     ]
    },
    {
     "name": "stderr",
     "output_type": "stream",
     "text": [
      "C:\\Users\\jkepler\\AppData\\Local\\Temp\\ipykernel_21608\\3853764565.py:17: SettingWithCopyWarning: \n",
      "A value is trying to be set on a copy of a slice from a DataFrame.\n",
      "Try using .loc[row_indexer,col_indexer] = value instead\n",
      "\n",
      "See the caveats in the documentation: https://pandas.pydata.org/pandas-docs/stable/user_guide/indexing.html#returning-a-view-versus-a-copy\n",
      "  pos_df[stat + '_y_pred_gbf'] = gbr_predictions\n"
     ]
    },
    {
     "name": "stdout",
     "output_type": "stream",
     "text": [
      "passing_epa_3rd_year_stats\n"
     ]
    },
    {
     "name": "stderr",
     "output_type": "stream",
     "text": [
      "C:\\Users\\jkepler\\AppData\\Local\\Temp\\ipykernel_21608\\3853764565.py:17: SettingWithCopyWarning: \n",
      "A value is trying to be set on a copy of a slice from a DataFrame.\n",
      "Try using .loc[row_indexer,col_indexer] = value instead\n",
      "\n",
      "See the caveats in the documentation: https://pandas.pydata.org/pandas-docs/stable/user_guide/indexing.html#returning-a-view-versus-a-copy\n",
      "  pos_df[stat + '_y_pred_gbf'] = gbr_predictions\n"
     ]
    },
    {
     "name": "stdout",
     "output_type": "stream",
     "text": [
      "pacr_3rd_year_stats\n"
     ]
    },
    {
     "name": "stderr",
     "output_type": "stream",
     "text": [
      "C:\\Users\\jkepler\\AppData\\Local\\Temp\\ipykernel_21608\\3853764565.py:17: SettingWithCopyWarning: \n",
      "A value is trying to be set on a copy of a slice from a DataFrame.\n",
      "Try using .loc[row_indexer,col_indexer] = value instead\n",
      "\n",
      "See the caveats in the documentation: https://pandas.pydata.org/pandas-docs/stable/user_guide/indexing.html#returning-a-view-versus-a-copy\n",
      "  pos_df[stat + '_y_pred_gbf'] = gbr_predictions\n"
     ]
    },
    {
     "name": "stdout",
     "output_type": "stream",
     "text": [
      "dakota_3rd_year_stats\n"
     ]
    },
    {
     "name": "stderr",
     "output_type": "stream",
     "text": [
      "C:\\Users\\jkepler\\AppData\\Local\\Temp\\ipykernel_21608\\3853764565.py:17: SettingWithCopyWarning: \n",
      "A value is trying to be set on a copy of a slice from a DataFrame.\n",
      "Try using .loc[row_indexer,col_indexer] = value instead\n",
      "\n",
      "See the caveats in the documentation: https://pandas.pydata.org/pandas-docs/stable/user_guide/indexing.html#returning-a-view-versus-a-copy\n",
      "  pos_df[stat + '_y_pred_gbf'] = gbr_predictions\n"
     ]
    },
    {
     "name": "stdout",
     "output_type": "stream",
     "text": [
      "rushing_yards_3rd_year_stats\n"
     ]
    },
    {
     "name": "stderr",
     "output_type": "stream",
     "text": [
      "C:\\Users\\jkepler\\AppData\\Local\\Temp\\ipykernel_21608\\3853764565.py:17: SettingWithCopyWarning: \n",
      "A value is trying to be set on a copy of a slice from a DataFrame.\n",
      "Try using .loc[row_indexer,col_indexer] = value instead\n",
      "\n",
      "See the caveats in the documentation: https://pandas.pydata.org/pandas-docs/stable/user_guide/indexing.html#returning-a-view-versus-a-copy\n",
      "  pos_df[stat + '_y_pred_gbf'] = gbr_predictions\n"
     ]
    },
    {
     "name": "stdout",
     "output_type": "stream",
     "text": [
      "rushing_tds_3rd_year_stats\n"
     ]
    },
    {
     "name": "stderr",
     "output_type": "stream",
     "text": [
      "C:\\Users\\jkepler\\AppData\\Local\\Temp\\ipykernel_21608\\3853764565.py:17: SettingWithCopyWarning: \n",
      "A value is trying to be set on a copy of a slice from a DataFrame.\n",
      "Try using .loc[row_indexer,col_indexer] = value instead\n",
      "\n",
      "See the caveats in the documentation: https://pandas.pydata.org/pandas-docs/stable/user_guide/indexing.html#returning-a-view-versus-a-copy\n",
      "  pos_df[stat + '_y_pred_gbf'] = gbr_predictions\n"
     ]
    },
    {
     "name": "stdout",
     "output_type": "stream",
     "text": [
      "rushing_fumbles_3rd_year_stats\n"
     ]
    },
    {
     "name": "stderr",
     "output_type": "stream",
     "text": [
      "C:\\Users\\jkepler\\AppData\\Local\\Temp\\ipykernel_21608\\3853764565.py:17: SettingWithCopyWarning: \n",
      "A value is trying to be set on a copy of a slice from a DataFrame.\n",
      "Try using .loc[row_indexer,col_indexer] = value instead\n",
      "\n",
      "See the caveats in the documentation: https://pandas.pydata.org/pandas-docs/stable/user_guide/indexing.html#returning-a-view-versus-a-copy\n",
      "  pos_df[stat + '_y_pred_gbf'] = gbr_predictions\n"
     ]
    },
    {
     "name": "stdout",
     "output_type": "stream",
     "text": [
      "rushing_fumbles_lost_3rd_year_stats\n"
     ]
    },
    {
     "name": "stderr",
     "output_type": "stream",
     "text": [
      "C:\\Users\\jkepler\\AppData\\Local\\Temp\\ipykernel_21608\\3853764565.py:17: SettingWithCopyWarning: \n",
      "A value is trying to be set on a copy of a slice from a DataFrame.\n",
      "Try using .loc[row_indexer,col_indexer] = value instead\n",
      "\n",
      "See the caveats in the documentation: https://pandas.pydata.org/pandas-docs/stable/user_guide/indexing.html#returning-a-view-versus-a-copy\n",
      "  pos_df[stat + '_y_pred_gbf'] = gbr_predictions\n"
     ]
    },
    {
     "name": "stdout",
     "output_type": "stream",
     "text": [
      "rushing_first_downs_3rd_year_stats\n"
     ]
    },
    {
     "name": "stderr",
     "output_type": "stream",
     "text": [
      "C:\\Users\\jkepler\\AppData\\Local\\Temp\\ipykernel_21608\\3853764565.py:17: SettingWithCopyWarning: \n",
      "A value is trying to be set on a copy of a slice from a DataFrame.\n",
      "Try using .loc[row_indexer,col_indexer] = value instead\n",
      "\n",
      "See the caveats in the documentation: https://pandas.pydata.org/pandas-docs/stable/user_guide/indexing.html#returning-a-view-versus-a-copy\n",
      "  pos_df[stat + '_y_pred_gbf'] = gbr_predictions\n"
     ]
    },
    {
     "name": "stdout",
     "output_type": "stream",
     "text": [
      "rushing_epa_3rd_year_stats\n"
     ]
    },
    {
     "name": "stderr",
     "output_type": "stream",
     "text": [
      "C:\\Users\\jkepler\\AppData\\Local\\Temp\\ipykernel_21608\\3853764565.py:17: SettingWithCopyWarning: \n",
      "A value is trying to be set on a copy of a slice from a DataFrame.\n",
      "Try using .loc[row_indexer,col_indexer] = value instead\n",
      "\n",
      "See the caveats in the documentation: https://pandas.pydata.org/pandas-docs/stable/user_guide/indexing.html#returning-a-view-versus-a-copy\n",
      "  pos_df[stat + '_y_pred_gbf'] = gbr_predictions\n"
     ]
    },
    {
     "name": "stdout",
     "output_type": "stream",
     "text": [
      "targets_3rd_year_stats\n"
     ]
    },
    {
     "name": "stderr",
     "output_type": "stream",
     "text": [
      "C:\\Users\\jkepler\\AppData\\Local\\Temp\\ipykernel_21608\\3853764565.py:17: SettingWithCopyWarning: \n",
      "A value is trying to be set on a copy of a slice from a DataFrame.\n",
      "Try using .loc[row_indexer,col_indexer] = value instead\n",
      "\n",
      "See the caveats in the documentation: https://pandas.pydata.org/pandas-docs/stable/user_guide/indexing.html#returning-a-view-versus-a-copy\n",
      "  pos_df[stat + '_y_pred_gbf'] = gbr_predictions\n"
     ]
    },
    {
     "name": "stdout",
     "output_type": "stream",
     "text": [
      "receptions_3rd_year_stats\n"
     ]
    },
    {
     "name": "stderr",
     "output_type": "stream",
     "text": [
      "C:\\Users\\jkepler\\AppData\\Local\\Temp\\ipykernel_21608\\3853764565.py:17: SettingWithCopyWarning: \n",
      "A value is trying to be set on a copy of a slice from a DataFrame.\n",
      "Try using .loc[row_indexer,col_indexer] = value instead\n",
      "\n",
      "See the caveats in the documentation: https://pandas.pydata.org/pandas-docs/stable/user_guide/indexing.html#returning-a-view-versus-a-copy\n",
      "  pos_df[stat + '_y_pred_gbf'] = gbr_predictions\n"
     ]
    },
    {
     "name": "stdout",
     "output_type": "stream",
     "text": [
      "receiving_yards_3rd_year_stats\n"
     ]
    },
    {
     "name": "stderr",
     "output_type": "stream",
     "text": [
      "C:\\Users\\jkepler\\AppData\\Local\\Temp\\ipykernel_21608\\3853764565.py:17: SettingWithCopyWarning: \n",
      "A value is trying to be set on a copy of a slice from a DataFrame.\n",
      "Try using .loc[row_indexer,col_indexer] = value instead\n",
      "\n",
      "See the caveats in the documentation: https://pandas.pydata.org/pandas-docs/stable/user_guide/indexing.html#returning-a-view-versus-a-copy\n",
      "  pos_df[stat + '_y_pred_gbf'] = gbr_predictions\n"
     ]
    },
    {
     "name": "stdout",
     "output_type": "stream",
     "text": [
      "receiving_tds_3rd_year_stats\n"
     ]
    },
    {
     "name": "stderr",
     "output_type": "stream",
     "text": [
      "C:\\Users\\jkepler\\AppData\\Local\\Temp\\ipykernel_21608\\3853764565.py:17: SettingWithCopyWarning: \n",
      "A value is trying to be set on a copy of a slice from a DataFrame.\n",
      "Try using .loc[row_indexer,col_indexer] = value instead\n",
      "\n",
      "See the caveats in the documentation: https://pandas.pydata.org/pandas-docs/stable/user_guide/indexing.html#returning-a-view-versus-a-copy\n",
      "  pos_df[stat + '_y_pred_gbf'] = gbr_predictions\n",
      "C:\\Users\\jkepler\\AppData\\Local\\Temp\\ipykernel_21608\\3853764565.py:17: SettingWithCopyWarning: \n",
      "A value is trying to be set on a copy of a slice from a DataFrame.\n",
      "Try using .loc[row_indexer,col_indexer] = value instead\n",
      "\n",
      "See the caveats in the documentation: https://pandas.pydata.org/pandas-docs/stable/user_guide/indexing.html#returning-a-view-versus-a-copy\n",
      "  pos_df[stat + '_y_pred_gbf'] = gbr_predictions\n",
      "C:\\Users\\jkepler\\AppData\\Local\\Temp\\ipykernel_21608\\3853764565.py:17: SettingWithCopyWarning: \n",
      "A value is trying to be set on a copy of a slice from a DataFrame.\n",
      "Try using .loc[row_indexer,col_indexer] = value instead\n",
      "\n",
      "See the caveats in the documentation: https://pandas.pydata.org/pandas-docs/stable/user_guide/indexing.html#returning-a-view-versus-a-copy\n",
      "  pos_df[stat + '_y_pred_gbf'] = gbr_predictions\n"
     ]
    },
    {
     "name": "stdout",
     "output_type": "stream",
     "text": [
      "receiving_fumbles_3rd_year_stats\n",
      "receiving_fumbles_lost_3rd_year_stats\n",
      "receiving_air_yards_3rd_year_stats\n"
     ]
    },
    {
     "name": "stderr",
     "output_type": "stream",
     "text": [
      "C:\\Users\\jkepler\\AppData\\Local\\Temp\\ipykernel_21608\\3853764565.py:17: SettingWithCopyWarning: \n",
      "A value is trying to be set on a copy of a slice from a DataFrame.\n",
      "Try using .loc[row_indexer,col_indexer] = value instead\n",
      "\n",
      "See the caveats in the documentation: https://pandas.pydata.org/pandas-docs/stable/user_guide/indexing.html#returning-a-view-versus-a-copy\n",
      "  pos_df[stat + '_y_pred_gbf'] = gbr_predictions\n"
     ]
    },
    {
     "name": "stdout",
     "output_type": "stream",
     "text": [
      "receiving_yards_after_catch_3rd_year_stats\n"
     ]
    },
    {
     "name": "stderr",
     "output_type": "stream",
     "text": [
      "C:\\Users\\jkepler\\AppData\\Local\\Temp\\ipykernel_21608\\3853764565.py:17: SettingWithCopyWarning: \n",
      "A value is trying to be set on a copy of a slice from a DataFrame.\n",
      "Try using .loc[row_indexer,col_indexer] = value instead\n",
      "\n",
      "See the caveats in the documentation: https://pandas.pydata.org/pandas-docs/stable/user_guide/indexing.html#returning-a-view-versus-a-copy\n",
      "  pos_df[stat + '_y_pred_gbf'] = gbr_predictions\n"
     ]
    },
    {
     "name": "stdout",
     "output_type": "stream",
     "text": [
      "receiving_first_downs_3rd_year_stats\n"
     ]
    },
    {
     "name": "stderr",
     "output_type": "stream",
     "text": [
      "C:\\Users\\jkepler\\AppData\\Local\\Temp\\ipykernel_21608\\3853764565.py:17: SettingWithCopyWarning: \n",
      "A value is trying to be set on a copy of a slice from a DataFrame.\n",
      "Try using .loc[row_indexer,col_indexer] = value instead\n",
      "\n",
      "See the caveats in the documentation: https://pandas.pydata.org/pandas-docs/stable/user_guide/indexing.html#returning-a-view-versus-a-copy\n",
      "  pos_df[stat + '_y_pred_gbf'] = gbr_predictions\n"
     ]
    },
    {
     "name": "stdout",
     "output_type": "stream",
     "text": [
      "receiving_epa_3rd_year_stats\n"
     ]
    },
    {
     "name": "stderr",
     "output_type": "stream",
     "text": [
      "C:\\Users\\jkepler\\AppData\\Local\\Temp\\ipykernel_21608\\3853764565.py:17: SettingWithCopyWarning: \n",
      "A value is trying to be set on a copy of a slice from a DataFrame.\n",
      "Try using .loc[row_indexer,col_indexer] = value instead\n",
      "\n",
      "See the caveats in the documentation: https://pandas.pydata.org/pandas-docs/stable/user_guide/indexing.html#returning-a-view-versus-a-copy\n",
      "  pos_df[stat + '_y_pred_gbf'] = gbr_predictions\n"
     ]
    },
    {
     "name": "stdout",
     "output_type": "stream",
     "text": [
      "racr_3rd_year_stats\n"
     ]
    },
    {
     "name": "stderr",
     "output_type": "stream",
     "text": [
      "C:\\Users\\jkepler\\AppData\\Local\\Temp\\ipykernel_21608\\3853764565.py:17: SettingWithCopyWarning: \n",
      "A value is trying to be set on a copy of a slice from a DataFrame.\n",
      "Try using .loc[row_indexer,col_indexer] = value instead\n",
      "\n",
      "See the caveats in the documentation: https://pandas.pydata.org/pandas-docs/stable/user_guide/indexing.html#returning-a-view-versus-a-copy\n",
      "  pos_df[stat + '_y_pred_gbf'] = gbr_predictions\n"
     ]
    },
    {
     "name": "stdout",
     "output_type": "stream",
     "text": [
      "air_yards_share_3rd_year_stats\n"
     ]
    },
    {
     "name": "stderr",
     "output_type": "stream",
     "text": [
      "C:\\Users\\jkepler\\AppData\\Local\\Temp\\ipykernel_21608\\3853764565.py:17: SettingWithCopyWarning: \n",
      "A value is trying to be set on a copy of a slice from a DataFrame.\n",
      "Try using .loc[row_indexer,col_indexer] = value instead\n",
      "\n",
      "See the caveats in the documentation: https://pandas.pydata.org/pandas-docs/stable/user_guide/indexing.html#returning-a-view-versus-a-copy\n",
      "  pos_df[stat + '_y_pred_gbf'] = gbr_predictions\n"
     ]
    },
    {
     "name": "stdout",
     "output_type": "stream",
     "text": [
      "wopr_x_3rd_year_stats\n"
     ]
    },
    {
     "name": "stderr",
     "output_type": "stream",
     "text": [
      "C:\\Users\\jkepler\\AppData\\Local\\Temp\\ipykernel_21608\\3853764565.py:17: SettingWithCopyWarning: \n",
      "A value is trying to be set on a copy of a slice from a DataFrame.\n",
      "Try using .loc[row_indexer,col_indexer] = value instead\n",
      "\n",
      "See the caveats in the documentation: https://pandas.pydata.org/pandas-docs/stable/user_guide/indexing.html#returning-a-view-versus-a-copy\n",
      "  pos_df[stat + '_y_pred_gbf'] = gbr_predictions\n",
      "C:\\Users\\jkepler\\AppData\\Local\\Temp\\ipykernel_21608\\3853764565.py:17: SettingWithCopyWarning: \n",
      "A value is trying to be set on a copy of a slice from a DataFrame.\n",
      "Try using .loc[row_indexer,col_indexer] = value instead\n",
      "\n",
      "See the caveats in the documentation: https://pandas.pydata.org/pandas-docs/stable/user_guide/indexing.html#returning-a-view-versus-a-copy\n",
      "  pos_df[stat + '_y_pred_gbf'] = gbr_predictions\n"
     ]
    },
    {
     "name": "stdout",
     "output_type": "stream",
     "text": [
      "special_teams_tds_3rd_year_stats\n",
      "tgt_sh_3rd_year_stats\n"
     ]
    },
    {
     "name": "stderr",
     "output_type": "stream",
     "text": [
      "C:\\Users\\jkepler\\AppData\\Local\\Temp\\ipykernel_21608\\3853764565.py:17: SettingWithCopyWarning: \n",
      "A value is trying to be set on a copy of a slice from a DataFrame.\n",
      "Try using .loc[row_indexer,col_indexer] = value instead\n",
      "\n",
      "See the caveats in the documentation: https://pandas.pydata.org/pandas-docs/stable/user_guide/indexing.html#returning-a-view-versus-a-copy\n",
      "  pos_df[stat + '_y_pred_gbf'] = gbr_predictions\n"
     ]
    },
    {
     "name": "stdout",
     "output_type": "stream",
     "text": [
      "ay_sh_3rd_year_stats\n"
     ]
    },
    {
     "name": "stderr",
     "output_type": "stream",
     "text": [
      "C:\\Users\\jkepler\\AppData\\Local\\Temp\\ipykernel_21608\\3853764565.py:17: SettingWithCopyWarning: \n",
      "A value is trying to be set on a copy of a slice from a DataFrame.\n",
      "Try using .loc[row_indexer,col_indexer] = value instead\n",
      "\n",
      "See the caveats in the documentation: https://pandas.pydata.org/pandas-docs/stable/user_guide/indexing.html#returning-a-view-versus-a-copy\n",
      "  pos_df[stat + '_y_pred_gbf'] = gbr_predictions\n"
     ]
    },
    {
     "name": "stdout",
     "output_type": "stream",
     "text": [
      "yac_sh_3rd_year_stats\n"
     ]
    },
    {
     "name": "stderr",
     "output_type": "stream",
     "text": [
      "C:\\Users\\jkepler\\AppData\\Local\\Temp\\ipykernel_21608\\3853764565.py:17: SettingWithCopyWarning: \n",
      "A value is trying to be set on a copy of a slice from a DataFrame.\n",
      "Try using .loc[row_indexer,col_indexer] = value instead\n",
      "\n",
      "See the caveats in the documentation: https://pandas.pydata.org/pandas-docs/stable/user_guide/indexing.html#returning-a-view-versus-a-copy\n",
      "  pos_df[stat + '_y_pred_gbf'] = gbr_predictions\n"
     ]
    },
    {
     "name": "stdout",
     "output_type": "stream",
     "text": [
      "wopr_y_3rd_year_stats\n"
     ]
    },
    {
     "name": "stderr",
     "output_type": "stream",
     "text": [
      "C:\\Users\\jkepler\\AppData\\Local\\Temp\\ipykernel_21608\\3853764565.py:17: SettingWithCopyWarning: \n",
      "A value is trying to be set on a copy of a slice from a DataFrame.\n",
      "Try using .loc[row_indexer,col_indexer] = value instead\n",
      "\n",
      "See the caveats in the documentation: https://pandas.pydata.org/pandas-docs/stable/user_guide/indexing.html#returning-a-view-versus-a-copy\n",
      "  pos_df[stat + '_y_pred_gbf'] = gbr_predictions\n"
     ]
    },
    {
     "name": "stdout",
     "output_type": "stream",
     "text": [
      "ry_sh_3rd_year_stats\n"
     ]
    },
    {
     "name": "stderr",
     "output_type": "stream",
     "text": [
      "C:\\Users\\jkepler\\AppData\\Local\\Temp\\ipykernel_21608\\3853764565.py:17: SettingWithCopyWarning: \n",
      "A value is trying to be set on a copy of a slice from a DataFrame.\n",
      "Try using .loc[row_indexer,col_indexer] = value instead\n",
      "\n",
      "See the caveats in the documentation: https://pandas.pydata.org/pandas-docs/stable/user_guide/indexing.html#returning-a-view-versus-a-copy\n",
      "  pos_df[stat + '_y_pred_gbf'] = gbr_predictions\n"
     ]
    },
    {
     "name": "stdout",
     "output_type": "stream",
     "text": [
      "rtd_sh_3rd_year_stats\n"
     ]
    },
    {
     "name": "stderr",
     "output_type": "stream",
     "text": [
      "C:\\Users\\jkepler\\AppData\\Local\\Temp\\ipykernel_21608\\3853764565.py:17: SettingWithCopyWarning: \n",
      "A value is trying to be set on a copy of a slice from a DataFrame.\n",
      "Try using .loc[row_indexer,col_indexer] = value instead\n",
      "\n",
      "See the caveats in the documentation: https://pandas.pydata.org/pandas-docs/stable/user_guide/indexing.html#returning-a-view-versus-a-copy\n",
      "  pos_df[stat + '_y_pred_gbf'] = gbr_predictions\n"
     ]
    },
    {
     "name": "stdout",
     "output_type": "stream",
     "text": [
      "rfd_sh_3rd_year_stats\n"
     ]
    },
    {
     "name": "stderr",
     "output_type": "stream",
     "text": [
      "C:\\Users\\jkepler\\AppData\\Local\\Temp\\ipykernel_21608\\3853764565.py:17: SettingWithCopyWarning: \n",
      "A value is trying to be set on a copy of a slice from a DataFrame.\n",
      "Try using .loc[row_indexer,col_indexer] = value instead\n",
      "\n",
      "See the caveats in the documentation: https://pandas.pydata.org/pandas-docs/stable/user_guide/indexing.html#returning-a-view-versus-a-copy\n",
      "  pos_df[stat + '_y_pred_gbf'] = gbr_predictions\n"
     ]
    },
    {
     "name": "stdout",
     "output_type": "stream",
     "text": [
      "dom_3rd_year_stats\n"
     ]
    },
    {
     "name": "stderr",
     "output_type": "stream",
     "text": [
      "C:\\Users\\jkepler\\AppData\\Local\\Temp\\ipykernel_21608\\3853764565.py:17: SettingWithCopyWarning: \n",
      "A value is trying to be set on a copy of a slice from a DataFrame.\n",
      "Try using .loc[row_indexer,col_indexer] = value instead\n",
      "\n",
      "See the caveats in the documentation: https://pandas.pydata.org/pandas-docs/stable/user_guide/indexing.html#returning-a-view-versus-a-copy\n",
      "  pos_df[stat + '_y_pred_gbf'] = gbr_predictions\n"
     ]
    },
    {
     "name": "stdout",
     "output_type": "stream",
     "text": [
      "yptmpa_3rd_year_stats\n"
     ]
    },
    {
     "name": "stderr",
     "output_type": "stream",
     "text": [
      "C:\\Users\\jkepler\\AppData\\Local\\Temp\\ipykernel_21608\\3853764565.py:17: SettingWithCopyWarning: \n",
      "A value is trying to be set on a copy of a slice from a DataFrame.\n",
      "Try using .loc[row_indexer,col_indexer] = value instead\n",
      "\n",
      "See the caveats in the documentation: https://pandas.pydata.org/pandas-docs/stable/user_guide/indexing.html#returning-a-view-versus-a-copy\n",
      "  pos_df[stat + '_y_pred_gbf'] = gbr_predictions\n"
     ]
    },
    {
     "name": "stdout",
     "output_type": "stream",
     "text": [
      "RB\n",
      "games_3rd_year_stats\n"
     ]
    },
    {
     "name": "stderr",
     "output_type": "stream",
     "text": [
      "C:\\Users\\jkepler\\AppData\\Local\\Temp\\ipykernel_21608\\3853764565.py:17: SettingWithCopyWarning: \n",
      "A value is trying to be set on a copy of a slice from a DataFrame.\n",
      "Try using .loc[row_indexer,col_indexer] = value instead\n",
      "\n",
      "See the caveats in the documentation: https://pandas.pydata.org/pandas-docs/stable/user_guide/indexing.html#returning-a-view-versus-a-copy\n",
      "  pos_df[stat + '_y_pred_gbf'] = gbr_predictions\n"
     ]
    },
    {
     "name": "stdout",
     "output_type": "stream",
     "text": [
      "passing_yards_3rd_year_stats\n"
     ]
    },
    {
     "name": "stderr",
     "output_type": "stream",
     "text": [
      "C:\\Users\\jkepler\\AppData\\Local\\Temp\\ipykernel_21608\\3853764565.py:17: SettingWithCopyWarning: \n",
      "A value is trying to be set on a copy of a slice from a DataFrame.\n",
      "Try using .loc[row_indexer,col_indexer] = value instead\n",
      "\n",
      "See the caveats in the documentation: https://pandas.pydata.org/pandas-docs/stable/user_guide/indexing.html#returning-a-view-versus-a-copy\n",
      "  pos_df[stat + '_y_pred_gbf'] = gbr_predictions\n",
      "C:\\Users\\jkepler\\AppData\\Local\\Temp\\ipykernel_21608\\3853764565.py:17: SettingWithCopyWarning: \n",
      "A value is trying to be set on a copy of a slice from a DataFrame.\n",
      "Try using .loc[row_indexer,col_indexer] = value instead\n",
      "\n",
      "See the caveats in the documentation: https://pandas.pydata.org/pandas-docs/stable/user_guide/indexing.html#returning-a-view-versus-a-copy\n",
      "  pos_df[stat + '_y_pred_gbf'] = gbr_predictions\n"
     ]
    },
    {
     "name": "stdout",
     "output_type": "stream",
     "text": [
      "passing_tds_3rd_year_stats\n",
      "interceptions_3rd_year_stats\n"
     ]
    },
    {
     "name": "stderr",
     "output_type": "stream",
     "text": [
      "C:\\Users\\jkepler\\AppData\\Local\\Temp\\ipykernel_21608\\3853764565.py:17: SettingWithCopyWarning: \n",
      "A value is trying to be set on a copy of a slice from a DataFrame.\n",
      "Try using .loc[row_indexer,col_indexer] = value instead\n",
      "\n",
      "See the caveats in the documentation: https://pandas.pydata.org/pandas-docs/stable/user_guide/indexing.html#returning-a-view-versus-a-copy\n",
      "  pos_df[stat + '_y_pred_gbf'] = gbr_predictions\n"
     ]
    },
    {
     "name": "stdout",
     "output_type": "stream",
     "text": [
      "sacks_3rd_year_stats\n"
     ]
    },
    {
     "name": "stderr",
     "output_type": "stream",
     "text": [
      "C:\\Users\\jkepler\\AppData\\Local\\Temp\\ipykernel_21608\\3853764565.py:17: SettingWithCopyWarning: \n",
      "A value is trying to be set on a copy of a slice from a DataFrame.\n",
      "Try using .loc[row_indexer,col_indexer] = value instead\n",
      "\n",
      "See the caveats in the documentation: https://pandas.pydata.org/pandas-docs/stable/user_guide/indexing.html#returning-a-view-versus-a-copy\n",
      "  pos_df[stat + '_y_pred_gbf'] = gbr_predictions\n"
     ]
    },
    {
     "name": "stdout",
     "output_type": "stream",
     "text": [
      "sack_yards_3rd_year_stats\n"
     ]
    },
    {
     "name": "stderr",
     "output_type": "stream",
     "text": [
      "C:\\Users\\jkepler\\AppData\\Local\\Temp\\ipykernel_21608\\3853764565.py:17: SettingWithCopyWarning: \n",
      "A value is trying to be set on a copy of a slice from a DataFrame.\n",
      "Try using .loc[row_indexer,col_indexer] = value instead\n",
      "\n",
      "See the caveats in the documentation: https://pandas.pydata.org/pandas-docs/stable/user_guide/indexing.html#returning-a-view-versus-a-copy\n",
      "  pos_df[stat + '_y_pred_gbf'] = gbr_predictions\n"
     ]
    },
    {
     "name": "stdout",
     "output_type": "stream",
     "text": [
      "passing_air_yards_3rd_year_stats\n"
     ]
    },
    {
     "name": "stderr",
     "output_type": "stream",
     "text": [
      "C:\\Users\\jkepler\\AppData\\Local\\Temp\\ipykernel_21608\\3853764565.py:17: SettingWithCopyWarning: \n",
      "A value is trying to be set on a copy of a slice from a DataFrame.\n",
      "Try using .loc[row_indexer,col_indexer] = value instead\n",
      "\n",
      "See the caveats in the documentation: https://pandas.pydata.org/pandas-docs/stable/user_guide/indexing.html#returning-a-view-versus-a-copy\n",
      "  pos_df[stat + '_y_pred_gbf'] = gbr_predictions\n"
     ]
    },
    {
     "name": "stdout",
     "output_type": "stream",
     "text": [
      "passing_yards_after_catch_3rd_year_stats\n"
     ]
    },
    {
     "name": "stderr",
     "output_type": "stream",
     "text": [
      "C:\\Users\\jkepler\\AppData\\Local\\Temp\\ipykernel_21608\\3853764565.py:17: SettingWithCopyWarning: \n",
      "A value is trying to be set on a copy of a slice from a DataFrame.\n",
      "Try using .loc[row_indexer,col_indexer] = value instead\n",
      "\n",
      "See the caveats in the documentation: https://pandas.pydata.org/pandas-docs/stable/user_guide/indexing.html#returning-a-view-versus-a-copy\n",
      "  pos_df[stat + '_y_pred_gbf'] = gbr_predictions\n"
     ]
    },
    {
     "name": "stdout",
     "output_type": "stream",
     "text": [
      "passing_first_downs_3rd_year_stats\n"
     ]
    },
    {
     "name": "stderr",
     "output_type": "stream",
     "text": [
      "C:\\Users\\jkepler\\AppData\\Local\\Temp\\ipykernel_21608\\3853764565.py:17: SettingWithCopyWarning: \n",
      "A value is trying to be set on a copy of a slice from a DataFrame.\n",
      "Try using .loc[row_indexer,col_indexer] = value instead\n",
      "\n",
      "See the caveats in the documentation: https://pandas.pydata.org/pandas-docs/stable/user_guide/indexing.html#returning-a-view-versus-a-copy\n",
      "  pos_df[stat + '_y_pred_gbf'] = gbr_predictions\n"
     ]
    },
    {
     "name": "stdout",
     "output_type": "stream",
     "text": [
      "passing_epa_3rd_year_stats\n"
     ]
    },
    {
     "name": "stderr",
     "output_type": "stream",
     "text": [
      "C:\\Users\\jkepler\\AppData\\Local\\Temp\\ipykernel_21608\\3853764565.py:17: SettingWithCopyWarning: \n",
      "A value is trying to be set on a copy of a slice from a DataFrame.\n",
      "Try using .loc[row_indexer,col_indexer] = value instead\n",
      "\n",
      "See the caveats in the documentation: https://pandas.pydata.org/pandas-docs/stable/user_guide/indexing.html#returning-a-view-versus-a-copy\n",
      "  pos_df[stat + '_y_pred_gbf'] = gbr_predictions\n"
     ]
    },
    {
     "name": "stdout",
     "output_type": "stream",
     "text": [
      "pacr_3rd_year_stats\n"
     ]
    },
    {
     "name": "stderr",
     "output_type": "stream",
     "text": [
      "C:\\Users\\jkepler\\AppData\\Local\\Temp\\ipykernel_21608\\3853764565.py:17: SettingWithCopyWarning: \n",
      "A value is trying to be set on a copy of a slice from a DataFrame.\n",
      "Try using .loc[row_indexer,col_indexer] = value instead\n",
      "\n",
      "See the caveats in the documentation: https://pandas.pydata.org/pandas-docs/stable/user_guide/indexing.html#returning-a-view-versus-a-copy\n",
      "  pos_df[stat + '_y_pred_gbf'] = gbr_predictions\n",
      "C:\\Users\\jkepler\\AppData\\Local\\Temp\\ipykernel_21608\\3853764565.py:17: SettingWithCopyWarning: \n",
      "A value is trying to be set on a copy of a slice from a DataFrame.\n",
      "Try using .loc[row_indexer,col_indexer] = value instead\n",
      "\n",
      "See the caveats in the documentation: https://pandas.pydata.org/pandas-docs/stable/user_guide/indexing.html#returning-a-view-versus-a-copy\n",
      "  pos_df[stat + '_y_pred_gbf'] = gbr_predictions\n"
     ]
    },
    {
     "name": "stdout",
     "output_type": "stream",
     "text": [
      "dakota_3rd_year_stats\n",
      "rushing_yards_3rd_year_stats\n"
     ]
    },
    {
     "name": "stderr",
     "output_type": "stream",
     "text": [
      "C:\\Users\\jkepler\\AppData\\Local\\Temp\\ipykernel_21608\\3853764565.py:17: SettingWithCopyWarning: \n",
      "A value is trying to be set on a copy of a slice from a DataFrame.\n",
      "Try using .loc[row_indexer,col_indexer] = value instead\n",
      "\n",
      "See the caveats in the documentation: https://pandas.pydata.org/pandas-docs/stable/user_guide/indexing.html#returning-a-view-versus-a-copy\n",
      "  pos_df[stat + '_y_pred_gbf'] = gbr_predictions\n"
     ]
    },
    {
     "name": "stdout",
     "output_type": "stream",
     "text": [
      "rushing_tds_3rd_year_stats\n"
     ]
    },
    {
     "name": "stderr",
     "output_type": "stream",
     "text": [
      "C:\\Users\\jkepler\\AppData\\Local\\Temp\\ipykernel_21608\\3853764565.py:17: SettingWithCopyWarning: \n",
      "A value is trying to be set on a copy of a slice from a DataFrame.\n",
      "Try using .loc[row_indexer,col_indexer] = value instead\n",
      "\n",
      "See the caveats in the documentation: https://pandas.pydata.org/pandas-docs/stable/user_guide/indexing.html#returning-a-view-versus-a-copy\n",
      "  pos_df[stat + '_y_pred_gbf'] = gbr_predictions\n"
     ]
    },
    {
     "name": "stdout",
     "output_type": "stream",
     "text": [
      "rushing_fumbles_3rd_year_stats\n"
     ]
    },
    {
     "name": "stderr",
     "output_type": "stream",
     "text": [
      "C:\\Users\\jkepler\\AppData\\Local\\Temp\\ipykernel_21608\\3853764565.py:17: SettingWithCopyWarning: \n",
      "A value is trying to be set on a copy of a slice from a DataFrame.\n",
      "Try using .loc[row_indexer,col_indexer] = value instead\n",
      "\n",
      "See the caveats in the documentation: https://pandas.pydata.org/pandas-docs/stable/user_guide/indexing.html#returning-a-view-versus-a-copy\n",
      "  pos_df[stat + '_y_pred_gbf'] = gbr_predictions\n"
     ]
    },
    {
     "name": "stdout",
     "output_type": "stream",
     "text": [
      "rushing_fumbles_lost_3rd_year_stats\n"
     ]
    },
    {
     "name": "stderr",
     "output_type": "stream",
     "text": [
      "C:\\Users\\jkepler\\AppData\\Local\\Temp\\ipykernel_21608\\3853764565.py:17: SettingWithCopyWarning: \n",
      "A value is trying to be set on a copy of a slice from a DataFrame.\n",
      "Try using .loc[row_indexer,col_indexer] = value instead\n",
      "\n",
      "See the caveats in the documentation: https://pandas.pydata.org/pandas-docs/stable/user_guide/indexing.html#returning-a-view-versus-a-copy\n",
      "  pos_df[stat + '_y_pred_gbf'] = gbr_predictions\n"
     ]
    },
    {
     "name": "stdout",
     "output_type": "stream",
     "text": [
      "rushing_first_downs_3rd_year_stats\n"
     ]
    },
    {
     "name": "stderr",
     "output_type": "stream",
     "text": [
      "C:\\Users\\jkepler\\AppData\\Local\\Temp\\ipykernel_21608\\3853764565.py:17: SettingWithCopyWarning: \n",
      "A value is trying to be set on a copy of a slice from a DataFrame.\n",
      "Try using .loc[row_indexer,col_indexer] = value instead\n",
      "\n",
      "See the caveats in the documentation: https://pandas.pydata.org/pandas-docs/stable/user_guide/indexing.html#returning-a-view-versus-a-copy\n",
      "  pos_df[stat + '_y_pred_gbf'] = gbr_predictions\n"
     ]
    },
    {
     "name": "stdout",
     "output_type": "stream",
     "text": [
      "rushing_epa_3rd_year_stats\n"
     ]
    },
    {
     "name": "stderr",
     "output_type": "stream",
     "text": [
      "C:\\Users\\jkepler\\AppData\\Local\\Temp\\ipykernel_21608\\3853764565.py:17: SettingWithCopyWarning: \n",
      "A value is trying to be set on a copy of a slice from a DataFrame.\n",
      "Try using .loc[row_indexer,col_indexer] = value instead\n",
      "\n",
      "See the caveats in the documentation: https://pandas.pydata.org/pandas-docs/stable/user_guide/indexing.html#returning-a-view-versus-a-copy\n",
      "  pos_df[stat + '_y_pred_gbf'] = gbr_predictions\n"
     ]
    },
    {
     "name": "stdout",
     "output_type": "stream",
     "text": [
      "targets_3rd_year_stats\n"
     ]
    },
    {
     "name": "stderr",
     "output_type": "stream",
     "text": [
      "C:\\Users\\jkepler\\AppData\\Local\\Temp\\ipykernel_21608\\3853764565.py:17: SettingWithCopyWarning: \n",
      "A value is trying to be set on a copy of a slice from a DataFrame.\n",
      "Try using .loc[row_indexer,col_indexer] = value instead\n",
      "\n",
      "See the caveats in the documentation: https://pandas.pydata.org/pandas-docs/stable/user_guide/indexing.html#returning-a-view-versus-a-copy\n",
      "  pos_df[stat + '_y_pred_gbf'] = gbr_predictions\n"
     ]
    },
    {
     "name": "stdout",
     "output_type": "stream",
     "text": [
      "receptions_3rd_year_stats\n"
     ]
    },
    {
     "name": "stderr",
     "output_type": "stream",
     "text": [
      "C:\\Users\\jkepler\\AppData\\Local\\Temp\\ipykernel_21608\\3853764565.py:17: SettingWithCopyWarning: \n",
      "A value is trying to be set on a copy of a slice from a DataFrame.\n",
      "Try using .loc[row_indexer,col_indexer] = value instead\n",
      "\n",
      "See the caveats in the documentation: https://pandas.pydata.org/pandas-docs/stable/user_guide/indexing.html#returning-a-view-versus-a-copy\n",
      "  pos_df[stat + '_y_pred_gbf'] = gbr_predictions\n"
     ]
    },
    {
     "name": "stdout",
     "output_type": "stream",
     "text": [
      "receiving_yards_3rd_year_stats\n"
     ]
    },
    {
     "name": "stderr",
     "output_type": "stream",
     "text": [
      "C:\\Users\\jkepler\\AppData\\Local\\Temp\\ipykernel_21608\\3853764565.py:17: SettingWithCopyWarning: \n",
      "A value is trying to be set on a copy of a slice from a DataFrame.\n",
      "Try using .loc[row_indexer,col_indexer] = value instead\n",
      "\n",
      "See the caveats in the documentation: https://pandas.pydata.org/pandas-docs/stable/user_guide/indexing.html#returning-a-view-versus-a-copy\n",
      "  pos_df[stat + '_y_pred_gbf'] = gbr_predictions\n"
     ]
    },
    {
     "name": "stdout",
     "output_type": "stream",
     "text": [
      "receiving_tds_3rd_year_stats\n"
     ]
    },
    {
     "name": "stderr",
     "output_type": "stream",
     "text": [
      "C:\\Users\\jkepler\\AppData\\Local\\Temp\\ipykernel_21608\\3853764565.py:17: SettingWithCopyWarning: \n",
      "A value is trying to be set on a copy of a slice from a DataFrame.\n",
      "Try using .loc[row_indexer,col_indexer] = value instead\n",
      "\n",
      "See the caveats in the documentation: https://pandas.pydata.org/pandas-docs/stable/user_guide/indexing.html#returning-a-view-versus-a-copy\n",
      "  pos_df[stat + '_y_pred_gbf'] = gbr_predictions\n"
     ]
    },
    {
     "name": "stdout",
     "output_type": "stream",
     "text": [
      "receiving_fumbles_3rd_year_stats\n"
     ]
    },
    {
     "name": "stderr",
     "output_type": "stream",
     "text": [
      "C:\\Users\\jkepler\\AppData\\Local\\Temp\\ipykernel_21608\\3853764565.py:17: SettingWithCopyWarning: \n",
      "A value is trying to be set on a copy of a slice from a DataFrame.\n",
      "Try using .loc[row_indexer,col_indexer] = value instead\n",
      "\n",
      "See the caveats in the documentation: https://pandas.pydata.org/pandas-docs/stable/user_guide/indexing.html#returning-a-view-versus-a-copy\n",
      "  pos_df[stat + '_y_pred_gbf'] = gbr_predictions\n"
     ]
    },
    {
     "name": "stdout",
     "output_type": "stream",
     "text": [
      "receiving_fumbles_lost_3rd_year_stats\n"
     ]
    },
    {
     "name": "stderr",
     "output_type": "stream",
     "text": [
      "C:\\Users\\jkepler\\AppData\\Local\\Temp\\ipykernel_21608\\3853764565.py:17: SettingWithCopyWarning: \n",
      "A value is trying to be set on a copy of a slice from a DataFrame.\n",
      "Try using .loc[row_indexer,col_indexer] = value instead\n",
      "\n",
      "See the caveats in the documentation: https://pandas.pydata.org/pandas-docs/stable/user_guide/indexing.html#returning-a-view-versus-a-copy\n",
      "  pos_df[stat + '_y_pred_gbf'] = gbr_predictions\n"
     ]
    },
    {
     "name": "stdout",
     "output_type": "stream",
     "text": [
      "receiving_air_yards_3rd_year_stats\n"
     ]
    },
    {
     "name": "stderr",
     "output_type": "stream",
     "text": [
      "C:\\Users\\jkepler\\AppData\\Local\\Temp\\ipykernel_21608\\3853764565.py:17: SettingWithCopyWarning: \n",
      "A value is trying to be set on a copy of a slice from a DataFrame.\n",
      "Try using .loc[row_indexer,col_indexer] = value instead\n",
      "\n",
      "See the caveats in the documentation: https://pandas.pydata.org/pandas-docs/stable/user_guide/indexing.html#returning-a-view-versus-a-copy\n",
      "  pos_df[stat + '_y_pred_gbf'] = gbr_predictions\n"
     ]
    },
    {
     "name": "stdout",
     "output_type": "stream",
     "text": [
      "receiving_yards_after_catch_3rd_year_stats\n"
     ]
    },
    {
     "name": "stderr",
     "output_type": "stream",
     "text": [
      "C:\\Users\\jkepler\\AppData\\Local\\Temp\\ipykernel_21608\\3853764565.py:17: SettingWithCopyWarning: \n",
      "A value is trying to be set on a copy of a slice from a DataFrame.\n",
      "Try using .loc[row_indexer,col_indexer] = value instead\n",
      "\n",
      "See the caveats in the documentation: https://pandas.pydata.org/pandas-docs/stable/user_guide/indexing.html#returning-a-view-versus-a-copy\n",
      "  pos_df[stat + '_y_pred_gbf'] = gbr_predictions\n"
     ]
    },
    {
     "name": "stdout",
     "output_type": "stream",
     "text": [
      "receiving_first_downs_3rd_year_stats\n"
     ]
    },
    {
     "name": "stderr",
     "output_type": "stream",
     "text": [
      "C:\\Users\\jkepler\\AppData\\Local\\Temp\\ipykernel_21608\\3853764565.py:17: SettingWithCopyWarning: \n",
      "A value is trying to be set on a copy of a slice from a DataFrame.\n",
      "Try using .loc[row_indexer,col_indexer] = value instead\n",
      "\n",
      "See the caveats in the documentation: https://pandas.pydata.org/pandas-docs/stable/user_guide/indexing.html#returning-a-view-versus-a-copy\n",
      "  pos_df[stat + '_y_pred_gbf'] = gbr_predictions\n"
     ]
    },
    {
     "name": "stdout",
     "output_type": "stream",
     "text": [
      "receiving_epa_3rd_year_stats\n"
     ]
    },
    {
     "name": "stderr",
     "output_type": "stream",
     "text": [
      "C:\\Users\\jkepler\\AppData\\Local\\Temp\\ipykernel_21608\\3853764565.py:17: SettingWithCopyWarning: \n",
      "A value is trying to be set on a copy of a slice from a DataFrame.\n",
      "Try using .loc[row_indexer,col_indexer] = value instead\n",
      "\n",
      "See the caveats in the documentation: https://pandas.pydata.org/pandas-docs/stable/user_guide/indexing.html#returning-a-view-versus-a-copy\n",
      "  pos_df[stat + '_y_pred_gbf'] = gbr_predictions\n"
     ]
    },
    {
     "name": "stdout",
     "output_type": "stream",
     "text": [
      "racr_3rd_year_stats\n"
     ]
    },
    {
     "name": "stderr",
     "output_type": "stream",
     "text": [
      "C:\\Users\\jkepler\\AppData\\Local\\Temp\\ipykernel_21608\\3853764565.py:17: SettingWithCopyWarning: \n",
      "A value is trying to be set on a copy of a slice from a DataFrame.\n",
      "Try using .loc[row_indexer,col_indexer] = value instead\n",
      "\n",
      "See the caveats in the documentation: https://pandas.pydata.org/pandas-docs/stable/user_guide/indexing.html#returning-a-view-versus-a-copy\n",
      "  pos_df[stat + '_y_pred_gbf'] = gbr_predictions\n"
     ]
    },
    {
     "name": "stdout",
     "output_type": "stream",
     "text": [
      "air_yards_share_3rd_year_stats\n"
     ]
    },
    {
     "name": "stderr",
     "output_type": "stream",
     "text": [
      "C:\\Users\\jkepler\\AppData\\Local\\Temp\\ipykernel_21608\\3853764565.py:17: SettingWithCopyWarning: \n",
      "A value is trying to be set on a copy of a slice from a DataFrame.\n",
      "Try using .loc[row_indexer,col_indexer] = value instead\n",
      "\n",
      "See the caveats in the documentation: https://pandas.pydata.org/pandas-docs/stable/user_guide/indexing.html#returning-a-view-versus-a-copy\n",
      "  pos_df[stat + '_y_pred_gbf'] = gbr_predictions\n"
     ]
    },
    {
     "name": "stdout",
     "output_type": "stream",
     "text": [
      "wopr_x_3rd_year_stats\n"
     ]
    },
    {
     "name": "stderr",
     "output_type": "stream",
     "text": [
      "C:\\Users\\jkepler\\AppData\\Local\\Temp\\ipykernel_21608\\3853764565.py:17: SettingWithCopyWarning: \n",
      "A value is trying to be set on a copy of a slice from a DataFrame.\n",
      "Try using .loc[row_indexer,col_indexer] = value instead\n",
      "\n",
      "See the caveats in the documentation: https://pandas.pydata.org/pandas-docs/stable/user_guide/indexing.html#returning-a-view-versus-a-copy\n",
      "  pos_df[stat + '_y_pred_gbf'] = gbr_predictions\n"
     ]
    },
    {
     "name": "stdout",
     "output_type": "stream",
     "text": [
      "special_teams_tds_3rd_year_stats\n"
     ]
    },
    {
     "name": "stderr",
     "output_type": "stream",
     "text": [
      "C:\\Users\\jkepler\\AppData\\Local\\Temp\\ipykernel_21608\\3853764565.py:17: SettingWithCopyWarning: \n",
      "A value is trying to be set on a copy of a slice from a DataFrame.\n",
      "Try using .loc[row_indexer,col_indexer] = value instead\n",
      "\n",
      "See the caveats in the documentation: https://pandas.pydata.org/pandas-docs/stable/user_guide/indexing.html#returning-a-view-versus-a-copy\n",
      "  pos_df[stat + '_y_pred_gbf'] = gbr_predictions\n"
     ]
    },
    {
     "name": "stdout",
     "output_type": "stream",
     "text": [
      "tgt_sh_3rd_year_stats\n"
     ]
    },
    {
     "name": "stderr",
     "output_type": "stream",
     "text": [
      "C:\\Users\\jkepler\\AppData\\Local\\Temp\\ipykernel_21608\\3853764565.py:17: SettingWithCopyWarning: \n",
      "A value is trying to be set on a copy of a slice from a DataFrame.\n",
      "Try using .loc[row_indexer,col_indexer] = value instead\n",
      "\n",
      "See the caveats in the documentation: https://pandas.pydata.org/pandas-docs/stable/user_guide/indexing.html#returning-a-view-versus-a-copy\n",
      "  pos_df[stat + '_y_pred_gbf'] = gbr_predictions\n"
     ]
    },
    {
     "name": "stdout",
     "output_type": "stream",
     "text": [
      "ay_sh_3rd_year_stats\n"
     ]
    },
    {
     "name": "stderr",
     "output_type": "stream",
     "text": [
      "C:\\Users\\jkepler\\AppData\\Local\\Temp\\ipykernel_21608\\3853764565.py:17: SettingWithCopyWarning: \n",
      "A value is trying to be set on a copy of a slice from a DataFrame.\n",
      "Try using .loc[row_indexer,col_indexer] = value instead\n",
      "\n",
      "See the caveats in the documentation: https://pandas.pydata.org/pandas-docs/stable/user_guide/indexing.html#returning-a-view-versus-a-copy\n",
      "  pos_df[stat + '_y_pred_gbf'] = gbr_predictions\n"
     ]
    },
    {
     "name": "stdout",
     "output_type": "stream",
     "text": [
      "yac_sh_3rd_year_stats\n"
     ]
    },
    {
     "name": "stderr",
     "output_type": "stream",
     "text": [
      "C:\\Users\\jkepler\\AppData\\Local\\Temp\\ipykernel_21608\\3853764565.py:17: SettingWithCopyWarning: \n",
      "A value is trying to be set on a copy of a slice from a DataFrame.\n",
      "Try using .loc[row_indexer,col_indexer] = value instead\n",
      "\n",
      "See the caveats in the documentation: https://pandas.pydata.org/pandas-docs/stable/user_guide/indexing.html#returning-a-view-versus-a-copy\n",
      "  pos_df[stat + '_y_pred_gbf'] = gbr_predictions\n"
     ]
    },
    {
     "name": "stdout",
     "output_type": "stream",
     "text": [
      "wopr_y_3rd_year_stats\n"
     ]
    },
    {
     "name": "stderr",
     "output_type": "stream",
     "text": [
      "C:\\Users\\jkepler\\AppData\\Local\\Temp\\ipykernel_21608\\3853764565.py:17: SettingWithCopyWarning: \n",
      "A value is trying to be set on a copy of a slice from a DataFrame.\n",
      "Try using .loc[row_indexer,col_indexer] = value instead\n",
      "\n",
      "See the caveats in the documentation: https://pandas.pydata.org/pandas-docs/stable/user_guide/indexing.html#returning-a-view-versus-a-copy\n",
      "  pos_df[stat + '_y_pred_gbf'] = gbr_predictions\n"
     ]
    },
    {
     "name": "stdout",
     "output_type": "stream",
     "text": [
      "ry_sh_3rd_year_stats\n"
     ]
    },
    {
     "name": "stderr",
     "output_type": "stream",
     "text": [
      "C:\\Users\\jkepler\\AppData\\Local\\Temp\\ipykernel_21608\\3853764565.py:17: SettingWithCopyWarning: \n",
      "A value is trying to be set on a copy of a slice from a DataFrame.\n",
      "Try using .loc[row_indexer,col_indexer] = value instead\n",
      "\n",
      "See the caveats in the documentation: https://pandas.pydata.org/pandas-docs/stable/user_guide/indexing.html#returning-a-view-versus-a-copy\n",
      "  pos_df[stat + '_y_pred_gbf'] = gbr_predictions\n"
     ]
    },
    {
     "name": "stdout",
     "output_type": "stream",
     "text": [
      "rtd_sh_3rd_year_stats\n"
     ]
    },
    {
     "name": "stderr",
     "output_type": "stream",
     "text": [
      "C:\\Users\\jkepler\\AppData\\Local\\Temp\\ipykernel_21608\\3853764565.py:17: SettingWithCopyWarning: \n",
      "A value is trying to be set on a copy of a slice from a DataFrame.\n",
      "Try using .loc[row_indexer,col_indexer] = value instead\n",
      "\n",
      "See the caveats in the documentation: https://pandas.pydata.org/pandas-docs/stable/user_guide/indexing.html#returning-a-view-versus-a-copy\n",
      "  pos_df[stat + '_y_pred_gbf'] = gbr_predictions\n"
     ]
    },
    {
     "name": "stdout",
     "output_type": "stream",
     "text": [
      "rfd_sh_3rd_year_stats\n"
     ]
    },
    {
     "name": "stderr",
     "output_type": "stream",
     "text": [
      "C:\\Users\\jkepler\\AppData\\Local\\Temp\\ipykernel_21608\\3853764565.py:17: SettingWithCopyWarning: \n",
      "A value is trying to be set on a copy of a slice from a DataFrame.\n",
      "Try using .loc[row_indexer,col_indexer] = value instead\n",
      "\n",
      "See the caveats in the documentation: https://pandas.pydata.org/pandas-docs/stable/user_guide/indexing.html#returning-a-view-versus-a-copy\n",
      "  pos_df[stat + '_y_pred_gbf'] = gbr_predictions\n"
     ]
    },
    {
     "name": "stdout",
     "output_type": "stream",
     "text": [
      "dom_3rd_year_stats\n"
     ]
    },
    {
     "name": "stderr",
     "output_type": "stream",
     "text": [
      "C:\\Users\\jkepler\\AppData\\Local\\Temp\\ipykernel_21608\\3853764565.py:17: SettingWithCopyWarning: \n",
      "A value is trying to be set on a copy of a slice from a DataFrame.\n",
      "Try using .loc[row_indexer,col_indexer] = value instead\n",
      "\n",
      "See the caveats in the documentation: https://pandas.pydata.org/pandas-docs/stable/user_guide/indexing.html#returning-a-view-versus-a-copy\n",
      "  pos_df[stat + '_y_pred_gbf'] = gbr_predictions\n"
     ]
    },
    {
     "name": "stdout",
     "output_type": "stream",
     "text": [
      "yptmpa_3rd_year_stats\n"
     ]
    },
    {
     "name": "stderr",
     "output_type": "stream",
     "text": [
      "C:\\Users\\jkepler\\AppData\\Local\\Temp\\ipykernel_21608\\3853764565.py:17: SettingWithCopyWarning: \n",
      "A value is trying to be set on a copy of a slice from a DataFrame.\n",
      "Try using .loc[row_indexer,col_indexer] = value instead\n",
      "\n",
      "See the caveats in the documentation: https://pandas.pydata.org/pandas-docs/stable/user_guide/indexing.html#returning-a-view-versus-a-copy\n",
      "  pos_df[stat + '_y_pred_gbf'] = gbr_predictions\n"
     ]
    },
    {
     "name": "stdout",
     "output_type": "stream",
     "text": [
      "WR\n",
      "games_3rd_year_stats\n"
     ]
    },
    {
     "name": "stderr",
     "output_type": "stream",
     "text": [
      "C:\\Users\\jkepler\\AppData\\Local\\Temp\\ipykernel_21608\\3853764565.py:17: SettingWithCopyWarning: \n",
      "A value is trying to be set on a copy of a slice from a DataFrame.\n",
      "Try using .loc[row_indexer,col_indexer] = value instead\n",
      "\n",
      "See the caveats in the documentation: https://pandas.pydata.org/pandas-docs/stable/user_guide/indexing.html#returning-a-view-versus-a-copy\n",
      "  pos_df[stat + '_y_pred_gbf'] = gbr_predictions\n"
     ]
    },
    {
     "name": "stdout",
     "output_type": "stream",
     "text": [
      "passing_yards_3rd_year_stats\n"
     ]
    },
    {
     "name": "stderr",
     "output_type": "stream",
     "text": [
      "C:\\Users\\jkepler\\AppData\\Local\\Temp\\ipykernel_21608\\3853764565.py:17: SettingWithCopyWarning: \n",
      "A value is trying to be set on a copy of a slice from a DataFrame.\n",
      "Try using .loc[row_indexer,col_indexer] = value instead\n",
      "\n",
      "See the caveats in the documentation: https://pandas.pydata.org/pandas-docs/stable/user_guide/indexing.html#returning-a-view-versus-a-copy\n",
      "  pos_df[stat + '_y_pred_gbf'] = gbr_predictions\n"
     ]
    },
    {
     "name": "stdout",
     "output_type": "stream",
     "text": [
      "passing_tds_3rd_year_stats\n"
     ]
    },
    {
     "name": "stderr",
     "output_type": "stream",
     "text": [
      "C:\\Users\\jkepler\\AppData\\Local\\Temp\\ipykernel_21608\\3853764565.py:17: SettingWithCopyWarning: \n",
      "A value is trying to be set on a copy of a slice from a DataFrame.\n",
      "Try using .loc[row_indexer,col_indexer] = value instead\n",
      "\n",
      "See the caveats in the documentation: https://pandas.pydata.org/pandas-docs/stable/user_guide/indexing.html#returning-a-view-versus-a-copy\n",
      "  pos_df[stat + '_y_pred_gbf'] = gbr_predictions\n"
     ]
    },
    {
     "name": "stdout",
     "output_type": "stream",
     "text": [
      "interceptions_3rd_year_stats\n"
     ]
    },
    {
     "name": "stderr",
     "output_type": "stream",
     "text": [
      "C:\\Users\\jkepler\\AppData\\Local\\Temp\\ipykernel_21608\\3853764565.py:17: SettingWithCopyWarning: \n",
      "A value is trying to be set on a copy of a slice from a DataFrame.\n",
      "Try using .loc[row_indexer,col_indexer] = value instead\n",
      "\n",
      "See the caveats in the documentation: https://pandas.pydata.org/pandas-docs/stable/user_guide/indexing.html#returning-a-view-versus-a-copy\n",
      "  pos_df[stat + '_y_pred_gbf'] = gbr_predictions\n"
     ]
    },
    {
     "name": "stdout",
     "output_type": "stream",
     "text": [
      "sacks_3rd_year_stats\n"
     ]
    },
    {
     "name": "stderr",
     "output_type": "stream",
     "text": [
      "C:\\Users\\jkepler\\AppData\\Local\\Temp\\ipykernel_21608\\3853764565.py:17: SettingWithCopyWarning: \n",
      "A value is trying to be set on a copy of a slice from a DataFrame.\n",
      "Try using .loc[row_indexer,col_indexer] = value instead\n",
      "\n",
      "See the caveats in the documentation: https://pandas.pydata.org/pandas-docs/stable/user_guide/indexing.html#returning-a-view-versus-a-copy\n",
      "  pos_df[stat + '_y_pred_gbf'] = gbr_predictions\n"
     ]
    },
    {
     "name": "stdout",
     "output_type": "stream",
     "text": [
      "sack_yards_3rd_year_stats\n"
     ]
    },
    {
     "name": "stderr",
     "output_type": "stream",
     "text": [
      "C:\\Users\\jkepler\\AppData\\Local\\Temp\\ipykernel_21608\\3853764565.py:17: SettingWithCopyWarning: \n",
      "A value is trying to be set on a copy of a slice from a DataFrame.\n",
      "Try using .loc[row_indexer,col_indexer] = value instead\n",
      "\n",
      "See the caveats in the documentation: https://pandas.pydata.org/pandas-docs/stable/user_guide/indexing.html#returning-a-view-versus-a-copy\n",
      "  pos_df[stat + '_y_pred_gbf'] = gbr_predictions\n"
     ]
    },
    {
     "name": "stdout",
     "output_type": "stream",
     "text": [
      "passing_air_yards_3rd_year_stats\n"
     ]
    },
    {
     "name": "stderr",
     "output_type": "stream",
     "text": [
      "C:\\Users\\jkepler\\AppData\\Local\\Temp\\ipykernel_21608\\3853764565.py:17: SettingWithCopyWarning: \n",
      "A value is trying to be set on a copy of a slice from a DataFrame.\n",
      "Try using .loc[row_indexer,col_indexer] = value instead\n",
      "\n",
      "See the caveats in the documentation: https://pandas.pydata.org/pandas-docs/stable/user_guide/indexing.html#returning-a-view-versus-a-copy\n",
      "  pos_df[stat + '_y_pred_gbf'] = gbr_predictions\n"
     ]
    },
    {
     "name": "stdout",
     "output_type": "stream",
     "text": [
      "passing_yards_after_catch_3rd_year_stats\n"
     ]
    },
    {
     "name": "stderr",
     "output_type": "stream",
     "text": [
      "C:\\Users\\jkepler\\AppData\\Local\\Temp\\ipykernel_21608\\3853764565.py:17: SettingWithCopyWarning: \n",
      "A value is trying to be set on a copy of a slice from a DataFrame.\n",
      "Try using .loc[row_indexer,col_indexer] = value instead\n",
      "\n",
      "See the caveats in the documentation: https://pandas.pydata.org/pandas-docs/stable/user_guide/indexing.html#returning-a-view-versus-a-copy\n",
      "  pos_df[stat + '_y_pred_gbf'] = gbr_predictions\n"
     ]
    },
    {
     "name": "stdout",
     "output_type": "stream",
     "text": [
      "passing_first_downs_3rd_year_stats\n"
     ]
    },
    {
     "name": "stderr",
     "output_type": "stream",
     "text": [
      "C:\\Users\\jkepler\\AppData\\Local\\Temp\\ipykernel_21608\\3853764565.py:17: SettingWithCopyWarning: \n",
      "A value is trying to be set on a copy of a slice from a DataFrame.\n",
      "Try using .loc[row_indexer,col_indexer] = value instead\n",
      "\n",
      "See the caveats in the documentation: https://pandas.pydata.org/pandas-docs/stable/user_guide/indexing.html#returning-a-view-versus-a-copy\n",
      "  pos_df[stat + '_y_pred_gbf'] = gbr_predictions\n"
     ]
    },
    {
     "name": "stdout",
     "output_type": "stream",
     "text": [
      "passing_epa_3rd_year_stats\n"
     ]
    },
    {
     "name": "stderr",
     "output_type": "stream",
     "text": [
      "C:\\Users\\jkepler\\AppData\\Local\\Temp\\ipykernel_21608\\3853764565.py:17: SettingWithCopyWarning: \n",
      "A value is trying to be set on a copy of a slice from a DataFrame.\n",
      "Try using .loc[row_indexer,col_indexer] = value instead\n",
      "\n",
      "See the caveats in the documentation: https://pandas.pydata.org/pandas-docs/stable/user_guide/indexing.html#returning-a-view-versus-a-copy\n",
      "  pos_df[stat + '_y_pred_gbf'] = gbr_predictions\n"
     ]
    },
    {
     "name": "stdout",
     "output_type": "stream",
     "text": [
      "pacr_3rd_year_stats\n"
     ]
    },
    {
     "name": "stderr",
     "output_type": "stream",
     "text": [
      "C:\\Users\\jkepler\\AppData\\Local\\Temp\\ipykernel_21608\\3853764565.py:17: SettingWithCopyWarning: \n",
      "A value is trying to be set on a copy of a slice from a DataFrame.\n",
      "Try using .loc[row_indexer,col_indexer] = value instead\n",
      "\n",
      "See the caveats in the documentation: https://pandas.pydata.org/pandas-docs/stable/user_guide/indexing.html#returning-a-view-versus-a-copy\n",
      "  pos_df[stat + '_y_pred_gbf'] = gbr_predictions\n",
      "C:\\Users\\jkepler\\AppData\\Local\\Temp\\ipykernel_21608\\3853764565.py:17: SettingWithCopyWarning: \n",
      "A value is trying to be set on a copy of a slice from a DataFrame.\n",
      "Try using .loc[row_indexer,col_indexer] = value instead\n",
      "\n",
      "See the caveats in the documentation: https://pandas.pydata.org/pandas-docs/stable/user_guide/indexing.html#returning-a-view-versus-a-copy\n",
      "  pos_df[stat + '_y_pred_gbf'] = gbr_predictions\n"
     ]
    },
    {
     "name": "stdout",
     "output_type": "stream",
     "text": [
      "dakota_3rd_year_stats\n",
      "rushing_yards_3rd_year_stats\n"
     ]
    },
    {
     "name": "stderr",
     "output_type": "stream",
     "text": [
      "C:\\Users\\jkepler\\AppData\\Local\\Temp\\ipykernel_21608\\3853764565.py:17: SettingWithCopyWarning: \n",
      "A value is trying to be set on a copy of a slice from a DataFrame.\n",
      "Try using .loc[row_indexer,col_indexer] = value instead\n",
      "\n",
      "See the caveats in the documentation: https://pandas.pydata.org/pandas-docs/stable/user_guide/indexing.html#returning-a-view-versus-a-copy\n",
      "  pos_df[stat + '_y_pred_gbf'] = gbr_predictions\n"
     ]
    },
    {
     "name": "stdout",
     "output_type": "stream",
     "text": [
      "rushing_tds_3rd_year_stats\n"
     ]
    },
    {
     "name": "stderr",
     "output_type": "stream",
     "text": [
      "C:\\Users\\jkepler\\AppData\\Local\\Temp\\ipykernel_21608\\3853764565.py:17: SettingWithCopyWarning: \n",
      "A value is trying to be set on a copy of a slice from a DataFrame.\n",
      "Try using .loc[row_indexer,col_indexer] = value instead\n",
      "\n",
      "See the caveats in the documentation: https://pandas.pydata.org/pandas-docs/stable/user_guide/indexing.html#returning-a-view-versus-a-copy\n",
      "  pos_df[stat + '_y_pred_gbf'] = gbr_predictions\n"
     ]
    },
    {
     "name": "stdout",
     "output_type": "stream",
     "text": [
      "rushing_fumbles_3rd_year_stats\n"
     ]
    },
    {
     "name": "stderr",
     "output_type": "stream",
     "text": [
      "C:\\Users\\jkepler\\AppData\\Local\\Temp\\ipykernel_21608\\3853764565.py:17: SettingWithCopyWarning: \n",
      "A value is trying to be set on a copy of a slice from a DataFrame.\n",
      "Try using .loc[row_indexer,col_indexer] = value instead\n",
      "\n",
      "See the caveats in the documentation: https://pandas.pydata.org/pandas-docs/stable/user_guide/indexing.html#returning-a-view-versus-a-copy\n",
      "  pos_df[stat + '_y_pred_gbf'] = gbr_predictions\n"
     ]
    },
    {
     "name": "stdout",
     "output_type": "stream",
     "text": [
      "rushing_fumbles_lost_3rd_year_stats\n"
     ]
    },
    {
     "name": "stderr",
     "output_type": "stream",
     "text": [
      "C:\\Users\\jkepler\\AppData\\Local\\Temp\\ipykernel_21608\\3853764565.py:17: SettingWithCopyWarning: \n",
      "A value is trying to be set on a copy of a slice from a DataFrame.\n",
      "Try using .loc[row_indexer,col_indexer] = value instead\n",
      "\n",
      "See the caveats in the documentation: https://pandas.pydata.org/pandas-docs/stable/user_guide/indexing.html#returning-a-view-versus-a-copy\n",
      "  pos_df[stat + '_y_pred_gbf'] = gbr_predictions\n"
     ]
    },
    {
     "name": "stdout",
     "output_type": "stream",
     "text": [
      "rushing_first_downs_3rd_year_stats\n"
     ]
    },
    {
     "name": "stderr",
     "output_type": "stream",
     "text": [
      "C:\\Users\\jkepler\\AppData\\Local\\Temp\\ipykernel_21608\\3853764565.py:17: SettingWithCopyWarning: \n",
      "A value is trying to be set on a copy of a slice from a DataFrame.\n",
      "Try using .loc[row_indexer,col_indexer] = value instead\n",
      "\n",
      "See the caveats in the documentation: https://pandas.pydata.org/pandas-docs/stable/user_guide/indexing.html#returning-a-view-versus-a-copy\n",
      "  pos_df[stat + '_y_pred_gbf'] = gbr_predictions\n"
     ]
    },
    {
     "name": "stdout",
     "output_type": "stream",
     "text": [
      "rushing_epa_3rd_year_stats\n"
     ]
    },
    {
     "name": "stderr",
     "output_type": "stream",
     "text": [
      "C:\\Users\\jkepler\\AppData\\Local\\Temp\\ipykernel_21608\\3853764565.py:17: SettingWithCopyWarning: \n",
      "A value is trying to be set on a copy of a slice from a DataFrame.\n",
      "Try using .loc[row_indexer,col_indexer] = value instead\n",
      "\n",
      "See the caveats in the documentation: https://pandas.pydata.org/pandas-docs/stable/user_guide/indexing.html#returning-a-view-versus-a-copy\n",
      "  pos_df[stat + '_y_pred_gbf'] = gbr_predictions\n"
     ]
    },
    {
     "name": "stdout",
     "output_type": "stream",
     "text": [
      "targets_3rd_year_stats\n"
     ]
    },
    {
     "name": "stderr",
     "output_type": "stream",
     "text": [
      "C:\\Users\\jkepler\\AppData\\Local\\Temp\\ipykernel_21608\\3853764565.py:17: SettingWithCopyWarning: \n",
      "A value is trying to be set on a copy of a slice from a DataFrame.\n",
      "Try using .loc[row_indexer,col_indexer] = value instead\n",
      "\n",
      "See the caveats in the documentation: https://pandas.pydata.org/pandas-docs/stable/user_guide/indexing.html#returning-a-view-versus-a-copy\n",
      "  pos_df[stat + '_y_pred_gbf'] = gbr_predictions\n"
     ]
    },
    {
     "name": "stdout",
     "output_type": "stream",
     "text": [
      "receptions_3rd_year_stats\n"
     ]
    },
    {
     "name": "stderr",
     "output_type": "stream",
     "text": [
      "C:\\Users\\jkepler\\AppData\\Local\\Temp\\ipykernel_21608\\3853764565.py:17: SettingWithCopyWarning: \n",
      "A value is trying to be set on a copy of a slice from a DataFrame.\n",
      "Try using .loc[row_indexer,col_indexer] = value instead\n",
      "\n",
      "See the caveats in the documentation: https://pandas.pydata.org/pandas-docs/stable/user_guide/indexing.html#returning-a-view-versus-a-copy\n",
      "  pos_df[stat + '_y_pred_gbf'] = gbr_predictions\n"
     ]
    },
    {
     "name": "stdout",
     "output_type": "stream",
     "text": [
      "receiving_yards_3rd_year_stats\n"
     ]
    },
    {
     "name": "stderr",
     "output_type": "stream",
     "text": [
      "C:\\Users\\jkepler\\AppData\\Local\\Temp\\ipykernel_21608\\3853764565.py:17: SettingWithCopyWarning: \n",
      "A value is trying to be set on a copy of a slice from a DataFrame.\n",
      "Try using .loc[row_indexer,col_indexer] = value instead\n",
      "\n",
      "See the caveats in the documentation: https://pandas.pydata.org/pandas-docs/stable/user_guide/indexing.html#returning-a-view-versus-a-copy\n",
      "  pos_df[stat + '_y_pred_gbf'] = gbr_predictions\n"
     ]
    },
    {
     "name": "stdout",
     "output_type": "stream",
     "text": [
      "receiving_tds_3rd_year_stats\n"
     ]
    },
    {
     "name": "stderr",
     "output_type": "stream",
     "text": [
      "C:\\Users\\jkepler\\AppData\\Local\\Temp\\ipykernel_21608\\3853764565.py:17: SettingWithCopyWarning: \n",
      "A value is trying to be set on a copy of a slice from a DataFrame.\n",
      "Try using .loc[row_indexer,col_indexer] = value instead\n",
      "\n",
      "See the caveats in the documentation: https://pandas.pydata.org/pandas-docs/stable/user_guide/indexing.html#returning-a-view-versus-a-copy\n",
      "  pos_df[stat + '_y_pred_gbf'] = gbr_predictions\n"
     ]
    },
    {
     "name": "stdout",
     "output_type": "stream",
     "text": [
      "receiving_fumbles_3rd_year_stats\n"
     ]
    },
    {
     "name": "stderr",
     "output_type": "stream",
     "text": [
      "C:\\Users\\jkepler\\AppData\\Local\\Temp\\ipykernel_21608\\3853764565.py:17: SettingWithCopyWarning: \n",
      "A value is trying to be set on a copy of a slice from a DataFrame.\n",
      "Try using .loc[row_indexer,col_indexer] = value instead\n",
      "\n",
      "See the caveats in the documentation: https://pandas.pydata.org/pandas-docs/stable/user_guide/indexing.html#returning-a-view-versus-a-copy\n",
      "  pos_df[stat + '_y_pred_gbf'] = gbr_predictions\n"
     ]
    },
    {
     "name": "stdout",
     "output_type": "stream",
     "text": [
      "receiving_fumbles_lost_3rd_year_stats\n"
     ]
    },
    {
     "name": "stderr",
     "output_type": "stream",
     "text": [
      "C:\\Users\\jkepler\\AppData\\Local\\Temp\\ipykernel_21608\\3853764565.py:17: SettingWithCopyWarning: \n",
      "A value is trying to be set on a copy of a slice from a DataFrame.\n",
      "Try using .loc[row_indexer,col_indexer] = value instead\n",
      "\n",
      "See the caveats in the documentation: https://pandas.pydata.org/pandas-docs/stable/user_guide/indexing.html#returning-a-view-versus-a-copy\n",
      "  pos_df[stat + '_y_pred_gbf'] = gbr_predictions\n"
     ]
    },
    {
     "name": "stdout",
     "output_type": "stream",
     "text": [
      "receiving_air_yards_3rd_year_stats\n"
     ]
    },
    {
     "name": "stderr",
     "output_type": "stream",
     "text": [
      "C:\\Users\\jkepler\\AppData\\Local\\Temp\\ipykernel_21608\\3853764565.py:17: SettingWithCopyWarning: \n",
      "A value is trying to be set on a copy of a slice from a DataFrame.\n",
      "Try using .loc[row_indexer,col_indexer] = value instead\n",
      "\n",
      "See the caveats in the documentation: https://pandas.pydata.org/pandas-docs/stable/user_guide/indexing.html#returning-a-view-versus-a-copy\n",
      "  pos_df[stat + '_y_pred_gbf'] = gbr_predictions\n"
     ]
    },
    {
     "name": "stdout",
     "output_type": "stream",
     "text": [
      "receiving_yards_after_catch_3rd_year_stats\n"
     ]
    },
    {
     "name": "stderr",
     "output_type": "stream",
     "text": [
      "C:\\Users\\jkepler\\AppData\\Local\\Temp\\ipykernel_21608\\3853764565.py:17: SettingWithCopyWarning: \n",
      "A value is trying to be set on a copy of a slice from a DataFrame.\n",
      "Try using .loc[row_indexer,col_indexer] = value instead\n",
      "\n",
      "See the caveats in the documentation: https://pandas.pydata.org/pandas-docs/stable/user_guide/indexing.html#returning-a-view-versus-a-copy\n",
      "  pos_df[stat + '_y_pred_gbf'] = gbr_predictions\n"
     ]
    },
    {
     "name": "stdout",
     "output_type": "stream",
     "text": [
      "receiving_first_downs_3rd_year_stats\n"
     ]
    },
    {
     "name": "stderr",
     "output_type": "stream",
     "text": [
      "C:\\Users\\jkepler\\AppData\\Local\\Temp\\ipykernel_21608\\3853764565.py:17: SettingWithCopyWarning: \n",
      "A value is trying to be set on a copy of a slice from a DataFrame.\n",
      "Try using .loc[row_indexer,col_indexer] = value instead\n",
      "\n",
      "See the caveats in the documentation: https://pandas.pydata.org/pandas-docs/stable/user_guide/indexing.html#returning-a-view-versus-a-copy\n",
      "  pos_df[stat + '_y_pred_gbf'] = gbr_predictions\n"
     ]
    },
    {
     "name": "stdout",
     "output_type": "stream",
     "text": [
      "receiving_epa_3rd_year_stats\n"
     ]
    },
    {
     "name": "stderr",
     "output_type": "stream",
     "text": [
      "C:\\Users\\jkepler\\AppData\\Local\\Temp\\ipykernel_21608\\3853764565.py:17: SettingWithCopyWarning: \n",
      "A value is trying to be set on a copy of a slice from a DataFrame.\n",
      "Try using .loc[row_indexer,col_indexer] = value instead\n",
      "\n",
      "See the caveats in the documentation: https://pandas.pydata.org/pandas-docs/stable/user_guide/indexing.html#returning-a-view-versus-a-copy\n",
      "  pos_df[stat + '_y_pred_gbf'] = gbr_predictions\n"
     ]
    },
    {
     "name": "stdout",
     "output_type": "stream",
     "text": [
      "racr_3rd_year_stats\n"
     ]
    },
    {
     "name": "stderr",
     "output_type": "stream",
     "text": [
      "C:\\Users\\jkepler\\AppData\\Local\\Temp\\ipykernel_21608\\3853764565.py:17: SettingWithCopyWarning: \n",
      "A value is trying to be set on a copy of a slice from a DataFrame.\n",
      "Try using .loc[row_indexer,col_indexer] = value instead\n",
      "\n",
      "See the caveats in the documentation: https://pandas.pydata.org/pandas-docs/stable/user_guide/indexing.html#returning-a-view-versus-a-copy\n",
      "  pos_df[stat + '_y_pred_gbf'] = gbr_predictions\n"
     ]
    },
    {
     "name": "stdout",
     "output_type": "stream",
     "text": [
      "air_yards_share_3rd_year_stats\n"
     ]
    },
    {
     "name": "stderr",
     "output_type": "stream",
     "text": [
      "C:\\Users\\jkepler\\AppData\\Local\\Temp\\ipykernel_21608\\3853764565.py:17: SettingWithCopyWarning: \n",
      "A value is trying to be set on a copy of a slice from a DataFrame.\n",
      "Try using .loc[row_indexer,col_indexer] = value instead\n",
      "\n",
      "See the caveats in the documentation: https://pandas.pydata.org/pandas-docs/stable/user_guide/indexing.html#returning-a-view-versus-a-copy\n",
      "  pos_df[stat + '_y_pred_gbf'] = gbr_predictions\n"
     ]
    },
    {
     "name": "stdout",
     "output_type": "stream",
     "text": [
      "wopr_x_3rd_year_stats\n"
     ]
    },
    {
     "name": "stderr",
     "output_type": "stream",
     "text": [
      "C:\\Users\\jkepler\\AppData\\Local\\Temp\\ipykernel_21608\\3853764565.py:17: SettingWithCopyWarning: \n",
      "A value is trying to be set on a copy of a slice from a DataFrame.\n",
      "Try using .loc[row_indexer,col_indexer] = value instead\n",
      "\n",
      "See the caveats in the documentation: https://pandas.pydata.org/pandas-docs/stable/user_guide/indexing.html#returning-a-view-versus-a-copy\n",
      "  pos_df[stat + '_y_pred_gbf'] = gbr_predictions\n"
     ]
    },
    {
     "name": "stdout",
     "output_type": "stream",
     "text": [
      "special_teams_tds_3rd_year_stats\n"
     ]
    },
    {
     "name": "stderr",
     "output_type": "stream",
     "text": [
      "C:\\Users\\jkepler\\AppData\\Local\\Temp\\ipykernel_21608\\3853764565.py:17: SettingWithCopyWarning: \n",
      "A value is trying to be set on a copy of a slice from a DataFrame.\n",
      "Try using .loc[row_indexer,col_indexer] = value instead\n",
      "\n",
      "See the caveats in the documentation: https://pandas.pydata.org/pandas-docs/stable/user_guide/indexing.html#returning-a-view-versus-a-copy\n",
      "  pos_df[stat + '_y_pred_gbf'] = gbr_predictions\n"
     ]
    },
    {
     "name": "stdout",
     "output_type": "stream",
     "text": [
      "tgt_sh_3rd_year_stats\n"
     ]
    },
    {
     "name": "stderr",
     "output_type": "stream",
     "text": [
      "C:\\Users\\jkepler\\AppData\\Local\\Temp\\ipykernel_21608\\3853764565.py:17: SettingWithCopyWarning: \n",
      "A value is trying to be set on a copy of a slice from a DataFrame.\n",
      "Try using .loc[row_indexer,col_indexer] = value instead\n",
      "\n",
      "See the caveats in the documentation: https://pandas.pydata.org/pandas-docs/stable/user_guide/indexing.html#returning-a-view-versus-a-copy\n",
      "  pos_df[stat + '_y_pred_gbf'] = gbr_predictions\n"
     ]
    },
    {
     "name": "stdout",
     "output_type": "stream",
     "text": [
      "ay_sh_3rd_year_stats\n"
     ]
    },
    {
     "name": "stderr",
     "output_type": "stream",
     "text": [
      "C:\\Users\\jkepler\\AppData\\Local\\Temp\\ipykernel_21608\\3853764565.py:17: SettingWithCopyWarning: \n",
      "A value is trying to be set on a copy of a slice from a DataFrame.\n",
      "Try using .loc[row_indexer,col_indexer] = value instead\n",
      "\n",
      "See the caveats in the documentation: https://pandas.pydata.org/pandas-docs/stable/user_guide/indexing.html#returning-a-view-versus-a-copy\n",
      "  pos_df[stat + '_y_pred_gbf'] = gbr_predictions\n"
     ]
    },
    {
     "name": "stdout",
     "output_type": "stream",
     "text": [
      "yac_sh_3rd_year_stats\n"
     ]
    },
    {
     "name": "stderr",
     "output_type": "stream",
     "text": [
      "C:\\Users\\jkepler\\AppData\\Local\\Temp\\ipykernel_21608\\3853764565.py:17: SettingWithCopyWarning: \n",
      "A value is trying to be set on a copy of a slice from a DataFrame.\n",
      "Try using .loc[row_indexer,col_indexer] = value instead\n",
      "\n",
      "See the caveats in the documentation: https://pandas.pydata.org/pandas-docs/stable/user_guide/indexing.html#returning-a-view-versus-a-copy\n",
      "  pos_df[stat + '_y_pred_gbf'] = gbr_predictions\n"
     ]
    },
    {
     "name": "stdout",
     "output_type": "stream",
     "text": [
      "wopr_y_3rd_year_stats\n"
     ]
    },
    {
     "name": "stderr",
     "output_type": "stream",
     "text": [
      "C:\\Users\\jkepler\\AppData\\Local\\Temp\\ipykernel_21608\\3853764565.py:17: SettingWithCopyWarning: \n",
      "A value is trying to be set on a copy of a slice from a DataFrame.\n",
      "Try using .loc[row_indexer,col_indexer] = value instead\n",
      "\n",
      "See the caveats in the documentation: https://pandas.pydata.org/pandas-docs/stable/user_guide/indexing.html#returning-a-view-versus-a-copy\n",
      "  pos_df[stat + '_y_pred_gbf'] = gbr_predictions\n"
     ]
    },
    {
     "name": "stdout",
     "output_type": "stream",
     "text": [
      "ry_sh_3rd_year_stats\n"
     ]
    },
    {
     "name": "stderr",
     "output_type": "stream",
     "text": [
      "C:\\Users\\jkepler\\AppData\\Local\\Temp\\ipykernel_21608\\3853764565.py:17: SettingWithCopyWarning: \n",
      "A value is trying to be set on a copy of a slice from a DataFrame.\n",
      "Try using .loc[row_indexer,col_indexer] = value instead\n",
      "\n",
      "See the caveats in the documentation: https://pandas.pydata.org/pandas-docs/stable/user_guide/indexing.html#returning-a-view-versus-a-copy\n",
      "  pos_df[stat + '_y_pred_gbf'] = gbr_predictions\n"
     ]
    },
    {
     "name": "stdout",
     "output_type": "stream",
     "text": [
      "rtd_sh_3rd_year_stats\n"
     ]
    },
    {
     "name": "stderr",
     "output_type": "stream",
     "text": [
      "C:\\Users\\jkepler\\AppData\\Local\\Temp\\ipykernel_21608\\3853764565.py:17: SettingWithCopyWarning: \n",
      "A value is trying to be set on a copy of a slice from a DataFrame.\n",
      "Try using .loc[row_indexer,col_indexer] = value instead\n",
      "\n",
      "See the caveats in the documentation: https://pandas.pydata.org/pandas-docs/stable/user_guide/indexing.html#returning-a-view-versus-a-copy\n",
      "  pos_df[stat + '_y_pred_gbf'] = gbr_predictions\n"
     ]
    },
    {
     "name": "stdout",
     "output_type": "stream",
     "text": [
      "rfd_sh_3rd_year_stats\n"
     ]
    },
    {
     "name": "stderr",
     "output_type": "stream",
     "text": [
      "C:\\Users\\jkepler\\AppData\\Local\\Temp\\ipykernel_21608\\3853764565.py:17: SettingWithCopyWarning: \n",
      "A value is trying to be set on a copy of a slice from a DataFrame.\n",
      "Try using .loc[row_indexer,col_indexer] = value instead\n",
      "\n",
      "See the caveats in the documentation: https://pandas.pydata.org/pandas-docs/stable/user_guide/indexing.html#returning-a-view-versus-a-copy\n",
      "  pos_df[stat + '_y_pred_gbf'] = gbr_predictions\n"
     ]
    },
    {
     "name": "stdout",
     "output_type": "stream",
     "text": [
      "dom_3rd_year_stats\n"
     ]
    },
    {
     "name": "stderr",
     "output_type": "stream",
     "text": [
      "C:\\Users\\jkepler\\AppData\\Local\\Temp\\ipykernel_21608\\3853764565.py:17: SettingWithCopyWarning: \n",
      "A value is trying to be set on a copy of a slice from a DataFrame.\n",
      "Try using .loc[row_indexer,col_indexer] = value instead\n",
      "\n",
      "See the caveats in the documentation: https://pandas.pydata.org/pandas-docs/stable/user_guide/indexing.html#returning-a-view-versus-a-copy\n",
      "  pos_df[stat + '_y_pred_gbf'] = gbr_predictions\n"
     ]
    },
    {
     "name": "stdout",
     "output_type": "stream",
     "text": [
      "yptmpa_3rd_year_stats\n"
     ]
    },
    {
     "name": "stderr",
     "output_type": "stream",
     "text": [
      "C:\\Users\\jkepler\\AppData\\Local\\Temp\\ipykernel_21608\\3853764565.py:17: SettingWithCopyWarning: \n",
      "A value is trying to be set on a copy of a slice from a DataFrame.\n",
      "Try using .loc[row_indexer,col_indexer] = value instead\n",
      "\n",
      "See the caveats in the documentation: https://pandas.pydata.org/pandas-docs/stable/user_guide/indexing.html#returning-a-view-versus-a-copy\n",
      "  pos_df[stat + '_y_pred_gbf'] = gbr_predictions\n"
     ]
    },
    {
     "name": "stdout",
     "output_type": "stream",
     "text": [
      "TE\n",
      "games_3rd_year_stats\n"
     ]
    },
    {
     "name": "stderr",
     "output_type": "stream",
     "text": [
      "C:\\Users\\jkepler\\AppData\\Local\\Temp\\ipykernel_21608\\3853764565.py:17: SettingWithCopyWarning: \n",
      "A value is trying to be set on a copy of a slice from a DataFrame.\n",
      "Try using .loc[row_indexer,col_indexer] = value instead\n",
      "\n",
      "See the caveats in the documentation: https://pandas.pydata.org/pandas-docs/stable/user_guide/indexing.html#returning-a-view-versus-a-copy\n",
      "  pos_df[stat + '_y_pred_gbf'] = gbr_predictions\n",
      "C:\\Users\\jkepler\\AppData\\Local\\Temp\\ipykernel_21608\\3853764565.py:17: SettingWithCopyWarning: \n",
      "A value is trying to be set on a copy of a slice from a DataFrame.\n",
      "Try using .loc[row_indexer,col_indexer] = value instead\n",
      "\n",
      "See the caveats in the documentation: https://pandas.pydata.org/pandas-docs/stable/user_guide/indexing.html#returning-a-view-versus-a-copy\n",
      "  pos_df[stat + '_y_pred_gbf'] = gbr_predictions\n",
      "C:\\Users\\jkepler\\AppData\\Local\\Temp\\ipykernel_21608\\3853764565.py:17: SettingWithCopyWarning: \n",
      "A value is trying to be set on a copy of a slice from a DataFrame.\n",
      "Try using .loc[row_indexer,col_indexer] = value instead\n",
      "\n",
      "See the caveats in the documentation: https://pandas.pydata.org/pandas-docs/stable/user_guide/indexing.html#returning-a-view-versus-a-copy\n",
      "  pos_df[stat + '_y_pred_gbf'] = gbr_predictions\n",
      "C:\\Users\\jkepler\\AppData\\Local\\Temp\\ipykernel_21608\\3853764565.py:17: SettingWithCopyWarning: \n",
      "A value is trying to be set on a copy of a slice from a DataFrame.\n",
      "Try using .loc[row_indexer,col_indexer] = value instead\n",
      "\n",
      "See the caveats in the documentation: https://pandas.pydata.org/pandas-docs/stable/user_guide/indexing.html#returning-a-view-versus-a-copy\n",
      "  pos_df[stat + '_y_pred_gbf'] = gbr_predictions\n",
      "C:\\Users\\jkepler\\AppData\\Local\\Temp\\ipykernel_21608\\3853764565.py:17: SettingWithCopyWarning: \n",
      "A value is trying to be set on a copy of a slice from a DataFrame.\n",
      "Try using .loc[row_indexer,col_indexer] = value instead\n",
      "\n",
      "See the caveats in the documentation: https://pandas.pydata.org/pandas-docs/stable/user_guide/indexing.html#returning-a-view-versus-a-copy\n",
      "  pos_df[stat + '_y_pred_gbf'] = gbr_predictions\n",
      "C:\\Users\\jkepler\\AppData\\Local\\Temp\\ipykernel_21608\\3853764565.py:17: SettingWithCopyWarning: \n",
      "A value is trying to be set on a copy of a slice from a DataFrame.\n",
      "Try using .loc[row_indexer,col_indexer] = value instead\n",
      "\n",
      "See the caveats in the documentation: https://pandas.pydata.org/pandas-docs/stable/user_guide/indexing.html#returning-a-view-versus-a-copy\n",
      "  pos_df[stat + '_y_pred_gbf'] = gbr_predictions\n",
      "C:\\Users\\jkepler\\AppData\\Local\\Temp\\ipykernel_21608\\3853764565.py:17: SettingWithCopyWarning: \n",
      "A value is trying to be set on a copy of a slice from a DataFrame.\n",
      "Try using .loc[row_indexer,col_indexer] = value instead\n",
      "\n",
      "See the caveats in the documentation: https://pandas.pydata.org/pandas-docs/stable/user_guide/indexing.html#returning-a-view-versus-a-copy\n",
      "  pos_df[stat + '_y_pred_gbf'] = gbr_predictions\n"
     ]
    },
    {
     "name": "stdout",
     "output_type": "stream",
     "text": [
      "passing_yards_3rd_year_stats\n",
      "passing_tds_3rd_year_stats\n",
      "interceptions_3rd_year_stats\n",
      "sacks_3rd_year_stats\n",
      "sack_yards_3rd_year_stats\n",
      "passing_air_yards_3rd_year_stats\n",
      "passing_yards_after_catch_3rd_year_stats\n"
     ]
    },
    {
     "name": "stderr",
     "output_type": "stream",
     "text": [
      "C:\\Users\\jkepler\\AppData\\Local\\Temp\\ipykernel_21608\\3853764565.py:17: SettingWithCopyWarning: \n",
      "A value is trying to be set on a copy of a slice from a DataFrame.\n",
      "Try using .loc[row_indexer,col_indexer] = value instead\n",
      "\n",
      "See the caveats in the documentation: https://pandas.pydata.org/pandas-docs/stable/user_guide/indexing.html#returning-a-view-versus-a-copy\n",
      "  pos_df[stat + '_y_pred_gbf'] = gbr_predictions\n",
      "C:\\Users\\jkepler\\AppData\\Local\\Temp\\ipykernel_21608\\3853764565.py:17: SettingWithCopyWarning: \n",
      "A value is trying to be set on a copy of a slice from a DataFrame.\n",
      "Try using .loc[row_indexer,col_indexer] = value instead\n",
      "\n",
      "See the caveats in the documentation: https://pandas.pydata.org/pandas-docs/stable/user_guide/indexing.html#returning-a-view-versus-a-copy\n",
      "  pos_df[stat + '_y_pred_gbf'] = gbr_predictions\n",
      "C:\\Users\\jkepler\\AppData\\Local\\Temp\\ipykernel_21608\\3853764565.py:17: SettingWithCopyWarning: \n",
      "A value is trying to be set on a copy of a slice from a DataFrame.\n",
      "Try using .loc[row_indexer,col_indexer] = value instead\n",
      "\n",
      "See the caveats in the documentation: https://pandas.pydata.org/pandas-docs/stable/user_guide/indexing.html#returning-a-view-versus-a-copy\n",
      "  pos_df[stat + '_y_pred_gbf'] = gbr_predictions\n",
      "C:\\Users\\jkepler\\AppData\\Local\\Temp\\ipykernel_21608\\3853764565.py:17: SettingWithCopyWarning: \n",
      "A value is trying to be set on a copy of a slice from a DataFrame.\n",
      "Try using .loc[row_indexer,col_indexer] = value instead\n",
      "\n",
      "See the caveats in the documentation: https://pandas.pydata.org/pandas-docs/stable/user_guide/indexing.html#returning-a-view-versus-a-copy\n",
      "  pos_df[stat + '_y_pred_gbf'] = gbr_predictions\n",
      "C:\\Users\\jkepler\\AppData\\Local\\Temp\\ipykernel_21608\\3853764565.py:17: SettingWithCopyWarning: \n",
      "A value is trying to be set on a copy of a slice from a DataFrame.\n",
      "Try using .loc[row_indexer,col_indexer] = value instead\n",
      "\n",
      "See the caveats in the documentation: https://pandas.pydata.org/pandas-docs/stable/user_guide/indexing.html#returning-a-view-versus-a-copy\n",
      "  pos_df[stat + '_y_pred_gbf'] = gbr_predictions\n"
     ]
    },
    {
     "name": "stdout",
     "output_type": "stream",
     "text": [
      "passing_first_downs_3rd_year_stats\n",
      "passing_epa_3rd_year_stats\n",
      "pacr_3rd_year_stats\n",
      "dakota_3rd_year_stats\n",
      "rushing_yards_3rd_year_stats\n"
     ]
    },
    {
     "name": "stderr",
     "output_type": "stream",
     "text": [
      "C:\\Users\\jkepler\\AppData\\Local\\Temp\\ipykernel_21608\\3853764565.py:17: SettingWithCopyWarning: \n",
      "A value is trying to be set on a copy of a slice from a DataFrame.\n",
      "Try using .loc[row_indexer,col_indexer] = value instead\n",
      "\n",
      "See the caveats in the documentation: https://pandas.pydata.org/pandas-docs/stable/user_guide/indexing.html#returning-a-view-versus-a-copy\n",
      "  pos_df[stat + '_y_pred_gbf'] = gbr_predictions\n",
      "C:\\Users\\jkepler\\AppData\\Local\\Temp\\ipykernel_21608\\3853764565.py:17: SettingWithCopyWarning: \n",
      "A value is trying to be set on a copy of a slice from a DataFrame.\n",
      "Try using .loc[row_indexer,col_indexer] = value instead\n",
      "\n",
      "See the caveats in the documentation: https://pandas.pydata.org/pandas-docs/stable/user_guide/indexing.html#returning-a-view-versus-a-copy\n",
      "  pos_df[stat + '_y_pred_gbf'] = gbr_predictions\n",
      "C:\\Users\\jkepler\\AppData\\Local\\Temp\\ipykernel_21608\\3853764565.py:17: SettingWithCopyWarning: \n",
      "A value is trying to be set on a copy of a slice from a DataFrame.\n",
      "Try using .loc[row_indexer,col_indexer] = value instead\n",
      "\n",
      "See the caveats in the documentation: https://pandas.pydata.org/pandas-docs/stable/user_guide/indexing.html#returning-a-view-versus-a-copy\n",
      "  pos_df[stat + '_y_pred_gbf'] = gbr_predictions\n",
      "C:\\Users\\jkepler\\AppData\\Local\\Temp\\ipykernel_21608\\3853764565.py:17: SettingWithCopyWarning: \n",
      "A value is trying to be set on a copy of a slice from a DataFrame.\n",
      "Try using .loc[row_indexer,col_indexer] = value instead\n",
      "\n",
      "See the caveats in the documentation: https://pandas.pydata.org/pandas-docs/stable/user_guide/indexing.html#returning-a-view-versus-a-copy\n",
      "  pos_df[stat + '_y_pred_gbf'] = gbr_predictions\n"
     ]
    },
    {
     "name": "stdout",
     "output_type": "stream",
     "text": [
      "rushing_tds_3rd_year_stats\n",
      "rushing_fumbles_3rd_year_stats\n",
      "rushing_fumbles_lost_3rd_year_stats\n",
      "rushing_first_downs_3rd_year_stats\n"
     ]
    },
    {
     "name": "stderr",
     "output_type": "stream",
     "text": [
      "C:\\Users\\jkepler\\AppData\\Local\\Temp\\ipykernel_21608\\3853764565.py:17: SettingWithCopyWarning: \n",
      "A value is trying to be set on a copy of a slice from a DataFrame.\n",
      "Try using .loc[row_indexer,col_indexer] = value instead\n",
      "\n",
      "See the caveats in the documentation: https://pandas.pydata.org/pandas-docs/stable/user_guide/indexing.html#returning-a-view-versus-a-copy\n",
      "  pos_df[stat + '_y_pred_gbf'] = gbr_predictions\n"
     ]
    },
    {
     "name": "stdout",
     "output_type": "stream",
     "text": [
      "rushing_epa_3rd_year_stats\n"
     ]
    },
    {
     "name": "stderr",
     "output_type": "stream",
     "text": [
      "C:\\Users\\jkepler\\AppData\\Local\\Temp\\ipykernel_21608\\3853764565.py:17: SettingWithCopyWarning: \n",
      "A value is trying to be set on a copy of a slice from a DataFrame.\n",
      "Try using .loc[row_indexer,col_indexer] = value instead\n",
      "\n",
      "See the caveats in the documentation: https://pandas.pydata.org/pandas-docs/stable/user_guide/indexing.html#returning-a-view-versus-a-copy\n",
      "  pos_df[stat + '_y_pred_gbf'] = gbr_predictions\n"
     ]
    },
    {
     "name": "stdout",
     "output_type": "stream",
     "text": [
      "targets_3rd_year_stats\n"
     ]
    },
    {
     "name": "stderr",
     "output_type": "stream",
     "text": [
      "C:\\Users\\jkepler\\AppData\\Local\\Temp\\ipykernel_21608\\3853764565.py:17: SettingWithCopyWarning: \n",
      "A value is trying to be set on a copy of a slice from a DataFrame.\n",
      "Try using .loc[row_indexer,col_indexer] = value instead\n",
      "\n",
      "See the caveats in the documentation: https://pandas.pydata.org/pandas-docs/stable/user_guide/indexing.html#returning-a-view-versus-a-copy\n",
      "  pos_df[stat + '_y_pred_gbf'] = gbr_predictions\n"
     ]
    },
    {
     "name": "stdout",
     "output_type": "stream",
     "text": [
      "receptions_3rd_year_stats\n"
     ]
    },
    {
     "name": "stderr",
     "output_type": "stream",
     "text": [
      "C:\\Users\\jkepler\\AppData\\Local\\Temp\\ipykernel_21608\\3853764565.py:17: SettingWithCopyWarning: \n",
      "A value is trying to be set on a copy of a slice from a DataFrame.\n",
      "Try using .loc[row_indexer,col_indexer] = value instead\n",
      "\n",
      "See the caveats in the documentation: https://pandas.pydata.org/pandas-docs/stable/user_guide/indexing.html#returning-a-view-versus-a-copy\n",
      "  pos_df[stat + '_y_pred_gbf'] = gbr_predictions\n"
     ]
    },
    {
     "name": "stdout",
     "output_type": "stream",
     "text": [
      "receiving_yards_3rd_year_stats\n"
     ]
    },
    {
     "name": "stderr",
     "output_type": "stream",
     "text": [
      "C:\\Users\\jkepler\\AppData\\Local\\Temp\\ipykernel_21608\\3853764565.py:17: SettingWithCopyWarning: \n",
      "A value is trying to be set on a copy of a slice from a DataFrame.\n",
      "Try using .loc[row_indexer,col_indexer] = value instead\n",
      "\n",
      "See the caveats in the documentation: https://pandas.pydata.org/pandas-docs/stable/user_guide/indexing.html#returning-a-view-versus-a-copy\n",
      "  pos_df[stat + '_y_pred_gbf'] = gbr_predictions\n"
     ]
    },
    {
     "name": "stdout",
     "output_type": "stream",
     "text": [
      "receiving_tds_3rd_year_stats\n"
     ]
    },
    {
     "name": "stderr",
     "output_type": "stream",
     "text": [
      "C:\\Users\\jkepler\\AppData\\Local\\Temp\\ipykernel_21608\\3853764565.py:17: SettingWithCopyWarning: \n",
      "A value is trying to be set on a copy of a slice from a DataFrame.\n",
      "Try using .loc[row_indexer,col_indexer] = value instead\n",
      "\n",
      "See the caveats in the documentation: https://pandas.pydata.org/pandas-docs/stable/user_guide/indexing.html#returning-a-view-versus-a-copy\n",
      "  pos_df[stat + '_y_pred_gbf'] = gbr_predictions\n"
     ]
    },
    {
     "name": "stdout",
     "output_type": "stream",
     "text": [
      "receiving_fumbles_3rd_year_stats\n"
     ]
    },
    {
     "name": "stderr",
     "output_type": "stream",
     "text": [
      "C:\\Users\\jkepler\\AppData\\Local\\Temp\\ipykernel_21608\\3853764565.py:17: SettingWithCopyWarning: \n",
      "A value is trying to be set on a copy of a slice from a DataFrame.\n",
      "Try using .loc[row_indexer,col_indexer] = value instead\n",
      "\n",
      "See the caveats in the documentation: https://pandas.pydata.org/pandas-docs/stable/user_guide/indexing.html#returning-a-view-versus-a-copy\n",
      "  pos_df[stat + '_y_pred_gbf'] = gbr_predictions\n"
     ]
    },
    {
     "name": "stdout",
     "output_type": "stream",
     "text": [
      "receiving_fumbles_lost_3rd_year_stats\n"
     ]
    },
    {
     "name": "stderr",
     "output_type": "stream",
     "text": [
      "C:\\Users\\jkepler\\AppData\\Local\\Temp\\ipykernel_21608\\3853764565.py:17: SettingWithCopyWarning: \n",
      "A value is trying to be set on a copy of a slice from a DataFrame.\n",
      "Try using .loc[row_indexer,col_indexer] = value instead\n",
      "\n",
      "See the caveats in the documentation: https://pandas.pydata.org/pandas-docs/stable/user_guide/indexing.html#returning-a-view-versus-a-copy\n",
      "  pos_df[stat + '_y_pred_gbf'] = gbr_predictions\n"
     ]
    },
    {
     "name": "stdout",
     "output_type": "stream",
     "text": [
      "receiving_air_yards_3rd_year_stats\n"
     ]
    },
    {
     "name": "stderr",
     "output_type": "stream",
     "text": [
      "C:\\Users\\jkepler\\AppData\\Local\\Temp\\ipykernel_21608\\3853764565.py:17: SettingWithCopyWarning: \n",
      "A value is trying to be set on a copy of a slice from a DataFrame.\n",
      "Try using .loc[row_indexer,col_indexer] = value instead\n",
      "\n",
      "See the caveats in the documentation: https://pandas.pydata.org/pandas-docs/stable/user_guide/indexing.html#returning-a-view-versus-a-copy\n",
      "  pos_df[stat + '_y_pred_gbf'] = gbr_predictions\n"
     ]
    },
    {
     "name": "stdout",
     "output_type": "stream",
     "text": [
      "receiving_yards_after_catch_3rd_year_stats\n"
     ]
    },
    {
     "name": "stderr",
     "output_type": "stream",
     "text": [
      "C:\\Users\\jkepler\\AppData\\Local\\Temp\\ipykernel_21608\\3853764565.py:17: SettingWithCopyWarning: \n",
      "A value is trying to be set on a copy of a slice from a DataFrame.\n",
      "Try using .loc[row_indexer,col_indexer] = value instead\n",
      "\n",
      "See the caveats in the documentation: https://pandas.pydata.org/pandas-docs/stable/user_guide/indexing.html#returning-a-view-versus-a-copy\n",
      "  pos_df[stat + '_y_pred_gbf'] = gbr_predictions\n"
     ]
    },
    {
     "name": "stdout",
     "output_type": "stream",
     "text": [
      "receiving_first_downs_3rd_year_stats\n"
     ]
    },
    {
     "name": "stderr",
     "output_type": "stream",
     "text": [
      "C:\\Users\\jkepler\\AppData\\Local\\Temp\\ipykernel_21608\\3853764565.py:17: SettingWithCopyWarning: \n",
      "A value is trying to be set on a copy of a slice from a DataFrame.\n",
      "Try using .loc[row_indexer,col_indexer] = value instead\n",
      "\n",
      "See the caveats in the documentation: https://pandas.pydata.org/pandas-docs/stable/user_guide/indexing.html#returning-a-view-versus-a-copy\n",
      "  pos_df[stat + '_y_pred_gbf'] = gbr_predictions\n"
     ]
    },
    {
     "name": "stdout",
     "output_type": "stream",
     "text": [
      "receiving_epa_3rd_year_stats\n"
     ]
    },
    {
     "name": "stderr",
     "output_type": "stream",
     "text": [
      "C:\\Users\\jkepler\\AppData\\Local\\Temp\\ipykernel_21608\\3853764565.py:17: SettingWithCopyWarning: \n",
      "A value is trying to be set on a copy of a slice from a DataFrame.\n",
      "Try using .loc[row_indexer,col_indexer] = value instead\n",
      "\n",
      "See the caveats in the documentation: https://pandas.pydata.org/pandas-docs/stable/user_guide/indexing.html#returning-a-view-versus-a-copy\n",
      "  pos_df[stat + '_y_pred_gbf'] = gbr_predictions\n"
     ]
    },
    {
     "name": "stdout",
     "output_type": "stream",
     "text": [
      "racr_3rd_year_stats\n"
     ]
    },
    {
     "name": "stderr",
     "output_type": "stream",
     "text": [
      "C:\\Users\\jkepler\\AppData\\Local\\Temp\\ipykernel_21608\\3853764565.py:17: SettingWithCopyWarning: \n",
      "A value is trying to be set on a copy of a slice from a DataFrame.\n",
      "Try using .loc[row_indexer,col_indexer] = value instead\n",
      "\n",
      "See the caveats in the documentation: https://pandas.pydata.org/pandas-docs/stable/user_guide/indexing.html#returning-a-view-versus-a-copy\n",
      "  pos_df[stat + '_y_pred_gbf'] = gbr_predictions\n"
     ]
    },
    {
     "name": "stdout",
     "output_type": "stream",
     "text": [
      "air_yards_share_3rd_year_stats\n"
     ]
    },
    {
     "name": "stderr",
     "output_type": "stream",
     "text": [
      "C:\\Users\\jkepler\\AppData\\Local\\Temp\\ipykernel_21608\\3853764565.py:17: SettingWithCopyWarning: \n",
      "A value is trying to be set on a copy of a slice from a DataFrame.\n",
      "Try using .loc[row_indexer,col_indexer] = value instead\n",
      "\n",
      "See the caveats in the documentation: https://pandas.pydata.org/pandas-docs/stable/user_guide/indexing.html#returning-a-view-versus-a-copy\n",
      "  pos_df[stat + '_y_pred_gbf'] = gbr_predictions\n"
     ]
    },
    {
     "name": "stdout",
     "output_type": "stream",
     "text": [
      "wopr_x_3rd_year_stats\n"
     ]
    },
    {
     "name": "stderr",
     "output_type": "stream",
     "text": [
      "C:\\Users\\jkepler\\AppData\\Local\\Temp\\ipykernel_21608\\3853764565.py:17: SettingWithCopyWarning: \n",
      "A value is trying to be set on a copy of a slice from a DataFrame.\n",
      "Try using .loc[row_indexer,col_indexer] = value instead\n",
      "\n",
      "See the caveats in the documentation: https://pandas.pydata.org/pandas-docs/stable/user_guide/indexing.html#returning-a-view-versus-a-copy\n",
      "  pos_df[stat + '_y_pred_gbf'] = gbr_predictions\n",
      "C:\\Users\\jkepler\\AppData\\Local\\Temp\\ipykernel_21608\\3853764565.py:17: SettingWithCopyWarning: \n",
      "A value is trying to be set on a copy of a slice from a DataFrame.\n",
      "Try using .loc[row_indexer,col_indexer] = value instead\n",
      "\n",
      "See the caveats in the documentation: https://pandas.pydata.org/pandas-docs/stable/user_guide/indexing.html#returning-a-view-versus-a-copy\n",
      "  pos_df[stat + '_y_pred_gbf'] = gbr_predictions\n"
     ]
    },
    {
     "name": "stdout",
     "output_type": "stream",
     "text": [
      "special_teams_tds_3rd_year_stats\n",
      "tgt_sh_3rd_year_stats\n"
     ]
    },
    {
     "name": "stderr",
     "output_type": "stream",
     "text": [
      "C:\\Users\\jkepler\\AppData\\Local\\Temp\\ipykernel_21608\\3853764565.py:17: SettingWithCopyWarning: \n",
      "A value is trying to be set on a copy of a slice from a DataFrame.\n",
      "Try using .loc[row_indexer,col_indexer] = value instead\n",
      "\n",
      "See the caveats in the documentation: https://pandas.pydata.org/pandas-docs/stable/user_guide/indexing.html#returning-a-view-versus-a-copy\n",
      "  pos_df[stat + '_y_pred_gbf'] = gbr_predictions\n"
     ]
    },
    {
     "name": "stdout",
     "output_type": "stream",
     "text": [
      "ay_sh_3rd_year_stats\n"
     ]
    },
    {
     "name": "stderr",
     "output_type": "stream",
     "text": [
      "C:\\Users\\jkepler\\AppData\\Local\\Temp\\ipykernel_21608\\3853764565.py:17: SettingWithCopyWarning: \n",
      "A value is trying to be set on a copy of a slice from a DataFrame.\n",
      "Try using .loc[row_indexer,col_indexer] = value instead\n",
      "\n",
      "See the caveats in the documentation: https://pandas.pydata.org/pandas-docs/stable/user_guide/indexing.html#returning-a-view-versus-a-copy\n",
      "  pos_df[stat + '_y_pred_gbf'] = gbr_predictions\n"
     ]
    },
    {
     "name": "stdout",
     "output_type": "stream",
     "text": [
      "yac_sh_3rd_year_stats\n"
     ]
    },
    {
     "name": "stderr",
     "output_type": "stream",
     "text": [
      "C:\\Users\\jkepler\\AppData\\Local\\Temp\\ipykernel_21608\\3853764565.py:17: SettingWithCopyWarning: \n",
      "A value is trying to be set on a copy of a slice from a DataFrame.\n",
      "Try using .loc[row_indexer,col_indexer] = value instead\n",
      "\n",
      "See the caveats in the documentation: https://pandas.pydata.org/pandas-docs/stable/user_guide/indexing.html#returning-a-view-versus-a-copy\n",
      "  pos_df[stat + '_y_pred_gbf'] = gbr_predictions\n"
     ]
    },
    {
     "name": "stdout",
     "output_type": "stream",
     "text": [
      "wopr_y_3rd_year_stats\n"
     ]
    },
    {
     "name": "stderr",
     "output_type": "stream",
     "text": [
      "C:\\Users\\jkepler\\AppData\\Local\\Temp\\ipykernel_21608\\3853764565.py:17: SettingWithCopyWarning: \n",
      "A value is trying to be set on a copy of a slice from a DataFrame.\n",
      "Try using .loc[row_indexer,col_indexer] = value instead\n",
      "\n",
      "See the caveats in the documentation: https://pandas.pydata.org/pandas-docs/stable/user_guide/indexing.html#returning-a-view-versus-a-copy\n",
      "  pos_df[stat + '_y_pred_gbf'] = gbr_predictions\n"
     ]
    },
    {
     "name": "stdout",
     "output_type": "stream",
     "text": [
      "ry_sh_3rd_year_stats\n"
     ]
    },
    {
     "name": "stderr",
     "output_type": "stream",
     "text": [
      "C:\\Users\\jkepler\\AppData\\Local\\Temp\\ipykernel_21608\\3853764565.py:17: SettingWithCopyWarning: \n",
      "A value is trying to be set on a copy of a slice from a DataFrame.\n",
      "Try using .loc[row_indexer,col_indexer] = value instead\n",
      "\n",
      "See the caveats in the documentation: https://pandas.pydata.org/pandas-docs/stable/user_guide/indexing.html#returning-a-view-versus-a-copy\n",
      "  pos_df[stat + '_y_pred_gbf'] = gbr_predictions\n"
     ]
    },
    {
     "name": "stdout",
     "output_type": "stream",
     "text": [
      "rtd_sh_3rd_year_stats\n"
     ]
    },
    {
     "name": "stderr",
     "output_type": "stream",
     "text": [
      "C:\\Users\\jkepler\\AppData\\Local\\Temp\\ipykernel_21608\\3853764565.py:17: SettingWithCopyWarning: \n",
      "A value is trying to be set on a copy of a slice from a DataFrame.\n",
      "Try using .loc[row_indexer,col_indexer] = value instead\n",
      "\n",
      "See the caveats in the documentation: https://pandas.pydata.org/pandas-docs/stable/user_guide/indexing.html#returning-a-view-versus-a-copy\n",
      "  pos_df[stat + '_y_pred_gbf'] = gbr_predictions\n"
     ]
    },
    {
     "name": "stdout",
     "output_type": "stream",
     "text": [
      "rfd_sh_3rd_year_stats\n"
     ]
    },
    {
     "name": "stderr",
     "output_type": "stream",
     "text": [
      "C:\\Users\\jkepler\\AppData\\Local\\Temp\\ipykernel_21608\\3853764565.py:17: SettingWithCopyWarning: \n",
      "A value is trying to be set on a copy of a slice from a DataFrame.\n",
      "Try using .loc[row_indexer,col_indexer] = value instead\n",
      "\n",
      "See the caveats in the documentation: https://pandas.pydata.org/pandas-docs/stable/user_guide/indexing.html#returning-a-view-versus-a-copy\n",
      "  pos_df[stat + '_y_pred_gbf'] = gbr_predictions\n"
     ]
    },
    {
     "name": "stdout",
     "output_type": "stream",
     "text": [
      "dom_3rd_year_stats\n"
     ]
    },
    {
     "name": "stderr",
     "output_type": "stream",
     "text": [
      "C:\\Users\\jkepler\\AppData\\Local\\Temp\\ipykernel_21608\\3853764565.py:17: SettingWithCopyWarning: \n",
      "A value is trying to be set on a copy of a slice from a DataFrame.\n",
      "Try using .loc[row_indexer,col_indexer] = value instead\n",
      "\n",
      "See the caveats in the documentation: https://pandas.pydata.org/pandas-docs/stable/user_guide/indexing.html#returning-a-view-versus-a-copy\n",
      "  pos_df[stat + '_y_pred_gbf'] = gbr_predictions\n"
     ]
    },
    {
     "name": "stdout",
     "output_type": "stream",
     "text": [
      "yptmpa_3rd_year_stats\n"
     ]
    },
    {
     "name": "stderr",
     "output_type": "stream",
     "text": [
      "C:\\Users\\jkepler\\AppData\\Local\\Temp\\ipykernel_21608\\3853764565.py:17: SettingWithCopyWarning: \n",
      "A value is trying to be set on a copy of a slice from a DataFrame.\n",
      "Try using .loc[row_indexer,col_indexer] = value instead\n",
      "\n",
      "See the caveats in the documentation: https://pandas.pydata.org/pandas-docs/stable/user_guide/indexing.html#returning-a-view-versus-a-copy\n",
      "  pos_df[stat + '_y_pred_gbf'] = gbr_predictions\n"
     ]
    },
    {
     "data": {
      "text/html": [
       "<div>\n",
       "<style scoped>\n",
       "    .dataframe tbody tr th:only-of-type {\n",
       "        vertical-align: middle;\n",
       "    }\n",
       "\n",
       "    .dataframe tbody tr th {\n",
       "        vertical-align: top;\n",
       "    }\n",
       "\n",
       "    .dataframe thead th {\n",
       "        text-align: right;\n",
       "    }\n",
       "</style>\n",
       "<table border=\"1\" class=\"dataframe\">\n",
       "  <thead>\n",
       "    <tr style=\"text-align: right;\">\n",
       "      <th></th>\n",
       "      <th>Unnamed: 0</th>\n",
       "      <th>index</th>\n",
       "      <th>season_1st_year_stats</th>\n",
       "      <th>cfb_id</th>\n",
       "      <th>player_name</th>\n",
       "      <th>pos</th>\n",
       "      <th>school</th>\n",
       "      <th>ht</th>\n",
       "      <th>wt</th>\n",
       "      <th>forty</th>\n",
       "      <th>...</th>\n",
       "      <th>special_teams_tds_3rd_year_stats_y_pred_gbf</th>\n",
       "      <th>tgt_sh_3rd_year_stats_y_pred_gbf</th>\n",
       "      <th>ay_sh_3rd_year_stats_y_pred_gbf</th>\n",
       "      <th>yac_sh_3rd_year_stats_y_pred_gbf</th>\n",
       "      <th>wopr_y_3rd_year_stats_y_pred_gbf</th>\n",
       "      <th>ry_sh_3rd_year_stats_y_pred_gbf</th>\n",
       "      <th>rtd_sh_3rd_year_stats_y_pred_gbf</th>\n",
       "      <th>rfd_sh_3rd_year_stats_y_pred_gbf</th>\n",
       "      <th>dom_3rd_year_stats_y_pred_gbf</th>\n",
       "      <th>yptmpa_3rd_year_stats_y_pred_gbf</th>\n",
       "    </tr>\n",
       "  </thead>\n",
       "  <tbody>\n",
       "    <tr>\n",
       "      <th>12</th>\n",
       "      <td>402.0</td>\n",
       "      <td>155.0</td>\n",
       "      <td>2015.0</td>\n",
       "      <td>brett-hundley-1</td>\n",
       "      <td>Brett Hundley</td>\n",
       "      <td>QB</td>\n",
       "      <td>UCLA</td>\n",
       "      <td>75.0</td>\n",
       "      <td>226.0</td>\n",
       "      <td>4.63</td>\n",
       "      <td>...</td>\n",
       "      <td>0.0</td>\n",
       "      <td>0.002814</td>\n",
       "      <td>-1.857509e-03</td>\n",
       "      <td>0.013487</td>\n",
       "      <td>0.002728</td>\n",
       "      <td>4.851365e-03</td>\n",
       "      <td>0.000002</td>\n",
       "      <td>0.009884</td>\n",
       "      <td>0.002390</td>\n",
       "      <td>0.028142</td>\n",
       "    </tr>\n",
       "    <tr>\n",
       "      <th>13</th>\n",
       "      <td>432.0</td>\n",
       "      <td>191.0</td>\n",
       "      <td>2015.0</td>\n",
       "      <td>sean-mannion-1</td>\n",
       "      <td>Sean Mannion</td>\n",
       "      <td>QB</td>\n",
       "      <td>Oregon State</td>\n",
       "      <td>78.0</td>\n",
       "      <td>229.0</td>\n",
       "      <td>5.14</td>\n",
       "      <td>...</td>\n",
       "      <td>0.0</td>\n",
       "      <td>0.000001</td>\n",
       "      <td>-4.923948e-08</td>\n",
       "      <td>0.000002</td>\n",
       "      <td>0.000002</td>\n",
       "      <td>9.735133e-07</td>\n",
       "      <td>0.000002</td>\n",
       "      <td>0.000001</td>\n",
       "      <td>0.000002</td>\n",
       "      <td>0.000005</td>\n",
       "    </tr>\n",
       "    <tr>\n",
       "      <th>14</th>\n",
       "      <td>433.0</td>\n",
       "      <td>192.0</td>\n",
       "      <td>2015.0</td>\n",
       "      <td>marcus-mariota-1</td>\n",
       "      <td>Marcus Mariota</td>\n",
       "      <td>QB</td>\n",
       "      <td>Oregon</td>\n",
       "      <td>76.0</td>\n",
       "      <td>222.0</td>\n",
       "      <td>4.52</td>\n",
       "      <td>...</td>\n",
       "      <td>0.0</td>\n",
       "      <td>0.000001</td>\n",
       "      <td>-4.923948e-08</td>\n",
       "      <td>0.000021</td>\n",
       "      <td>0.000002</td>\n",
       "      <td>1.496727e-06</td>\n",
       "      <td>0.000002</td>\n",
       "      <td>0.000001</td>\n",
       "      <td>0.000002</td>\n",
       "      <td>0.000017</td>\n",
       "    </tr>\n",
       "    <tr>\n",
       "      <th>15</th>\n",
       "      <td>462.0</td>\n",
       "      <td>229.0</td>\n",
       "      <td>2015.0</td>\n",
       "      <td>bryce-petty-1</td>\n",
       "      <td>Bryce Petty</td>\n",
       "      <td>QB</td>\n",
       "      <td>Baylor</td>\n",
       "      <td>75.0</td>\n",
       "      <td>230.0</td>\n",
       "      <td>4.87</td>\n",
       "      <td>...</td>\n",
       "      <td>0.0</td>\n",
       "      <td>0.000001</td>\n",
       "      <td>-4.923948e-08</td>\n",
       "      <td>0.000007</td>\n",
       "      <td>0.000002</td>\n",
       "      <td>1.496727e-06</td>\n",
       "      <td>0.000002</td>\n",
       "      <td>0.000001</td>\n",
       "      <td>0.000002</td>\n",
       "      <td>0.000007</td>\n",
       "    </tr>\n",
       "    <tr>\n",
       "      <th>16</th>\n",
       "      <td>527.0</td>\n",
       "      <td>305.0</td>\n",
       "      <td>2015.0</td>\n",
       "      <td>jameis-winston-1</td>\n",
       "      <td>Jameis Winston</td>\n",
       "      <td>QB</td>\n",
       "      <td>Florida State</td>\n",
       "      <td>76.0</td>\n",
       "      <td>231.0</td>\n",
       "      <td>4.97</td>\n",
       "      <td>...</td>\n",
       "      <td>0.0</td>\n",
       "      <td>0.000001</td>\n",
       "      <td>-4.923948e-08</td>\n",
       "      <td>0.000005</td>\n",
       "      <td>0.000002</td>\n",
       "      <td>9.735133e-07</td>\n",
       "      <td>0.000002</td>\n",
       "      <td>0.000001</td>\n",
       "      <td>0.000002</td>\n",
       "      <td>0.000014</td>\n",
       "    </tr>\n",
       "    <tr>\n",
       "      <th>...</th>\n",
       "      <td>...</td>\n",
       "      <td>...</td>\n",
       "      <td>...</td>\n",
       "      <td>...</td>\n",
       "      <td>...</td>\n",
       "      <td>...</td>\n",
       "      <td>...</td>\n",
       "      <td>...</td>\n",
       "      <td>...</td>\n",
       "      <td>...</td>\n",
       "      <td>...</td>\n",
       "      <td>...</td>\n",
       "      <td>...</td>\n",
       "      <td>...</td>\n",
       "      <td>...</td>\n",
       "      <td>...</td>\n",
       "      <td>...</td>\n",
       "      <td>...</td>\n",
       "      <td>...</td>\n",
       "      <td>...</td>\n",
       "      <td>...</td>\n",
       "    </tr>\n",
       "    <tr>\n",
       "      <th>511</th>\n",
       "      <td>2562.0</td>\n",
       "      <td>2476.0</td>\n",
       "      <td>2022.0</td>\n",
       "      <td>teagan-quitoriano-1</td>\n",
       "      <td>Teagan Quitoriano</td>\n",
       "      <td>TE</td>\n",
       "      <td>Oregon St.</td>\n",
       "      <td>78.0</td>\n",
       "      <td>258.0</td>\n",
       "      <td>4.75</td>\n",
       "      <td>...</td>\n",
       "      <td>0.0</td>\n",
       "      <td>0.109401</td>\n",
       "      <td>9.026729e-02</td>\n",
       "      <td>0.089817</td>\n",
       "      <td>0.216377</td>\n",
       "      <td>7.917368e-02</td>\n",
       "      <td>0.125543</td>\n",
       "      <td>0.067625</td>\n",
       "      <td>0.126554</td>\n",
       "      <td>0.572156</td>\n",
       "    </tr>\n",
       "    <tr>\n",
       "      <th>512</th>\n",
       "      <td>2579.0</td>\n",
       "      <td>2493.0</td>\n",
       "      <td>2022.0</td>\n",
       "      <td>jeremy-ruckert-1</td>\n",
       "      <td>Jeremy Ruckert</td>\n",
       "      <td>TE</td>\n",
       "      <td>Ohio St.</td>\n",
       "      <td>77.0</td>\n",
       "      <td>250.0</td>\n",
       "      <td>4.75</td>\n",
       "      <td>...</td>\n",
       "      <td>0.0</td>\n",
       "      <td>0.040924</td>\n",
       "      <td>1.944258e-02</td>\n",
       "      <td>0.030564</td>\n",
       "      <td>0.066983</td>\n",
       "      <td>2.608297e-02</td>\n",
       "      <td>0.014557</td>\n",
       "      <td>0.047822</td>\n",
       "      <td>0.017482</td>\n",
       "      <td>0.260936</td>\n",
       "    </tr>\n",
       "    <tr>\n",
       "      <th>513</th>\n",
       "      <td>2613.0</td>\n",
       "      <td>2531.0</td>\n",
       "      <td>2022.0</td>\n",
       "      <td>cole-turner-2</td>\n",
       "      <td>Cole Turner</td>\n",
       "      <td>TE</td>\n",
       "      <td>Nevada</td>\n",
       "      <td>78.0</td>\n",
       "      <td>246.0</td>\n",
       "      <td>4.76</td>\n",
       "      <td>...</td>\n",
       "      <td>0.0</td>\n",
       "      <td>0.017338</td>\n",
       "      <td>4.404663e-02</td>\n",
       "      <td>0.011571</td>\n",
       "      <td>0.033028</td>\n",
       "      <td>2.364016e-02</td>\n",
       "      <td>0.014671</td>\n",
       "      <td>0.008948</td>\n",
       "      <td>0.011275</td>\n",
       "      <td>0.112026</td>\n",
       "    </tr>\n",
       "    <tr>\n",
       "      <th>514</th>\n",
       "      <td>2638.0</td>\n",
       "      <td>2563.0</td>\n",
       "      <td>2022.0</td>\n",
       "      <td>jelani-woods-1</td>\n",
       "      <td>Jelani Woods</td>\n",
       "      <td>TE</td>\n",
       "      <td>Virginia</td>\n",
       "      <td>79.0</td>\n",
       "      <td>259.0</td>\n",
       "      <td>4.61</td>\n",
       "      <td>...</td>\n",
       "      <td>0.0</td>\n",
       "      <td>0.085768</td>\n",
       "      <td>7.686156e-02</td>\n",
       "      <td>0.083061</td>\n",
       "      <td>0.175851</td>\n",
       "      <td>6.375082e-02</td>\n",
       "      <td>0.042141</td>\n",
       "      <td>0.065906</td>\n",
       "      <td>0.066960</td>\n",
       "      <td>0.386284</td>\n",
       "    </tr>\n",
       "    <tr>\n",
       "      <th>515</th>\n",
       "      <td>2531.0</td>\n",
       "      <td>2442.0</td>\n",
       "      <td>2022.0</td>\n",
       "      <td>james-mitchell-2</td>\n",
       "      <td>James Mitchell</td>\n",
       "      <td>TE</td>\n",
       "      <td>Virginia Tech</td>\n",
       "      <td>76.0</td>\n",
       "      <td>249.0</td>\n",
       "      <td>4.75</td>\n",
       "      <td>...</td>\n",
       "      <td>0.0</td>\n",
       "      <td>0.070985</td>\n",
       "      <td>5.018624e-02</td>\n",
       "      <td>0.075374</td>\n",
       "      <td>0.164135</td>\n",
       "      <td>6.638666e-02</td>\n",
       "      <td>0.055906</td>\n",
       "      <td>0.067276</td>\n",
       "      <td>0.067931</td>\n",
       "      <td>0.410474</td>\n",
       "    </tr>\n",
       "  </tbody>\n",
       "</table>\n",
       "<p>477 rows × 650 columns</p>\n",
       "</div>"
      ],
      "text/plain": [
       "     Unnamed: 0   index  season_1st_year_stats               cfb_id  \\\n",
       "12        402.0   155.0                 2015.0      brett-hundley-1   \n",
       "13        432.0   191.0                 2015.0       sean-mannion-1   \n",
       "14        433.0   192.0                 2015.0     marcus-mariota-1   \n",
       "15        462.0   229.0                 2015.0        bryce-petty-1   \n",
       "16        527.0   305.0                 2015.0     jameis-winston-1   \n",
       "..          ...     ...                    ...                  ...   \n",
       "511      2562.0  2476.0                 2022.0  teagan-quitoriano-1   \n",
       "512      2579.0  2493.0                 2022.0     jeremy-ruckert-1   \n",
       "513      2613.0  2531.0                 2022.0        cole-turner-2   \n",
       "514      2638.0  2563.0                 2022.0       jelani-woods-1   \n",
       "515      2531.0  2442.0                 2022.0     james-mitchell-2   \n",
       "\n",
       "           player_name pos         school    ht     wt  forty  ...  \\\n",
       "12       Brett Hundley  QB           UCLA  75.0  226.0   4.63  ...   \n",
       "13        Sean Mannion  QB   Oregon State  78.0  229.0   5.14  ...   \n",
       "14      Marcus Mariota  QB         Oregon  76.0  222.0   4.52  ...   \n",
       "15         Bryce Petty  QB         Baylor  75.0  230.0   4.87  ...   \n",
       "16      Jameis Winston  QB  Florida State  76.0  231.0   4.97  ...   \n",
       "..                 ...  ..            ...   ...    ...    ...  ...   \n",
       "511  Teagan Quitoriano  TE     Oregon St.  78.0  258.0   4.75  ...   \n",
       "512     Jeremy Ruckert  TE       Ohio St.  77.0  250.0   4.75  ...   \n",
       "513        Cole Turner  TE         Nevada  78.0  246.0   4.76  ...   \n",
       "514       Jelani Woods  TE       Virginia  79.0  259.0   4.61  ...   \n",
       "515     James Mitchell  TE  Virginia Tech  76.0  249.0   4.75  ...   \n",
       "\n",
       "     special_teams_tds_3rd_year_stats_y_pred_gbf  \\\n",
       "12                                           0.0   \n",
       "13                                           0.0   \n",
       "14                                           0.0   \n",
       "15                                           0.0   \n",
       "16                                           0.0   \n",
       "..                                           ...   \n",
       "511                                          0.0   \n",
       "512                                          0.0   \n",
       "513                                          0.0   \n",
       "514                                          0.0   \n",
       "515                                          0.0   \n",
       "\n",
       "     tgt_sh_3rd_year_stats_y_pred_gbf  ay_sh_3rd_year_stats_y_pred_gbf  \\\n",
       "12                           0.002814                    -1.857509e-03   \n",
       "13                           0.000001                    -4.923948e-08   \n",
       "14                           0.000001                    -4.923948e-08   \n",
       "15                           0.000001                    -4.923948e-08   \n",
       "16                           0.000001                    -4.923948e-08   \n",
       "..                                ...                              ...   \n",
       "511                          0.109401                     9.026729e-02   \n",
       "512                          0.040924                     1.944258e-02   \n",
       "513                          0.017338                     4.404663e-02   \n",
       "514                          0.085768                     7.686156e-02   \n",
       "515                          0.070985                     5.018624e-02   \n",
       "\n",
       "     yac_sh_3rd_year_stats_y_pred_gbf  wopr_y_3rd_year_stats_y_pred_gbf  \\\n",
       "12                           0.013487                          0.002728   \n",
       "13                           0.000002                          0.000002   \n",
       "14                           0.000021                          0.000002   \n",
       "15                           0.000007                          0.000002   \n",
       "16                           0.000005                          0.000002   \n",
       "..                                ...                               ...   \n",
       "511                          0.089817                          0.216377   \n",
       "512                          0.030564                          0.066983   \n",
       "513                          0.011571                          0.033028   \n",
       "514                          0.083061                          0.175851   \n",
       "515                          0.075374                          0.164135   \n",
       "\n",
       "     ry_sh_3rd_year_stats_y_pred_gbf  rtd_sh_3rd_year_stats_y_pred_gbf  \\\n",
       "12                      4.851365e-03                          0.000002   \n",
       "13                      9.735133e-07                          0.000002   \n",
       "14                      1.496727e-06                          0.000002   \n",
       "15                      1.496727e-06                          0.000002   \n",
       "16                      9.735133e-07                          0.000002   \n",
       "..                               ...                               ...   \n",
       "511                     7.917368e-02                          0.125543   \n",
       "512                     2.608297e-02                          0.014557   \n",
       "513                     2.364016e-02                          0.014671   \n",
       "514                     6.375082e-02                          0.042141   \n",
       "515                     6.638666e-02                          0.055906   \n",
       "\n",
       "    rfd_sh_3rd_year_stats_y_pred_gbf  dom_3rd_year_stats_y_pred_gbf  \\\n",
       "12                          0.009884                       0.002390   \n",
       "13                          0.000001                       0.000002   \n",
       "14                          0.000001                       0.000002   \n",
       "15                          0.000001                       0.000002   \n",
       "16                          0.000001                       0.000002   \n",
       "..                               ...                            ...   \n",
       "511                         0.067625                       0.126554   \n",
       "512                         0.047822                       0.017482   \n",
       "513                         0.008948                       0.011275   \n",
       "514                         0.065906                       0.066960   \n",
       "515                         0.067276                       0.067931   \n",
       "\n",
       "    yptmpa_3rd_year_stats_y_pred_gbf  \n",
       "12                          0.028142  \n",
       "13                          0.000005  \n",
       "14                          0.000017  \n",
       "15                          0.000007  \n",
       "16                          0.000014  \n",
       "..                               ...  \n",
       "511                         0.572156  \n",
       "512                         0.260936  \n",
       "513                         0.112026  \n",
       "514                         0.386284  \n",
       "515                         0.410474  \n",
       "\n",
       "[477 rows x 650 columns]"
      ]
     },
     "execution_count": 242,
     "metadata": {},
     "output_type": "execute_result"
    }
   ],
   "source": [
    "export_df = pd.DataFrame()\n",
    "\n",
    "for pos in pos_list:\n",
    "    print(pos)\n",
    "    temp_df = third_year_df[third_year_df['pos'] == pos]\n",
    "    temp_df = temp_df[temp_df['3rd_season'] < current_year]\n",
    "    pos_df = third_year_df[(third_year_df['pos'] == pos) & (third_year_df['3rd_season'] < current_year + 1)]\n",
    "    \n",
    "    for stat in stats_to_perdict:\n",
    "        print(stat)\n",
    "        X = temp_df[x_stats]\n",
    "        Y = temp_df[stat]\n",
    "\n",
    "        gbr_model = GradientBoostingRegressor(n_estimators=(temp_df.shape[0]), learning_rate=0.1)\n",
    "        gbr_model.fit(X, Y)\n",
    "        gbr_predictions = gbr_model.predict(pos_df[x_stats])\n",
    "        pos_df[stat + '_y_pred_gbf'] = gbr_predictions\n",
    "    export_df = pd.concat([export_df,pos_df])\n",
    "        \n",
    "export_df"
   ]
  },
  {
   "cell_type": "code",
   "execution_count": 243,
   "id": "92c27874",
   "metadata": {},
   "outputs": [],
   "source": [
    "export_df.fillna(0)\n",
    "\n",
    "filter_columns = ['player_name','pos','school','3rd_season']\n",
    "\n",
    "perdicted_stats = [item + '_y_pred_gbf' for item in stats_to_perdict]\n",
    "\n",
    "filtered_columns = filter_columns + perdicted_stats"
   ]
  },
  {
   "cell_type": "code",
   "execution_count": 244,
   "id": "169ad266",
   "metadata": {},
   "outputs": [
    {
     "name": "stderr",
     "output_type": "stream",
     "text": [
      "C:\\Users\\jkepler\\AppData\\Local\\Temp\\ipykernel_21608\\548141496.py:3: SettingWithCopyWarning: \n",
      "A value is trying to be set on a copy of a slice from a DataFrame.\n",
      "Try using .loc[row_indexer,col_indexer] = value instead\n",
      "\n",
      "See the caveats in the documentation: https://pandas.pydata.org/pandas-docs/stable/user_guide/indexing.html#returning-a-view-versus-a-copy\n",
      "  filtered_export['scrimmage_yards'] = filtered_export['rushing_yards_3rd_year_stats_y_pred_gbf'] + filtered_export['receiving_yards_3rd_year_stats_y_pred_gbf']\n",
      "C:\\Users\\jkepler\\AppData\\Local\\Temp\\ipykernel_21608\\548141496.py:4: SettingWithCopyWarning: \n",
      "A value is trying to be set on a copy of a slice from a DataFrame.\n",
      "Try using .loc[row_indexer,col_indexer] = value instead\n",
      "\n",
      "See the caveats in the documentation: https://pandas.pydata.org/pandas-docs/stable/user_guide/indexing.html#returning-a-view-versus-a-copy\n",
      "  filtered_export['scrimmage_TDs'] = filtered_export['rushing_tds_3rd_year_stats_y_pred_gbf'] + filtered_export['receiving_tds_3rd_year_stats_y_pred_gbf']\n",
      "C:\\Users\\jkepler\\AppData\\Local\\Temp\\ipykernel_21608\\548141496.py:23: SettingWithCopyWarning: \n",
      "A value is trying to be set on a copy of a slice from a DataFrame.\n",
      "Try using .loc[row_indexer,col_indexer] = value instead\n",
      "\n",
      "See the caveats in the documentation: https://pandas.pydata.org/pandas-docs/stable/user_guide/indexing.html#returning-a-view-versus-a-copy\n",
      "  filtered_export['fantasy_points'] = filtered_export[scoring_dict.keys()].mul(list(scoring_dict.values()), axis=1).sum(axis=1)\n",
      "C:\\Users\\jkepler\\AppData\\Local\\Temp\\ipykernel_21608\\548141496.py:24: SettingWithCopyWarning: \n",
      "A value is trying to be set on a copy of a slice from a DataFrame.\n",
      "Try using .loc[row_indexer,col_indexer] = value instead\n",
      "\n",
      "See the caveats in the documentation: https://pandas.pydata.org/pandas-docs/stable/user_guide/indexing.html#returning-a-view-versus-a-copy\n",
      "  filtered_export['fantasy_points/G'] = filtered_export['fantasy_points'] / filtered_export['games_3rd_year_stats_y_pred_gbf']\n"
     ]
    }
   ],
   "source": [
    "filtered_export = export_df[filtered_columns]\n",
    "\n",
    "filtered_export['scrimmage_yards'] = filtered_export['rushing_yards_3rd_year_stats_y_pred_gbf'] + filtered_export['receiving_yards_3rd_year_stats_y_pred_gbf']\n",
    "filtered_export['scrimmage_TDs'] = filtered_export['rushing_tds_3rd_year_stats_y_pred_gbf'] + filtered_export['receiving_tds_3rd_year_stats_y_pred_gbf']\n",
    "\n",
    "scoring_dict = {\n",
    "'passing_yards_3rd_year_stats_y_pred_gbf': .04,\n",
    "'passing_tds_3rd_year_stats_y_pred_gbf': 4,\n",
    "'interceptions_3rd_year_stats_y_pred_gbf' : -2,\n",
    "'rushing_yards_3rd_year_stats_y_pred_gbf' : .1,\n",
    "'rushing_tds_3rd_year_stats_y_pred_gbf' : 6,\n",
    "'rushing_fumbles_3rd_year_stats_y_pred_gbf' : -1,\n",
    "'rushing_fumbles_lost_3rd_year_stats_y_pred_gbf' : -1,\n",
    "'rushing_first_downs_3rd_year_stats_y_pred_gbf': .5,\n",
    "'receptions_3rd_year_stats_y_pred_gbf' : .5,\n",
    "'receiving_yards_3rd_year_stats_y_pred_gbf' : .1,\n",
    "'receiving_tds_3rd_year_stats_y_pred_gbf' : 6,\n",
    "'receiving_fumbles_3rd_year_stats_y_pred_gbf' : -1,\n",
    "'receiving_fumbles_lost_3rd_year_stats_y_pred_gbf' : -1,\n",
    "'receiving_first_downs_3rd_year_stats_y_pred_gbf' : .5\n",
    "}\n",
    "\n",
    "filtered_export['fantasy_points'] = filtered_export[scoring_dict.keys()].mul(list(scoring_dict.values()), axis=1).sum(axis=1)\n",
    "filtered_export['fantasy_points/G'] = filtered_export['fantasy_points'] / filtered_export['games_3rd_year_stats_y_pred_gbf']\n",
    "\n",
    "filtered_export = filtered_export.sort_values(by='fantasy_points/G', ascending=False)\n",
    "\n",
    "filtered_export.to_csv('filtered_3rd_year_prediction.csv')"
   ]
  }
 ],
 "metadata": {
  "kernelspec": {
   "display_name": "Python 3 (ipykernel)",
   "language": "python",
   "name": "python3"
  },
  "language_info": {
   "codemirror_mode": {
    "name": "ipython",
    "version": 3
   },
   "file_extension": ".py",
   "mimetype": "text/x-python",
   "name": "python",
   "nbconvert_exporter": "python",
   "pygments_lexer": "ipython3",
   "version": "3.11.5"
  }
 },
 "nbformat": 4,
 "nbformat_minor": 5
}
